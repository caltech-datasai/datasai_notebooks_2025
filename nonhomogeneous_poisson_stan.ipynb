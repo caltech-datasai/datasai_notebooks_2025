{
 "cells": [
  {
   "cell_type": "markdown",
   "metadata": {},
   "source": [
    "# Nonhomogeneous Poisson process arrival times with Stan {#sec-nhpp-stan}\n",
    "\n",
    "<hr>"
   ]
  },
  {
   "cell_type": "code",
   "execution_count": 1,
   "metadata": {
    "nbsphinx": "hidden",
    "tags": []
   },
   "outputs": [],
   "source": [
    "#| code-fold: true\n",
    "\n",
    "# Colab setup ------------------\n",
    "import os, shutil, sys, subprocess, urllib.request\n",
    "if \"google.colab\" in sys.modules:\n",
    "    cmd = \"pip install --upgrade iqplot bebi103 arviz cmdstanpy watermark\"\n",
    "    process = subprocess.Popen(cmd.split(), stdout=subprocess.PIPE, stderr=subprocess.PIPE)\n",
    "    stdout, stderr = process.communicate()\n",
    "    from cmdstanpy.install_cmdstan import latest_version\n",
    "    cmdstan_version = latest_version()\n",
    "    cmdstan_url = f\"https://github.com/stan-dev/cmdstan/releases/download/v{cmdstan_version}/\"\n",
    "    fname = f\"colab-cmdstan-{cmdstan_version}.tgz\"\n",
    "    urllib.request.urlretrieve(cmdstan_url + fname, fname)\n",
    "    shutil.unpack_archive(fname)\n",
    "    os.environ[\"CMDSTAN\"] = f\"./cmdstan-{cmdstan_version}\"\n",
    "    data_path = \"https://s3.amazonaws.com/bebi103.caltech.edu/data/\"\n",
    "else:\n",
    "    data_path = \"../data/\"\n",
    "# ------------------------------"
   ]
  },
  {
   "cell_type": "code",
   "execution_count": 2,
   "metadata": {},
   "outputs": [
    {
     "data": {
      "text/html": [
       "    <style>\n",
       "        .bk-notebook-logo {\n",
       "            display: block;\n",
       "            width: 20px;\n",
       "            height: 20px;\n",
       "            background-image: url(data:image/png;base64,iVBORw0KGgoAAAANSUhEUgAAABQAAAAUCAYAAACNiR0NAAAABHNCSVQICAgIfAhkiAAAAAlwSFlzAAALEgAACxIB0t1+/AAAABx0RVh0U29mdHdhcmUAQWRvYmUgRmlyZXdvcmtzIENTNui8sowAAAOkSURBVDiNjZRtaJVlGMd/1/08zzln5zjP1LWcU9N0NkN8m2CYjpgQYQXqSs0I84OLIC0hkEKoPtiH3gmKoiJDU7QpLgoLjLIQCpEsNJ1vqUOdO7ppbuec5+V+rj4ctwzd8IIbbi6u+8f1539dt3A78eXC7QizUF7gyV1fD1Yqg4JWz84yffhm0qkFqBogB9rM8tZdtwVsPUhWhGcFJngGeWrPzHm5oaMmkfEg1usvLFyc8jLRqDOMru7AyC8saQr7GG7f5fvDeH7Ej8CM66nIF+8yngt6HWaKh7k49Soy9nXurCi1o3qUbS3zWfrYeQDTB/Qj6kX6Ybhw4B+bOYoLKCC9H3Nu/leUTZ1JdRWkkn2ldcCamzrcf47KKXdAJllSlxAOkRgyHsGC/zRday5Qld9DyoM4/q/rUoy/CXh3jzOu3bHUVZeU+DEn8FInkPBFlu3+nW3Nw0mk6vCDiWg8CeJaxEwuHS3+z5RgY+YBR6V1Z1nxSOfoaPa4LASWxxdNp+VWTk7+4vzaou8v8PN+xo+KY2xsw6une2frhw05CTYOmQvsEhjhWjn0bmXPjpE1+kplmmkP3suftwTubK9Vq22qKmrBhpY4jvd5afdRA3wGjFAgcnTK2s4hY0/GPNIb0nErGMCRxWOOX64Z8RAC4oCXdklmEvcL8o0BfkNK4lUg9HTl+oPlQxdNo3Mg4Nv175e/1LDGzZen30MEjRUtmXSfiTVu1kK8W4txyV6BMKlbgk3lMwYCiusNy9fVfvvwMxv8Ynl6vxoByANLTWplvuj/nF9m2+PDtt1eiHPBr1oIfhCChQMBw6Aw0UulqTKZdfVvfG7VcfIqLG9bcldL/+pdWTLxLUy8Qq38heUIjh4XlzZxzQm19lLFlr8vdQ97rjZVOLf8nclzckbcD4wxXMidpX30sFd37Fv/GtwwhzhxGVAprjbg0gCAEeIgwCZyTV2Z1REEW8O4py0wsjeloKoMr6iCY6dP92H6Vw/oTyICIthibxjm/DfN9lVz8IqtqKYLUXfoKVMVQVVJOElGjrnnUt9T9wbgp8AyYKaGlqingHZU/uG2NTZSVqwHQTWkx9hxjkpWDaCg6Ckj5qebgBVbT3V3NNXMSiWSDdGV3hrtzla7J+duwPOToIg42ChPQOQjspnSlp1V+Gjdged7+8UN5CRAV7a5EdFNwCjEaBR27b3W890TE7g24NAP/mMDXRWrGoFPQI9ls/MWO2dWFAar/xcOIImbbpA3zgAAAABJRU5ErkJggg==);\n",
       "        }\n",
       "    </style>\n",
       "    <div>\n",
       "        <a href=\"https://bokeh.org\" target=\"_blank\" class=\"bk-notebook-logo\"></a>\n",
       "        <span id=\"e2bced65-f1a9-4073-a18b-9d18686b7268\">Loading BokehJS ...</span>\n",
       "    </div>\n"
      ]
     },
     "metadata": {},
     "output_type": "display_data"
    },
    {
     "data": {
      "application/javascript": [
       "'use strict';\n",
       "(function(root) {\n",
       "  function now() {\n",
       "    return new Date();\n",
       "  }\n",
       "\n",
       "  const force = true;\n",
       "\n",
       "  if (typeof root._bokeh_onload_callbacks === \"undefined\" || force === true) {\n",
       "    root._bokeh_onload_callbacks = [];\n",
       "    root._bokeh_is_loading = undefined;\n",
       "  }\n",
       "\n",
       "const JS_MIME_TYPE = 'application/javascript';\n",
       "  const HTML_MIME_TYPE = 'text/html';\n",
       "  const EXEC_MIME_TYPE = 'application/vnd.bokehjs_exec.v0+json';\n",
       "  const CLASS_NAME = 'output_bokeh rendered_html';\n",
       "\n",
       "  /**\n",
       "   * Render data to the DOM node\n",
       "   */\n",
       "  function render(props, node) {\n",
       "    const script = document.createElement(\"script\");\n",
       "    node.appendChild(script);\n",
       "  }\n",
       "\n",
       "  /**\n",
       "   * Handle when an output is cleared or removed\n",
       "   */\n",
       "  function handleClearOutput(event, handle) {\n",
       "    function drop(id) {\n",
       "      const view = Bokeh.index.get_by_id(id)\n",
       "      if (view != null) {\n",
       "        view.model.document.clear()\n",
       "        Bokeh.index.delete(view)\n",
       "      }\n",
       "    }\n",
       "\n",
       "    const cell = handle.cell;\n",
       "\n",
       "    const id = cell.output_area._bokeh_element_id;\n",
       "    const server_id = cell.output_area._bokeh_server_id;\n",
       "\n",
       "    // Clean up Bokeh references\n",
       "    if (id != null) {\n",
       "      drop(id)\n",
       "    }\n",
       "\n",
       "    if (server_id !== undefined) {\n",
       "      // Clean up Bokeh references\n",
       "      const cmd_clean = \"from bokeh.io.state import curstate; print(curstate().uuid_to_server['\" + server_id + \"'].get_sessions()[0].document.roots[0]._id)\";\n",
       "      cell.notebook.kernel.execute(cmd_clean, {\n",
       "        iopub: {\n",
       "          output: function(msg) {\n",
       "            const id = msg.content.text.trim()\n",
       "            drop(id)\n",
       "          }\n",
       "        }\n",
       "      });\n",
       "      // Destroy server and session\n",
       "      const cmd_destroy = \"import bokeh.io.notebook as ion; ion.destroy_server('\" + server_id + \"')\";\n",
       "      cell.notebook.kernel.execute(cmd_destroy);\n",
       "    }\n",
       "  }\n",
       "\n",
       "  /**\n",
       "   * Handle when a new output is added\n",
       "   */\n",
       "  function handleAddOutput(event, handle) {\n",
       "    const output_area = handle.output_area;\n",
       "    const output = handle.output;\n",
       "\n",
       "    // limit handleAddOutput to display_data with EXEC_MIME_TYPE content only\n",
       "    if ((output.output_type != \"display_data\") || (!Object.prototype.hasOwnProperty.call(output.data, EXEC_MIME_TYPE))) {\n",
       "      return\n",
       "    }\n",
       "\n",
       "    const toinsert = output_area.element.find(\".\" + CLASS_NAME.split(' ')[0]);\n",
       "\n",
       "    if (output.metadata[EXEC_MIME_TYPE][\"id\"] !== undefined) {\n",
       "      toinsert[toinsert.length - 1].firstChild.textContent = output.data[JS_MIME_TYPE];\n",
       "      // store reference to embed id on output_area\n",
       "      output_area._bokeh_element_id = output.metadata[EXEC_MIME_TYPE][\"id\"];\n",
       "    }\n",
       "    if (output.metadata[EXEC_MIME_TYPE][\"server_id\"] !== undefined) {\n",
       "      const bk_div = document.createElement(\"div\");\n",
       "      bk_div.innerHTML = output.data[HTML_MIME_TYPE];\n",
       "      const script_attrs = bk_div.children[0].attributes;\n",
       "      for (let i = 0; i < script_attrs.length; i++) {\n",
       "        toinsert[toinsert.length - 1].firstChild.setAttribute(script_attrs[i].name, script_attrs[i].value);\n",
       "        toinsert[toinsert.length - 1].firstChild.textContent = bk_div.children[0].textContent\n",
       "      }\n",
       "      // store reference to server id on output_area\n",
       "      output_area._bokeh_server_id = output.metadata[EXEC_MIME_TYPE][\"server_id\"];\n",
       "    }\n",
       "  }\n",
       "\n",
       "  function register_renderer(events, OutputArea) {\n",
       "\n",
       "    function append_mime(data, metadata, element) {\n",
       "      // create a DOM node to render to\n",
       "      const toinsert = this.create_output_subarea(\n",
       "        metadata,\n",
       "        CLASS_NAME,\n",
       "        EXEC_MIME_TYPE\n",
       "      );\n",
       "      this.keyboard_manager.register_events(toinsert);\n",
       "      // Render to node\n",
       "      const props = {data: data, metadata: metadata[EXEC_MIME_TYPE]};\n",
       "      render(props, toinsert[toinsert.length - 1]);\n",
       "      element.append(toinsert);\n",
       "      return toinsert\n",
       "    }\n",
       "\n",
       "    /* Handle when an output is cleared or removed */\n",
       "    events.on('clear_output.CodeCell', handleClearOutput);\n",
       "    events.on('delete.Cell', handleClearOutput);\n",
       "\n",
       "    /* Handle when a new output is added */\n",
       "    events.on('output_added.OutputArea', handleAddOutput);\n",
       "\n",
       "    /**\n",
       "     * Register the mime type and append_mime function with output_area\n",
       "     */\n",
       "    OutputArea.prototype.register_mime_type(EXEC_MIME_TYPE, append_mime, {\n",
       "      /* Is output safe? */\n",
       "      safe: true,\n",
       "      /* Index of renderer in `output_area.display_order` */\n",
       "      index: 0\n",
       "    });\n",
       "  }\n",
       "\n",
       "  // register the mime type if in Jupyter Notebook environment and previously unregistered\n",
       "  if (root.Jupyter !== undefined) {\n",
       "    const events = require('base/js/events');\n",
       "    const OutputArea = require('notebook/js/outputarea').OutputArea;\n",
       "\n",
       "    if (OutputArea.prototype.mime_types().indexOf(EXEC_MIME_TYPE) == -1) {\n",
       "      register_renderer(events, OutputArea);\n",
       "    }\n",
       "  }\n",
       "  if (typeof (root._bokeh_timeout) === \"undefined\" || force === true) {\n",
       "    root._bokeh_timeout = Date.now() + 5000;\n",
       "    root._bokeh_failed_load = false;\n",
       "  }\n",
       "\n",
       "  const NB_LOAD_WARNING = {'data': {'text/html':\n",
       "     \"<div style='background-color: #fdd'>\\n\"+\n",
       "     \"<p>\\n\"+\n",
       "     \"BokehJS does not appear to have successfully loaded. If loading BokehJS from CDN, this \\n\"+\n",
       "     \"may be due to a slow or bad network connection. Possible fixes:\\n\"+\n",
       "     \"</p>\\n\"+\n",
       "     \"<ul>\\n\"+\n",
       "     \"<li>re-rerun `output_notebook()` to attempt to load from CDN again, or</li>\\n\"+\n",
       "     \"<li>use INLINE resources instead, as so:</li>\\n\"+\n",
       "     \"</ul>\\n\"+\n",
       "     \"<code>\\n\"+\n",
       "     \"from bokeh.resources import INLINE\\n\"+\n",
       "     \"output_notebook(resources=INLINE)\\n\"+\n",
       "     \"</code>\\n\"+\n",
       "     \"</div>\"}};\n",
       "\n",
       "  function display_loaded(error = null) {\n",
       "    const el = document.getElementById(\"e2bced65-f1a9-4073-a18b-9d18686b7268\");\n",
       "    if (el != null) {\n",
       "      const html = (() => {\n",
       "        if (typeof root.Bokeh === \"undefined\") {\n",
       "          if (error == null) {\n",
       "            return \"BokehJS is loading ...\";\n",
       "          } else {\n",
       "            return \"BokehJS failed to load.\";\n",
       "          }\n",
       "        } else {\n",
       "          const prefix = `BokehJS ${root.Bokeh.version}`;\n",
       "          if (error == null) {\n",
       "            return `${prefix} successfully loaded.`;\n",
       "          } else {\n",
       "            return `${prefix} <b>encountered errors</b> while loading and may not function as expected.`;\n",
       "          }\n",
       "        }\n",
       "      })();\n",
       "      el.innerHTML = html;\n",
       "\n",
       "      if (error != null) {\n",
       "        const wrapper = document.createElement(\"div\");\n",
       "        wrapper.style.overflow = \"auto\";\n",
       "        wrapper.style.height = \"5em\";\n",
       "        wrapper.style.resize = \"vertical\";\n",
       "        const content = document.createElement(\"div\");\n",
       "        content.style.fontFamily = \"monospace\";\n",
       "        content.style.whiteSpace = \"pre-wrap\";\n",
       "        content.style.backgroundColor = \"rgb(255, 221, 221)\";\n",
       "        content.textContent = error.stack ?? error.toString();\n",
       "        wrapper.append(content);\n",
       "        el.append(wrapper);\n",
       "      }\n",
       "    } else if (Date.now() < root._bokeh_timeout) {\n",
       "      setTimeout(() => display_loaded(error), 100);\n",
       "    }\n",
       "  }\n",
       "\n",
       "  function run_callbacks() {\n",
       "    try {\n",
       "      root._bokeh_onload_callbacks.forEach(function(callback) {\n",
       "        if (callback != null)\n",
       "          callback();\n",
       "      });\n",
       "    } finally {\n",
       "      delete root._bokeh_onload_callbacks\n",
       "    }\n",
       "    console.debug(\"Bokeh: all callbacks have finished\");\n",
       "  }\n",
       "\n",
       "  function load_libs(css_urls, js_urls, callback) {\n",
       "    if (css_urls == null) css_urls = [];\n",
       "    if (js_urls == null) js_urls = [];\n",
       "\n",
       "    root._bokeh_onload_callbacks.push(callback);\n",
       "    if (root._bokeh_is_loading > 0) {\n",
       "      console.debug(\"Bokeh: BokehJS is being loaded, scheduling callback at\", now());\n",
       "      return null;\n",
       "    }\n",
       "    if (js_urls == null || js_urls.length === 0) {\n",
       "      run_callbacks();\n",
       "      return null;\n",
       "    }\n",
       "    console.debug(\"Bokeh: BokehJS not loaded, scheduling load and callback at\", now());\n",
       "    root._bokeh_is_loading = css_urls.length + js_urls.length;\n",
       "\n",
       "    function on_load() {\n",
       "      root._bokeh_is_loading--;\n",
       "      if (root._bokeh_is_loading === 0) {\n",
       "        console.debug(\"Bokeh: all BokehJS libraries/stylesheets loaded\");\n",
       "        run_callbacks()\n",
       "      }\n",
       "    }\n",
       "\n",
       "    function on_error(url) {\n",
       "      console.error(\"failed to load \" + url);\n",
       "    }\n",
       "\n",
       "    for (let i = 0; i < css_urls.length; i++) {\n",
       "      const url = css_urls[i];\n",
       "      const element = document.createElement(\"link\");\n",
       "      element.onload = on_load;\n",
       "      element.onerror = on_error.bind(null, url);\n",
       "      element.rel = \"stylesheet\";\n",
       "      element.type = \"text/css\";\n",
       "      element.href = url;\n",
       "      console.debug(\"Bokeh: injecting link tag for BokehJS stylesheet: \", url);\n",
       "      document.body.appendChild(element);\n",
       "    }\n",
       "\n",
       "    for (let i = 0; i < js_urls.length; i++) {\n",
       "      const url = js_urls[i];\n",
       "      const element = document.createElement('script');\n",
       "      element.onload = on_load;\n",
       "      element.onerror = on_error.bind(null, url);\n",
       "      element.async = false;\n",
       "      element.src = url;\n",
       "      console.debug(\"Bokeh: injecting script tag for BokehJS library: \", url);\n",
       "      document.head.appendChild(element);\n",
       "    }\n",
       "  };\n",
       "\n",
       "  function inject_raw_css(css) {\n",
       "    const element = document.createElement(\"style\");\n",
       "    element.appendChild(document.createTextNode(css));\n",
       "    document.body.appendChild(element);\n",
       "  }\n",
       "\n",
       "  const js_urls = [\"static/extensions/panel/bundled/reactiveesm/es-module-shims@^1.10.0/dist/es-module-shims.min.js\", \"https://cdn.bokeh.org/bokeh/release/bokeh-3.6.2.min.js\", \"https://cdn.bokeh.org/bokeh/release/bokeh-gl-3.6.2.min.js\", \"https://cdn.bokeh.org/bokeh/release/bokeh-widgets-3.6.2.min.js\", \"https://cdn.bokeh.org/bokeh/release/bokeh-tables-3.6.2.min.js\", \"https://cdn.bokeh.org/bokeh/release/bokeh-mathjax-3.6.2.min.js\", \"https://unpkg.com/@holoviz/panel@1.6.0/dist/panel.min.js\"];\n",
       "  const css_urls = [];\n",
       "\n",
       "  const inline_js = [    function(Bokeh) {\n",
       "      Bokeh.set_log_level(\"info\");\n",
       "    },\n",
       "function(Bokeh) {\n",
       "    }\n",
       "  ];\n",
       "\n",
       "  function run_inline_js() {\n",
       "    if (root.Bokeh !== undefined || force === true) {\n",
       "      try {\n",
       "            for (let i = 0; i < inline_js.length; i++) {\n",
       "      inline_js[i].call(root, root.Bokeh);\n",
       "    }\n",
       "\n",
       "      } catch (error) {display_loaded(error);throw error;\n",
       "      }if (force === true) {\n",
       "        display_loaded();\n",
       "      }} else if (Date.now() < root._bokeh_timeout) {\n",
       "      setTimeout(run_inline_js, 100);\n",
       "    } else if (!root._bokeh_failed_load) {\n",
       "      console.log(\"Bokeh: BokehJS failed to load within specified timeout.\");\n",
       "      root._bokeh_failed_load = true;\n",
       "    } else if (force !== true) {\n",
       "      const cell = $(document.getElementById(\"e2bced65-f1a9-4073-a18b-9d18686b7268\")).parents('.cell').data().cell;\n",
       "      cell.output_area.append_execute_result(NB_LOAD_WARNING)\n",
       "    }\n",
       "  }\n",
       "\n",
       "  if (root._bokeh_is_loading === 0) {\n",
       "    console.debug(\"Bokeh: BokehJS loaded, going straight to plotting\");\n",
       "    run_inline_js();\n",
       "  } else {\n",
       "    load_libs(css_urls, js_urls, function() {\n",
       "      console.debug(\"Bokeh: BokehJS plotting callback run at\", now());\n",
       "      run_inline_js();\n",
       "    });\n",
       "  }\n",
       "}(window));"
      ],
      "application/vnd.bokehjs_load.v0+json": "'use strict';\n(function(root) {\n  function now() {\n    return new Date();\n  }\n\n  const force = true;\n\n  if (typeof root._bokeh_onload_callbacks === \"undefined\" || force === true) {\n    root._bokeh_onload_callbacks = [];\n    root._bokeh_is_loading = undefined;\n  }\n\n\n  if (typeof (root._bokeh_timeout) === \"undefined\" || force === true) {\n    root._bokeh_timeout = Date.now() + 5000;\n    root._bokeh_failed_load = false;\n  }\n\n  const NB_LOAD_WARNING = {'data': {'text/html':\n     \"<div style='background-color: #fdd'>\\n\"+\n     \"<p>\\n\"+\n     \"BokehJS does not appear to have successfully loaded. If loading BokehJS from CDN, this \\n\"+\n     \"may be due to a slow or bad network connection. Possible fixes:\\n\"+\n     \"</p>\\n\"+\n     \"<ul>\\n\"+\n     \"<li>re-rerun `output_notebook()` to attempt to load from CDN again, or</li>\\n\"+\n     \"<li>use INLINE resources instead, as so:</li>\\n\"+\n     \"</ul>\\n\"+\n     \"<code>\\n\"+\n     \"from bokeh.resources import INLINE\\n\"+\n     \"output_notebook(resources=INLINE)\\n\"+\n     \"</code>\\n\"+\n     \"</div>\"}};\n\n  function display_loaded(error = null) {\n    const el = document.getElementById(\"e2bced65-f1a9-4073-a18b-9d18686b7268\");\n    if (el != null) {\n      const html = (() => {\n        if (typeof root.Bokeh === \"undefined\") {\n          if (error == null) {\n            return \"BokehJS is loading ...\";\n          } else {\n            return \"BokehJS failed to load.\";\n          }\n        } else {\n          const prefix = `BokehJS ${root.Bokeh.version}`;\n          if (error == null) {\n            return `${prefix} successfully loaded.`;\n          } else {\n            return `${prefix} <b>encountered errors</b> while loading and may not function as expected.`;\n          }\n        }\n      })();\n      el.innerHTML = html;\n\n      if (error != null) {\n        const wrapper = document.createElement(\"div\");\n        wrapper.style.overflow = \"auto\";\n        wrapper.style.height = \"5em\";\n        wrapper.style.resize = \"vertical\";\n        const content = document.createElement(\"div\");\n        content.style.fontFamily = \"monospace\";\n        content.style.whiteSpace = \"pre-wrap\";\n        content.style.backgroundColor = \"rgb(255, 221, 221)\";\n        content.textContent = error.stack ?? error.toString();\n        wrapper.append(content);\n        el.append(wrapper);\n      }\n    } else if (Date.now() < root._bokeh_timeout) {\n      setTimeout(() => display_loaded(error), 100);\n    }\n  }\n\n  function run_callbacks() {\n    try {\n      root._bokeh_onload_callbacks.forEach(function(callback) {\n        if (callback != null)\n          callback();\n      });\n    } finally {\n      delete root._bokeh_onload_callbacks\n    }\n    console.debug(\"Bokeh: all callbacks have finished\");\n  }\n\n  function load_libs(css_urls, js_urls, callback) {\n    if (css_urls == null) css_urls = [];\n    if (js_urls == null) js_urls = [];\n\n    root._bokeh_onload_callbacks.push(callback);\n    if (root._bokeh_is_loading > 0) {\n      console.debug(\"Bokeh: BokehJS is being loaded, scheduling callback at\", now());\n      return null;\n    }\n    if (js_urls == null || js_urls.length === 0) {\n      run_callbacks();\n      return null;\n    }\n    console.debug(\"Bokeh: BokehJS not loaded, scheduling load and callback at\", now());\n    root._bokeh_is_loading = css_urls.length + js_urls.length;\n\n    function on_load() {\n      root._bokeh_is_loading--;\n      if (root._bokeh_is_loading === 0) {\n        console.debug(\"Bokeh: all BokehJS libraries/stylesheets loaded\");\n        run_callbacks()\n      }\n    }\n\n    function on_error(url) {\n      console.error(\"failed to load \" + url);\n    }\n\n    for (let i = 0; i < css_urls.length; i++) {\n      const url = css_urls[i];\n      const element = document.createElement(\"link\");\n      element.onload = on_load;\n      element.onerror = on_error.bind(null, url);\n      element.rel = \"stylesheet\";\n      element.type = \"text/css\";\n      element.href = url;\n      console.debug(\"Bokeh: injecting link tag for BokehJS stylesheet: \", url);\n      document.body.appendChild(element);\n    }\n\n    for (let i = 0; i < js_urls.length; i++) {\n      const url = js_urls[i];\n      const element = document.createElement('script');\n      element.onload = on_load;\n      element.onerror = on_error.bind(null, url);\n      element.async = false;\n      element.src = url;\n      console.debug(\"Bokeh: injecting script tag for BokehJS library: \", url);\n      document.head.appendChild(element);\n    }\n  };\n\n  function inject_raw_css(css) {\n    const element = document.createElement(\"style\");\n    element.appendChild(document.createTextNode(css));\n    document.body.appendChild(element);\n  }\n\n  const js_urls = [\"static/extensions/panel/bundled/reactiveesm/es-module-shims@^1.10.0/dist/es-module-shims.min.js\", \"https://cdn.bokeh.org/bokeh/release/bokeh-3.6.2.min.js\", \"https://cdn.bokeh.org/bokeh/release/bokeh-gl-3.6.2.min.js\", \"https://cdn.bokeh.org/bokeh/release/bokeh-widgets-3.6.2.min.js\", \"https://cdn.bokeh.org/bokeh/release/bokeh-tables-3.6.2.min.js\", \"https://cdn.bokeh.org/bokeh/release/bokeh-mathjax-3.6.2.min.js\", \"https://unpkg.com/@holoviz/panel@1.6.0/dist/panel.min.js\"];\n  const css_urls = [];\n\n  const inline_js = [    function(Bokeh) {\n      Bokeh.set_log_level(\"info\");\n    },\nfunction(Bokeh) {\n    }\n  ];\n\n  function run_inline_js() {\n    if (root.Bokeh !== undefined || force === true) {\n      try {\n            for (let i = 0; i < inline_js.length; i++) {\n      inline_js[i].call(root, root.Bokeh);\n    }\n\n      } catch (error) {display_loaded(error);throw error;\n      }if (force === true) {\n        display_loaded();\n      }} else if (Date.now() < root._bokeh_timeout) {\n      setTimeout(run_inline_js, 100);\n    } else if (!root._bokeh_failed_load) {\n      console.log(\"Bokeh: BokehJS failed to load within specified timeout.\");\n      root._bokeh_failed_load = true;\n    } else if (force !== true) {\n      const cell = $(document.getElementById(\"e2bced65-f1a9-4073-a18b-9d18686b7268\")).parents('.cell').data().cell;\n      cell.output_area.append_execute_result(NB_LOAD_WARNING)\n    }\n  }\n\n  if (root._bokeh_is_loading === 0) {\n    console.debug(\"Bokeh: BokehJS loaded, going straight to plotting\");\n    run_inline_js();\n  } else {\n    load_libs(css_urls, js_urls, function() {\n      console.debug(\"Bokeh: BokehJS plotting callback run at\", now());\n      run_inline_js();\n    });\n  }\n}(window));"
     },
     "metadata": {},
     "output_type": "display_data"
    }
   ],
   "source": [
    "import cmdstanpy\n",
    "import arviz as az\n",
    "\n",
    "import numpy as np\n",
    "\n",
    "import iqplot\n",
    "\n",
    "import bebi103\n",
    "\n",
    "import bokeh.io\n",
    "import bokeh.plotting\n",
    "bokeh.io.output_notebook()"
   ]
  },
  {
   "cell_type": "markdown",
   "metadata": {},
   "source": [
    "<hr>\n",
    "\n",
    "We have posited that we can use MCMC to sample out of an arbitrary distribution so long as we can write down the PDF. We will put this to use in Bayesian inference contexts soon, but for now, let us generate samples out of a nontrivial distribution, that for the arrival times of a nonhomogeneous Poisson process. In doing so, we will expose some neat features of Stan.\n",
    "\n",
    "You will recall from [Lesson @sec-variable-spiking] that we can use thinning to sample out of a nonhomogeneous Poisson process. We repeat the `sample_nhpp()` function below in a (folded) code cell."
   ]
  },
  {
   "cell_type": "code",
   "execution_count": 3,
   "metadata": {},
   "outputs": [],
   "source": [
    "#| code-fold: true\n",
    "\n",
    "def sample_nhpp(beta, beta_j, t_j, beta_args=()):\n",
    "    \"\"\"Draw arrival times of a nonhomogeneous Poisson process.\n",
    "\n",
    "    Parameters\n",
    "    ----------\n",
    "    beta : function, call signature beta(t, *beta_args)\n",
    "        The function of the rate of arrivals as a function of time.\n",
    "    beta_j : scalar or array_like\n",
    "        If scalar, a value of beta that is greater than beta(t)\n",
    "        for all time. If array_like, then beta_j[j] > beta(t) for\n",
    "        all times between t_j[j-1] and t_j[j].\n",
    "    t_j : scalar or array_like\n",
    "        If scalar, the maximum time of observation. If array_like, must\n",
    "        be the same length of `beta_j`. beta_j[j] is the value \n",
    "        of the the upper bound of the rate for the interval between\n",
    "        t[j-1] and t[j].\n",
    "\n",
    "    beta_args : tuple, default ()\n",
    "        Any other arguments passed to beta.\n",
    "\n",
    "    Returns\n",
    "    -------\n",
    "    output : Numpy array\n",
    "        Times for arrivals of the nonhomogeneous Poisson process.\n",
    "\n",
    "    Notes\n",
    "    -----\n",
    "    .. This is an implementation of the algorithm on page 86 of \n",
    "       Simulation, 5th Ed., by Sheldon Ross, Academic Press, 2013.\n",
    "    \"\"\"\n",
    "    # Convert scalar inputs to arrays\n",
    "    if np.isscalar(beta_j):\n",
    "        beta_j = np.array([beta_j])\n",
    "    if np.isscalar(t_j):\n",
    "        t_j = np.array([t_j])\n",
    "\n",
    "    # Make sure dimensions match\n",
    "    if len(beta_j) != len(t_j):\n",
    "        raise RuntimeError(\n",
    "            f'`beta_j` is length {len(beta_j)} '\n",
    "            f'and `t_j` is length {len(t_j)}. '\n",
    "            'They must have the same length.'\n",
    "        )\n",
    "\n",
    "    return _sample_nhpp(beta, beta_j, t_j, beta_args)\n",
    "\n",
    "                                                  \n",
    "def _sample_nhpp(beta, beta_j, t_j, beta_args=()):\n",
    "    \"\"\"\n",
    "\n",
    "    Parameters\n",
    "    ----------\n",
    "    beta : function, call signature beta(t, *beta_args)\n",
    "        The function of the rate of arrivals as a function of time.\n",
    "    beta_j : Numpy array\n",
    "        If scalar, a value of beta that is greater than beta(t)\n",
    "        for all time. If array_like, then beta_j[j] > beta(t) for\n",
    "        all times between t_j[j-1] and t_j[j].\n",
    "    t_j : Numpy array\n",
    "        Must be the same length of `beta_j`. beta_j[j] is the value \n",
    "        of the the upper bound of the rate for the interval between\n",
    "        t[j-1] and t[j].\n",
    "\n",
    "    beta_args : tuple, default ()\n",
    "        Any other arguments passed to beta.\n",
    "\n",
    "    Returns\n",
    "    -------\n",
    "    output : Numpy array\n",
    "        Times for arrivals of the nonhomogeneous Poisson process.\n",
    "\n",
    "    Notes\n",
    "    -----\n",
    "    .. This is an implementation of the algorithm on page 86 of \n",
    "       Simulation, 5th Ed., by Sheldon Ross, Academic Press, 2013.\n",
    "    \"\"\"\n",
    "    # Number of samples to take before concatenating arrays\n",
    "    n_samples = 1000\n",
    "\n",
    "    # Initializations\n",
    "    t = 0.0  # time\n",
    "    j = 0    # Index in beta_j and t_j arrays\n",
    "    i = 0    # index in sample array\n",
    "    n = 0    # total number of samples drawn\n",
    "    x_from_boundary = False  # If we've hit a boundary of\n",
    "\n",
    "    # Array for storing subtrajectory\n",
    "    samples = np.empty(n_samples, dtype=float)\n",
    "\n",
    "    # Output array for all samples\n",
    "    samples_output = np.array([], dtype=float)\n",
    "\n",
    "    # Loop until done (we exceed final time point)\n",
    "    not_done = True\n",
    "    while not_done:\n",
    "        # Take samples until we fill array\n",
    "        # We do it this way for speed to avoid list append operations\n",
    "        while not_done and i < n_samples:\n",
    "            if x_from_boundary:\n",
    "                x = (x - t_j[j] + t) * beta_j[j] / beta_j[j+1]\n",
    "                t = t_j[j]\n",
    "                j += 1\n",
    "            else:\n",
    "                x = np.random.exponential(1 / beta_j[j])\n",
    "\n",
    "            if t + x > t_j[j]:\n",
    "                # If we got here, we went past the edge of this interval\n",
    "                if j == len(t_j) - 1:\n",
    "                    not_done = False\n",
    "                else:\n",
    "                    x_from_boundary = True\n",
    "            else:\n",
    "                t += x\n",
    "                x_from_bounday = False\n",
    "                if np.random.uniform() <= beta(t, *beta_args) / beta_j[j]:\n",
    "                    samples[i] = t\n",
    "                    i += 1\n",
    "                    n += 1\n",
    "        samples_output = np.concatenate((samples_output, samples))\n",
    "        i = 0\n",
    "\n",
    "    return np.array(samples_output[:n])"
   ]
  },
  {
   "cell_type": "markdown",
   "metadata": {},
   "source": [
    "We can again sample out of this distribution using the thinning technique so we have some samples to compare. We will again have a sinusoidal variation in arrival rate."
   ]
  },
  {
   "cell_type": "code",
   "execution_count": 4,
   "metadata": {},
   "outputs": [
    {
     "data": {
      "text/html": [
       "\n",
       "  <div id=\"de93b07e-32f4-43a2-9d10-5ea9963baeee\" data-root-id=\"p1003\" style=\"display: contents;\"></div>\n"
      ]
     },
     "metadata": {},
     "output_type": "display_data"
    },
    {
     "data": {
      "application/javascript": [
       "(function(root) {\n",
       "  function embed_document(root) {\n",
       "  const docs_json = {\"5a270069-59f6-4a61-8b8e-d1b6585f7b74\":{\"version\":\"3.6.2\",\"title\":\"Bokeh Application\",\"roots\":[{\"type\":\"object\",\"name\":\"Figure\",\"id\":\"p1003\",\"attributes\":{\"x_range\":{\"type\":\"object\",\"name\":\"DataRange1d\",\"id\":\"p1005\"},\"y_range\":{\"type\":\"object\",\"name\":\"FactorRange\",\"id\":\"p1002\",\"attributes\":{\"factors\":[\" \"]}},\"x_scale\":{\"type\":\"object\",\"name\":\"LinearScale\",\"id\":\"p1012\"},\"y_scale\":{\"type\":\"object\",\"name\":\"CategoricalScale\",\"id\":\"p1013\"},\"title\":{\"type\":\"object\",\"name\":\"Title\",\"id\":\"p1010\"},\"renderers\":[{\"type\":\"object\",\"name\":\"GlyphRenderer\",\"id\":\"p1048\",\"attributes\":{\"name\":\"hover_glyphs\",\"data_source\":{\"type\":\"object\",\"name\":\"ColumnDataSource\",\"id\":\"p1039\",\"attributes\":{\"selected\":{\"type\":\"object\",\"name\":\"Selection\",\"id\":\"p1040\",\"attributes\":{\"indices\":[],\"line_indices\":[]}},\"selection_policy\":{\"type\":\"object\",\"name\":\"UnionRenderers\",\"id\":\"p1041\"},\"data\":{\"type\":\"map\",\"entries\":[[\"x\",[0.3710243686595678,0.618665393537775,0.6979962410504827,1.1624738106750767,1.710411226996929,5.222409549549027,5.6362665486303705,6.151183246496533,7.20902084311439,8.151195185071684,8.266653650163342,9.983676387276368,10.073617941441357,10.41094657223232,10.638309613466594,10.68495009471671,10.699031880837618,11.039508394011646,11.206025863269316,11.703880118474906,11.737647283906353,11.895489387573944,12.215163553161311,13.522009123897266,14.066249329765938,14.267972223311176,14.547380875748193,14.819077278221334,15.370755607749055,15.901688175166413,16.600731020490066,18.13234820649869,18.79203407832791,18.9389122071384,19.0562268689755,20.36065828604815,20.54868771364704,21.963165201006426,24.29854406030112,24.44053658586723,24.626581645169548,25.28631046545132,26.142891551387816,27.433972819131146,27.639124337645903,28.651092712738826,29.76254375435055,30.715474250194465,30.734678894426732,32.44421496305709,33.42593833305614,36.18570165139386,37.51835182569931,41.0707027871462,41.44732080933398,41.47650136163914,45.56301988997251,46.97612262616152,47.69277802199804,49.2199666006997,52.99404214259765,54.51026863271225,55.24998587722819,56.64605832985912,59.99150385723659,61.654001409384094,62.183188543424386,63.24930123573841,63.39806603317682,63.647364096586486,63.73588829689498,64.68047272055287,65.74083980947276,65.75960409628544,67.1406855173799,68.45243601940896,68.79513375916207,69.08527847825468,69.47317724572079,69.90250561354347,70.40171560233819,71.91783422027221,72.09279514364435,72.33112634557752,73.65577343274474,75.25049002338311,77.42753555418554,77.63781724690774,78.01582878289126,78.09879000958759,78.11765370572735,80.03152909519164,80.13243178531668,80.19758634845402,81.01202801664292,81.43996377733308,81.81136022306234,81.81313715773466,83.20554595914778,83.60038667262017,83.62348107272584,83.7260350569614,83.74017150311685,85.32492069608796,85.35562822858883,86.10500285652346,86.5368110640761,87.34277860297802,87.70974445409806,87.98403902099126,88.35373178653657,88.9426119415594,89.07534322543306,89.09549398721984,89.28627744984706,89.6173249095969,89.81030211699175,90.46817574896212,90.78759669260104,91.04222017140296,92.37446479374356,92.51252736078055,93.46931890133565,93.68178965392039,94.37562934214725,95.09608541359994,103.69238177138689,106.10985860957163,108.42468060339966,109.02584020722229,116.05384679992513,117.28032808028937,118.93537415542082,118.98834197431763,120.43468565062899,122.16952526136257,123.71104664544114,123.9675659408984,125.86461628415447,126.39740702604888,127.8151480371698,127.83119070059757,128.344978056466,129.0125844334508,129.1596757803925,129.36961910562167,129.65666054449207,129.72640405271298,130.22406065910778,130.90115513290985,131.88273812005906,131.99129865293858,133.74474638499595,133.7792749607965,133.79912369373227,133.8361952331435,134.19358678715534,134.44971975889462,134.9267753886813,135.2298570682449,135.53485993332308,136.4492985916326,136.7849626706196,136.86746550057723,138.18024857804522,139.7268823280625,140.58562609559527,140.72462628216155,140.75976028018036,140.85527230245697,142.6206173448663,143.32175508977497,143.70813739979354,144.98868076699142,146.13521822400298,146.21526382837675,146.70709762249803,147.1985862156289,147.58636831167073,147.60034503322447,147.72213405858025,149.95554821845218,150.16520990145918,150.24789495208995,150.61346599708384,151.63102719313795,151.64685782041784,151.980710128555,152.54149104394722,152.62595215682114,153.10468411585902,153.61628228727125,153.93964758707273,154.3091282217951,154.34815043992916,154.908322331687,155.43035609043855,157.8607652508628,158.1512164806824,158.9845327480089,159.50386048376862,162.23698744192293,162.2881455674844,164.69187615576274,164.9041959375258,167.283325474259,167.59260620161473,167.86120614667303,169.20987276344937,178.62426701662812,179.23602077776704,179.7247395006576,184.03927762505026,184.91122175954706,185.72031819017337,186.44356199681633,187.4127679393881,187.9557010831915,191.1607291497215,191.4580567028624,191.63233560059928,192.11241957260594,192.16525778556377,192.5624977523912,192.96208057323045,193.2939410816276,193.78797180034542,194.18372463829425,194.27820923823967,194.83170889107873,194.86399327034164,196.1409263204581,196.9301407626519,197.60097118706403,197.8495664679274,199.11902387169448,199.63219057216443,199.76737834741186,199.84963722955598,199.95792815772717,200.64984315396,201.52342877325376,201.5908351769423,202.04608997180335,202.33289750449222,203.15222264526886,204.53977963405907,204.80874597246827,205.1842881815969,205.35335391982014,205.35546082846167,205.37455807050458,206.1340587765999,206.17573776670176,207.54181909244122,207.57210767814908,207.65217040546497,209.07242462341299,209.65159348552405,209.80078832999348,209.86016624341352,210.07007171044467,210.48251355749218,210.7208259698429,211.54717906706313,213.35610827638322,213.84121003185413,215.5695796296302,216.37155654382735,216.77980588568477,216.8718639281253,217.2750631046366,217.33972693442584,217.92738499563254,218.77715385917094,219.38566762066532,220.26131162870794,220.59663030263266,223.38468111475842,223.38682958541622,223.60259757899695,225.73720069645054,227.32979498925872,232.97324079390648,237.7597554670361,241.96275026630036,242.04360604364115,243.08195919419063,244.41946997324263,249.35073549861443,251.01954747381083,251.19052994486702,252.55612122847046,253.535497088938,253.6198855061526,254.31589378538376,256.14195570866394,257.033681480601,257.4274157085083,257.75329454512865,258.99361856483097,259.1883630866199,259.54951662587087,261.6925246296167,261.73296073523596,262.1291073561877,262.3726346975845,262.38867354104536,262.4778082838095,262.53360453192454,262.6719796837915,265.93019751315217,266.06369599645905,267.34645144974195,268.10134856039895,268.4861033738325,268.88732703759223,269.2208596890884,269.35741045006415,270.72968371238915,271.4837429737885,272.7127610688676,273.024803546365,273.206767077667,274.4285576988786,274.6028373398117,275.9895336487229,276.0650801056861,276.06707247813995,276.1731726887151,276.49716227164635,280.6802619927029,281.761907743405,281.8044322594645,281.93549118042336,283.1047603526957,284.8435488418121,288.2434221240756,288.6688389164978,289.9613098501262,294.54220049405575,295.3725672536128,296.92095012413745,299.92673970020775,301.12209434587714,301.522302677033,302.70820196429906,306.01673515375353,306.65592058081694,307.63518228070575,308.3453347324352,308.68787196829584,308.9413387034986,310.2112671209499,310.3298682434067,311.29003024155145,313.1109054948318,313.7026556589245,314.19745689359075,315.18030962188385,316.7719459758865,317.6320391855969,318.26276431802285,318.73295861308907,321.2049913334795,321.5223935811895,321.6746555012776,322.1397264564346,322.90029302119603,323.3059629602017,323.51544574371394,323.59125253997746,323.88687867131085,324.0114414708658,324.015916593859,324.1020916538393,324.3721880140916,326.71883953223283,328.20669063522985,328.23587533536994,328.5171210748484,328.6812474927509,329.10445944052,329.6477156269814,329.98737588493015,330.4359402591923,330.64094662091856,331.7575628964812,331.90501770230327,331.99138548554606,332.34931967036886,333.3213134916804,336.4843393111632,336.6771797897244,337.04011157410565,337.3343248616464,337.88654551831405,338.60541067308077,339.48297409208624,340.0230250667986,341.3428780411984,341.4240529220752,342.75194966015647,343.26880397757145,343.2929189364474,345.39234783234525,345.93602754458897,347.3271981463381,348.74037671820827,353.6396054100396,354.593386976025,355.4451728661393,361.9842184286707,369.5469041891911,371.9558907991721,372.49792625047337,373.24478248793645,374.31006090949904,375.3556043223522,377.4379417646372,377.7469943450535,379.2155692420959,379.9369862130847,381.51007763092235,382.8139620175476,383.0746075917732,383.18185585368855,384.2980595636658,384.54648413857433,384.5781941880619,384.6092038854845,385.2134844775898,386.32461046570563,386.7309899950322,386.84131015677394,386.98788643441475,387.6243690870269,389.6175440703633,389.6886339753618,389.7193479923117,389.9110140147258,389.94166825564986,389.9795049020458,390.6363814353757,390.69982155883946,391.17192142405787,392.3856667853708,392.4241930669729,392.69099830816305,392.81439693234887,393.036216255846,393.89325818196636,394.10666349897576,395.2595148631068,395.32704788821013,395.52242539114377,395.66671190402445,395.7281367089243,396.2863057419174,396.60419834232187,396.66780438241153,396.91862994239705,397.0136423280991,397.03543163317363,397.5025453343001,397.7042212281404,398.5998255808375,401.8692630901244,403.81499655317606,404.2234324180537,404.2772917811341,404.5539344567102,404.87659099709623,406.4020424971197,406.57378085239395,408.67975151426305,408.8682766942694,409.6751348575148,410.3850717847481,411.78547820451195,412.1022316601287,412.6998856695922,413.45463873442696,413.59660499961353,414.0474194340904,414.0983029982279,414.6155697492773,415.2692102254654,420.31408857304945,420.31979523288476,422.11674518827976,425.72574760656494,426.81820383292984,430.8684361933669,431.32549086645713,432.1702866258742,434.40297950869,436.5348008278436,438.36177097566224,438.8919006963326,439.37086144313463,439.4369845120333,440.52762543561846,441.372360874482,442.0364783891609,443.15903794238994,443.6187563931138,443.954454499986,445.7856370637509,446.7439382256538,447.20073002417456,448.37469751072683,448.43421805656965,448.6237153022836,448.8484010620204,449.1245835735416,450.30859981284806,450.80373303842083,451.7775867651449,451.83412650047075,452.2687411118888,452.5402665546962,452.56579670031607,452.89631733390763,453.17838013311393,453.17951142973783,454.47641595333863,454.49358120699736,454.6150320186374,455.6817548361769,456.23287134295424,456.48018934309823,456.7041422911456,458.0472272271743,458.36819767120204,459.1042796482503,459.688987554531,460.0874493343733,460.1678628873036,460.69046418496697,460.938968129223,460.9989015873662,461.62642392292776,461.6747289691618,462.08512522840647,462.3753800615632,463.78617155071237,464.833161968818,467.7601089086181,468.3197313369839,469.527864713513,469.80841096724373,470.7674796865673,470.8607819764585,471.61337447083514,472.4942249931046,472.7647142920012,473.78713343687116,474.26596905538764,474.7555038336468,475.4818708716415,476.2497126702427,476.48056886591485,476.8321302073429,481.9910098103992,483.84208638305006,493.72179968605207,495.9171133585476,496.4298400933353,499.0761795866256,499.8328814001008]],[\"__dummy_cat\",[\" \",\" \",\" \",\" \",\" \",\" \",\" \",\" \",\" \",\" \",\" \",\" \",\" \",\" \",\" \",\" \",\" \",\" \",\" \",\" \",\" \",\" \",\" \",\" \",\" \",\" \",\" \",\" \",\" \",\" \",\" \",\" \",\" \",\" \",\" \",\" \",\" \",\" \",\" \",\" \",\" \",\" \",\" \",\" \",\" \",\" \",\" \",\" \",\" \",\" \",\" \",\" \",\" \",\" \",\" \",\" \",\" \",\" \",\" \",\" \",\" \",\" \",\" \",\" \",\" \",\" \",\" \",\" \",\" \",\" \",\" \",\" \",\" \",\" \",\" \",\" \",\" \",\" \",\" \",\" \",\" \",\" \",\" \",\" \",\" \",\" \",\" \",\" \",\" \",\" \",\" \",\" \",\" \",\" \",\" \",\" \",\" \",\" \",\" \",\" \",\" \",\" \",\" \",\" \",\" \",\" \",\" \",\" \",\" \",\" \",\" \",\" \",\" \",\" \",\" \",\" \",\" \",\" \",\" \",\" \",\" \",\" \",\" \",\" \",\" \",\" \",\" \",\" \",\" \",\" \",\" \",\" \",\" \",\" \",\" \",\" \",\" \",\" \",\" \",\" \",\" \",\" \",\" \",\" \",\" \",\" \",\" \",\" \",\" \",\" \",\" \",\" \",\" \",\" \",\" \",\" \",\" \",\" \",\" \",\" \",\" \",\" \",\" \",\" \",\" \",\" \",\" \",\" \",\" \",\" \",\" \",\" \",\" \",\" \",\" \",\" \",\" \",\" \",\" \",\" \",\" \",\" \",\" \",\" \",\" \",\" \",\" \",\" \",\" \",\" \",\" \",\" \",\" \",\" \",\" \",\" \",\" \",\" \",\" \",\" \",\" \",\" \",\" \",\" \",\" \",\" \",\" \",\" \",\" \",\" \",\" \",\" \",\" \",\" \",\" \",\" \",\" \",\" \",\" \",\" \",\" \",\" \",\" \",\" \",\" \",\" \",\" \",\" \",\" \",\" \",\" \",\" \",\" \",\" \",\" \",\" \",\" \",\" \",\" \",\" \",\" \",\" \",\" \",\" \",\" \",\" \",\" \",\" \",\" \",\" \",\" \",\" \",\" \",\" \",\" \",\" \",\" \",\" \",\" \",\" \",\" \",\" \",\" \",\" \",\" \",\" \",\" \",\" \",\" \",\" \",\" \",\" \",\" \",\" \",\" \",\" \",\" \",\" \",\" \",\" \",\" \",\" \",\" \",\" \",\" \",\" \",\" \",\" \",\" \",\" \",\" \",\" \",\" \",\" \",\" \",\" \",\" \",\" \",\" \",\" \",\" \",\" \",\" \",\" \",\" \",\" \",\" \",\" \",\" \",\" \",\" \",\" \",\" \",\" \",\" \",\" \",\" \",\" \",\" \",\" \",\" \",\" \",\" \",\" \",\" \",\" \",\" \",\" \",\" \",\" \",\" \",\" \",\" \",\" \",\" \",\" \",\" \",\" \",\" \",\" \",\" \",\" \",\" \",\" \",\" \",\" \",\" \",\" \",\" \",\" \",\" \",\" \",\" \",\" \",\" \",\" \",\" \",\" \",\" \",\" \",\" \",\" \",\" \",\" \",\" \",\" \",\" \",\" \",\" \",\" \",\" \",\" \",\" \",\" \",\" \",\" \",\" \",\" \",\" \",\" \",\" \",\" \",\" \",\" \",\" \",\" \",\" \",\" \",\" \",\" \",\" \",\" \",\" \",\" \",\" \",\" \",\" \",\" \",\" \",\" \",\" \",\" \",\" \",\" \",\" \",\" \",\" \",\" \",\" \",\" \",\" \",\" \",\" \",\" \",\" \",\" \",\" \",\" \",\" \",\" \",\" \",\" \",\" \",\" \",\" \",\" \",\" \",\" \",\" \",\" \",\" \",\" \",\" \",\" \",\" \",\" \",\" \",\" \",\" \",\" \",\" \",\" \",\" \",\" \",\" \",\" \",\" \",\" \",\" \",\" \",\" \",\" \",\" \",\" \",\" \",\" \",\" \",\" \",\" \",\" \",\" \",\" \",\" \",\" \",\" \",\" \",\" \",\" \",\" \",\" \",\" \",\" \",\" \",\" \",\" \",\" \",\" \",\" \",\" \",\" \",\" \",\" \",\" \",\" \",\" \",\" \",\" \",\" \",\" \",\" \",\" \",\" \",\" \",\" \",\" \",\" \",\" \",\" \",\" \",\" \",\" \",\" \",\" \",\" \",\" \",\" \",\" \",\" \",\" \",\" \",\" \",\" \",\" \",\" \",\" \",\" \",\" \",\" \",\" \",\" \",\" \",\" \",\" \",\" \",\" \",\" \",\" \",\" \",\" \",\" \",\" \",\" \",\" \",\" \",\" \",\" \",\" \",\" \",\" \",\" \",\" \",\" \",\" \",\" \",\" \",\" \",\" \",\" \",\" \",\" \",\" \",\" \",\" \",\" \",\" \",\" \",\" \",\" \",\" \",\" \",\" \",\" \",\" \",\" \",\" \",\" \",\" \",\" \",\" \",\" \",\" \"]],[\"cat\",[\" \",\" \",\" \",\" \",\" \",\" \",\" \",\" \",\" \",\" \",\" \",\" \",\" \",\" \",\" \",\" \",\" \",\" \",\" \",\" \",\" \",\" \",\" \",\" \",\" \",\" \",\" \",\" \",\" \",\" \",\" \",\" \",\" \",\" \",\" \",\" \",\" \",\" \",\" \",\" \",\" \",\" \",\" \",\" \",\" \",\" \",\" \",\" \",\" \",\" \",\" \",\" \",\" \",\" \",\" \",\" \",\" \",\" \",\" \",\" \",\" \",\" \",\" \",\" \",\" \",\" \",\" \",\" \",\" \",\" \",\" \",\" \",\" \",\" \",\" \",\" \",\" \",\" \",\" \",\" \",\" \",\" \",\" \",\" \",\" \",\" \",\" \",\" \",\" \",\" \",\" \",\" \",\" \",\" \",\" \",\" \",\" \",\" \",\" \",\" \",\" \",\" \",\" \",\" \",\" \",\" \",\" \",\" \",\" \",\" \",\" \",\" \",\" \",\" \",\" \",\" \",\" \",\" \",\" \",\" \",\" \",\" \",\" \",\" \",\" \",\" \",\" \",\" \",\" \",\" \",\" \",\" \",\" \",\" \",\" \",\" \",\" \",\" \",\" \",\" \",\" \",\" \",\" \",\" \",\" \",\" \",\" \",\" \",\" \",\" \",\" \",\" \",\" \",\" \",\" \",\" \",\" \",\" \",\" \",\" \",\" \",\" \",\" \",\" \",\" \",\" \",\" \",\" \",\" \",\" \",\" \",\" \",\" \",\" \",\" \",\" \",\" \",\" \",\" \",\" \",\" \",\" \",\" \",\" \",\" \",\" \",\" \",\" \",\" \",\" \",\" \",\" \",\" \",\" \",\" \",\" \",\" \",\" \",\" \",\" \",\" \",\" \",\" \",\" \",\" \",\" \",\" \",\" \",\" \",\" \",\" \",\" \",\" \",\" \",\" \",\" \",\" \",\" \",\" \",\" \",\" \",\" \",\" \",\" \",\" \",\" \",\" \",\" \",\" \",\" \",\" \",\" \",\" \",\" \",\" \",\" \",\" \",\" \",\" \",\" \",\" \",\" \",\" \",\" \",\" \",\" \",\" \",\" \",\" \",\" \",\" \",\" \",\" \",\" \",\" \",\" \",\" \",\" \",\" \",\" \",\" \",\" \",\" \",\" \",\" \",\" \",\" \",\" \",\" \",\" \",\" \",\" \",\" \",\" \",\" \",\" \",\" \",\" \",\" \",\" \",\" \",\" \",\" \",\" \",\" \",\" \",\" \",\" \",\" \",\" \",\" \",\" \",\" \",\" \",\" \",\" \",\" \",\" \",\" \",\" \",\" \",\" \",\" \",\" \",\" \",\" \",\" \",\" \",\" \",\" \",\" \",\" \",\" \",\" \",\" \",\" \",\" \",\" \",\" \",\" \",\" \",\" \",\" \",\" \",\" \",\" \",\" \",\" \",\" \",\" \",\" \",\" \",\" \",\" \",\" \",\" \",\" \",\" \",\" \",\" \",\" \",\" \",\" \",\" \",\" \",\" \",\" \",\" \",\" \",\" \",\" \",\" \",\" \",\" \",\" \",\" \",\" \",\" \",\" \",\" \",\" \",\" \",\" \",\" \",\" \",\" \",\" \",\" \",\" \",\" \",\" \",\" \",\" \",\" \",\" \",\" \",\" \",\" \",\" \",\" \",\" \",\" \",\" \",\" \",\" \",\" \",\" \",\" \",\" \",\" \",\" \",\" \",\" \",\" \",\" \",\" \",\" \",\" \",\" \",\" \",\" \",\" \",\" \",\" \",\" \",\" \",\" \",\" \",\" \",\" \",\" \",\" \",\" \",\" \",\" \",\" \",\" \",\" \",\" \",\" \",\" \",\" \",\" \",\" \",\" \",\" \",\" \",\" \",\" \",\" \",\" \",\" \",\" \",\" \",\" \",\" \",\" \",\" \",\" \",\" \",\" \",\" \",\" \",\" \",\" \",\" \",\" \",\" \",\" \",\" \",\" \",\" \",\" \",\" \",\" \",\" \",\" \",\" \",\" \",\" \",\" \",\" \",\" \",\" \",\" \",\" \",\" \",\" \",\" \",\" \",\" \",\" \",\" \",\" \",\" \",\" \",\" \",\" \",\" \",\" \",\" \",\" \",\" \",\" \",\" \",\" \",\" \",\" \",\" \",\" \",\" \",\" \",\" \",\" \",\" \",\" \",\" \",\" \",\" \",\" \",\" \",\" \",\" \",\" \",\" \",\" \",\" \",\" \",\" \",\" \",\" \",\" \",\" \",\" \",\" \",\" \",\" \",\" \",\" \",\" \",\" \",\" \",\" \",\" \",\" \",\" \",\" \",\" \",\" \",\" \",\" \",\" \",\" \",\" \",\" \",\" \",\" \",\" \",\" \",\" \",\" \",\" \",\" \",\" \",\" \",\" \",\" \",\" \",\" \",\" \",\" \",\" \",\" \",\" \",\" \",\" \",\" \",\" \",\" \",\" \",\" \",\" \",\" \",\" \",\" \",\" \",\" \",\" \",\" \",\" \",\" \"]],[\"__label\",[\" \",\" \",\" \",\" \",\" \",\" \",\" \",\" \",\" \",\" \",\" \",\" \",\" \",\" \",\" \",\" \",\" \",\" \",\" \",\" \",\" \",\" \",\" \",\" \",\" \",\" \",\" \",\" \",\" \",\" \",\" \",\" \",\" \",\" \",\" \",\" \",\" \",\" \",\" \",\" \",\" \",\" \",\" \",\" \",\" \",\" \",\" \",\" \",\" \",\" \",\" \",\" \",\" \",\" \",\" \",\" \",\" \",\" \",\" \",\" \",\" \",\" \",\" \",\" \",\" \",\" \",\" \",\" \",\" \",\" \",\" \",\" \",\" \",\" \",\" \",\" \",\" \",\" \",\" \",\" \",\" \",\" \",\" \",\" \",\" \",\" \",\" \",\" \",\" \",\" \",\" \",\" \",\" \",\" \",\" \",\" \",\" \",\" \",\" \",\" \",\" \",\" \",\" \",\" \",\" \",\" \",\" \",\" \",\" \",\" \",\" \",\" \",\" \",\" \",\" \",\" \",\" \",\" \",\" \",\" \",\" \",\" \",\" \",\" \",\" \",\" \",\" \",\" \",\" \",\" \",\" \",\" \",\" \",\" \",\" \",\" \",\" \",\" \",\" \",\" \",\" \",\" \",\" \",\" \",\" \",\" \",\" \",\" \",\" \",\" \",\" \",\" \",\" \",\" \",\" \",\" \",\" \",\" \",\" \",\" \",\" \",\" \",\" \",\" \",\" \",\" \",\" \",\" \",\" \",\" \",\" \",\" \",\" \",\" \",\" \",\" \",\" \",\" \",\" \",\" \",\" \",\" \",\" \",\" \",\" \",\" \",\" \",\" \",\" \",\" \",\" \",\" \",\" \",\" \",\" \",\" \",\" \",\" \",\" \",\" \",\" \",\" \",\" \",\" \",\" \",\" \",\" \",\" \",\" \",\" \",\" \",\" \",\" \",\" \",\" \",\" \",\" \",\" \",\" \",\" \",\" \",\" \",\" \",\" \",\" \",\" \",\" \",\" \",\" \",\" \",\" \",\" \",\" \",\" \",\" \",\" \",\" \",\" \",\" \",\" \",\" \",\" \",\" \",\" \",\" \",\" \",\" \",\" \",\" \",\" \",\" \",\" \",\" \",\" \",\" \",\" \",\" \",\" \",\" \",\" \",\" \",\" \",\" \",\" \",\" \",\" \",\" \",\" \",\" \",\" \",\" \",\" \",\" \",\" \",\" \",\" \",\" \",\" \",\" \",\" \",\" \",\" \",\" \",\" \",\" \",\" \",\" \",\" \",\" \",\" \",\" \",\" \",\" \",\" \",\" \",\" \",\" \",\" \",\" \",\" \",\" \",\" \",\" \",\" \",\" \",\" \",\" \",\" \",\" \",\" \",\" \",\" \",\" \",\" \",\" \",\" \",\" \",\" \",\" \",\" \",\" \",\" \",\" \",\" \",\" \",\" \",\" \",\" \",\" \",\" \",\" \",\" \",\" \",\" \",\" \",\" \",\" \",\" \",\" \",\" \",\" \",\" \",\" \",\" \",\" \",\" \",\" \",\" \",\" \",\" \",\" \",\" \",\" \",\" \",\" \",\" \",\" \",\" \",\" \",\" \",\" \",\" \",\" \",\" \",\" \",\" \",\" \",\" \",\" \",\" \",\" \",\" \",\" \",\" \",\" \",\" \",\" \",\" \",\" \",\" \",\" \",\" \",\" \",\" \",\" \",\" \",\" \",\" \",\" \",\" \",\" \",\" \",\" \",\" \",\" \",\" \",\" \",\" \",\" \",\" \",\" \",\" \",\" \",\" \",\" \",\" \",\" \",\" \",\" \",\" \",\" \",\" \",\" \",\" \",\" \",\" \",\" \",\" \",\" \",\" \",\" \",\" \",\" \",\" \",\" \",\" \",\" \",\" \",\" \",\" \",\" \",\" \",\" \",\" \",\" \",\" \",\" \",\" \",\" \",\" \",\" \",\" \",\" \",\" \",\" \",\" \",\" \",\" \",\" \",\" \",\" \",\" \",\" \",\" \",\" \",\" \",\" \",\" \",\" \",\" \",\" \",\" \",\" \",\" \",\" \",\" \",\" \",\" \",\" \",\" \",\" \",\" \",\" \",\" \",\" \",\" \",\" \",\" \",\" \",\" \",\" \",\" \",\" \",\" \",\" \",\" \",\" \",\" \",\" \",\" \",\" \",\" \",\" \",\" \",\" \",\" \",\" \",\" \",\" \",\" \",\" \",\" \",\" \",\" \",\" \",\" \",\" \",\" \",\" \",\" \",\" \",\" \",\" \",\" \",\" \",\" \",\" \",\" \",\" \",\" \",\" \",\" \",\" \",\" \",\" \",\" \",\" \",\" \",\" \",\" \",\" \",\" \",\" \",\" \",\" \",\" \",\" \",\" \",\" \",\" \",\" \",\" \",\" \",\" \",\" \",\" \",\" \",\" \",\" \",\" \",\" \",\" \",\" \",\" \",\" \",\" \",\" \",\" \",\" \",\" \",\" \",\" \",\" \",\" \",\" \",\" \",\" \",\" \",\" \",\" \",\" \"]]]}}},\"view\":{\"type\":\"object\",\"name\":\"CDSView\",\"id\":\"p1049\",\"attributes\":{\"filter\":{\"type\":\"object\",\"name\":\"AllIndices\",\"id\":\"p1050\"}}},\"glyph\":{\"type\":\"object\",\"name\":\"Scatter\",\"id\":\"p1045\",\"attributes\":{\"x\":{\"type\":\"field\",\"field\":\"x\"},\"y\":{\"type\":\"field\",\"field\":\"cat\"},\"size\":{\"type\":\"value\",\"value\":68.75},\"angle\":{\"type\":\"value\",\"value\":1.5707963267948966},\"line_color\":{\"type\":\"field\",\"field\":\"cat\",\"transform\":{\"type\":\"object\",\"name\":\"CategoricalColorMapper\",\"id\":\"p1038\",\"attributes\":{\"palette\":[\"#1f77b3\",\"#ff7e0e\",\"#2ba02b\",\"#d62628\",\"#9367bc\",\"#8c564b\",\"#e277c1\",\"#7e7e7e\",\"#bcbc21\",\"#16bdcf\",\"#3a0182\",\"#004201\",\"#0fffa8\",\"#5d003f\",\"#bcbcff\",\"#d8afa1\",\"#b80080\",\"#004d52\",\"#6b6400\",\"#7c0100\",\"#6026ff\",\"#ffff9a\",\"#564964\",\"#8cb893\",\"#93fbff\",\"#018267\",\"#90ff00\",\"#8200a0\",\"#ac8944\",\"#5b3400\",\"#ffbff2\",\"#ff6e75\",\"#798cff\",\"#dd00ff\",\"#505646\",\"#004489\",\"#ffbf60\",\"#ff018c\",\"#bdc8cf\",\"#af97b5\",\"#b65600\",\"#017000\",\"#cd87ff\",\"#1cd646\",\"#bfebc3\",\"#7997b5\",\"#a56089\",\"#6e8956\",\"#bc7c75\",\"#8a2844\",\"#00acff\",\"#8ed4ff\",\"#4b6d77\",\"#00d4b1\",\"#9300f2\",\"#8a9500\",\"#5d5b9e\",\"#fddfba\",\"#00939e\",\"#ffdb00\",\"#00aa79\",\"#520067\",\"#000091\",\"#0a5d3d\",\"#a5e275\",\"#623b41\",\"#c6c689\",\"#ff9eb5\",\"#cd4f6b\",\"#ff07d6\",\"#8a3a05\",\"#7e3d70\",\"#ff4901\",\"#602ba5\",\"#1c00ff\",\"#e6dfff\",\"#aa3baf\",\"#d89c00\",\"#a3a39e\",\"#3f69ff\",\"#46490c\",\"#7b6985\",\"#6b978c\",\"#ff9a75\",\"#835bff\",\"#7c6b46\",\"#80b654\",\"#bc0049\",\"#fd93ff\",\"#5d0018\",\"#89d1d1\",\"#9c8cd3\",\"#da6d42\",\"#8a5700\",\"#3b5069\",\"#4b6b3b\",\"#edcfd8\",\"#cfedff\",\"#aa1500\",\"#dfff4f\",\"#ff2a56\",\"#d1499e\",\"#707cb8\",\"#598000\",\"#00e4fd\",\"#774b95\",\"#67d48c\",\"#3d3a72\",\"#ac413f\",\"#d6a166\",\"#c169cd\",\"#69595d\",\"#87aced\",\"#a0a569\",\"#d1aae6\",\"#870062\",\"#00fddb\",\"#672818\",\"#b342ff\",\"#0e59c4\",\"#168742\",\"#90d300\",\"#cd7900\",\"#f959ff\",\"#5b7466\",\"#8eaeb3\",\"#9c7c8c\",\"#4600c6\",\"#6b4d2d\",\"#a56d46\",\"#9e8972\",\"#a8afca\",\"#cd8ca7\",\"#00fd64\",\"#917900\",\"#ff62a1\",\"#f4ffd8\",\"#018cf0\",\"#13aca0\",\"#5b2d59\",\"#89859e\",\"#cfccba\",\"#d4afc4\",\"#dbdd6d\",\"#cffff4\",\"#006485\",\"#006962\",\"#a84167\",\"#2d97c4\",\"#a874ff\",\"#26ba5d\",\"#57b600\",\"#caffa7\",\"#a379aa\",\"#ffbc93\",\"#89e2c1\",\"#0fc8ff\",\"#d400c4\",\"#626d89\",\"#69858e\",\"#4b4d52\",\"#aa6067\",\"#79b5d4\",\"#2b5916\",\"#9a0024\",\"#bdd1f2\",\"#896e67\",\"#69a56b\",\"#855467\",\"#aecdba\",\"#87997e\",\"#cadb00\",\"#9a0390\",\"#ebbc1a\",\"#eb9cd1\",\"#70006e\",\"#b1a131\",\"#ca6b93\",\"#4146a3\",\"#e48c89\",\"#d44400\",\"#c68aca\",\"#b69597\",\"#d41f75\",\"#724bcc\",\"#674d00\",\"#672138\",\"#38564f\",\"#6ebaaa\",\"#853a31\",\"#a5d397\",\"#b8af8e\",\"#d8e4df\",\"#aa00df\",\"#cac1db\",\"#ffdf8c\",\"#e2524d\",\"#66696e\",\"#ff001c\",\"#522d72\",\"#4d906b\",\"#a86d11\",\"#ff9e26\",\"#5ea3af\",\"#c88556\",\"#915997\",\"#a3a1ff\",\"#fdbaba\",\"#242a87\",\"#dbe6a8\",\"#97f2a7\",\"#6793d6\",\"#ba5b3f\",\"#3a5d91\",\"#364f2f\",\"#267c95\",\"#89959a\",\"#cfb356\",\"#004664\",\"#5e5d2f\",\"#8e8e41\",\"#ac3f13\",\"#69953b\",\"#a13d85\",\"#bfb6ba\",\"#acc667\",\"#6469cf\",\"#91af00\",\"#2be2da\",\"#016e36\",\"#ff7952\",\"#42807e\",\"#4fe800\",\"#995428\",\"#5d0a00\",\"#a30057\",\"#0c8700\",\"#5982a7\",\"#ffebfb\",\"#4b6901\",\"#8775d4\",\"#e6c6ff\",\"#a5ffda\",\"#d86e77\",\"#df014b\",\"#69675b\",\"#776ba1\",\"#7e8067\",\"#594685\",\"#0000ca\",\"#7c002a\",\"#97ff72\",\"#b5e2e1\",\"#db52c8\",\"#777734\",\"#57bd8e\"],\"factors\":[\" \"]}}},\"line_alpha\":{\"type\":\"value\",\"value\":0.3},\"fill_color\":{\"type\":\"field\",\"field\":\"cat\",\"transform\":{\"type\":\"object\",\"name\":\"CategoricalColorMapper\",\"id\":\"p1037\",\"attributes\":{\"palette\":[\"#1f77b3\",\"#ff7e0e\",\"#2ba02b\",\"#d62628\",\"#9367bc\",\"#8c564b\",\"#e277c1\",\"#7e7e7e\",\"#bcbc21\",\"#16bdcf\",\"#3a0182\",\"#004201\",\"#0fffa8\",\"#5d003f\",\"#bcbcff\",\"#d8afa1\",\"#b80080\",\"#004d52\",\"#6b6400\",\"#7c0100\",\"#6026ff\",\"#ffff9a\",\"#564964\",\"#8cb893\",\"#93fbff\",\"#018267\",\"#90ff00\",\"#8200a0\",\"#ac8944\",\"#5b3400\",\"#ffbff2\",\"#ff6e75\",\"#798cff\",\"#dd00ff\",\"#505646\",\"#004489\",\"#ffbf60\",\"#ff018c\",\"#bdc8cf\",\"#af97b5\",\"#b65600\",\"#017000\",\"#cd87ff\",\"#1cd646\",\"#bfebc3\",\"#7997b5\",\"#a56089\",\"#6e8956\",\"#bc7c75\",\"#8a2844\",\"#00acff\",\"#8ed4ff\",\"#4b6d77\",\"#00d4b1\",\"#9300f2\",\"#8a9500\",\"#5d5b9e\",\"#fddfba\",\"#00939e\",\"#ffdb00\",\"#00aa79\",\"#520067\",\"#000091\",\"#0a5d3d\",\"#a5e275\",\"#623b41\",\"#c6c689\",\"#ff9eb5\",\"#cd4f6b\",\"#ff07d6\",\"#8a3a05\",\"#7e3d70\",\"#ff4901\",\"#602ba5\",\"#1c00ff\",\"#e6dfff\",\"#aa3baf\",\"#d89c00\",\"#a3a39e\",\"#3f69ff\",\"#46490c\",\"#7b6985\",\"#6b978c\",\"#ff9a75\",\"#835bff\",\"#7c6b46\",\"#80b654\",\"#bc0049\",\"#fd93ff\",\"#5d0018\",\"#89d1d1\",\"#9c8cd3\",\"#da6d42\",\"#8a5700\",\"#3b5069\",\"#4b6b3b\",\"#edcfd8\",\"#cfedff\",\"#aa1500\",\"#dfff4f\",\"#ff2a56\",\"#d1499e\",\"#707cb8\",\"#598000\",\"#00e4fd\",\"#774b95\",\"#67d48c\",\"#3d3a72\",\"#ac413f\",\"#d6a166\",\"#c169cd\",\"#69595d\",\"#87aced\",\"#a0a569\",\"#d1aae6\",\"#870062\",\"#00fddb\",\"#672818\",\"#b342ff\",\"#0e59c4\",\"#168742\",\"#90d300\",\"#cd7900\",\"#f959ff\",\"#5b7466\",\"#8eaeb3\",\"#9c7c8c\",\"#4600c6\",\"#6b4d2d\",\"#a56d46\",\"#9e8972\",\"#a8afca\",\"#cd8ca7\",\"#00fd64\",\"#917900\",\"#ff62a1\",\"#f4ffd8\",\"#018cf0\",\"#13aca0\",\"#5b2d59\",\"#89859e\",\"#cfccba\",\"#d4afc4\",\"#dbdd6d\",\"#cffff4\",\"#006485\",\"#006962\",\"#a84167\",\"#2d97c4\",\"#a874ff\",\"#26ba5d\",\"#57b600\",\"#caffa7\",\"#a379aa\",\"#ffbc93\",\"#89e2c1\",\"#0fc8ff\",\"#d400c4\",\"#626d89\",\"#69858e\",\"#4b4d52\",\"#aa6067\",\"#79b5d4\",\"#2b5916\",\"#9a0024\",\"#bdd1f2\",\"#896e67\",\"#69a56b\",\"#855467\",\"#aecdba\",\"#87997e\",\"#cadb00\",\"#9a0390\",\"#ebbc1a\",\"#eb9cd1\",\"#70006e\",\"#b1a131\",\"#ca6b93\",\"#4146a3\",\"#e48c89\",\"#d44400\",\"#c68aca\",\"#b69597\",\"#d41f75\",\"#724bcc\",\"#674d00\",\"#672138\",\"#38564f\",\"#6ebaaa\",\"#853a31\",\"#a5d397\",\"#b8af8e\",\"#d8e4df\",\"#aa00df\",\"#cac1db\",\"#ffdf8c\",\"#e2524d\",\"#66696e\",\"#ff001c\",\"#522d72\",\"#4d906b\",\"#a86d11\",\"#ff9e26\",\"#5ea3af\",\"#c88556\",\"#915997\",\"#a3a1ff\",\"#fdbaba\",\"#242a87\",\"#dbe6a8\",\"#97f2a7\",\"#6793d6\",\"#ba5b3f\",\"#3a5d91\",\"#364f2f\",\"#267c95\",\"#89959a\",\"#cfb356\",\"#004664\",\"#5e5d2f\",\"#8e8e41\",\"#ac3f13\",\"#69953b\",\"#a13d85\",\"#bfb6ba\",\"#acc667\",\"#6469cf\",\"#91af00\",\"#2be2da\",\"#016e36\",\"#ff7952\",\"#42807e\",\"#4fe800\",\"#995428\",\"#5d0a00\",\"#a30057\",\"#0c8700\",\"#5982a7\",\"#ffebfb\",\"#4b6901\",\"#8775d4\",\"#e6c6ff\",\"#a5ffda\",\"#d86e77\",\"#df014b\",\"#69675b\",\"#776ba1\",\"#7e8067\",\"#594685\",\"#0000ca\",\"#7c002a\",\"#97ff72\",\"#b5e2e1\",\"#db52c8\",\"#777734\",\"#57bd8e\"],\"factors\":[\" \"]}}},\"fill_alpha\":{\"type\":\"value\",\"value\":0.3},\"hatch_alpha\":{\"type\":\"value\",\"value\":0.3},\"marker\":{\"type\":\"value\",\"value\":\"dash\"}}},\"nonselection_glyph\":{\"type\":\"object\",\"name\":\"Scatter\",\"id\":\"p1046\",\"attributes\":{\"x\":{\"type\":\"field\",\"field\":\"x\"},\"y\":{\"type\":\"field\",\"field\":\"cat\"},\"size\":{\"type\":\"value\",\"value\":68.75},\"angle\":{\"type\":\"value\",\"value\":1.5707963267948966},\"line_color\":{\"type\":\"field\",\"field\":\"cat\",\"transform\":{\"id\":\"p1038\"}},\"line_alpha\":{\"type\":\"value\",\"value\":0.1},\"fill_color\":{\"type\":\"field\",\"field\":\"cat\",\"transform\":{\"id\":\"p1037\"}},\"fill_alpha\":{\"type\":\"value\",\"value\":0.1},\"hatch_alpha\":{\"type\":\"value\",\"value\":0.1},\"marker\":{\"type\":\"value\",\"value\":\"dash\"}}},\"muted_glyph\":{\"type\":\"object\",\"name\":\"Scatter\",\"id\":\"p1047\",\"attributes\":{\"x\":{\"type\":\"field\",\"field\":\"x\"},\"y\":{\"type\":\"field\",\"field\":\"cat\"},\"size\":{\"type\":\"value\",\"value\":68.75},\"angle\":{\"type\":\"value\",\"value\":1.5707963267948966},\"line_color\":{\"type\":\"field\",\"field\":\"cat\",\"transform\":{\"id\":\"p1038\"}},\"line_alpha\":{\"type\":\"value\",\"value\":0.2},\"fill_color\":{\"type\":\"field\",\"field\":\"cat\",\"transform\":{\"id\":\"p1037\"}},\"fill_alpha\":{\"type\":\"value\",\"value\":0.2},\"hatch_alpha\":{\"type\":\"value\",\"value\":0.2},\"marker\":{\"type\":\"value\",\"value\":\"dash\"}}}}}],\"toolbar\":{\"type\":\"object\",\"name\":\"Toolbar\",\"id\":\"p1011\",\"attributes\":{\"tools\":[{\"type\":\"object\",\"name\":\"PanTool\",\"id\":\"p1024\"},{\"type\":\"object\",\"name\":\"WheelZoomTool\",\"id\":\"p1025\",\"attributes\":{\"renderers\":\"auto\"}},{\"type\":\"object\",\"name\":\"BoxZoomTool\",\"id\":\"p1026\",\"attributes\":{\"overlay\":{\"type\":\"object\",\"name\":\"BoxAnnotation\",\"id\":\"p1027\",\"attributes\":{\"syncable\":false,\"line_color\":\"black\",\"line_alpha\":1.0,\"line_width\":2,\"line_dash\":[4,4],\"fill_color\":\"lightgrey\",\"fill_alpha\":0.5,\"level\":\"overlay\",\"visible\":false,\"left\":{\"type\":\"number\",\"value\":\"nan\"},\"right\":{\"type\":\"number\",\"value\":\"nan\"},\"top\":{\"type\":\"number\",\"value\":\"nan\"},\"bottom\":{\"type\":\"number\",\"value\":\"nan\"},\"left_units\":\"canvas\",\"right_units\":\"canvas\",\"top_units\":\"canvas\",\"bottom_units\":\"canvas\",\"handles\":{\"type\":\"object\",\"name\":\"BoxInteractionHandles\",\"id\":\"p1033\",\"attributes\":{\"all\":{\"type\":\"object\",\"name\":\"AreaVisuals\",\"id\":\"p1032\",\"attributes\":{\"fill_color\":\"white\",\"hover_fill_color\":\"lightgray\"}}}}}}}},{\"type\":\"object\",\"name\":\"SaveTool\",\"id\":\"p1034\"},{\"type\":\"object\",\"name\":\"ResetTool\",\"id\":\"p1035\"},{\"type\":\"object\",\"name\":\"HelpTool\",\"id\":\"p1036\"}]}},\"toolbar_location\":\"above\",\"left\":[{\"type\":\"object\",\"name\":\"CategoricalAxis\",\"id\":\"p1019\",\"attributes\":{\"ticker\":{\"type\":\"object\",\"name\":\"CategoricalTicker\",\"id\":\"p1020\"},\"formatter\":{\"type\":\"object\",\"name\":\"CategoricalTickFormatter\",\"id\":\"p1021\"},\"major_label_policy\":{\"type\":\"object\",\"name\":\"AllLabels\",\"id\":\"p1022\"}}}],\"below\":[{\"type\":\"object\",\"name\":\"LinearAxis\",\"id\":\"p1014\",\"attributes\":{\"ticker\":{\"type\":\"object\",\"name\":\"BasicTicker\",\"id\":\"p1015\",\"attributes\":{\"mantissas\":[1,2,5]}},\"formatter\":{\"type\":\"object\",\"name\":\"BasicTickFormatter\",\"id\":\"p1016\"},\"axis_label\":\"x\",\"major_label_policy\":{\"type\":\"object\",\"name\":\"AllLabels\",\"id\":\"p1017\"}}}],\"center\":[{\"type\":\"object\",\"name\":\"Grid\",\"id\":\"p1018\",\"attributes\":{\"axis\":{\"id\":\"p1014\"}}},{\"type\":\"object\",\"name\":\"Grid\",\"id\":\"p1023\",\"attributes\":{\"dimension\":1,\"axis\":{\"id\":\"p1019\"},\"grid_line_color\":null}}],\"frame_width\":375,\"frame_height\":275}}],\"defs\":[{\"type\":\"model\",\"name\":\"ReactiveHTML1\"},{\"type\":\"model\",\"name\":\"FlexBox1\",\"properties\":[{\"name\":\"align_content\",\"kind\":\"Any\",\"default\":\"flex-start\"},{\"name\":\"align_items\",\"kind\":\"Any\",\"default\":\"flex-start\"},{\"name\":\"flex_direction\",\"kind\":\"Any\",\"default\":\"row\"},{\"name\":\"flex_wrap\",\"kind\":\"Any\",\"default\":\"wrap\"},{\"name\":\"gap\",\"kind\":\"Any\",\"default\":\"\"},{\"name\":\"justify_content\",\"kind\":\"Any\",\"default\":\"flex-start\"}]},{\"type\":\"model\",\"name\":\"FloatPanel1\",\"properties\":[{\"name\":\"config\",\"kind\":\"Any\",\"default\":{\"type\":\"map\"}},{\"name\":\"contained\",\"kind\":\"Any\",\"default\":true},{\"name\":\"position\",\"kind\":\"Any\",\"default\":\"right-top\"},{\"name\":\"offsetx\",\"kind\":\"Any\",\"default\":null},{\"name\":\"offsety\",\"kind\":\"Any\",\"default\":null},{\"name\":\"theme\",\"kind\":\"Any\",\"default\":\"primary\"},{\"name\":\"status\",\"kind\":\"Any\",\"default\":\"normalized\"}]},{\"type\":\"model\",\"name\":\"GridStack1\",\"properties\":[{\"name\":\"mode\",\"kind\":\"Any\",\"default\":\"warn\"},{\"name\":\"ncols\",\"kind\":\"Any\",\"default\":null},{\"name\":\"nrows\",\"kind\":\"Any\",\"default\":null},{\"name\":\"allow_resize\",\"kind\":\"Any\",\"default\":true},{\"name\":\"allow_drag\",\"kind\":\"Any\",\"default\":true},{\"name\":\"state\",\"kind\":\"Any\",\"default\":[]}]},{\"type\":\"model\",\"name\":\"drag1\",\"properties\":[{\"name\":\"slider_width\",\"kind\":\"Any\",\"default\":5},{\"name\":\"slider_color\",\"kind\":\"Any\",\"default\":\"black\"},{\"name\":\"value\",\"kind\":\"Any\",\"default\":50}]},{\"type\":\"model\",\"name\":\"click1\",\"properties\":[{\"name\":\"terminal_output\",\"kind\":\"Any\",\"default\":\"\"},{\"name\":\"debug_name\",\"kind\":\"Any\",\"default\":\"\"},{\"name\":\"clears\",\"kind\":\"Any\",\"default\":0}]},{\"type\":\"model\",\"name\":\"FastWrapper1\",\"properties\":[{\"name\":\"object\",\"kind\":\"Any\",\"default\":null},{\"name\":\"style\",\"kind\":\"Any\",\"default\":null}]},{\"type\":\"model\",\"name\":\"NotificationAreaBase1\",\"properties\":[{\"name\":\"js_events\",\"kind\":\"Any\",\"default\":{\"type\":\"map\"}},{\"name\":\"position\",\"kind\":\"Any\",\"default\":\"bottom-right\"},{\"name\":\"_clear\",\"kind\":\"Any\",\"default\":0}]},{\"type\":\"model\",\"name\":\"NotificationArea1\",\"properties\":[{\"name\":\"js_events\",\"kind\":\"Any\",\"default\":{\"type\":\"map\"}},{\"name\":\"notifications\",\"kind\":\"Any\",\"default\":[]},{\"name\":\"position\",\"kind\":\"Any\",\"default\":\"bottom-right\"},{\"name\":\"_clear\",\"kind\":\"Any\",\"default\":0},{\"name\":\"types\",\"kind\":\"Any\",\"default\":[{\"type\":\"map\",\"entries\":[[\"type\",\"warning\"],[\"background\",\"#ffc107\"],[\"icon\",{\"type\":\"map\",\"entries\":[[\"className\",\"fas fa-exclamation-triangle\"],[\"tagName\",\"i\"],[\"color\",\"white\"]]}]]},{\"type\":\"map\",\"entries\":[[\"type\",\"info\"],[\"background\",\"#007bff\"],[\"icon\",{\"type\":\"map\",\"entries\":[[\"className\",\"fas fa-info-circle\"],[\"tagName\",\"i\"],[\"color\",\"white\"]]}]]}]}]},{\"type\":\"model\",\"name\":\"Notification\",\"properties\":[{\"name\":\"background\",\"kind\":\"Any\",\"default\":null},{\"name\":\"duration\",\"kind\":\"Any\",\"default\":3000},{\"name\":\"icon\",\"kind\":\"Any\",\"default\":null},{\"name\":\"message\",\"kind\":\"Any\",\"default\":\"\"},{\"name\":\"notification_type\",\"kind\":\"Any\",\"default\":null},{\"name\":\"_rendered\",\"kind\":\"Any\",\"default\":false},{\"name\":\"_destroyed\",\"kind\":\"Any\",\"default\":false}]},{\"type\":\"model\",\"name\":\"TemplateActions1\",\"properties\":[{\"name\":\"open_modal\",\"kind\":\"Any\",\"default\":0},{\"name\":\"close_modal\",\"kind\":\"Any\",\"default\":0}]},{\"type\":\"model\",\"name\":\"BootstrapTemplateActions1\",\"properties\":[{\"name\":\"open_modal\",\"kind\":\"Any\",\"default\":0},{\"name\":\"close_modal\",\"kind\":\"Any\",\"default\":0}]},{\"type\":\"model\",\"name\":\"TemplateEditor1\",\"properties\":[{\"name\":\"layout\",\"kind\":\"Any\",\"default\":[]}]},{\"type\":\"model\",\"name\":\"MaterialTemplateActions1\",\"properties\":[{\"name\":\"open_modal\",\"kind\":\"Any\",\"default\":0},{\"name\":\"close_modal\",\"kind\":\"Any\",\"default\":0}]},{\"type\":\"model\",\"name\":\"ReactiveESM1\",\"properties\":[{\"name\":\"esm_constants\",\"kind\":\"Any\",\"default\":{\"type\":\"map\"}}]},{\"type\":\"model\",\"name\":\"JSComponent1\",\"properties\":[{\"name\":\"esm_constants\",\"kind\":\"Any\",\"default\":{\"type\":\"map\"}}]},{\"type\":\"model\",\"name\":\"ReactComponent1\",\"properties\":[{\"name\":\"esm_constants\",\"kind\":\"Any\",\"default\":{\"type\":\"map\"}}]},{\"type\":\"model\",\"name\":\"AnyWidgetComponent1\",\"properties\":[{\"name\":\"esm_constants\",\"kind\":\"Any\",\"default\":{\"type\":\"map\"}}]},{\"type\":\"model\",\"name\":\"request_value1\",\"properties\":[{\"name\":\"fill\",\"kind\":\"Any\",\"default\":\"none\"},{\"name\":\"_synced\",\"kind\":\"Any\",\"default\":null},{\"name\":\"_request_sync\",\"kind\":\"Any\",\"default\":0}]}]}};\n",
       "  const render_items = [{\"docid\":\"5a270069-59f6-4a61-8b8e-d1b6585f7b74\",\"roots\":{\"p1003\":\"de93b07e-32f4-43a2-9d10-5ea9963baeee\"},\"root_ids\":[\"p1003\"]}];\n",
       "  void root.Bokeh.embed.embed_items_notebook(docs_json, render_items);\n",
       "  }\n",
       "  if (root.Bokeh !== undefined) {\n",
       "    embed_document(root);\n",
       "  } else {\n",
       "    let attempts = 0;\n",
       "    const timer = setInterval(function(root) {\n",
       "      if (root.Bokeh !== undefined) {\n",
       "        clearInterval(timer);\n",
       "        embed_document(root);\n",
       "      } else {\n",
       "        attempts++;\n",
       "        if (attempts > 100) {\n",
       "          clearInterval(timer);\n",
       "          console.log(\"Bokeh: ERROR: Unable to run BokehJS code because BokehJS library is missing\");\n",
       "        }\n",
       "      }\n",
       "    }, 10, root)\n",
       "  }\n",
       "})(window);"
      ],
      "application/vnd.bokehjs_exec.v0+json": ""
     },
     "metadata": {
      "application/vnd.bokehjs_exec.v0+json": {
       "id": "p1003"
      }
     },
     "output_type": "display_data"
    }
   ],
   "source": [
    "def beta(t, offset, tau):\n",
    "    \"\"\"Poisson process arrival rate as a function of t\"\"\"\n",
    "    return offset + np.sin(t / tau)\n",
    "\n",
    "# Parameters for arrival rate function\n",
    "offset = 1.15\n",
    "tau = 10\n",
    "beta_args = (offset, tau)\n",
    "\n",
    "# Sample arrival times\n",
    "arrival_times = sample_nhpp(beta, 2.15, 500, beta_args=beta_args)\n",
    "\n",
    "# Plot the arrivals\n",
    "p = iqplot.strip(arrival_times, marker='dash', marker_kwargs=dict(alpha=0.3))\n",
    "bokeh.io.show(p)"
   ]
  },
  {
   "cell_type": "markdown",
   "metadata": {},
   "source": [
    "We can write down the probability density function for the arrival times, given by {@eq-nonhomogeneous-poisson-multiple-arrivals-pdf}. Barring any chronic issues with the sampler, we can use Markov chain Monte Carlo to do the sampling.\n",
    "\n",
    "Here, I present the Stan code for doing so, and then discuss its contents.\n",
    "\n",
    "```stan\n",
    "functions {\n",
    "    real beta_(real t, real offset, real tau) {\n",
    "        return offset + sin(t / tau);\n",
    "    }\n",
    "\n",
    "    real integral_beta(real tn, real offset, real tau) {\n",
    "        return tau + offset * tn - tau * cos(tn / tau);\n",
    "    }\n",
    "}\n",
    "\n",
    "\n",
    "data {\n",
    "    int n;\n",
    "    real offset;\n",
    "    real tau;\n",
    "}\n",
    "\n",
    "\n",
    "parameters {\n",
    "    positive_ordered[n] arrival_times;\n",
    "}\n",
    "\n",
    "\n",
    "model {\n",
    "    target += -integral_beta(arrival_times[n]);\n",
    "    target += sum(log(beta_(arrival_times)))\n",
    "}\n",
    "```\n",
    "\n",
    "First, we see a demonstration of how functions in the `functions` block work. Each function is declared with its return type. The function `beta_`, for example, returns a `real`, so it is declared as `real beta_(...)`. (We name the function `beta_` instead of `beta` because `beta` is part of the Stan language, standing for the Beta distribution.) The type of each argument must also be specified, separated by commas. Each function must also have a `return` statement, with the value being returned following `return`.\n",
    "\n",
    "Next, not how we used the `data` block to enable passing in parameters. The `data` block is used to pass anything that does not change or get sampled in a Stan program.\n",
    "\n",
    "In the `parameters` block, we define a `positive_ordered` data type that we use for the arrival times. This is a convenient data type in Stan. It comprises a vector where all entries are positive, and they are ordered from smallest to largest in magnitude. Since the arrival times are indeed positive and ordered, this data type is perfect for the present application.\n",
    "\n",
    "In the `model` block, we add values to `target`. `target` is a special Stan variable that is the log probability density of the distribution being sampled out of, the so-called target distribution. Under the hood, sampling statements, such as `x ~ std_normal()`, add the appropriate quantities to `target`. When a sampling statement is not available available for a given distribution, as is the case here, we directly add the appropriate log probability density to `target`.\n",
    "\n",
    "Now that we have our code, let's compile it and give it a whirl! Since we aim to draw a single set of spike times, we will only use one chain and take one sample (since a single sample is 500 spikes). We will still take 1000 warm up samples (though this is excessive; we do not need that many)."
   ]
  },
  {
   "cell_type": "code",
   "execution_count": 5,
   "metadata": {},
   "outputs": [
    {
     "name": "stderr",
     "output_type": "stream",
     "text": [
      "01:50:15 - cmdstanpy - INFO - CmdStan start processing\n"
     ]
    },
    {
     "data": {
      "application/vnd.jupyter.widget-view+json": {
       "model_id": "54fd65f98eb141968fc9aa88bf0d9554",
       "version_major": 2,
       "version_minor": 0
      },
      "text/plain": [
       "chain 1 |          | 00:00 Status"
      ]
     },
     "metadata": {},
     "output_type": "display_data"
    },
    {
     "name": "stdout",
     "output_type": "stream",
     "text": [
      "                                                                                "
     ]
    },
    {
     "name": "stderr",
     "output_type": "stream",
     "text": [
      "01:50:24 - cmdstanpy - INFO - CmdStan done processing.\n"
     ]
    },
    {
     "name": "stdout",
     "output_type": "stream",
     "text": [
      "\n"
     ]
    }
   ],
   "source": [
    "# Compile Stan code\n",
    "sm = cmdstanpy.CmdStanModel(stan_file='sinusoid_nhpp.stan')\n",
    "\n",
    "# Parameters for our toy sinusoid and number of spikes to generate.\n",
    "data = dict(n=1000, offset_=1.5, tau=10.0)\n",
    "\n",
    "# Sample using Stan\n",
    "samples = sm.sample(\n",
    "    data=data,\n",
    "    chains=1,\n",
    "    iter_sampling=1,\n",
    ")\n",
    "\n",
    "# Convert to ArviZ InferenceData instance\n",
    "samples = az.from_cmdstanpy(posterior=samples)"
   ]
  },
  {
   "cell_type": "markdown",
   "metadata": {},
   "source": [
    "Let's plot to see if we get the same kind of set of spikes as in the sampling by thinning."
   ]
  },
  {
   "cell_type": "code",
   "execution_count": 6,
   "metadata": {},
   "outputs": [
    {
     "data": {
      "text/html": [
       "\n",
       "  <div id=\"d7d11cc7-aaae-41dd-82d3-5bc87ab37826\" data-root-id=\"p1052\" style=\"display: contents;\"></div>\n"
      ]
     },
     "metadata": {},
     "output_type": "display_data"
    },
    {
     "data": {
      "application/javascript": [
       "(function(root) {\n",
       "  function embed_document(root) {\n",
       "  const docs_json = {\"d0c99e3b-911b-4b45-936e-cf33c78c890c\":{\"version\":\"3.6.2\",\"title\":\"Bokeh Application\",\"roots\":[{\"type\":\"object\",\"name\":\"Figure\",\"id\":\"p1052\",\"attributes\":{\"x_range\":{\"type\":\"object\",\"name\":\"Range1d\",\"id\":\"p1061\",\"attributes\":{\"end\":500}},\"y_range\":{\"type\":\"object\",\"name\":\"FactorRange\",\"id\":\"p1051\",\"attributes\":{\"factors\":[\" \"]}},\"x_scale\":{\"type\":\"object\",\"name\":\"LinearScale\",\"id\":\"p1062\"},\"y_scale\":{\"type\":\"object\",\"name\":\"CategoricalScale\",\"id\":\"p1063\"},\"title\":{\"type\":\"object\",\"name\":\"Title\",\"id\":\"p1059\"},\"renderers\":[{\"type\":\"object\",\"name\":\"GlyphRenderer\",\"id\":\"p1098\",\"attributes\":{\"name\":\"hover_glyphs\",\"data_source\":{\"type\":\"object\",\"name\":\"ColumnDataSource\",\"id\":\"p1089\",\"attributes\":{\"selected\":{\"type\":\"object\",\"name\":\"Selection\",\"id\":\"p1090\",\"attributes\":{\"indices\":[],\"line_indices\":[]}},\"selection_policy\":{\"type\":\"object\",\"name\":\"UnionRenderers\",\"id\":\"p1091\"},\"data\":{\"type\":\"map\",\"entries\":[[\"arrival_times\",[0.109922,1.40381,4.19507,4.7597,5.3616,6.5039,6.81517,7.57536,7.75951,7.84057,8.51977,8.52118,8.79121,9.06989,10.4648,10.5221,10.6313,10.8074,10.9713,10.9898,10.9997,11.2622,11.5369,11.54,12.265,12.7674,12.9714,13.2987,13.8126,13.9622,13.9894,14.2194,14.8064,14.8325,15.067,15.7542,16.2359,16.719,17.0921,17.1815,17.3508,17.405,19.2467,21.4639,21.8783,22.0114,22.401,22.9572,23.4734,23.8417,24.6357,25.1033,25.9778,26.264,26.7746,26.8288,27.3739,29.2418,29.2565,31.1568,32.4198,32.6967,33.5106,35.0909,36.2915,37.9677,37.9937,42.4523,43.036,43.2202,50.6302,51.8438,54.5122,54.5244,55.2918,56.855,56.8575,57.1957,57.6195,58.7771,62.3091,63.5173,63.5432,64.4364,64.6894,66.7735,67.214,67.2955,67.9396,68.095,68.1145,68.3045,68.9886,69.7919,69.9233,70.4485,70.9346,71.5204,72.8407,72.8676,73.2234,74.6938,74.696,74.7566,74.979,75.7494,77.1506,77.2979,77.3868,77.5841,77.608,77.7624,77.8612,78.1267,78.3902,79.5097,79.5458,79.9695,80.0854,80.4145,80.6635,80.8265,81.7233,82.2137,82.8433,83.3426,83.6109,84.6463,85.4079,85.8071,86.0462,86.1116,87.553,89.0394,89.0625,89.3979,89.4418,90.2244,90.711,91.1325,91.2201,91.2329,91.7021,91.7854,94.9865,96.1461,96.716,97.0817,97.1167,99.7003,99.718,99.7682,100.231,102.117,103.723,103.75,106.36,106.721,107.23,110.622,112.662,112.83,116.285,119.291,119.621,119.697,121.7,123.292,124.891,125.05,125.639,126.494,127.868,128.212,129.071,129.12,129.229,129.616,130.025,130.323,131.429,131.584,131.629,132.486,132.812,133.06,133.108,133.489,133.514,134.607,134.677,134.786,135.979,136.173,136.198,137.185,137.21,137.63,138.193,139.469,140.75,141.022,141.934,142.559,142.714,143.03,144.509,144.517,144.859,145.138,145.196,145.337,145.802,146.342,146.726,147.377,147.615,147.825,148.204,148.486,148.898,149.395,150.233,150.458,150.743,151.768,151.931,153.071,153.615,153.955,154.278,156.153,156.594,156.824,156.861,157.066,157.75,159.317,160.592,163.191,163.775,164.33,167.584,168.622,168.661,170.874,171.118,171.794,173.721,179.071,179.604,180.926,181.238,181.509,182.39,182.809,185.452,186.609,188.273,189.077,189.21,189.28,190.08,190.492,190.645,191.742,192.607,192.629,193.034,193.54,193.668,193.992,194.036,194.367,194.995,196.807,197.32,197.405,197.849,198.243,198.729,198.73,199.131,199.32,199.91,200.0,200.267,200.812,201.026,201.356,201.69,201.863,201.961,202.034,202.112,203.666,203.67,203.955,204.0,204.086,204.466,204.501,204.531,205.383,206.815,207.246,207.377,207.447,207.57,207.681,207.754,207.829,208.317,208.537,209.069,209.518,209.692,210.223,211.164,212.052,214.075,215.145,217.295,217.646,217.967,220.591,223.34,223.893,224.008,225.312,228.184,230.056,233.968,235.579,235.969,237.491,239.787,239.972,242.694,243.091,243.487,244.221,245.448,245.51,248.679,251.728,251.834,252.518,253.576,254.008,254.663,254.877,256.297,256.776,256.861,257.52,257.755,257.83,257.978,258.275,258.338,258.339,258.684,258.803,259.009,260.493,260.977,260.986,261.68,262.759,263.43,263.747,263.788,263.945,264.008,264.182,264.564,264.823,264.86,265.78,266.218,266.397,266.588,266.67,266.848,266.881,267.02,267.429,268.104,268.663,270.156,270.46,270.524,271.344,272.146,272.446,272.499,272.546,272.877,273.002,273.229,273.325,273.496,273.93,274.578,274.607,275.046,275.418,275.444,276.012,276.061,276.919,277.27,277.669,279.107,279.247,279.871,280.808,281.329,281.839,283.1,283.812,284.99,285.424,286.221,288.22,288.22,293.158,294.597,297.719,301.458,305.533,305.855,307.692,307.773,308.807,310.924,311.585,313.15,313.345,314.929,315.01,316.264,317.096,317.921,318.018,318.449,319.602,320.28,320.752,321.408,322.369,322.847,323.174,323.836,324.589,326.838,327.416,327.771,327.899,328.438,328.636,329.718,330.88,331.007,331.615,332.077,332.419,332.732,333.029,333.302,333.467,333.704,333.929,334.739,335.905,336.627,337.048,337.268,337.438,338.118,338.371,338.809,339.538,339.631,339.98,340.148,340.745,340.856,341.244,342.038,342.043,342.467,344.354,344.766,345.0,346.494,346.538,346.621,346.747,347.037,347.246,348.64,349.013,349.669,350.519,357.672,362.134,364.476,366.759,367.27,368.161,368.548,368.841,368.875,369.689,371.137,371.666,373.071,374.066,374.566,377.046,377.235,377.909,379.541,379.617,380.256,380.989,381.523,381.684,382.599,385.044,385.255,386.103,386.323,388.725,389.532,390.012,391.094,394.082,394.292,394.492,394.539,394.636,394.78,394.957,395.247,395.374,395.387,395.533,395.981,396.065,398.156,398.158,398.312,398.68,398.804,398.866,399.038,399.433,400.249,400.442,400.465,400.804,400.986,402.895,403.051,403.12,403.516,404.416,405.999,406.793,407.227,407.459,407.592,408.434,408.93,408.973,409.49,410.004,410.205,411.034,411.498,411.561,411.925,412.106,412.259,415.216,415.433,419.069,420.314,425.09,427.228,427.782,427.888,430.945,431.083,433.478,433.932,434.355,434.654,435.096,435.521,435.523,438.232,438.237,438.634,439.986,441.04,441.381,441.481,443.044,443.563,444.462,444.51,446.061,447.615,447.694,448.488,448.534,448.756,449.064,449.162,449.523,449.655,449.974,450.095,450.601,451.214,451.512,452.388,453.484,453.777,454.385,454.405,454.438,454.456,454.955,455.262,455.763,456.17,456.369,457.746,457.891,458.114,458.891,459.128,459.249,459.309,459.433,459.56,459.587,459.736,460.938,461.26,461.563,461.757,461.907,461.937,462.063,462.381,462.786,463.436,463.626,463.976,465.869,466.026,466.535,466.584,467.284,468.064,468.342,468.551,468.646,469.267,469.448,470.138,470.406,470.965,471.154,471.696,471.707,471.842,472.037,473.916,475.422,475.781,476.792,477.15,477.275,478.588,479.168,480.154,482.537,482.727,484.418,485.854,488.986,489.315,490.708,493.025,494.499,494.556,496.556,498.343,499.716,499.752,499.871,502.105,503.188,503.732,504.253,504.657,504.871,506.061,506.431,506.925,507.212,508.232,509.463,509.466,510.436,512.183,512.465,512.863,512.943,513.348,514.149,514.502,515.226,515.832,516.012,516.893,517.918,519.257,520.095,520.201,520.672,520.71,520.803,520.846,521.11,521.39,522.288,523.192,523.218,523.23,523.404,524.593,524.602,526.033,526.311,526.343,527.374,529.544,529.548,529.571,529.602,529.792,532.763,532.993,533.334,534.453,535.464,535.99,536.094,537.933,538.296,539.122,539.138,541.739,542.472,542.474,543.453,544.349,544.502,544.594,545.265,546.551,550.604,550.839,553.08,553.671,556.878,557.328,558.61,559.741,559.885,561.181,562.538,562.664,563.453,564.725,565.103,565.983,566.119,566.547,567.553,567.56,567.776,568.569,569.035,569.319,569.659,570.177,570.544,570.845,571.15,571.33,571.444,571.583,571.767,571.829,572.093,572.531,573.133,573.981,574.045,574.117,574.798,575.134,575.269,575.916,576.55,576.871,577.742,577.806,578.056,578.59,579.149,579.307,580.161,580.788,581.292,582.197,582.542,583.058,584.532,584.956,585.533,585.809,585.826,586.482,586.552,586.907,587.247,587.257,587.739,588.022,588.246,588.249,588.455,588.461,588.462,589.476,590.146,591.101,591.984,593.051,593.305,594.477,596.211,596.726,598.443,599.566,600.071,602.878,603.293,604.382,607.953,608.617,610.358,613.01,616.684,618.853,619.293,620.025,620.883,622.762,622.962,624.704,625.021,625.854,626.332,626.34,628.098,628.39,628.562,628.616,629.11,629.483,629.556,630.821,632.687,633.007,633.194,633.38,633.507,634.248,634.654,634.683,635.334,635.927,636.242,636.592,636.84,637.498,637.712,638.439,638.632,638.659,638.679,638.937,639.633,639.651,639.726,640.387,640.391,641.12,642.598,643.326,643.673,643.692,643.962,644.555,644.656,645.415,645.431,646.264,646.963,647.024,647.593,648.721,649.223,650.449,650.709,650.718,651.615,651.803,652.26,652.327,652.85,653.628,654.876,655.63,655.713,656.18,656.214,657.17,657.476,658.049,658.262,658.839,664.422,671.175,673.786,677.1,678.74,679.917,683.456,683.643,683.934,684.003,684.097,684.191,684.251,685.046,686.008,686.763,687.591,688.263,689.977,690.267,690.472,692.239,692.938,692.949,693.098,693.188,693.191,693.421,694.972,695.152,695.824,695.94,696.622,697.109,697.854,697.915,698.099,698.7,699.151,700.036,700.2,700.79,700.983,702.197,702.225,702.266,702.617]],[\"__dummy_cat\",[\" \",\" \",\" \",\" \",\" \",\" \",\" \",\" \",\" \",\" \",\" \",\" \",\" \",\" \",\" \",\" \",\" \",\" \",\" \",\" \",\" \",\" \",\" \",\" \",\" \",\" \",\" \",\" \",\" \",\" \",\" \",\" \",\" \",\" \",\" \",\" \",\" \",\" \",\" \",\" \",\" \",\" \",\" \",\" \",\" \",\" \",\" \",\" \",\" \",\" \",\" \",\" \",\" \",\" \",\" \",\" \",\" \",\" \",\" \",\" \",\" \",\" \",\" \",\" \",\" \",\" \",\" \",\" \",\" \",\" \",\" \",\" \",\" \",\" \",\" \",\" \",\" \",\" \",\" \",\" \",\" \",\" \",\" \",\" \",\" \",\" \",\" \",\" \",\" \",\" \",\" \",\" \",\" \",\" \",\" \",\" \",\" \",\" \",\" \",\" \",\" \",\" \",\" \",\" \",\" \",\" \",\" \",\" \",\" \",\" \",\" \",\" \",\" \",\" \",\" \",\" \",\" \",\" \",\" \",\" \",\" \",\" \",\" \",\" \",\" \",\" \",\" \",\" \",\" \",\" \",\" \",\" \",\" \",\" \",\" \",\" \",\" \",\" \",\" \",\" \",\" \",\" \",\" \",\" \",\" \",\" \",\" \",\" \",\" \",\" \",\" \",\" \",\" \",\" \",\" \",\" \",\" \",\" \",\" \",\" \",\" \",\" \",\" \",\" \",\" \",\" \",\" \",\" \",\" \",\" \",\" \",\" \",\" \",\" \",\" \",\" \",\" \",\" \",\" \",\" \",\" \",\" \",\" \",\" \",\" \",\" \",\" \",\" \",\" \",\" \",\" \",\" \",\" \",\" \",\" \",\" \",\" \",\" \",\" \",\" \",\" \",\" \",\" \",\" \",\" \",\" \",\" \",\" \",\" \",\" \",\" \",\" \",\" \",\" \",\" \",\" \",\" \",\" \",\" \",\" \",\" \",\" \",\" \",\" \",\" \",\" \",\" \",\" \",\" \",\" \",\" \",\" \",\" \",\" \",\" \",\" \",\" \",\" \",\" \",\" \",\" \",\" \",\" \",\" \",\" \",\" \",\" \",\" \",\" \",\" \",\" \",\" \",\" \",\" \",\" \",\" \",\" \",\" \",\" \",\" \",\" \",\" \",\" \",\" \",\" \",\" \",\" \",\" \",\" \",\" \",\" \",\" \",\" \",\" \",\" \",\" \",\" \",\" \",\" \",\" \",\" \",\" \",\" \",\" \",\" \",\" \",\" \",\" \",\" \",\" \",\" \",\" \",\" \",\" \",\" \",\" \",\" \",\" \",\" \",\" \",\" \",\" \",\" \",\" \",\" \",\" \",\" \",\" \",\" \",\" \",\" \",\" \",\" \",\" \",\" \",\" \",\" \",\" \",\" \",\" \",\" \",\" \",\" \",\" \",\" \",\" \",\" \",\" \",\" \",\" \",\" \",\" \",\" \",\" \",\" \",\" \",\" \",\" \",\" \",\" \",\" \",\" \",\" \",\" \",\" \",\" \",\" \",\" \",\" \",\" \",\" \",\" \",\" \",\" \",\" \",\" \",\" \",\" \",\" \",\" \",\" \",\" \",\" \",\" \",\" \",\" \",\" \",\" \",\" \",\" \",\" \",\" \",\" \",\" \",\" \",\" \",\" \",\" \",\" \",\" \",\" \",\" \",\" \",\" \",\" \",\" \",\" \",\" \",\" \",\" \",\" \",\" \",\" \",\" \",\" \",\" \",\" \",\" \",\" \",\" \",\" \",\" \",\" \",\" \",\" \",\" \",\" \",\" \",\" \",\" \",\" \",\" \",\" \",\" \",\" \",\" \",\" \",\" \",\" \",\" \",\" \",\" \",\" \",\" \",\" \",\" \",\" \",\" \",\" \",\" \",\" \",\" \",\" \",\" \",\" \",\" \",\" \",\" \",\" \",\" \",\" \",\" \",\" \",\" \",\" \",\" \",\" \",\" \",\" \",\" \",\" \",\" \",\" \",\" \",\" \",\" \",\" \",\" \",\" \",\" \",\" \",\" \",\" \",\" \",\" \",\" \",\" \",\" \",\" \",\" \",\" \",\" \",\" \",\" \",\" \",\" \",\" \",\" \",\" \",\" \",\" \",\" \",\" \",\" \",\" \",\" \",\" \",\" \",\" \",\" \",\" \",\" \",\" \",\" \",\" \",\" \",\" \",\" \",\" \",\" \",\" \",\" \",\" \",\" \",\" \",\" \",\" \",\" \",\" \",\" \",\" \",\" \",\" \",\" \",\" \",\" \",\" \",\" \",\" \",\" \",\" \",\" \",\" \",\" \",\" \",\" \",\" \",\" \",\" \",\" \",\" \",\" \",\" \",\" \",\" \",\" \",\" \",\" \",\" \",\" \",\" \",\" \",\" \",\" \",\" \",\" \",\" \",\" \",\" \",\" \",\" \",\" \",\" \",\" \",\" \",\" \",\" \",\" \",\" \",\" \",\" \",\" \",\" \",\" \",\" \",\" \",\" \",\" \",\" \",\" \",\" \",\" \",\" \",\" \",\" \",\" \",\" \",\" \",\" \",\" \",\" \",\" \",\" \",\" \",\" \",\" \",\" \",\" \",\" \",\" \",\" \",\" \",\" \",\" \",\" \",\" \",\" \",\" \",\" \",\" \",\" \",\" \",\" \",\" \",\" \",\" \",\" \",\" \",\" \",\" \",\" \",\" \",\" \",\" \",\" \",\" \",\" \",\" \",\" \",\" \",\" \",\" \",\" \",\" \",\" \",\" \",\" \",\" \",\" \",\" \",\" \",\" \",\" \",\" \",\" \",\" \",\" \",\" \",\" \",\" \",\" \",\" \",\" \",\" \",\" \",\" \",\" \",\" \",\" \",\" \",\" \",\" \",\" \",\" \",\" \",\" \",\" \",\" \",\" \",\" \",\" \",\" \",\" \",\" \",\" \",\" \",\" \",\" \",\" \",\" \",\" \",\" \",\" \",\" \",\" \",\" \",\" \",\" \",\" \",\" \",\" \",\" \",\" \",\" \",\" \",\" \",\" \",\" \",\" \",\" \",\" \",\" \",\" \",\" \",\" \",\" \",\" \",\" \",\" \",\" \",\" \",\" \",\" \",\" \",\" \",\" \",\" \",\" \",\" \",\" \",\" \",\" \",\" \",\" \",\" \",\" \",\" \",\" \",\" \",\" \",\" \",\" \",\" \",\" \",\" \",\" \",\" \",\" \",\" \",\" \",\" \",\" \",\" \",\" \",\" \",\" \",\" \",\" \",\" \",\" \",\" \",\" \",\" \",\" \",\" \",\" \",\" \",\" \",\" \",\" \",\" \",\" \",\" \",\" \",\" \",\" \",\" \",\" \",\" \",\" \",\" \",\" \",\" \",\" \",\" \",\" \",\" \",\" \",\" \",\" \",\" \",\" \",\" \",\" \",\" \",\" \",\" \",\" \",\" \",\" \",\" \",\" \",\" \",\" \",\" \",\" \",\" \",\" \",\" \",\" \",\" \",\" \",\" \",\" \",\" \",\" \",\" \",\" \",\" \",\" \",\" \",\" \",\" \",\" \",\" \",\" \",\" \",\" \",\" \",\" \",\" \",\" \",\" \",\" \",\" \",\" \",\" \",\" \",\" \",\" \",\" \",\" \",\" \",\" \",\" \",\" \",\" \",\" \",\" \",\" \",\" \",\" \",\" \",\" \",\" \",\" \",\" \",\" \",\" \",\" \",\" \",\" \",\" \",\" \",\" \",\" \",\" \",\" \",\" \",\" \",\" \",\" \",\" \",\" \",\" \",\" \",\" \",\" \",\" \",\" \",\" \",\" \",\" \",\" \",\" \",\" \",\" \",\" \",\" \",\" \",\" \",\" \",\" \",\" \",\" \",\" \",\" \",\" \",\" \",\" \",\" \",\" \",\" \",\" \",\" \",\" \",\" \",\" \",\" \",\" \",\" \",\" \",\" \",\" \",\" \",\" \",\" \",\" \",\" \",\" \",\" \",\" \",\" \",\" \",\" \",\" \",\" \",\" \",\" \",\" \",\" \",\" \",\" \",\" \",\" \",\" \",\" \",\" \",\" \",\" \",\" \",\" \",\" \",\" \",\" \",\" \",\" \",\" \",\" \",\" \",\" \",\" \",\" \",\" \",\" \",\" \",\" \",\" \",\" \",\" \",\" \",\" \",\" \",\" \",\" \",\" \",\" \",\" \",\" \",\" \",\" \",\" \",\" \",\" \",\" \",\" \",\" \",\" \",\" \",\" \",\" \",\" \",\" \",\" \",\" \",\" \",\" \",\" \",\" \",\" \",\" \",\" \",\" \",\" \",\" \",\" \",\" \",\" \",\" \",\" \",\" \",\" \",\" \",\" \",\" \",\" \",\" \",\" \",\" \",\" \",\" \",\" \",\" \",\" \",\" \",\" \",\" \",\" \",\" \",\" \"]],[\"cat\",[\" \",\" \",\" \",\" \",\" \",\" \",\" \",\" \",\" \",\" \",\" \",\" \",\" \",\" \",\" \",\" \",\" \",\" \",\" \",\" \",\" \",\" \",\" \",\" \",\" \",\" \",\" \",\" \",\" \",\" \",\" \",\" \",\" \",\" \",\" \",\" \",\" \",\" \",\" \",\" \",\" \",\" \",\" \",\" \",\" \",\" \",\" \",\" \",\" \",\" \",\" \",\" \",\" \",\" \",\" \",\" \",\" \",\" \",\" \",\" \",\" \",\" \",\" \",\" \",\" \",\" \",\" \",\" \",\" \",\" \",\" \",\" \",\" \",\" \",\" \",\" \",\" \",\" \",\" \",\" \",\" \",\" \",\" \",\" \",\" \",\" \",\" \",\" \",\" \",\" \",\" \",\" \",\" \",\" \",\" \",\" \",\" \",\" \",\" \",\" \",\" \",\" \",\" \",\" \",\" \",\" \",\" \",\" \",\" \",\" \",\" \",\" \",\" \",\" \",\" \",\" \",\" \",\" \",\" \",\" \",\" \",\" \",\" \",\" \",\" \",\" \",\" \",\" \",\" \",\" \",\" \",\" \",\" \",\" \",\" \",\" \",\" \",\" \",\" \",\" \",\" \",\" \",\" \",\" \",\" \",\" \",\" \",\" \",\" \",\" \",\" \",\" \",\" \",\" \",\" \",\" \",\" \",\" \",\" \",\" \",\" \",\" \",\" \",\" \",\" \",\" \",\" \",\" \",\" \",\" \",\" \",\" \",\" \",\" \",\" \",\" \",\" \",\" \",\" \",\" \",\" \",\" \",\" \",\" \",\" \",\" \",\" \",\" \",\" \",\" \",\" \",\" \",\" \",\" \",\" \",\" \",\" \",\" \",\" \",\" \",\" \",\" \",\" \",\" \",\" \",\" \",\" \",\" \",\" \",\" \",\" \",\" \",\" \",\" \",\" \",\" \",\" \",\" \",\" \",\" \",\" \",\" \",\" \",\" \",\" \",\" \",\" \",\" \",\" \",\" \",\" \",\" \",\" \",\" \",\" \",\" \",\" \",\" \",\" \",\" \",\" \",\" \",\" \",\" \",\" \",\" \",\" \",\" \",\" \",\" \",\" \",\" \",\" \",\" \",\" \",\" \",\" \",\" \",\" \",\" \",\" \",\" \",\" \",\" \",\" \",\" \",\" \",\" \",\" \",\" \",\" \",\" \",\" \",\" \",\" \",\" \",\" \",\" \",\" \",\" \",\" \",\" \",\" \",\" \",\" \",\" \",\" \",\" \",\" \",\" \",\" \",\" \",\" \",\" \",\" \",\" \",\" \",\" \",\" \",\" \",\" \",\" \",\" \",\" \",\" \",\" \",\" \",\" \",\" \",\" \",\" \",\" \",\" \",\" \",\" \",\" \",\" \",\" \",\" \",\" \",\" \",\" \",\" \",\" \",\" \",\" \",\" \",\" \",\" \",\" \",\" \",\" \",\" \",\" \",\" \",\" \",\" \",\" \",\" \",\" \",\" \",\" \",\" \",\" \",\" \",\" \",\" \",\" \",\" \",\" \",\" \",\" \",\" \",\" \",\" \",\" \",\" \",\" \",\" \",\" \",\" \",\" \",\" \",\" \",\" \",\" \",\" \",\" \",\" \",\" \",\" \",\" \",\" \",\" \",\" \",\" \",\" \",\" \",\" \",\" \",\" \",\" \",\" \",\" \",\" \",\" \",\" \",\" \",\" \",\" \",\" \",\" \",\" \",\" \",\" \",\" \",\" \",\" \",\" \",\" \",\" \",\" \",\" \",\" \",\" \",\" \",\" \",\" \",\" \",\" \",\" \",\" \",\" \",\" \",\" \",\" \",\" \",\" \",\" \",\" \",\" \",\" \",\" \",\" \",\" \",\" \",\" \",\" \",\" \",\" \",\" \",\" \",\" \",\" \",\" \",\" \",\" \",\" \",\" \",\" \",\" \",\" \",\" \",\" \",\" \",\" \",\" \",\" \",\" \",\" \",\" \",\" \",\" \",\" \",\" \",\" \",\" \",\" \",\" \",\" \",\" \",\" \",\" \",\" \",\" \",\" \",\" \",\" \",\" \",\" \",\" \",\" \",\" \",\" \",\" \",\" \",\" \",\" \",\" \",\" \",\" \",\" \",\" \",\" \",\" \",\" \",\" \",\" \",\" \",\" \",\" \",\" \",\" \",\" \",\" \",\" \",\" \",\" \",\" \",\" \",\" \",\" \",\" \",\" \",\" \",\" \",\" \",\" \",\" \",\" \",\" \",\" \",\" \",\" \",\" \",\" \",\" \",\" \",\" \",\" \",\" \",\" \",\" \",\" \",\" \",\" \",\" \",\" \",\" \",\" \",\" \",\" \",\" \",\" \",\" \",\" \",\" \",\" \",\" \",\" \",\" \",\" \",\" \",\" \",\" \",\" \",\" \",\" \",\" \",\" \",\" \",\" \",\" \",\" \",\" \",\" \",\" \",\" \",\" \",\" \",\" \",\" \",\" \",\" \",\" \",\" \",\" \",\" \",\" \",\" \",\" \",\" \",\" \",\" \",\" \",\" \",\" \",\" \",\" \",\" \",\" \",\" \",\" \",\" \",\" \",\" \",\" \",\" \",\" \",\" \",\" \",\" \",\" \",\" \",\" \",\" \",\" \",\" \",\" \",\" \",\" \",\" \",\" \",\" \",\" \",\" \",\" \",\" \",\" \",\" \",\" \",\" \",\" \",\" \",\" \",\" \",\" \",\" \",\" \",\" \",\" \",\" \",\" \",\" \",\" \",\" \",\" \",\" \",\" \",\" \",\" \",\" \",\" \",\" \",\" \",\" \",\" \",\" \",\" \",\" \",\" \",\" \",\" \",\" \",\" \",\" \",\" \",\" \",\" \",\" \",\" \",\" \",\" \",\" \",\" \",\" \",\" \",\" \",\" \",\" \",\" \",\" \",\" \",\" \",\" \",\" \",\" \",\" \",\" \",\" \",\" \",\" \",\" \",\" \",\" \",\" \",\" \",\" \",\" \",\" \",\" \",\" \",\" \",\" \",\" \",\" \",\" \",\" \",\" \",\" \",\" \",\" \",\" \",\" \",\" \",\" \",\" \",\" \",\" \",\" \",\" \",\" \",\" \",\" \",\" \",\" \",\" \",\" \",\" \",\" \",\" \",\" \",\" \",\" \",\" \",\" \",\" \",\" \",\" \",\" \",\" \",\" \",\" \",\" \",\" \",\" \",\" \",\" \",\" \",\" \",\" \",\" \",\" \",\" \",\" \",\" \",\" \",\" \",\" \",\" \",\" \",\" \",\" \",\" \",\" \",\" \",\" \",\" \",\" \",\" \",\" \",\" \",\" \",\" \",\" \",\" \",\" \",\" \",\" \",\" \",\" \",\" \",\" \",\" \",\" \",\" \",\" \",\" \",\" \",\" \",\" \",\" \",\" \",\" \",\" \",\" \",\" \",\" \",\" \",\" \",\" \",\" \",\" \",\" \",\" \",\" \",\" \",\" \",\" \",\" \",\" \",\" \",\" \",\" \",\" \",\" \",\" \",\" \",\" \",\" \",\" \",\" \",\" \",\" \",\" \",\" \",\" \",\" \",\" \",\" \",\" \",\" \",\" \",\" \",\" \",\" \",\" \",\" \",\" \",\" \",\" \",\" \",\" \",\" \",\" \",\" \",\" \",\" \",\" \",\" \",\" \",\" \",\" \",\" \",\" \",\" \",\" \",\" \",\" \",\" \",\" \",\" \",\" \",\" \",\" \",\" \",\" \",\" \",\" \",\" \",\" \",\" \",\" \",\" \",\" \",\" \",\" \",\" \",\" \",\" \",\" \",\" \",\" \",\" \",\" \",\" \",\" \",\" \",\" \",\" \",\" \",\" \",\" \",\" \",\" \",\" \",\" \",\" \",\" \",\" \",\" \",\" \",\" \",\" \",\" \",\" \",\" \",\" \",\" \",\" \",\" \",\" \",\" \",\" \",\" \",\" \",\" \",\" \",\" \",\" \",\" \",\" \",\" \",\" \",\" \",\" \",\" \",\" \",\" \",\" \",\" \",\" \",\" \",\" \",\" \",\" \",\" \",\" \",\" \",\" \",\" \",\" \",\" \",\" \",\" \",\" \",\" \",\" \",\" \",\" \",\" \",\" \",\" \",\" \",\" \",\" \",\" \",\" \",\" \",\" \",\" \",\" \",\" \",\" \",\" \",\" \",\" \",\" \",\" \",\" \",\" \",\" \",\" \",\" \",\" \",\" \",\" \",\" \",\" \",\" \",\" \",\" \",\" \",\" \",\" \",\" \",\" \",\" \",\" \",\" \",\" \",\" \",\" \",\" \",\" \",\" \",\" \",\" \",\" \",\" \",\" \",\" \",\" \",\" \",\" \",\" \",\" \",\" \",\" \",\" \",\" \",\" \",\" \",\" \",\" \",\" \",\" \",\" \",\" \",\" \"]],[\"__label\",[\" \",\" \",\" \",\" \",\" \",\" \",\" \",\" \",\" \",\" \",\" \",\" \",\" \",\" \",\" \",\" \",\" \",\" \",\" \",\" \",\" \",\" \",\" \",\" \",\" \",\" \",\" \",\" \",\" \",\" \",\" \",\" \",\" \",\" \",\" \",\" \",\" \",\" \",\" \",\" \",\" \",\" \",\" \",\" \",\" \",\" \",\" \",\" \",\" \",\" \",\" \",\" \",\" \",\" \",\" \",\" \",\" \",\" \",\" \",\" \",\" \",\" \",\" \",\" \",\" \",\" \",\" \",\" \",\" \",\" \",\" \",\" \",\" \",\" \",\" \",\" \",\" \",\" \",\" \",\" \",\" \",\" \",\" \",\" \",\" \",\" \",\" \",\" \",\" \",\" \",\" \",\" \",\" \",\" \",\" \",\" \",\" \",\" \",\" \",\" \",\" \",\" \",\" \",\" \",\" \",\" \",\" \",\" \",\" \",\" \",\" \",\" \",\" \",\" \",\" \",\" \",\" \",\" \",\" \",\" \",\" \",\" \",\" \",\" \",\" \",\" \",\" \",\" \",\" \",\" \",\" \",\" \",\" \",\" \",\" \",\" \",\" \",\" \",\" \",\" \",\" \",\" \",\" \",\" \",\" \",\" \",\" \",\" \",\" \",\" \",\" \",\" \",\" \",\" \",\" \",\" \",\" \",\" \",\" \",\" \",\" \",\" \",\" \",\" \",\" \",\" \",\" \",\" \",\" \",\" \",\" \",\" \",\" \",\" \",\" \",\" \",\" \",\" \",\" \",\" \",\" \",\" \",\" \",\" \",\" \",\" \",\" \",\" \",\" \",\" \",\" \",\" \",\" \",\" \",\" \",\" \",\" \",\" \",\" \",\" \",\" \",\" \",\" \",\" \",\" \",\" \",\" \",\" \",\" \",\" \",\" \",\" \",\" \",\" \",\" \",\" \",\" \",\" \",\" \",\" \",\" \",\" \",\" \",\" \",\" \",\" \",\" \",\" \",\" \",\" \",\" \",\" \",\" \",\" \",\" \",\" \",\" \",\" \",\" \",\" \",\" \",\" \",\" \",\" \",\" \",\" \",\" \",\" \",\" \",\" \",\" \",\" \",\" \",\" \",\" \",\" \",\" \",\" \",\" \",\" \",\" \",\" \",\" \",\" \",\" \",\" \",\" \",\" \",\" \",\" \",\" \",\" \",\" \",\" \",\" \",\" \",\" \",\" \",\" \",\" \",\" \",\" \",\" \",\" \",\" \",\" \",\" \",\" \",\" \",\" \",\" \",\" \",\" \",\" \",\" \",\" \",\" \",\" \",\" \",\" \",\" \",\" \",\" \",\" \",\" \",\" \",\" \",\" \",\" \",\" \",\" \",\" \",\" \",\" \",\" \",\" \",\" \",\" \",\" \",\" \",\" \",\" \",\" \",\" \",\" \",\" \",\" \",\" \",\" \",\" \",\" \",\" \",\" \",\" \",\" \",\" \",\" \",\" \",\" \",\" \",\" \",\" \",\" \",\" \",\" \",\" \",\" \",\" \",\" \",\" \",\" \",\" \",\" \",\" \",\" \",\" \",\" \",\" \",\" \",\" \",\" \",\" \",\" \",\" \",\" \",\" \",\" \",\" \",\" \",\" \",\" \",\" \",\" \",\" \",\" \",\" \",\" \",\" \",\" \",\" \",\" \",\" \",\" \",\" \",\" \",\" \",\" \",\" \",\" \",\" \",\" \",\" \",\" \",\" \",\" \",\" \",\" \",\" \",\" \",\" \",\" \",\" \",\" \",\" \",\" \",\" \",\" \",\" \",\" \",\" \",\" \",\" \",\" \",\" \",\" \",\" \",\" \",\" \",\" \",\" \",\" \",\" \",\" \",\" \",\" \",\" \",\" \",\" \",\" \",\" \",\" \",\" \",\" \",\" \",\" \",\" \",\" \",\" \",\" \",\" \",\" \",\" \",\" \",\" \",\" \",\" \",\" \",\" \",\" \",\" \",\" \",\" \",\" \",\" \",\" \",\" \",\" \",\" \",\" \",\" \",\" \",\" \",\" \",\" \",\" \",\" \",\" \",\" \",\" \",\" \",\" \",\" \",\" \",\" \",\" \",\" \",\" \",\" \",\" \",\" \",\" \",\" \",\" \",\" \",\" \",\" \",\" \",\" \",\" \",\" \",\" \",\" \",\" \",\" \",\" \",\" \",\" \",\" \",\" \",\" \",\" \",\" \",\" \",\" \",\" \",\" \",\" \",\" \",\" \",\" \",\" \",\" \",\" \",\" \",\" \",\" \",\" \",\" \",\" \",\" \",\" \",\" \",\" \",\" \",\" \",\" \",\" \",\" \",\" \",\" \",\" \",\" \",\" \",\" \",\" \",\" \",\" \",\" \",\" \",\" \",\" \",\" \",\" \",\" \",\" \",\" \",\" \",\" \",\" \",\" \",\" \",\" \",\" \",\" \",\" \",\" \",\" \",\" \",\" \",\" \",\" \",\" \",\" \",\" \",\" \",\" \",\" \",\" \",\" \",\" \",\" \",\" \",\" \",\" \",\" \",\" \",\" \",\" \",\" \",\" \",\" \",\" \",\" \",\" \",\" \",\" \",\" \",\" \",\" \",\" \",\" \",\" \",\" \",\" \",\" \",\" \",\" \",\" \",\" \",\" \",\" \",\" \",\" \",\" \",\" \",\" \",\" \",\" \",\" \",\" \",\" \",\" \",\" \",\" \",\" \",\" \",\" \",\" \",\" \",\" \",\" \",\" \",\" \",\" \",\" \",\" \",\" \",\" \",\" \",\" \",\" \",\" \",\" \",\" \",\" \",\" \",\" \",\" \",\" \",\" \",\" \",\" \",\" \",\" \",\" \",\" \",\" \",\" \",\" \",\" \",\" \",\" \",\" \",\" \",\" \",\" \",\" \",\" \",\" \",\" \",\" \",\" \",\" \",\" \",\" \",\" \",\" \",\" \",\" \",\" \",\" \",\" \",\" \",\" \",\" \",\" \",\" \",\" \",\" \",\" \",\" \",\" \",\" \",\" \",\" \",\" \",\" \",\" \",\" \",\" \",\" \",\" \",\" \",\" \",\" \",\" \",\" \",\" \",\" \",\" \",\" \",\" \",\" \",\" \",\" \",\" \",\" \",\" \",\" \",\" \",\" \",\" \",\" \",\" \",\" \",\" \",\" \",\" \",\" \",\" \",\" \",\" \",\" \",\" \",\" \",\" \",\" \",\" \",\" \",\" \",\" \",\" \",\" \",\" \",\" \",\" \",\" \",\" \",\" \",\" \",\" \",\" \",\" \",\" \",\" \",\" \",\" \",\" \",\" \",\" \",\" \",\" \",\" \",\" \",\" \",\" \",\" \",\" \",\" \",\" \",\" \",\" \",\" \",\" \",\" \",\" \",\" \",\" \",\" \",\" \",\" \",\" \",\" \",\" \",\" \",\" \",\" \",\" \",\" \",\" \",\" \",\" \",\" \",\" \",\" \",\" \",\" \",\" \",\" \",\" \",\" \",\" \",\" \",\" \",\" \",\" \",\" \",\" \",\" \",\" \",\" \",\" \",\" \",\" \",\" \",\" \",\" \",\" \",\" \",\" \",\" \",\" \",\" \",\" \",\" \",\" \",\" \",\" \",\" \",\" \",\" \",\" \",\" \",\" \",\" \",\" \",\" \",\" \",\" \",\" \",\" \",\" \",\" \",\" \",\" \",\" \",\" \",\" \",\" \",\" \",\" \",\" \",\" \",\" \",\" \",\" \",\" \",\" \",\" \",\" \",\" \",\" \",\" \",\" \",\" \",\" \",\" \",\" \",\" \",\" \",\" \",\" \",\" \",\" \",\" \",\" \",\" \",\" \",\" \",\" \",\" \",\" \",\" \",\" \",\" \",\" \",\" \",\" \",\" \",\" \",\" \",\" \",\" \",\" \",\" \",\" \",\" \",\" \",\" \",\" \",\" \",\" \",\" \",\" \",\" \",\" \",\" \",\" \",\" \",\" \",\" \",\" \",\" \",\" \",\" \",\" \",\" \",\" \",\" \",\" \",\" \",\" \",\" \",\" \",\" \",\" \",\" \",\" \",\" \",\" \",\" \",\" \",\" \",\" \",\" \",\" \",\" \",\" \",\" \",\" \",\" \",\" \",\" \",\" \",\" \",\" \",\" \",\" \",\" \",\" \",\" \",\" \",\" \",\" \",\" \",\" \",\" \",\" \",\" \",\" \",\" \",\" \",\" \",\" \",\" \",\" \",\" \",\" \",\" \",\" \",\" \",\" \",\" \",\" \",\" \",\" \",\" \",\" \",\" \",\" \",\" \",\" \",\" \",\" \",\" \",\" \",\" \",\" \",\" \",\" \",\" \",\" \",\" \",\" \",\" \",\" \",\" \",\" \",\" \",\" \",\" \",\" \",\" \",\" \",\" \",\" \",\" \",\" \",\" \",\" \"]]]}}},\"view\":{\"type\":\"object\",\"name\":\"CDSView\",\"id\":\"p1099\",\"attributes\":{\"filter\":{\"type\":\"object\",\"name\":\"AllIndices\",\"id\":\"p1100\"}}},\"glyph\":{\"type\":\"object\",\"name\":\"Scatter\",\"id\":\"p1095\",\"attributes\":{\"x\":{\"type\":\"field\",\"field\":\"arrival_times\"},\"y\":{\"type\":\"field\",\"field\":\"cat\"},\"size\":{\"type\":\"value\",\"value\":68.75},\"angle\":{\"type\":\"value\",\"value\":1.5707963267948966},\"line_color\":{\"type\":\"field\",\"field\":\"cat\",\"transform\":{\"type\":\"object\",\"name\":\"CategoricalColorMapper\",\"id\":\"p1088\",\"attributes\":{\"palette\":[\"#1f77b3\",\"#ff7e0e\",\"#2ba02b\",\"#d62628\",\"#9367bc\",\"#8c564b\",\"#e277c1\",\"#7e7e7e\",\"#bcbc21\",\"#16bdcf\",\"#3a0182\",\"#004201\",\"#0fffa8\",\"#5d003f\",\"#bcbcff\",\"#d8afa1\",\"#b80080\",\"#004d52\",\"#6b6400\",\"#7c0100\",\"#6026ff\",\"#ffff9a\",\"#564964\",\"#8cb893\",\"#93fbff\",\"#018267\",\"#90ff00\",\"#8200a0\",\"#ac8944\",\"#5b3400\",\"#ffbff2\",\"#ff6e75\",\"#798cff\",\"#dd00ff\",\"#505646\",\"#004489\",\"#ffbf60\",\"#ff018c\",\"#bdc8cf\",\"#af97b5\",\"#b65600\",\"#017000\",\"#cd87ff\",\"#1cd646\",\"#bfebc3\",\"#7997b5\",\"#a56089\",\"#6e8956\",\"#bc7c75\",\"#8a2844\",\"#00acff\",\"#8ed4ff\",\"#4b6d77\",\"#00d4b1\",\"#9300f2\",\"#8a9500\",\"#5d5b9e\",\"#fddfba\",\"#00939e\",\"#ffdb00\",\"#00aa79\",\"#520067\",\"#000091\",\"#0a5d3d\",\"#a5e275\",\"#623b41\",\"#c6c689\",\"#ff9eb5\",\"#cd4f6b\",\"#ff07d6\",\"#8a3a05\",\"#7e3d70\",\"#ff4901\",\"#602ba5\",\"#1c00ff\",\"#e6dfff\",\"#aa3baf\",\"#d89c00\",\"#a3a39e\",\"#3f69ff\",\"#46490c\",\"#7b6985\",\"#6b978c\",\"#ff9a75\",\"#835bff\",\"#7c6b46\",\"#80b654\",\"#bc0049\",\"#fd93ff\",\"#5d0018\",\"#89d1d1\",\"#9c8cd3\",\"#da6d42\",\"#8a5700\",\"#3b5069\",\"#4b6b3b\",\"#edcfd8\",\"#cfedff\",\"#aa1500\",\"#dfff4f\",\"#ff2a56\",\"#d1499e\",\"#707cb8\",\"#598000\",\"#00e4fd\",\"#774b95\",\"#67d48c\",\"#3d3a72\",\"#ac413f\",\"#d6a166\",\"#c169cd\",\"#69595d\",\"#87aced\",\"#a0a569\",\"#d1aae6\",\"#870062\",\"#00fddb\",\"#672818\",\"#b342ff\",\"#0e59c4\",\"#168742\",\"#90d300\",\"#cd7900\",\"#f959ff\",\"#5b7466\",\"#8eaeb3\",\"#9c7c8c\",\"#4600c6\",\"#6b4d2d\",\"#a56d46\",\"#9e8972\",\"#a8afca\",\"#cd8ca7\",\"#00fd64\",\"#917900\",\"#ff62a1\",\"#f4ffd8\",\"#018cf0\",\"#13aca0\",\"#5b2d59\",\"#89859e\",\"#cfccba\",\"#d4afc4\",\"#dbdd6d\",\"#cffff4\",\"#006485\",\"#006962\",\"#a84167\",\"#2d97c4\",\"#a874ff\",\"#26ba5d\",\"#57b600\",\"#caffa7\",\"#a379aa\",\"#ffbc93\",\"#89e2c1\",\"#0fc8ff\",\"#d400c4\",\"#626d89\",\"#69858e\",\"#4b4d52\",\"#aa6067\",\"#79b5d4\",\"#2b5916\",\"#9a0024\",\"#bdd1f2\",\"#896e67\",\"#69a56b\",\"#855467\",\"#aecdba\",\"#87997e\",\"#cadb00\",\"#9a0390\",\"#ebbc1a\",\"#eb9cd1\",\"#70006e\",\"#b1a131\",\"#ca6b93\",\"#4146a3\",\"#e48c89\",\"#d44400\",\"#c68aca\",\"#b69597\",\"#d41f75\",\"#724bcc\",\"#674d00\",\"#672138\",\"#38564f\",\"#6ebaaa\",\"#853a31\",\"#a5d397\",\"#b8af8e\",\"#d8e4df\",\"#aa00df\",\"#cac1db\",\"#ffdf8c\",\"#e2524d\",\"#66696e\",\"#ff001c\",\"#522d72\",\"#4d906b\",\"#a86d11\",\"#ff9e26\",\"#5ea3af\",\"#c88556\",\"#915997\",\"#a3a1ff\",\"#fdbaba\",\"#242a87\",\"#dbe6a8\",\"#97f2a7\",\"#6793d6\",\"#ba5b3f\",\"#3a5d91\",\"#364f2f\",\"#267c95\",\"#89959a\",\"#cfb356\",\"#004664\",\"#5e5d2f\",\"#8e8e41\",\"#ac3f13\",\"#69953b\",\"#a13d85\",\"#bfb6ba\",\"#acc667\",\"#6469cf\",\"#91af00\",\"#2be2da\",\"#016e36\",\"#ff7952\",\"#42807e\",\"#4fe800\",\"#995428\",\"#5d0a00\",\"#a30057\",\"#0c8700\",\"#5982a7\",\"#ffebfb\",\"#4b6901\",\"#8775d4\",\"#e6c6ff\",\"#a5ffda\",\"#d86e77\",\"#df014b\",\"#69675b\",\"#776ba1\",\"#7e8067\",\"#594685\",\"#0000ca\",\"#7c002a\",\"#97ff72\",\"#b5e2e1\",\"#db52c8\",\"#777734\",\"#57bd8e\"],\"factors\":[\" \"]}}},\"line_alpha\":{\"type\":\"value\",\"value\":0.3},\"fill_color\":{\"type\":\"field\",\"field\":\"cat\",\"transform\":{\"type\":\"object\",\"name\":\"CategoricalColorMapper\",\"id\":\"p1087\",\"attributes\":{\"palette\":[\"#1f77b3\",\"#ff7e0e\",\"#2ba02b\",\"#d62628\",\"#9367bc\",\"#8c564b\",\"#e277c1\",\"#7e7e7e\",\"#bcbc21\",\"#16bdcf\",\"#3a0182\",\"#004201\",\"#0fffa8\",\"#5d003f\",\"#bcbcff\",\"#d8afa1\",\"#b80080\",\"#004d52\",\"#6b6400\",\"#7c0100\",\"#6026ff\",\"#ffff9a\",\"#564964\",\"#8cb893\",\"#93fbff\",\"#018267\",\"#90ff00\",\"#8200a0\",\"#ac8944\",\"#5b3400\",\"#ffbff2\",\"#ff6e75\",\"#798cff\",\"#dd00ff\",\"#505646\",\"#004489\",\"#ffbf60\",\"#ff018c\",\"#bdc8cf\",\"#af97b5\",\"#b65600\",\"#017000\",\"#cd87ff\",\"#1cd646\",\"#bfebc3\",\"#7997b5\",\"#a56089\",\"#6e8956\",\"#bc7c75\",\"#8a2844\",\"#00acff\",\"#8ed4ff\",\"#4b6d77\",\"#00d4b1\",\"#9300f2\",\"#8a9500\",\"#5d5b9e\",\"#fddfba\",\"#00939e\",\"#ffdb00\",\"#00aa79\",\"#520067\",\"#000091\",\"#0a5d3d\",\"#a5e275\",\"#623b41\",\"#c6c689\",\"#ff9eb5\",\"#cd4f6b\",\"#ff07d6\",\"#8a3a05\",\"#7e3d70\",\"#ff4901\",\"#602ba5\",\"#1c00ff\",\"#e6dfff\",\"#aa3baf\",\"#d89c00\",\"#a3a39e\",\"#3f69ff\",\"#46490c\",\"#7b6985\",\"#6b978c\",\"#ff9a75\",\"#835bff\",\"#7c6b46\",\"#80b654\",\"#bc0049\",\"#fd93ff\",\"#5d0018\",\"#89d1d1\",\"#9c8cd3\",\"#da6d42\",\"#8a5700\",\"#3b5069\",\"#4b6b3b\",\"#edcfd8\",\"#cfedff\",\"#aa1500\",\"#dfff4f\",\"#ff2a56\",\"#d1499e\",\"#707cb8\",\"#598000\",\"#00e4fd\",\"#774b95\",\"#67d48c\",\"#3d3a72\",\"#ac413f\",\"#d6a166\",\"#c169cd\",\"#69595d\",\"#87aced\",\"#a0a569\",\"#d1aae6\",\"#870062\",\"#00fddb\",\"#672818\",\"#b342ff\",\"#0e59c4\",\"#168742\",\"#90d300\",\"#cd7900\",\"#f959ff\",\"#5b7466\",\"#8eaeb3\",\"#9c7c8c\",\"#4600c6\",\"#6b4d2d\",\"#a56d46\",\"#9e8972\",\"#a8afca\",\"#cd8ca7\",\"#00fd64\",\"#917900\",\"#ff62a1\",\"#f4ffd8\",\"#018cf0\",\"#13aca0\",\"#5b2d59\",\"#89859e\",\"#cfccba\",\"#d4afc4\",\"#dbdd6d\",\"#cffff4\",\"#006485\",\"#006962\",\"#a84167\",\"#2d97c4\",\"#a874ff\",\"#26ba5d\",\"#57b600\",\"#caffa7\",\"#a379aa\",\"#ffbc93\",\"#89e2c1\",\"#0fc8ff\",\"#d400c4\",\"#626d89\",\"#69858e\",\"#4b4d52\",\"#aa6067\",\"#79b5d4\",\"#2b5916\",\"#9a0024\",\"#bdd1f2\",\"#896e67\",\"#69a56b\",\"#855467\",\"#aecdba\",\"#87997e\",\"#cadb00\",\"#9a0390\",\"#ebbc1a\",\"#eb9cd1\",\"#70006e\",\"#b1a131\",\"#ca6b93\",\"#4146a3\",\"#e48c89\",\"#d44400\",\"#c68aca\",\"#b69597\",\"#d41f75\",\"#724bcc\",\"#674d00\",\"#672138\",\"#38564f\",\"#6ebaaa\",\"#853a31\",\"#a5d397\",\"#b8af8e\",\"#d8e4df\",\"#aa00df\",\"#cac1db\",\"#ffdf8c\",\"#e2524d\",\"#66696e\",\"#ff001c\",\"#522d72\",\"#4d906b\",\"#a86d11\",\"#ff9e26\",\"#5ea3af\",\"#c88556\",\"#915997\",\"#a3a1ff\",\"#fdbaba\",\"#242a87\",\"#dbe6a8\",\"#97f2a7\",\"#6793d6\",\"#ba5b3f\",\"#3a5d91\",\"#364f2f\",\"#267c95\",\"#89959a\",\"#cfb356\",\"#004664\",\"#5e5d2f\",\"#8e8e41\",\"#ac3f13\",\"#69953b\",\"#a13d85\",\"#bfb6ba\",\"#acc667\",\"#6469cf\",\"#91af00\",\"#2be2da\",\"#016e36\",\"#ff7952\",\"#42807e\",\"#4fe800\",\"#995428\",\"#5d0a00\",\"#a30057\",\"#0c8700\",\"#5982a7\",\"#ffebfb\",\"#4b6901\",\"#8775d4\",\"#e6c6ff\",\"#a5ffda\",\"#d86e77\",\"#df014b\",\"#69675b\",\"#776ba1\",\"#7e8067\",\"#594685\",\"#0000ca\",\"#7c002a\",\"#97ff72\",\"#b5e2e1\",\"#db52c8\",\"#777734\",\"#57bd8e\"],\"factors\":[\" \"]}}},\"fill_alpha\":{\"type\":\"value\",\"value\":0.3},\"hatch_alpha\":{\"type\":\"value\",\"value\":0.3},\"marker\":{\"type\":\"value\",\"value\":\"dash\"}}},\"nonselection_glyph\":{\"type\":\"object\",\"name\":\"Scatter\",\"id\":\"p1096\",\"attributes\":{\"x\":{\"type\":\"field\",\"field\":\"arrival_times\"},\"y\":{\"type\":\"field\",\"field\":\"cat\"},\"size\":{\"type\":\"value\",\"value\":68.75},\"angle\":{\"type\":\"value\",\"value\":1.5707963267948966},\"line_color\":{\"type\":\"field\",\"field\":\"cat\",\"transform\":{\"id\":\"p1088\"}},\"line_alpha\":{\"type\":\"value\",\"value\":0.1},\"fill_color\":{\"type\":\"field\",\"field\":\"cat\",\"transform\":{\"id\":\"p1087\"}},\"fill_alpha\":{\"type\":\"value\",\"value\":0.1},\"hatch_alpha\":{\"type\":\"value\",\"value\":0.1},\"marker\":{\"type\":\"value\",\"value\":\"dash\"}}},\"muted_glyph\":{\"type\":\"object\",\"name\":\"Scatter\",\"id\":\"p1097\",\"attributes\":{\"x\":{\"type\":\"field\",\"field\":\"arrival_times\"},\"y\":{\"type\":\"field\",\"field\":\"cat\"},\"size\":{\"type\":\"value\",\"value\":68.75},\"angle\":{\"type\":\"value\",\"value\":1.5707963267948966},\"line_color\":{\"type\":\"field\",\"field\":\"cat\",\"transform\":{\"id\":\"p1088\"}},\"line_alpha\":{\"type\":\"value\",\"value\":0.2},\"fill_color\":{\"type\":\"field\",\"field\":\"cat\",\"transform\":{\"id\":\"p1087\"}},\"fill_alpha\":{\"type\":\"value\",\"value\":0.2},\"hatch_alpha\":{\"type\":\"value\",\"value\":0.2},\"marker\":{\"type\":\"value\",\"value\":\"dash\"}}}}}],\"toolbar\":{\"type\":\"object\",\"name\":\"Toolbar\",\"id\":\"p1060\",\"attributes\":{\"tools\":[{\"type\":\"object\",\"name\":\"PanTool\",\"id\":\"p1074\"},{\"type\":\"object\",\"name\":\"WheelZoomTool\",\"id\":\"p1075\",\"attributes\":{\"renderers\":\"auto\"}},{\"type\":\"object\",\"name\":\"BoxZoomTool\",\"id\":\"p1076\",\"attributes\":{\"overlay\":{\"type\":\"object\",\"name\":\"BoxAnnotation\",\"id\":\"p1077\",\"attributes\":{\"syncable\":false,\"line_color\":\"black\",\"line_alpha\":1.0,\"line_width\":2,\"line_dash\":[4,4],\"fill_color\":\"lightgrey\",\"fill_alpha\":0.5,\"level\":\"overlay\",\"visible\":false,\"left\":{\"type\":\"number\",\"value\":\"nan\"},\"right\":{\"type\":\"number\",\"value\":\"nan\"},\"top\":{\"type\":\"number\",\"value\":\"nan\"},\"bottom\":{\"type\":\"number\",\"value\":\"nan\"},\"left_units\":\"canvas\",\"right_units\":\"canvas\",\"top_units\":\"canvas\",\"bottom_units\":\"canvas\",\"handles\":{\"type\":\"object\",\"name\":\"BoxInteractionHandles\",\"id\":\"p1083\",\"attributes\":{\"all\":{\"type\":\"object\",\"name\":\"AreaVisuals\",\"id\":\"p1082\",\"attributes\":{\"fill_color\":\"white\",\"hover_fill_color\":\"lightgray\"}}}}}}}},{\"type\":\"object\",\"name\":\"SaveTool\",\"id\":\"p1084\"},{\"type\":\"object\",\"name\":\"ResetTool\",\"id\":\"p1085\"},{\"type\":\"object\",\"name\":\"HelpTool\",\"id\":\"p1086\"}]}},\"toolbar_location\":\"above\",\"left\":[{\"type\":\"object\",\"name\":\"CategoricalAxis\",\"id\":\"p1069\",\"attributes\":{\"ticker\":{\"type\":\"object\",\"name\":\"CategoricalTicker\",\"id\":\"p1070\"},\"formatter\":{\"type\":\"object\",\"name\":\"CategoricalTickFormatter\",\"id\":\"p1071\"},\"major_label_policy\":{\"type\":\"object\",\"name\":\"AllLabels\",\"id\":\"p1072\"}}}],\"below\":[{\"type\":\"object\",\"name\":\"LinearAxis\",\"id\":\"p1064\",\"attributes\":{\"ticker\":{\"type\":\"object\",\"name\":\"BasicTicker\",\"id\":\"p1065\",\"attributes\":{\"mantissas\":[1,2,5]}},\"formatter\":{\"type\":\"object\",\"name\":\"BasicTickFormatter\",\"id\":\"p1066\"},\"axis_label\":\"arrival_times\",\"major_label_policy\":{\"type\":\"object\",\"name\":\"AllLabels\",\"id\":\"p1067\"}}}],\"center\":[{\"type\":\"object\",\"name\":\"Grid\",\"id\":\"p1068\",\"attributes\":{\"axis\":{\"id\":\"p1064\"}}},{\"type\":\"object\",\"name\":\"Grid\",\"id\":\"p1073\",\"attributes\":{\"dimension\":1,\"axis\":{\"id\":\"p1069\"},\"grid_line_color\":null}}],\"frame_width\":375,\"frame_height\":275}}],\"defs\":[{\"type\":\"model\",\"name\":\"ReactiveHTML1\"},{\"type\":\"model\",\"name\":\"FlexBox1\",\"properties\":[{\"name\":\"align_content\",\"kind\":\"Any\",\"default\":\"flex-start\"},{\"name\":\"align_items\",\"kind\":\"Any\",\"default\":\"flex-start\"},{\"name\":\"flex_direction\",\"kind\":\"Any\",\"default\":\"row\"},{\"name\":\"flex_wrap\",\"kind\":\"Any\",\"default\":\"wrap\"},{\"name\":\"gap\",\"kind\":\"Any\",\"default\":\"\"},{\"name\":\"justify_content\",\"kind\":\"Any\",\"default\":\"flex-start\"}]},{\"type\":\"model\",\"name\":\"FloatPanel1\",\"properties\":[{\"name\":\"config\",\"kind\":\"Any\",\"default\":{\"type\":\"map\"}},{\"name\":\"contained\",\"kind\":\"Any\",\"default\":true},{\"name\":\"position\",\"kind\":\"Any\",\"default\":\"right-top\"},{\"name\":\"offsetx\",\"kind\":\"Any\",\"default\":null},{\"name\":\"offsety\",\"kind\":\"Any\",\"default\":null},{\"name\":\"theme\",\"kind\":\"Any\",\"default\":\"primary\"},{\"name\":\"status\",\"kind\":\"Any\",\"default\":\"normalized\"}]},{\"type\":\"model\",\"name\":\"GridStack1\",\"properties\":[{\"name\":\"mode\",\"kind\":\"Any\",\"default\":\"warn\"},{\"name\":\"ncols\",\"kind\":\"Any\",\"default\":null},{\"name\":\"nrows\",\"kind\":\"Any\",\"default\":null},{\"name\":\"allow_resize\",\"kind\":\"Any\",\"default\":true},{\"name\":\"allow_drag\",\"kind\":\"Any\",\"default\":true},{\"name\":\"state\",\"kind\":\"Any\",\"default\":[]}]},{\"type\":\"model\",\"name\":\"drag1\",\"properties\":[{\"name\":\"slider_width\",\"kind\":\"Any\",\"default\":5},{\"name\":\"slider_color\",\"kind\":\"Any\",\"default\":\"black\"},{\"name\":\"value\",\"kind\":\"Any\",\"default\":50}]},{\"type\":\"model\",\"name\":\"click1\",\"properties\":[{\"name\":\"terminal_output\",\"kind\":\"Any\",\"default\":\"\"},{\"name\":\"debug_name\",\"kind\":\"Any\",\"default\":\"\"},{\"name\":\"clears\",\"kind\":\"Any\",\"default\":0}]},{\"type\":\"model\",\"name\":\"FastWrapper1\",\"properties\":[{\"name\":\"object\",\"kind\":\"Any\",\"default\":null},{\"name\":\"style\",\"kind\":\"Any\",\"default\":null}]},{\"type\":\"model\",\"name\":\"NotificationAreaBase1\",\"properties\":[{\"name\":\"js_events\",\"kind\":\"Any\",\"default\":{\"type\":\"map\"}},{\"name\":\"position\",\"kind\":\"Any\",\"default\":\"bottom-right\"},{\"name\":\"_clear\",\"kind\":\"Any\",\"default\":0}]},{\"type\":\"model\",\"name\":\"NotificationArea1\",\"properties\":[{\"name\":\"js_events\",\"kind\":\"Any\",\"default\":{\"type\":\"map\"}},{\"name\":\"notifications\",\"kind\":\"Any\",\"default\":[]},{\"name\":\"position\",\"kind\":\"Any\",\"default\":\"bottom-right\"},{\"name\":\"_clear\",\"kind\":\"Any\",\"default\":0},{\"name\":\"types\",\"kind\":\"Any\",\"default\":[{\"type\":\"map\",\"entries\":[[\"type\",\"warning\"],[\"background\",\"#ffc107\"],[\"icon\",{\"type\":\"map\",\"entries\":[[\"className\",\"fas fa-exclamation-triangle\"],[\"tagName\",\"i\"],[\"color\",\"white\"]]}]]},{\"type\":\"map\",\"entries\":[[\"type\",\"info\"],[\"background\",\"#007bff\"],[\"icon\",{\"type\":\"map\",\"entries\":[[\"className\",\"fas fa-info-circle\"],[\"tagName\",\"i\"],[\"color\",\"white\"]]}]]}]}]},{\"type\":\"model\",\"name\":\"Notification\",\"properties\":[{\"name\":\"background\",\"kind\":\"Any\",\"default\":null},{\"name\":\"duration\",\"kind\":\"Any\",\"default\":3000},{\"name\":\"icon\",\"kind\":\"Any\",\"default\":null},{\"name\":\"message\",\"kind\":\"Any\",\"default\":\"\"},{\"name\":\"notification_type\",\"kind\":\"Any\",\"default\":null},{\"name\":\"_rendered\",\"kind\":\"Any\",\"default\":false},{\"name\":\"_destroyed\",\"kind\":\"Any\",\"default\":false}]},{\"type\":\"model\",\"name\":\"TemplateActions1\",\"properties\":[{\"name\":\"open_modal\",\"kind\":\"Any\",\"default\":0},{\"name\":\"close_modal\",\"kind\":\"Any\",\"default\":0}]},{\"type\":\"model\",\"name\":\"BootstrapTemplateActions1\",\"properties\":[{\"name\":\"open_modal\",\"kind\":\"Any\",\"default\":0},{\"name\":\"close_modal\",\"kind\":\"Any\",\"default\":0}]},{\"type\":\"model\",\"name\":\"TemplateEditor1\",\"properties\":[{\"name\":\"layout\",\"kind\":\"Any\",\"default\":[]}]},{\"type\":\"model\",\"name\":\"MaterialTemplateActions1\",\"properties\":[{\"name\":\"open_modal\",\"kind\":\"Any\",\"default\":0},{\"name\":\"close_modal\",\"kind\":\"Any\",\"default\":0}]},{\"type\":\"model\",\"name\":\"ReactiveESM1\",\"properties\":[{\"name\":\"esm_constants\",\"kind\":\"Any\",\"default\":{\"type\":\"map\"}}]},{\"type\":\"model\",\"name\":\"JSComponent1\",\"properties\":[{\"name\":\"esm_constants\",\"kind\":\"Any\",\"default\":{\"type\":\"map\"}}]},{\"type\":\"model\",\"name\":\"ReactComponent1\",\"properties\":[{\"name\":\"esm_constants\",\"kind\":\"Any\",\"default\":{\"type\":\"map\"}}]},{\"type\":\"model\",\"name\":\"AnyWidgetComponent1\",\"properties\":[{\"name\":\"esm_constants\",\"kind\":\"Any\",\"default\":{\"type\":\"map\"}}]},{\"type\":\"model\",\"name\":\"request_value1\",\"properties\":[{\"name\":\"fill\",\"kind\":\"Any\",\"default\":\"none\"},{\"name\":\"_synced\",\"kind\":\"Any\",\"default\":null},{\"name\":\"_request_sync\",\"kind\":\"Any\",\"default\":0}]}]}};\n",
       "  const render_items = [{\"docid\":\"d0c99e3b-911b-4b45-936e-cf33c78c890c\",\"roots\":{\"p1052\":\"d7d11cc7-aaae-41dd-82d3-5bc87ab37826\"},\"root_ids\":[\"p1052\"]}];\n",
       "  void root.Bokeh.embed.embed_items_notebook(docs_json, render_items);\n",
       "  }\n",
       "  if (root.Bokeh !== undefined) {\n",
       "    embed_document(root);\n",
       "  } else {\n",
       "    let attempts = 0;\n",
       "    const timer = setInterval(function(root) {\n",
       "      if (root.Bokeh !== undefined) {\n",
       "        clearInterval(timer);\n",
       "        embed_document(root);\n",
       "      } else {\n",
       "        attempts++;\n",
       "        if (attempts > 100) {\n",
       "          clearInterval(timer);\n",
       "          console.log(\"Bokeh: ERROR: Unable to run BokehJS code because BokehJS library is missing\");\n",
       "        }\n",
       "      }\n",
       "    }, 10, root)\n",
       "  }\n",
       "})(window);"
      ],
      "application/vnd.bokehjs_exec.v0+json": ""
     },
     "metadata": {
      "application/vnd.bokehjs_exec.v0+json": {
       "id": "p1052"
      }
     },
     "output_type": "display_data"
    }
   ],
   "source": [
    "# Plot the arrivals\n",
    "p = iqplot.strip(\n",
    "    samples.posterior.arrival_times.squeeze(), \n",
    "    marker='dash', \n",
    "    marker_kwargs=dict(alpha=0.3),\n",
    "    x_range=[0, 500],\n",
    ")\n",
    "bokeh.io.show(p)"
   ]
  },
  {
   "cell_type": "markdown",
   "metadata": {},
   "source": [
    "Indeed, we do!\n",
    "\n",
    "To demonstrate that we are actually sampling out of the correct distribution, we can approximate the arrival rate by counting how many spikes arrive within each one-time-unit bin. To do that, we will get many more samples and then perform the binning and average the number of spikes that arrived in each bin for each sample.\n",
    "\n",
    "First, the samples...."
   ]
  },
  {
   "cell_type": "code",
   "execution_count": 7,
   "metadata": {},
   "outputs": [
    {
     "name": "stderr",
     "output_type": "stream",
     "text": [
      "01:50:24 - cmdstanpy - INFO - CmdStan start processing\n"
     ]
    },
    {
     "data": {
      "application/vnd.jupyter.widget-view+json": {
       "model_id": "ca70db61eb30424390bdba18447eb091",
       "version_major": 2,
       "version_minor": 0
      },
      "text/plain": [
       "chain 1 |          | 00:00 Status"
      ]
     },
     "metadata": {},
     "output_type": "display_data"
    },
    {
     "data": {
      "application/vnd.jupyter.widget-view+json": {
       "model_id": "1b8cd1041e77407fa15af3b19390d4c6",
       "version_major": 2,
       "version_minor": 0
      },
      "text/plain": [
       "chain 2 |          | 00:00 Status"
      ]
     },
     "metadata": {},
     "output_type": "display_data"
    },
    {
     "data": {
      "application/vnd.jupyter.widget-view+json": {
       "model_id": "bb24a2ca521f4ca7be681ba7968a9b8a",
       "version_major": 2,
       "version_minor": 0
      },
      "text/plain": [
       "chain 3 |          | 00:00 Status"
      ]
     },
     "metadata": {},
     "output_type": "display_data"
    },
    {
     "data": {
      "application/vnd.jupyter.widget-view+json": {
       "model_id": "1fadd989a5064139a14de383ba7db643",
       "version_major": 2,
       "version_minor": 0
      },
      "text/plain": [
       "chain 4 |          | 00:00 Status"
      ]
     },
     "metadata": {},
     "output_type": "display_data"
    },
    {
     "name": "stdout",
     "output_type": "stream",
     "text": [
      "                                                                                                                                                                                                                                                                                                                                "
     ]
    },
    {
     "name": "stderr",
     "output_type": "stream",
     "text": [
      "01:50:48 - cmdstanpy - INFO - CmdStan done processing.\n"
     ]
    },
    {
     "name": "stdout",
     "output_type": "stream",
     "text": [
      "\n"
     ]
    }
   ],
   "source": [
    "samples = sm.sample(data=data)\n",
    "\n",
    "# Convert to ArviZ InferenceData instance\n",
    "samples = az.from_cmdstanpy(posterior=samples)"
   ]
  },
  {
   "cell_type": "markdown",
   "metadata": {},
   "source": [
    "Now we can reshape the data, stacking all of the draws together in a single Numpy array."
   ]
  },
  {
   "cell_type": "code",
   "execution_count": 8,
   "metadata": {},
   "outputs": [],
   "source": [
    "arrival_times = samples.posterior.arrival_times.stack(\n",
    "        {'draws': ('chain', 'draw')}\n",
    ").values.transpose()"
   ]
  },
  {
   "cell_type": "markdown",
   "metadata": {},
   "source": [
    "Now we can compute the mean number of spikes per unit time in each one-time-unit bin."
   ]
  },
  {
   "cell_type": "code",
   "execution_count": 9,
   "metadata": {},
   "outputs": [],
   "source": [
    "# Compute bins and summing\n",
    "bins = np.arange(501)\n",
    "hists = []\n",
    "for spikes in arrival_times:\n",
    "    hist, _ = np.histogram(spikes, bins=bins)\n",
    "    hists.append(hist)\n",
    "\n",
    "# Compute average bin counts\n",
    "approx_rate = np.array(hists).mean(axis=0)"
   ]
  },
  {
   "cell_type": "markdown",
   "metadata": {},
   "source": [
    "To make the plot, it is useful to have a function that can convert bins-histogram values to $x$ and $y$ coordinates to plot a histogram."
   ]
  },
  {
   "cell_type": "code",
   "execution_count": 10,
   "metadata": {},
   "outputs": [],
   "source": [
    "def binshist_to_xy(bins, hist):\n",
    "    \"\"\"Convert bins/histogram data generated by np.histogram\n",
    "    to x-y values for plotting.\n",
    "\n",
    "    Parameters\n",
    "    ----------\n",
    "    bins : Numpy array\n",
    "        Edges of bins for histogram\n",
    "    hist : Numpy array\n",
    "        Values of histogram; len(hist) = len(bins) - 1.\n",
    "\n",
    "    Returns\n",
    "    -------\n",
    "    x : Numpy array, shape (2 * len(hist),)\n",
    "        x-values for plotting\n",
    "    y : Numpy array, shape (2 * len(hist),)\n",
    "        y-values for plotting\n",
    "    \"\"\"\n",
    "    # Quick check of input\n",
    "    if len(bins.shape) != 1 or len(hist.shape) != 1:\n",
    "        raise RuntimeError('`bins` and `hist` must both be 1D arrays.')\n",
    "    if len(bins) != len(hist) + 1:\n",
    "        raise RuntimeError('Must have `len(bins) = len(hist) + 1`.')\n",
    "    \n",
    "    # x-values are achieved by interleaving interior bin edges\n",
    "    # and then putting in the end binds\n",
    "    x = np.empty(2 * (len(bins) - 1))\n",
    "    x[1:-1:2] = bins[1:-1]\n",
    "    x[2:-1:2] = bins[1:-1]\n",
    "    x[0] = bins[0]\n",
    "    x[-1] = bins[-1]\n",
    "\n",
    "    # y-values are achieved by interleaving histogram values\n",
    "    y = np.empty(2 * len(hist))\n",
    "    y[::2] = hist\n",
    "    y[1::2] = hist\n",
    "\n",
    "    return x, y"
   ]
  },
  {
   "cell_type": "markdown",
   "metadata": {},
   "source": [
    "This this function in hand, we can make out plot!"
   ]
  },
  {
   "cell_type": "code",
   "execution_count": 11,
   "metadata": {},
   "outputs": [
    {
     "data": {
      "text/html": [
       "\n",
       "  <div id=\"b4aa4944-5be6-4162-afbd-f110e757f957\" data-root-id=\"p1101\" style=\"display: contents;\"></div>\n"
      ]
     },
     "metadata": {},
     "output_type": "display_data"
    },
    {
     "data": {
      "application/javascript": [
       "(function(root) {\n",
       "  function embed_document(root) {\n",
       "  const docs_json = {\"4a1ed567-7725-4923-b5e6-033132c1b022\":{\"version\":\"3.6.2\",\"title\":\"Bokeh Application\",\"roots\":[{\"type\":\"object\",\"name\":\"Figure\",\"id\":\"p1101\",\"attributes\":{\"x_range\":{\"type\":\"object\",\"name\":\"DataRange1d\",\"id\":\"p1102\"},\"y_range\":{\"type\":\"object\",\"name\":\"DataRange1d\",\"id\":\"p1103\"},\"x_scale\":{\"type\":\"object\",\"name\":\"LinearScale\",\"id\":\"p1110\"},\"y_scale\":{\"type\":\"object\",\"name\":\"LinearScale\",\"id\":\"p1111\"},\"title\":{\"type\":\"object\",\"name\":\"Title\",\"id\":\"p1108\"},\"renderers\":[{\"type\":\"object\",\"name\":\"GlyphRenderer\",\"id\":\"p1141\",\"attributes\":{\"data_source\":{\"type\":\"object\",\"name\":\"ColumnDataSource\",\"id\":\"p1135\",\"attributes\":{\"selected\":{\"type\":\"object\",\"name\":\"Selection\",\"id\":\"p1136\",\"attributes\":{\"indices\":[],\"line_indices\":[]}},\"selection_policy\":{\"type\":\"object\",\"name\":\"UnionRenderers\",\"id\":\"p1137\"},\"data\":{\"type\":\"map\",\"entries\":[[\"x\",{\"type\":\"ndarray\",\"array\":{\"type\":\"bytes\",\"data\":\"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\"},\"shape\":[1000],\"dtype\":\"float64\",\"order\":\"little\"}],[\"y\",{\"type\":\"ndarray\",\"array\":{\"type\":\"bytes\",\"data\":\"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\"},\"shape\":[1000],\"dtype\":\"float64\",\"order\":\"little\"}]]}}},\"view\":{\"type\":\"object\",\"name\":\"CDSView\",\"id\":\"p1142\",\"attributes\":{\"filter\":{\"type\":\"object\",\"name\":\"AllIndices\",\"id\":\"p1143\"}}},\"glyph\":{\"type\":\"object\",\"name\":\"Line\",\"id\":\"p1138\",\"attributes\":{\"x\":{\"type\":\"field\",\"field\":\"x\"},\"y\":{\"type\":\"field\",\"field\":\"y\"},\"line_color\":\"#1f77b4\"}},\"nonselection_glyph\":{\"type\":\"object\",\"name\":\"Line\",\"id\":\"p1139\",\"attributes\":{\"x\":{\"type\":\"field\",\"field\":\"x\"},\"y\":{\"type\":\"field\",\"field\":\"y\"},\"line_color\":\"#1f77b4\",\"line_alpha\":0.1}},\"muted_glyph\":{\"type\":\"object\",\"name\":\"Line\",\"id\":\"p1140\",\"attributes\":{\"x\":{\"type\":\"field\",\"field\":\"x\"},\"y\":{\"type\":\"field\",\"field\":\"y\"},\"line_color\":\"#1f77b4\",\"line_alpha\":0.2}}}}],\"toolbar\":{\"type\":\"object\",\"name\":\"Toolbar\",\"id\":\"p1109\",\"attributes\":{\"tools\":[{\"type\":\"object\",\"name\":\"PanTool\",\"id\":\"p1122\"},{\"type\":\"object\",\"name\":\"WheelZoomTool\",\"id\":\"p1123\",\"attributes\":{\"renderers\":\"auto\"}},{\"type\":\"object\",\"name\":\"BoxZoomTool\",\"id\":\"p1124\",\"attributes\":{\"overlay\":{\"type\":\"object\",\"name\":\"BoxAnnotation\",\"id\":\"p1125\",\"attributes\":{\"syncable\":false,\"line_color\":\"black\",\"line_alpha\":1.0,\"line_width\":2,\"line_dash\":[4,4],\"fill_color\":\"lightgrey\",\"fill_alpha\":0.5,\"level\":\"overlay\",\"visible\":false,\"left\":{\"type\":\"number\",\"value\":\"nan\"},\"right\":{\"type\":\"number\",\"value\":\"nan\"},\"top\":{\"type\":\"number\",\"value\":\"nan\"},\"bottom\":{\"type\":\"number\",\"value\":\"nan\"},\"left_units\":\"canvas\",\"right_units\":\"canvas\",\"top_units\":\"canvas\",\"bottom_units\":\"canvas\",\"handles\":{\"type\":\"object\",\"name\":\"BoxInteractionHandles\",\"id\":\"p1131\",\"attributes\":{\"all\":{\"type\":\"object\",\"name\":\"AreaVisuals\",\"id\":\"p1130\",\"attributes\":{\"fill_color\":\"white\",\"hover_fill_color\":\"lightgray\"}}}}}}}},{\"type\":\"object\",\"name\":\"SaveTool\",\"id\":\"p1132\"},{\"type\":\"object\",\"name\":\"ResetTool\",\"id\":\"p1133\"},{\"type\":\"object\",\"name\":\"HelpTool\",\"id\":\"p1134\"}]}},\"left\":[{\"type\":\"object\",\"name\":\"LinearAxis\",\"id\":\"p1117\",\"attributes\":{\"ticker\":{\"type\":\"object\",\"name\":\"BasicTicker\",\"id\":\"p1118\",\"attributes\":{\"mantissas\":[1,2,5]}},\"formatter\":{\"type\":\"object\",\"name\":\"BasicTickFormatter\",\"id\":\"p1119\"},\"axis_label\":\"beta\",\"major_label_policy\":{\"type\":\"object\",\"name\":\"AllLabels\",\"id\":\"p1120\"}}}],\"below\":[{\"type\":\"object\",\"name\":\"LinearAxis\",\"id\":\"p1112\",\"attributes\":{\"ticker\":{\"type\":\"object\",\"name\":\"BasicTicker\",\"id\":\"p1113\",\"attributes\":{\"mantissas\":[1,2,5]}},\"formatter\":{\"type\":\"object\",\"name\":\"BasicTickFormatter\",\"id\":\"p1114\"},\"axis_label\":\"time\",\"major_label_policy\":{\"type\":\"object\",\"name\":\"AllLabels\",\"id\":\"p1115\"}}}],\"center\":[{\"type\":\"object\",\"name\":\"Grid\",\"id\":\"p1116\",\"attributes\":{\"axis\":{\"id\":\"p1112\"}}},{\"type\":\"object\",\"name\":\"Grid\",\"id\":\"p1121\",\"attributes\":{\"dimension\":1,\"axis\":{\"id\":\"p1117\"}}}],\"frame_width\":500,\"frame_height\":200}}],\"defs\":[{\"type\":\"model\",\"name\":\"ReactiveHTML1\"},{\"type\":\"model\",\"name\":\"FlexBox1\",\"properties\":[{\"name\":\"align_content\",\"kind\":\"Any\",\"default\":\"flex-start\"},{\"name\":\"align_items\",\"kind\":\"Any\",\"default\":\"flex-start\"},{\"name\":\"flex_direction\",\"kind\":\"Any\",\"default\":\"row\"},{\"name\":\"flex_wrap\",\"kind\":\"Any\",\"default\":\"wrap\"},{\"name\":\"gap\",\"kind\":\"Any\",\"default\":\"\"},{\"name\":\"justify_content\",\"kind\":\"Any\",\"default\":\"flex-start\"}]},{\"type\":\"model\",\"name\":\"FloatPanel1\",\"properties\":[{\"name\":\"config\",\"kind\":\"Any\",\"default\":{\"type\":\"map\"}},{\"name\":\"contained\",\"kind\":\"Any\",\"default\":true},{\"name\":\"position\",\"kind\":\"Any\",\"default\":\"right-top\"},{\"name\":\"offsetx\",\"kind\":\"Any\",\"default\":null},{\"name\":\"offsety\",\"kind\":\"Any\",\"default\":null},{\"name\":\"theme\",\"kind\":\"Any\",\"default\":\"primary\"},{\"name\":\"status\",\"kind\":\"Any\",\"default\":\"normalized\"}]},{\"type\":\"model\",\"name\":\"GridStack1\",\"properties\":[{\"name\":\"mode\",\"kind\":\"Any\",\"default\":\"warn\"},{\"name\":\"ncols\",\"kind\":\"Any\",\"default\":null},{\"name\":\"nrows\",\"kind\":\"Any\",\"default\":null},{\"name\":\"allow_resize\",\"kind\":\"Any\",\"default\":true},{\"name\":\"allow_drag\",\"kind\":\"Any\",\"default\":true},{\"name\":\"state\",\"kind\":\"Any\",\"default\":[]}]},{\"type\":\"model\",\"name\":\"drag1\",\"properties\":[{\"name\":\"slider_width\",\"kind\":\"Any\",\"default\":5},{\"name\":\"slider_color\",\"kind\":\"Any\",\"default\":\"black\"},{\"name\":\"value\",\"kind\":\"Any\",\"default\":50}]},{\"type\":\"model\",\"name\":\"click1\",\"properties\":[{\"name\":\"terminal_output\",\"kind\":\"Any\",\"default\":\"\"},{\"name\":\"debug_name\",\"kind\":\"Any\",\"default\":\"\"},{\"name\":\"clears\",\"kind\":\"Any\",\"default\":0}]},{\"type\":\"model\",\"name\":\"FastWrapper1\",\"properties\":[{\"name\":\"object\",\"kind\":\"Any\",\"default\":null},{\"name\":\"style\",\"kind\":\"Any\",\"default\":null}]},{\"type\":\"model\",\"name\":\"NotificationAreaBase1\",\"properties\":[{\"name\":\"js_events\",\"kind\":\"Any\",\"default\":{\"type\":\"map\"}},{\"name\":\"position\",\"kind\":\"Any\",\"default\":\"bottom-right\"},{\"name\":\"_clear\",\"kind\":\"Any\",\"default\":0}]},{\"type\":\"model\",\"name\":\"NotificationArea1\",\"properties\":[{\"name\":\"js_events\",\"kind\":\"Any\",\"default\":{\"type\":\"map\"}},{\"name\":\"notifications\",\"kind\":\"Any\",\"default\":[]},{\"name\":\"position\",\"kind\":\"Any\",\"default\":\"bottom-right\"},{\"name\":\"_clear\",\"kind\":\"Any\",\"default\":0},{\"name\":\"types\",\"kind\":\"Any\",\"default\":[{\"type\":\"map\",\"entries\":[[\"type\",\"warning\"],[\"background\",\"#ffc107\"],[\"icon\",{\"type\":\"map\",\"entries\":[[\"className\",\"fas fa-exclamation-triangle\"],[\"tagName\",\"i\"],[\"color\",\"white\"]]}]]},{\"type\":\"map\",\"entries\":[[\"type\",\"info\"],[\"background\",\"#007bff\"],[\"icon\",{\"type\":\"map\",\"entries\":[[\"className\",\"fas fa-info-circle\"],[\"tagName\",\"i\"],[\"color\",\"white\"]]}]]}]}]},{\"type\":\"model\",\"name\":\"Notification\",\"properties\":[{\"name\":\"background\",\"kind\":\"Any\",\"default\":null},{\"name\":\"duration\",\"kind\":\"Any\",\"default\":3000},{\"name\":\"icon\",\"kind\":\"Any\",\"default\":null},{\"name\":\"message\",\"kind\":\"Any\",\"default\":\"\"},{\"name\":\"notification_type\",\"kind\":\"Any\",\"default\":null},{\"name\":\"_rendered\",\"kind\":\"Any\",\"default\":false},{\"name\":\"_destroyed\",\"kind\":\"Any\",\"default\":false}]},{\"type\":\"model\",\"name\":\"TemplateActions1\",\"properties\":[{\"name\":\"open_modal\",\"kind\":\"Any\",\"default\":0},{\"name\":\"close_modal\",\"kind\":\"Any\",\"default\":0}]},{\"type\":\"model\",\"name\":\"BootstrapTemplateActions1\",\"properties\":[{\"name\":\"open_modal\",\"kind\":\"Any\",\"default\":0},{\"name\":\"close_modal\",\"kind\":\"Any\",\"default\":0}]},{\"type\":\"model\",\"name\":\"TemplateEditor1\",\"properties\":[{\"name\":\"layout\",\"kind\":\"Any\",\"default\":[]}]},{\"type\":\"model\",\"name\":\"MaterialTemplateActions1\",\"properties\":[{\"name\":\"open_modal\",\"kind\":\"Any\",\"default\":0},{\"name\":\"close_modal\",\"kind\":\"Any\",\"default\":0}]},{\"type\":\"model\",\"name\":\"ReactiveESM1\",\"properties\":[{\"name\":\"esm_constants\",\"kind\":\"Any\",\"default\":{\"type\":\"map\"}}]},{\"type\":\"model\",\"name\":\"JSComponent1\",\"properties\":[{\"name\":\"esm_constants\",\"kind\":\"Any\",\"default\":{\"type\":\"map\"}}]},{\"type\":\"model\",\"name\":\"ReactComponent1\",\"properties\":[{\"name\":\"esm_constants\",\"kind\":\"Any\",\"default\":{\"type\":\"map\"}}]},{\"type\":\"model\",\"name\":\"AnyWidgetComponent1\",\"properties\":[{\"name\":\"esm_constants\",\"kind\":\"Any\",\"default\":{\"type\":\"map\"}}]},{\"type\":\"model\",\"name\":\"request_value1\",\"properties\":[{\"name\":\"fill\",\"kind\":\"Any\",\"default\":\"none\"},{\"name\":\"_synced\",\"kind\":\"Any\",\"default\":null},{\"name\":\"_request_sync\",\"kind\":\"Any\",\"default\":0}]}]}};\n",
       "  const render_items = [{\"docid\":\"4a1ed567-7725-4923-b5e6-033132c1b022\",\"roots\":{\"p1101\":\"b4aa4944-5be6-4162-afbd-f110e757f957\"},\"root_ids\":[\"p1101\"]}];\n",
       "  void root.Bokeh.embed.embed_items_notebook(docs_json, render_items);\n",
       "  }\n",
       "  if (root.Bokeh !== undefined) {\n",
       "    embed_document(root);\n",
       "  } else {\n",
       "    let attempts = 0;\n",
       "    const timer = setInterval(function(root) {\n",
       "      if (root.Bokeh !== undefined) {\n",
       "        clearInterval(timer);\n",
       "        embed_document(root);\n",
       "      } else {\n",
       "        attempts++;\n",
       "        if (attempts > 100) {\n",
       "          clearInterval(timer);\n",
       "          console.log(\"Bokeh: ERROR: Unable to run BokehJS code because BokehJS library is missing\");\n",
       "        }\n",
       "      }\n",
       "    }, 10, root)\n",
       "  }\n",
       "})(window);"
      ],
      "application/vnd.bokehjs_exec.v0+json": ""
     },
     "metadata": {
      "application/vnd.bokehjs_exec.v0+json": {
       "id": "p1101"
      }
     },
     "output_type": "display_data"
    }
   ],
   "source": [
    "p = bokeh.plotting.figure(\n",
    "    frame_width=500,\n",
    "    frame_height=200,\n",
    "    x_axis_label='time',\n",
    "    y_axis_label='beta',\n",
    ")\n",
    "p.line(*binshist_to_xy(bins, approx_rate))\n",
    "bokeh.io.show(p)"
   ]
  },
  {
   "cell_type": "markdown",
   "metadata": {},
   "source": [
    "Beautiful! Indeed we are sampling arrival times out of the correct nonhomogeneous Poisson process."
   ]
  },
  {
   "cell_type": "code",
   "execution_count": 12,
   "metadata": {},
   "outputs": [],
   "source": [
    "bebi103.stan.clean_cmdstan()"
   ]
  },
  {
   "cell_type": "markdown",
   "metadata": {},
   "source": [
    "## Computing environment"
   ]
  },
  {
   "cell_type": "code",
   "execution_count": 13,
   "metadata": {},
   "outputs": [
    {
     "name": "stdout",
     "output_type": "stream",
     "text": [
      "Python implementation: CPython\n",
      "Python version       : 3.12.9\n",
      "IPython version      : 9.1.0\n",
      "\n",
      "numpy     : 2.1.3\n",
      "cmdstanpy : 1.2.5\n",
      "arviz     : 0.21.0\n",
      "iqplot    : 0.3.7\n",
      "bebi103   : 0.1.27\n",
      "bokeh     : 3.6.2\n",
      "jupyterlab: 4.4.2\n",
      "\n",
      "cmdstan   : 2.36.0\n"
     ]
    }
   ],
   "source": [
    "%load_ext watermark\n",
    "%watermark -v -p numpy,cmdstanpy,arviz,iqplot,bebi103,bokeh,jupyterlab\n",
    "print(\"cmdstan   :\", bebi103.stan.cmdstan_version())"
   ]
  }
 ],
 "metadata": {
  "anaconda-cloud": {},
  "kernelspec": {
   "display_name": "Python 3 (ipykernel)",
   "language": "python",
   "name": "python3"
  },
  "language_info": {
   "codemirror_mode": {
    "name": "ipython",
    "version": 3
   },
   "file_extension": ".py",
   "mimetype": "text/x-python",
   "name": "python",
   "nbconvert_exporter": "python",
   "pygments_lexer": "ipython3",
   "version": "3.12.9"
  }
 },
 "nbformat": 4,
 "nbformat_minor": 4
}
