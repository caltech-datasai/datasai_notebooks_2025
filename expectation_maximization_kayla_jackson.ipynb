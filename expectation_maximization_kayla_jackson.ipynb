{
 "cells": [
  {
   "cell_type": "code",
   "execution_count": 1,
   "metadata": {
    "id": "e59njrIaRuVQ"
   },
   "outputs": [
    {
     "data": {
      "text/html": [
       "    <style>\n",
       "        .bk-notebook-logo {\n",
       "            display: block;\n",
       "            width: 20px;\n",
       "            height: 20px;\n",
       "            background-image: url(data:image/png;base64,iVBORw0KGgoAAAANSUhEUgAAABQAAAAUCAYAAACNiR0NAAAABHNCSVQICAgIfAhkiAAAAAlwSFlzAAALEgAACxIB0t1+/AAAABx0RVh0U29mdHdhcmUAQWRvYmUgRmlyZXdvcmtzIENTNui8sowAAAOkSURBVDiNjZRtaJVlGMd/1/08zzln5zjP1LWcU9N0NkN8m2CYjpgQYQXqSs0I84OLIC0hkEKoPtiH3gmKoiJDU7QpLgoLjLIQCpEsNJ1vqUOdO7ppbuec5+V+rj4ctwzd8IIbbi6u+8f1539dt3A78eXC7QizUF7gyV1fD1Yqg4JWz84yffhm0qkFqBogB9rM8tZdtwVsPUhWhGcFJngGeWrPzHm5oaMmkfEg1usvLFyc8jLRqDOMru7AyC8saQr7GG7f5fvDeH7Ej8CM66nIF+8yngt6HWaKh7k49Soy9nXurCi1o3qUbS3zWfrYeQDTB/Qj6kX6Ybhw4B+bOYoLKCC9H3Nu/leUTZ1JdRWkkn2ldcCamzrcf47KKXdAJllSlxAOkRgyHsGC/zRday5Qld9DyoM4/q/rUoy/CXh3jzOu3bHUVZeU+DEn8FInkPBFlu3+nW3Nw0mk6vCDiWg8CeJaxEwuHS3+z5RgY+YBR6V1Z1nxSOfoaPa4LASWxxdNp+VWTk7+4vzaou8v8PN+xo+KY2xsw6une2frhw05CTYOmQvsEhjhWjn0bmXPjpE1+kplmmkP3suftwTubK9Vq22qKmrBhpY4jvd5afdRA3wGjFAgcnTK2s4hY0/GPNIb0nErGMCRxWOOX64Z8RAC4oCXdklmEvcL8o0BfkNK4lUg9HTl+oPlQxdNo3Mg4Nv175e/1LDGzZen30MEjRUtmXSfiTVu1kK8W4txyV6BMKlbgk3lMwYCiusNy9fVfvvwMxv8Ynl6vxoByANLTWplvuj/nF9m2+PDtt1eiHPBr1oIfhCChQMBw6Aw0UulqTKZdfVvfG7VcfIqLG9bcldL/+pdWTLxLUy8Qq38heUIjh4XlzZxzQm19lLFlr8vdQ97rjZVOLf8nclzckbcD4wxXMidpX30sFd37Fv/GtwwhzhxGVAprjbg0gCAEeIgwCZyTV2Z1REEW8O4py0wsjeloKoMr6iCY6dP92H6Vw/oTyICIthibxjm/DfN9lVz8IqtqKYLUXfoKVMVQVVJOElGjrnnUt9T9wbgp8AyYKaGlqingHZU/uG2NTZSVqwHQTWkx9hxjkpWDaCg6Ckj5qebgBVbT3V3NNXMSiWSDdGV3hrtzla7J+duwPOToIg42ChPQOQjspnSlp1V+Gjdged7+8UN5CRAV7a5EdFNwCjEaBR27b3W890TE7g24NAP/mMDXRWrGoFPQI9ls/MWO2dWFAar/xcOIImbbpA3zgAAAABJRU5ErkJggg==);\n",
       "        }\n",
       "    </style>\n",
       "    <div>\n",
       "        <a href=\"https://bokeh.org\" target=\"_blank\" class=\"bk-notebook-logo\"></a>\n",
       "        <span id=\"c9930b4f-4c3c-4dd5-aef5-0adbb011bd7f\">Loading BokehJS ...</span>\n",
       "    </div>\n"
      ]
     },
     "metadata": {},
     "output_type": "display_data"
    },
    {
     "data": {
      "application/javascript": "'use strict';\n(function(root) {\n  function now() {\n    return new Date();\n  }\n\n  const force = true;\n\n  if (typeof root._bokeh_onload_callbacks === \"undefined\" || force === true) {\n    root._bokeh_onload_callbacks = [];\n    root._bokeh_is_loading = undefined;\n  }\n\nconst JS_MIME_TYPE = 'application/javascript';\n  const HTML_MIME_TYPE = 'text/html';\n  const EXEC_MIME_TYPE = 'application/vnd.bokehjs_exec.v0+json';\n  const CLASS_NAME = 'output_bokeh rendered_html';\n\n  /**\n   * Render data to the DOM node\n   */\n  function render(props, node) {\n    const script = document.createElement(\"script\");\n    node.appendChild(script);\n  }\n\n  /**\n   * Handle when an output is cleared or removed\n   */\n  function handleClearOutput(event, handle) {\n    function drop(id) {\n      const view = Bokeh.index.get_by_id(id)\n      if (view != null) {\n        view.model.document.clear()\n        Bokeh.index.delete(view)\n      }\n    }\n\n    const cell = handle.cell;\n\n    const id = cell.output_area._bokeh_element_id;\n    const server_id = cell.output_area._bokeh_server_id;\n\n    // Clean up Bokeh references\n    if (id != null) {\n      drop(id)\n    }\n\n    if (server_id !== undefined) {\n      // Clean up Bokeh references\n      const cmd_clean = \"from bokeh.io.state import curstate; print(curstate().uuid_to_server['\" + server_id + \"'].get_sessions()[0].document.roots[0]._id)\";\n      cell.notebook.kernel.execute(cmd_clean, {\n        iopub: {\n          output: function(msg) {\n            const id = msg.content.text.trim()\n            drop(id)\n          }\n        }\n      });\n      // Destroy server and session\n      const cmd_destroy = \"import bokeh.io.notebook as ion; ion.destroy_server('\" + server_id + \"')\";\n      cell.notebook.kernel.execute(cmd_destroy);\n    }\n  }\n\n  /**\n   * Handle when a new output is added\n   */\n  function handleAddOutput(event, handle) {\n    const output_area = handle.output_area;\n    const output = handle.output;\n\n    // limit handleAddOutput to display_data with EXEC_MIME_TYPE content only\n    if ((output.output_type != \"display_data\") || (!Object.prototype.hasOwnProperty.call(output.data, EXEC_MIME_TYPE))) {\n      return\n    }\n\n    const toinsert = output_area.element.find(\".\" + CLASS_NAME.split(' ')[0]);\n\n    if (output.metadata[EXEC_MIME_TYPE][\"id\"] !== undefined) {\n      toinsert[toinsert.length - 1].firstChild.textContent = output.data[JS_MIME_TYPE];\n      // store reference to embed id on output_area\n      output_area._bokeh_element_id = output.metadata[EXEC_MIME_TYPE][\"id\"];\n    }\n    if (output.metadata[EXEC_MIME_TYPE][\"server_id\"] !== undefined) {\n      const bk_div = document.createElement(\"div\");\n      bk_div.innerHTML = output.data[HTML_MIME_TYPE];\n      const script_attrs = bk_div.children[0].attributes;\n      for (let i = 0; i < script_attrs.length; i++) {\n        toinsert[toinsert.length - 1].firstChild.setAttribute(script_attrs[i].name, script_attrs[i].value);\n        toinsert[toinsert.length - 1].firstChild.textContent = bk_div.children[0].textContent\n      }\n      // store reference to server id on output_area\n      output_area._bokeh_server_id = output.metadata[EXEC_MIME_TYPE][\"server_id\"];\n    }\n  }\n\n  function register_renderer(events, OutputArea) {\n\n    function append_mime(data, metadata, element) {\n      // create a DOM node to render to\n      const toinsert = this.create_output_subarea(\n        metadata,\n        CLASS_NAME,\n        EXEC_MIME_TYPE\n      );\n      this.keyboard_manager.register_events(toinsert);\n      // Render to node\n      const props = {data: data, metadata: metadata[EXEC_MIME_TYPE]};\n      render(props, toinsert[toinsert.length - 1]);\n      element.append(toinsert);\n      return toinsert\n    }\n\n    /* Handle when an output is cleared or removed */\n    events.on('clear_output.CodeCell', handleClearOutput);\n    events.on('delete.Cell', handleClearOutput);\n\n    /* Handle when a new output is added */\n    events.on('output_added.OutputArea', handleAddOutput);\n\n    /**\n     * Register the mime type and append_mime function with output_area\n     */\n    OutputArea.prototype.register_mime_type(EXEC_MIME_TYPE, append_mime, {\n      /* Is output safe? */\n      safe: true,\n      /* Index of renderer in `output_area.display_order` */\n      index: 0\n    });\n  }\n\n  // register the mime type if in Jupyter Notebook environment and previously unregistered\n  if (root.Jupyter !== undefined) {\n    const events = require('base/js/events');\n    const OutputArea = require('notebook/js/outputarea').OutputArea;\n\n    if (OutputArea.prototype.mime_types().indexOf(EXEC_MIME_TYPE) == -1) {\n      register_renderer(events, OutputArea);\n    }\n  }\n  if (typeof (root._bokeh_timeout) === \"undefined\" || force === true) {\n    root._bokeh_timeout = Date.now() + 5000;\n    root._bokeh_failed_load = false;\n  }\n\n  const NB_LOAD_WARNING = {'data': {'text/html':\n     \"<div style='background-color: #fdd'>\\n\"+\n     \"<p>\\n\"+\n     \"BokehJS does not appear to have successfully loaded. If loading BokehJS from CDN, this \\n\"+\n     \"may be due to a slow or bad network connection. Possible fixes:\\n\"+\n     \"</p>\\n\"+\n     \"<ul>\\n\"+\n     \"<li>re-rerun `output_notebook()` to attempt to load from CDN again, or</li>\\n\"+\n     \"<li>use INLINE resources instead, as so:</li>\\n\"+\n     \"</ul>\\n\"+\n     \"<code>\\n\"+\n     \"from bokeh.resources import INLINE\\n\"+\n     \"output_notebook(resources=INLINE)\\n\"+\n     \"</code>\\n\"+\n     \"</div>\"}};\n\n  function display_loaded(error = null) {\n    const el = document.getElementById(\"c9930b4f-4c3c-4dd5-aef5-0adbb011bd7f\");\n    if (el != null) {\n      const html = (() => {\n        if (typeof root.Bokeh === \"undefined\") {\n          if (error == null) {\n            return \"BokehJS is loading ...\";\n          } else {\n            return \"BokehJS failed to load.\";\n          }\n        } else {\n          const prefix = `BokehJS ${root.Bokeh.version}`;\n          if (error == null) {\n            return `${prefix} successfully loaded.`;\n          } else {\n            return `${prefix} <b>encountered errors</b> while loading and may not function as expected.`;\n          }\n        }\n      })();\n      el.innerHTML = html;\n\n      if (error != null) {\n        const wrapper = document.createElement(\"div\");\n        wrapper.style.overflow = \"auto\";\n        wrapper.style.height = \"5em\";\n        wrapper.style.resize = \"vertical\";\n        const content = document.createElement(\"div\");\n        content.style.fontFamily = \"monospace\";\n        content.style.whiteSpace = \"pre-wrap\";\n        content.style.backgroundColor = \"rgb(255, 221, 221)\";\n        content.textContent = error.stack ?? error.toString();\n        wrapper.append(content);\n        el.append(wrapper);\n      }\n    } else if (Date.now() < root._bokeh_timeout) {\n      setTimeout(() => display_loaded(error), 100);\n    }\n  }\n\n  function run_callbacks() {\n    try {\n      root._bokeh_onload_callbacks.forEach(function(callback) {\n        if (callback != null)\n          callback();\n      });\n    } finally {\n      delete root._bokeh_onload_callbacks\n    }\n    console.debug(\"Bokeh: all callbacks have finished\");\n  }\n\n  function load_libs(css_urls, js_urls, callback) {\n    if (css_urls == null) css_urls = [];\n    if (js_urls == null) js_urls = [];\n\n    root._bokeh_onload_callbacks.push(callback);\n    if (root._bokeh_is_loading > 0) {\n      console.debug(\"Bokeh: BokehJS is being loaded, scheduling callback at\", now());\n      return null;\n    }\n    if (js_urls == null || js_urls.length === 0) {\n      run_callbacks();\n      return null;\n    }\n    console.debug(\"Bokeh: BokehJS not loaded, scheduling load and callback at\", now());\n    root._bokeh_is_loading = css_urls.length + js_urls.length;\n\n    function on_load() {\n      root._bokeh_is_loading--;\n      if (root._bokeh_is_loading === 0) {\n        console.debug(\"Bokeh: all BokehJS libraries/stylesheets loaded\");\n        run_callbacks()\n      }\n    }\n\n    function on_error(url) {\n      console.error(\"failed to load \" + url);\n    }\n\n    for (let i = 0; i < css_urls.length; i++) {\n      const url = css_urls[i];\n      const element = document.createElement(\"link\");\n      element.onload = on_load;\n      element.onerror = on_error.bind(null, url);\n      element.rel = \"stylesheet\";\n      element.type = \"text/css\";\n      element.href = url;\n      console.debug(\"Bokeh: injecting link tag for BokehJS stylesheet: \", url);\n      document.body.appendChild(element);\n    }\n\n    for (let i = 0; i < js_urls.length; i++) {\n      const url = js_urls[i];\n      const element = document.createElement('script');\n      element.onload = on_load;\n      element.onerror = on_error.bind(null, url);\n      element.async = false;\n      element.src = url;\n      console.debug(\"Bokeh: injecting script tag for BokehJS library: \", url);\n      document.head.appendChild(element);\n    }\n  };\n\n  function inject_raw_css(css) {\n    const element = document.createElement(\"style\");\n    element.appendChild(document.createTextNode(css));\n    document.body.appendChild(element);\n  }\n\n  const js_urls = [\"https://cdn.bokeh.org/bokeh/release/bokeh-3.6.2.min.js\", \"https://cdn.bokeh.org/bokeh/release/bokeh-gl-3.6.2.min.js\", \"https://cdn.bokeh.org/bokeh/release/bokeh-widgets-3.6.2.min.js\", \"https://cdn.bokeh.org/bokeh/release/bokeh-tables-3.6.2.min.js\", \"https://cdn.bokeh.org/bokeh/release/bokeh-mathjax-3.6.2.min.js\"];\n  const css_urls = [];\n\n  const inline_js = [    function(Bokeh) {\n      Bokeh.set_log_level(\"info\");\n    },\nfunction(Bokeh) {\n    }\n  ];\n\n  function run_inline_js() {\n    if (root.Bokeh !== undefined || force === true) {\n      try {\n            for (let i = 0; i < inline_js.length; i++) {\n      inline_js[i].call(root, root.Bokeh);\n    }\n\n      } catch (error) {display_loaded(error);throw error;\n      }if (force === true) {\n        display_loaded();\n      }} else if (Date.now() < root._bokeh_timeout) {\n      setTimeout(run_inline_js, 100);\n    } else if (!root._bokeh_failed_load) {\n      console.log(\"Bokeh: BokehJS failed to load within specified timeout.\");\n      root._bokeh_failed_load = true;\n    } else if (force !== true) {\n      const cell = $(document.getElementById(\"c9930b4f-4c3c-4dd5-aef5-0adbb011bd7f\")).parents('.cell').data().cell;\n      cell.output_area.append_execute_result(NB_LOAD_WARNING)\n    }\n  }\n\n  if (root._bokeh_is_loading === 0) {\n    console.debug(\"Bokeh: BokehJS loaded, going straight to plotting\");\n    run_inline_js();\n  } else {\n    load_libs(css_urls, js_urls, function() {\n      console.debug(\"Bokeh: BokehJS plotting callback run at\", now());\n      run_inline_js();\n    });\n  }\n}(window));",
      "application/vnd.bokehjs_load.v0+json": ""
     },
     "metadata": {},
     "output_type": "display_data"
    }
   ],
   "source": [
    "import os\n",
    "import warnings\n",
    "with warnings.catch_warnings():\n",
    "    warnings.simplefilter('ignore')\n",
    "\n",
    "import scipy.stats as st\n",
    "import scipy.optimize\n",
    "\n",
    "import pandas as pd\n",
    "import numpy as np\n",
    "\n",
    "import iqplot\n",
    "import bokeh.io\n",
    "bokeh.io.output_notebook()"
   ]
  },
  {
   "cell_type": "markdown",
   "metadata": {},
   "source": [
    "Introduction to the EM Algorithm \n",
    "===================================\n",
    "The Expectation-Maximization (EM) algorithm is a powerful iterative method used for parameter estimation in statistical models, particularly when the data is incomplete or has latent variables. It is widely used in machine learning, statistics, and signal processing to maximize the likelihood of observed data, especially when the direct computation of this likelihood is difficult.\n",
    "\n",
    "In this exercise, we will introduce the classic EM algorithm and discuss the basic idea of why it works. There are several versions of the EM algorithm that have been described in the literature. The book [Tools for Statistical Inference](https://doi.org/10.1007/978-1-4612-4024-2) by Michael Tanner has a straightforward interpretation of the classical and variational forms of the EM algorithm as well as several applications.  "
   ]
  },
  {
   "cell_type": "markdown",
   "metadata": {},
   "source": [
    "Description of the EM algorithm\n",
    "================================\n",
    "As mentioned above, the EM algorithm is an iterative procedure that has important applications in settings where there are *latent*, or otherwise unobserved random variables. The procedure can be described by two alternating steps: finding the expectation (E) of a function of the latent variables, and maximizing (M) the resulting posterior density to estimate the parameters. In the section below, we will show that each iteration of the algorithm increases the value of the posterior until convergence. \n",
    "\n",
    "### Why does the EM algorithm work?\n",
    "To see how the algorithm works, recall that the log posterior can be written as\n",
    "\n",
    "$$\n",
    "    \\ln\\, g(\\theta \\mid y) = \\ln\\, f(y \\mid \\theta) + \\ln\\, g(\\theta) - \\ln\\, f(y)\n",
    "$$ \n",
    "\\\n",
    "The conventional form of the EM algorithm requires treatment of the log likelihood, which we denote $\\ln\\, f(y \\mid \\theta) \\coloneqq \\ell(\\theta ; \\mathcal{Y})$. We introduce an auxiliary latent variable, $\\mathcal{X}$ which is unobserved. Observe that for any probability distribution $\\mathcal{Q}(x)$\n",
    "\\\n",
    "$$ \n",
    "    \\begin{align}\n",
    "        \\ell(\\theta ; \\mathcal{Y}) &= \\ln\\, \\int_{x}\\, f(\\mathcal{Y}, x \\mid \\theta) \\,dx \\\\\n",
    "        & = \\ln\\, \\int_{x}\\, \\mathcal{Q}(x) \\frac{f(\\mathcal{Y}, x \\mid \\theta)}{\\mathcal{Q}(x)} \\,dx \\\\\n",
    "        & \\geq \\int_{x}\\, \\mathcal{Q}(x) \\ln\\, \\frac{f(\\mathcal{Y},x \\mid \\theta)}{\\mathcal{Q}(x)} \\,dx\n",
    "    \\end{align}\n",
    "$$\n",
    "\\\n",
    "where the last line  follows from [Jensen's inequality](https://en.wikipedia.org/wiki/Jensen%27s_inequality) for concave functions. Now, consider for a particular $\\theta_{t}$, $\\mathcal{Q}(x) = f(\\mathcal{X} \\mid \\mathcal{Y}, \\theta_{t})$. The last line of the inequality above can be rewritten as\n",
    "\n",
    "$$\n",
    "    \\begin{align}\n",
    "        \\int_{x}\\, \\mathcal{Q}(x) \\ln\\, \\frac{f(\\mathcal{Y},x \\mid \\theta)}{\\mathcal{Q}(x)} \\,dx &= \\int_{x} f(x \\mid \\mathcal{Y}, \\theta_{t}) \\ln\\, \\frac{f(\\mathcal{Y},x \\mid \\theta)}{f(x \\mid \\mathcal{Y}, \\theta_{t})} \\,dx  \\\\\n",
    "        &= \\mathbb{E}[ \\ln\\, ( \\frac{f(\\mathcal{X},\\mathcal{Y} \\mid \\theta)}{f(\\mathcal{X}\\mid \\mathcal{Y}, \\theta_{t})} ) \\mid \\mathcal{Y},\\theta_{t}]\n",
    "    \\end{align}\n",
    "$$\n",
    "\\\n",
    "Letting $g(\\theta \\mid \\theta_{t})$ equal the right hand side of the expression above, we have that $\\ell(\\theta ; \\mathcal{Y}) \\geq g(\\theta \\mid \\theta_{t})$. The inequality holds with equality whenever $\\theta = \\theta_{t}$. Otherwise, $g(\\theta \\mid \\theta_{t})$ is guaranteed to be a lower bound of $\\ell(\\theta ; \\mathcal{Y})$. Separating $g(\\theta \\mid \\theta_{t})$ into terms with $\\theta$ dependence, we have\n",
    "\\\n",
    "$$\n",
    "    \\begin{align}\n",
    "        g(\\theta \\mid \\theta_{t}) &= \\mathbb{E}[\\ln\\, f(\\mathcal{X},\\mathcal{Y}\\mid \\theta) \\mid \\mathcal{Y}, \\theta_{t}] - \\mathbb{E}[\\ln\\, f(\\mathcal{X}\\mid\\mathcal{Y}, \\theta_{t}) \\mid \\mathcal{Y}, \\theta_{t}] \\\\\n",
    "        &= Q(\\theta \\mid \\theta_{t}) - \\mathbb{E}[\\ln\\, f(\\mathcal{X}\\mid\\mathcal{Y}, \\theta_{t}) \\mid \\mathcal{Y}, \\theta_{t}] \\\\ \n",
    "    \\end{align}\n",
    "$$\n",
    "\n",
    "### Putting it all together\n",
    "The so-called Q-function, $Q(\\theta \\mid \\theta_{t})$ is computed in the **E-step** of the EM algorithm, and is updated iteratively in the **M-step**. More specifically, the **E-step** and **M-step** work as follows:\n",
    "\\\n",
    "\\\n",
    "<u>**E-step**</u>\n",
    "\\\n",
    "Compute $Q(\\theta \\mid \\theta_{t})$ with respect to the unobserved data, $\\mathcal{X}$ with $\\theta = \\theta_t$\n",
    "\n",
    "$$\n",
    "    \\begin{align}\n",
    "       Q(\\theta \\mid \\theta_{t}) &= \\mathbb{E}[\\ln\\, f(\\mathcal{X},\\mathcal{Y}\\mid \\theta) \\mid \\mathcal{Y}, \\theta_{t}] \\\\ \n",
    "       &= \\int_{x}\\, f(x | \\mathcal{Y}, \\theta_{t}) \\ln\\,f(x, \\mathcal{Y}\\mid \\theta)\\,dx\n",
    "    \\end{align}\n",
    "$$\n",
    "\n",
    "\n",
    "<ins>**M-step**</ins>\n",
    "\\\n",
    "The **M-step** assigns $\\theta_{t+1}$ to the value of $\\theta$ that maximizes $Q(\\theta \\mid \\theta_{t})$. In other words, \n",
    "\n",
    "$$\n",
    "    \\begin{align}\n",
    "        \\theta_{t+1} = \\arg\\max_{\\theta}\\, Q(\\theta \\mid \\theta_{t}) \n",
    "    \\end{align}\n",
    "$$ \n",
    "\n",
    "The **M-step** enforces that $g(\\theta_{t} \\mid \\theta_{t})\\leq g(\\theta_{t+1} \\mid \\theta_{t})$. Therefore, we have the inequality, $\\ell(\\theta_{t};\\mathcal{Y}) = g(\\theta_{t} \\mid \\theta_{t}) \\leq g(\\theta_{t+1} \\mid \\theta_{t}) \\leq \\ell(\\theta_{t+1}; \\mathcal{Y})$, which shows that the **M-step** results in monotonic improvement of the log likelihood! \n",
    "\n",
    "We iterate between the **E-Step** and **M-Step** until the difference between $\\theta_{t}$ and $\\theta_{t+1}$ is negligibly small, indicating convergence. "
   ]
  },
  {
   "cell_type": "markdown",
   "metadata": {
    "jp-MarkdownHeadingCollapsed": true
   },
   "source": [
    "Application of the EM Algorigthm to Bayesian Inference\n",
    "=======================================================\n",
    "The primary goal of Bayesian inference is to evaluate the posterior distribution. This can be challenging when the posterior is complex, multi-modal, or otherwise difficult to evaluate directly. In these cases, statitics such as the mode of the posterior distribution can be useful for summarizing the distribution. In section below, we will describe how the EM algorithm can be a useful tool for finding the mode of a posterior distribution.\n",
    "\n",
    "Notice that the likelihood can be decomposed as follows: \n",
    "\n",
    "$$\n",
    "    \\begin{align}\n",
    "    \\ell(\\mathcal{Y}; \\theta) &= \\int_{x}\\, f(\\mathcal{X}|\\mathcal{Y},\\theta_{t})\\,\\ln(\\frac{f(\\mathcal{X},\\mathcal{Y}\\mid\\theta)}{f(\\mathcal{X}\\mid\\mathcal{Y},\\theta_{t})}\\,\\frac{f(\\mathcal{X}\\mid\\mathcal{Y},\\theta_{t})}{f(\\mathcal{X}\\mid\\mathcal{Y},\\theta)})\\,dx \\\\\n",
    "    &= \\int_{x} f(\\mathcal{X}\\mid\\mathcal{Y},\\theta_{t})\\,\\ln(\\frac{f(\\mathcal{X},\\mathcal{Y}\\mid\\theta)}{f(\\mathcal{X}\\mid\\mathcal{Y},\\theta_{t})})\\,dx + \\int_{x} f(\\mathcal{X}\\mid\\mathcal{Y},\\theta_{t})\\, ln(\\frac{f(\\mathcal{X}\\mid\\mathcal{Y},\\theta_{t})}{f(\\mathcal{X}\\mid\\mathcal{Y},\\theta)})\\,dx \\\\ \n",
    "    &= Q(\\theta \\mid \\theta_{t}) - \\mathbb{E}[\\ln\\, f(\\mathcal{X}\\mid\\mathcal{Y}, \\theta_{t}) \\mid \\mathcal{Y}, \\theta_{t}] + D_{\\mathrm{KL}}(f(\\mathcal{X}\\mid\\mathcal{Y},\\theta_{t})\\| f(\\mathcal{X}\\mid\\mathcal{Y}, \\theta)) \\\\ \n",
    "    &= g(\\theta\\mid\\theta_{t}) + D_{\\mathrm{KL}}(f(\\mathcal{X}\\mid\\mathcal{Y},\\theta_{t})\\| f(\\mathcal{X}\\mid\\mathcal{Y}, \\theta)) \n",
    "    \\end{align}\n",
    "$$\n",
    "\n",
    "where $D_{\\mathrm{KL}}$ is the Kullback-Leibler (KL) divergence. For general probability distributions $p$ and $q$ can be shown that the KL-divergence $D_{\\mathrm{KL}}(p\\|q)$ satisfies $D_{\\mathrm{KL}}(p\\|q) \\geq 0$ and equals zero if and only if $p=q$. It follows then that when $\\theta = \\theta_{t}$, $\\ell(\\mathcal{Y};\\theta_{t}) = g(\\theta_t\\mid\\theta_{t})$, which we showed above. Returning to the log posterior and substituting the likelihood above, \n",
    "\n",
    "$$\n",
    "    \\ln\\,g(\\theta\\mid\\mathcal{Y}) = g(\\theta\\mid\\theta_{t}) +  D_{\\mathrm{KL}}(f(\\mathcal{X}\\mid\\mathcal{Y},\\theta_{t})\\| f(\\mathcal{X}\\mid\\mathcal{Y}, \\theta)) + \\ln\\,g(\\theta) - \\ln\\,f(\\mathcal{y})\n",
    "$$\n",
    "\n",
    "If we wish to use the EM algorithm to find the mode of the posterior the E-step is exactly the same as above since only the term $g(\\theta\\mid\\theta_{t})$ has any dependence on the latent variable, $\\mathcal{X}$. The M-step, however, must be updated to include the log prior, $\\ln\\,g(\\theta)$. "
   ]
  },
  {
   "cell_type": "markdown",
   "metadata": {},
   "source": [
    "Example: A Normal-Mixture Model\n",
    "===============================\n",
    "A classic application of this algorithm is assigning data points to components in a normal mixture model. You can think of this as a generalized form of the k-means clustering algorithm, which you may be familiar with. The core idea is that we assume the data points are generated from a mixture of a known number of Gaussian distributions.\n",
    "\n",
    "In this example, we'll simulate data from three Gaussian distributions, each with distinct location and scale parameters. After defining the full model for these data, we'll explore how we can use the EM algorithm to identify the mode of the posterior distribution.  "
   ]
  },
  {
   "cell_type": "code",
   "execution_count": 2,
   "metadata": {
    "colab": {
     "base_uri": "https://localhost:8080/",
     "height": 341
    },
    "id": "LoUFGT6nV2aV",
    "outputId": "baca051e-846f-445d-8580-812783fe763f"
   },
   "outputs": [
    {
     "data": {
      "text/html": [
       "<div>\n",
       "<style scoped>\n",
       "    .dataframe tbody tr th:only-of-type {\n",
       "        vertical-align: middle;\n",
       "    }\n",
       "\n",
       "    .dataframe tbody tr th {\n",
       "        vertical-align: top;\n",
       "    }\n",
       "\n",
       "    .dataframe thead th {\n",
       "        text-align: right;\n",
       "    }\n",
       "</style>\n",
       "<table border=\"1\" class=\"dataframe\">\n",
       "  <thead>\n",
       "    <tr style=\"text-align: right;\">\n",
       "      <th></th>\n",
       "      <th>group</th>\n",
       "      <th>value</th>\n",
       "    </tr>\n",
       "  </thead>\n",
       "  <tbody>\n",
       "    <tr>\n",
       "      <th>0</th>\n",
       "      <td>g1</td>\n",
       "      <td>31.430268</td>\n",
       "    </tr>\n",
       "    <tr>\n",
       "      <th>1</th>\n",
       "      <td>g1</td>\n",
       "      <td>31.438461</td>\n",
       "    </tr>\n",
       "    <tr>\n",
       "      <th>2</th>\n",
       "      <td>g1</td>\n",
       "      <td>32.894517</td>\n",
       "    </tr>\n",
       "    <tr>\n",
       "      <th>3</th>\n",
       "      <td>g1</td>\n",
       "      <td>31.280249</td>\n",
       "    </tr>\n",
       "    <tr>\n",
       "      <th>4</th>\n",
       "      <td>g1</td>\n",
       "      <td>30.312977</td>\n",
       "    </tr>\n",
       "  </tbody>\n",
       "</table>\n",
       "</div>"
      ],
      "text/plain": [
       "  group      value\n",
       "0    g1  31.430268\n",
       "1    g1  31.438461\n",
       "2    g1  32.894517\n",
       "3    g1  31.280249\n",
       "4    g1  30.312977"
      ]
     },
     "execution_count": 2,
     "metadata": {},
     "output_type": "execute_result"
    }
   ],
   "source": [
    "# Simulate multiple gaussian RVs\n",
    "g1 = st.norm.rvs(size=500, loc=30, scale=1.75)\n",
    "g2 = st.norm.rvs(size=500, loc=25, scale=1)\n",
    "g3 = st.norm.rvs(size=250, loc=40, scale=0.25)\n",
    "\n",
    "df = pd.DataFrame.from_dict({\"g1\" : g1, \"g2\": g2, \"g3\":g3}, orient='index').stack()\n",
    "df = df.reset_index(level=0, name='value').rename(columns={'level_0':'group'})\n",
    "\n",
    "df.head()"
   ]
  },
  {
   "cell_type": "markdown",
   "metadata": {},
   "source": [
    "Let's do a quick visualization of the simulated data. "
   ]
  },
  {
   "cell_type": "code",
   "execution_count": 3,
   "metadata": {
    "colab": {
     "base_uri": "https://localhost:8080/",
     "height": 367
    },
    "id": "RPE7dP-FKlsk",
    "outputId": "531e7251-8f64-49c5-c08a-dd2ae7e4ce65"
   },
   "outputs": [
    {
     "data": {
      "text/html": [
       "\n",
       "  <div id=\"dbe08b97-12ba-4901-a51d-3021be1b7c42\" data-root-id=\"p1001\" style=\"display: contents;\"></div>\n"
      ]
     },
     "metadata": {},
     "output_type": "display_data"
    },
    {
     "data": {
      "application/javascript": "(function(root) {\n  function embed_document(root) {\n  const docs_json = {\"9999e6d5-49b9-40b9-9c3d-5aecd4a9c660\":{\"version\":\"3.6.2\",\"title\":\"Bokeh Application\",\"roots\":[{\"type\":\"object\",\"name\":\"Figure\",\"id\":\"p1001\",\"attributes\":{\"x_range\":{\"type\":\"object\",\"name\":\"DataRange1d\",\"id\":\"p1002\"},\"y_range\":{\"type\":\"object\",\"name\":\"DataRange1d\",\"id\":\"p1003\"},\"x_scale\":{\"type\":\"object\",\"name\":\"LinearScale\",\"id\":\"p1010\"},\"y_scale\":{\"type\":\"object\",\"name\":\"LinearScale\",\"id\":\"p1011\"},\"title\":{\"type\":\"object\",\"name\":\"Title\",\"id\":\"p1008\"},\"renderers\":[{\"type\":\"object\",\"name\":\"GlyphRenderer\",\"id\":\"p1041\",\"attributes\":{\"data_source\":{\"type\":\"object\",\"name\":\"ColumnDataSource\",\"id\":\"p1035\",\"attributes\":{\"selected\":{\"type\":\"object\",\"name\":\"Selection\",\"id\":\"p1036\",\"attributes\":{\"indices\":[],\"line_indices\":[]}},\"selection_policy\":{\"type\":\"object\",\"name\":\"UnionRenderers\",\"id\":\"p1037\"},\"data\":{\"type\":\"map\",\"entries\":[[\"x\",{\"type\":\"ndarray\",\"array\":{\"type\":\"bytes\",\"data\":\"TLwKlmDMOEBMvAqWYMw4QJx1ZBIycDlAnHVkEjJwOUAmRuJym6k5QCZG4nKbqTlACES/fhQ4OkAIRL9+FDg6QGhwEgrhUTpAaHASCuFROkC/DRv21Fw6QL8NG/bUXDpAUNNw+tNrOkBQ03D602s6QPuSlSSZcTpA+5KVJJlxOkB/g9G++XQ6QH+D0b75dDpAMRKnXa+FOkAxEqddr4U6QIWCR8KZmTpAhYJHwpmZOkB/ZDFDb506QH9kMUNvnTpANBkIPq2nOkA0GQg+rac6QFz6VfW1rjpAXPpV9bWuOkA7tZhhKsU6QDu1mGEqxTpAJ9hL4HXLOkAn2Evgdcs6QJg/iS710TpAmD+JLvXROkB65pSooPo6QHrmlKig+jpAEllWn/8HO0ASWVaf/wc7QPbDgnfdCztA9sOCd90LO0DdN6RZaxA7QN03pFlrEDtAE4vMP9wQO0ATi8w/3BA7QOLZUiS5FjtA4tlSJLkWO0Bf/Vyn4xo7QF/9XKfjGjtAzLVzVgwbO0DMtXNWDBs7QJny+bn/JDtAmfL5uf8kO0DFy72C6yw7QMXLvYLrLDtAL63NJG4uO0Avrc0kbi47QAghWsmWMDtACCFayZYwO0AkV0SMrDw7QCRXRIysPDtAYdeGUpg+O0Bh14ZSmD47QJnqAE1YTTtAmeoATVhNO0D6XNBFFE47QPpc0EUUTjtAVi4fFfpSO0BWLh8V+lI7QNVuQr7UWztA1W5CvtRbO0Bh6KOkDm47QGHoo6QObjtA2t5SvDJ5O0Da3lK8Mnk7QFY7LHFKiDtAVjsscUqIO0Bbmlt2Nok7QFuaW3Y2iTtAZIbcLyaYO0BkhtwvJpg7QKBFexxKmDtAoEV7HEqYO0A0RJQiMqA7QDRElCIyoDtAGEEEDpahO0AYQQQOlqE7QAD76A3SqTtAAPvoDdKpO0BkiWPcz687QGSJY9zPrztANlrbRpa4O0A2WttGlrg7QE3JC+NmujtATckL42a6O0DqFAHSSsA7QOoUAdJKwDtAG8CVk2bGO0AbwJWTZsY7QCiqYdNByztAKKph00HLO0DJB4k05cs7QMkHiTTlyztAAIRcC+vLO0AAhFwL68s7QBh4G//j0DtAGHgb/+PQO0DExNjuPto7QMTE2O4+2jtA+g8EURfeO0D6DwRRF947QB4JxyN13jtAHgnHI3XeO0Ae2l4Nwec7QB7aXg3B5ztAqLKWDKz4O0CospYMrPg7QC+t05Gn+TtAL63Tkaf5O0AP98RaEP07QA/3xFoQ/TtAOKgYmyz9O0A4qBibLP07QAHO4w2WDDxAAc7jDZYMPEDANH+Frww8QMA0f4WvDDxAzjm+ER8NPEDOOb4RHw08QJQ8pGOVHzxAlDykY5UfPEDT0b0s6x88QNPRvSzrHzxAtagnvtggPEC1qCe+2CA8QFP5JJAQIjxAU/kkkBAiPEAcgG6PcCo8QByAbo9wKjxAA5cbbbcrPEADlxtttys8QNZs2k0pLDxA1mzaTSksPECmX6YQeCw8QKZfphB4LDxAkFUWMHpEPECQVRYwekQ8QA9JzgyuSDxAD0nODK5IPEC5sbY1cEo8QLmxtjVwSjxAj4GfhZlNPECPgZ+FmU08QIUqTm84TzxAhSpObzhPPEA3sS4E7VA8QDexLgTtUDxA8RMOlXpRPEDxEw6VelE8QCj13kisUTxAKPXeSKxRPEDagj9DvFE8QNqCP0O8UTxAmOeIIcVSPECY54ghxVI8QDoUA0HFVzxAOhQDQcVXPEDjS+SInlg8QONL5IieWDxAsZiTqadcPECxmJOpp1w8QHcUiah8XjxAdxSJqHxePED03IO1Cl88QPTcg7UKXzxA1479FYpfPEDXjv0Vil88QAu2At2LZzxAC7YC3YtnPEBVOl9HJHc8QFU6X0ckdzxAY/NFYrd3PEBj80Vit3c8QOcbmzFffzxA5xubMV9/PEAFkmWOjIU8QAWSZY6MhTxA4wOBa+KIPEDjA4Fr4og8QIP4MZmliTxAg/gxmaWJPECl9bSNIY08QKX1tI0hjTxA6Ng4EcePPEDo2DgRx488QAeQV7b4kTxAB5BXtviRPEBopJx7EJI8QGiknHsQkjxAuYB7KpySPEC5gHsqnJI8QCH9DX9PlDxAIf0Nf0+UPEDhZAROE5c8QOFkBE4TlzxASMLhB7CePEBIwuEHsJ48QOWmej3YpTxA5aZ6PdilPEBSzFekT6c8QFLMV6RPpzxAKQOkSFWpPEApA6RIVak8QAv/sOncqTxAC/+w6dypPEBUNK1kX6s8QFQ0rWRfqzxAJPNmE/2rPEAk82YT/as8QECPMnqErjxAQI8yeoSuPEBELy+2jLI8QEQvL7aMsjxArStEg7i8PECtK0SDuLw8QHSxp8NswDxAdLGnw2zAPECaunGEasM8QJq6cYRqwzxAnNQQiiXFPECc1BCKJcU8QL/dy5H5xjxAv93LkfnGPEBGfmhAsco8QEZ+aECxyjxAFvavJH7NPEAW9q8kfs08QCbgl+d4zjxAJuCX53jOPEAzLHU5WNI8QDMsdTlY0jxAb55+UT3ZPEBvnn5RPdk8QFcdv4u+2zxAVx2/i77bPEAZCZSzZN88QBkJlLNk3zxA5LqyEirlPEDkurISKuU8QMds3R635zxAx2zdHrfnPEBWuzIWB+k8QFa7MhYH6TxAdb5GLejrPEB1vkYt6Os8QHukdo4e7DxAe6R2jh7sPEBKeriEYOw8QEp6uIRg7DxAeKvV+4XwPEB4q9X7hfA8QDh+pc7K8DxAOH6lzsrwPEBeLwyy7/M8QF4vDLLv8zxAQgsIhh/3PEBCCwiGH/c8QJfe2bpD+zxAl97ZukP7PED5SbPN8wI9QPlJs83zAj1ALtqZ3jgGPUAu2pneOAY9QC+9eJ46Bz1AL714njoHPUD01F5ePQs9QPTUXl49Cz1Ae+UFGxMMPUB75QUbEww9QHhoC7iAED1AeGgLuIAQPUBm3gyBSBE9QGbeDIFIET1AUp43ntYTPUBSnjee1hM9QOshmKz4FD1A6yGYrPgUPUAJ5i6O7hk9QAnmLo7uGT1AhBWtcJkePUCEFa1wmR49QDbBeWTNHz1ANsF5ZM0fPUDCde2/cCw9QMJ17b9wLD1AEc5/A38sPUARzn8Dfyw9QBN0aHjkLD1AE3RoeOQsPUAB8DVDRjc9QAHwNUNGNz1AQjk/fmc5PUBCOT9+Zzk9QJFWT9fEOj1AkVZP18Q6PUBbzoKBajw9QFvOgoFqPD1AsX9pxJA/PUCxf2nEkD89QHhY6I90QT1AeFjoj3RBPUDGiObTvUI9QMaI5tO9Qj1AVYOiBLtIPUBVg6IEu0g9QCCqXcTxSD1AIKpdxPFIPUAKPytU3Us9QAo/K1TdSz1AIVF90nVNPUAhUX3SdU09QEDtxLxpTj1AQO3EvGlOPUCsxNnLL1g9QKzE2csvWD1AxhVg5PhbPUDGFWDk+Fs9QA6B5XaFXj1ADoHldoVePUACS3F512Y9QAJLcXnXZj1A1AsOPBlrPUDUCw48GWs9QDKJOvVHaz1AMok69UdrPUC54sxacm89QLnizFpybz1A8P//ohd1PUDw//+iF3U9QCpAZ+iYdT1AKkBn6Jh1PUCAl1fQsHY9QICXV9Cwdj1AOW5terJ7PUA5bm16sns9QHYaMezDez1Adhox7MN7PUDhERy18H09QOERHLXwfT1AHsENadp+PUAewQ1p2n49QCLvvBbkfj1AIu+8FuR+PUAo3+VZzYA9QCjf5VnNgD1ANitDRWKFPUA2K0NFYoU9QJTi+Du2hj1AlOL4O7aGPUC4+nHg8Ig9QLj6ceDwiD1AKAtfxjCJPUAoC1/GMIk9QBEt6xrBiT1AES3rGsGJPUAqNmeA/4w9QCo2Z4D/jD1AIZMlp4ONPUAhkyWng409QNBMUZiSjz1A0ExRmJKPPUDtGIkOjJM9QO0YiQ6Mkz1A3aK7sQeUPUDdoruxB5Q9QD+nPOaUlj1AP6c85pSWPUASQubEJpc9QBJC5sQmlz1AB0EQNHuXPUAHQRA0e5c9QPFRIAsjmT1A8VEgCyOZPUAPsifz25s9QA+yJ/Pbmz1Ao/ddk+OdPUCj912T4509QE3CfpTJoT1ATcJ+lMmhPUBxS+mHZaM9QHFL6Ydloz1A8yzyfuCkPUDzLPJ+4KQ9QKZUIJ1zqD1AplQgnXOoPUB82iHFuqk9QHzaIcW6qT1AwyH96u+qPUDDIf3q76o9QADHEmMQqz1AAMcSYxCrPUBa2XtfJqs9QFrZe18mqz1AQf/drz+vPUBB/92vP689QEJ+Mpo0sD1AQn4ymjSwPUBx465IM7I9QHHjrkgzsj1AGqDlEKmzPUAaoOUQqbM9QCrwz0Ebtz1AKvDPQRu3PUDlI6hRZ7g9QOUjqFFnuD1AKovfG/K4PUAqi98b8rg9QGDr7dP2uT1AYOvt0/a5PUBhP6zuF7o9QGE/rO4Xuj1APMGaGNS6PUA8wZoY1Lo9QAmIZ+78uj1ACYhn7vy6PUAKYPYlZr09QApg9iVmvT1AWyCDUq69PUBbIINSrr09QCp9/qG/xD1AKn3+ob/EPUD5J62+78Q9QPknrb7vxD1Ax55TIszGPUDHnlMizMY9QOcc+Mrmxj1A5xz4yubGPUAHeNJefMc9QAd40l58xz1ADSpTsqLKPUANKlOyoso9QPAPTVt6zj1A8A9NW3rOPUAubCVAmdc9QC5sJUCZ1z1AodfnSUPYPUCh1+dJQ9g9QOTFy+bi2j1A5MXL5uLaPUA0bzpNgN49QDRvOk2A3j1AkFYcLrzePUCQVhwuvN49QKoxJENZ3z1AqjEkQ1nfPUAHRHR9f+A9QAdEdH1/4D1AUmYcAd/kPUBSZhwB3+Q9QLncEyw+5z1AudwTLD7nPUA4EdwAC+o9QDgR3AAL6j1A2eClM8LrPUDZ4KUzwus9QDBNkroR7z1AME2SuhHvPUCpod5R4+89QKmh3lHj7z1AZWK3PSLxPUBlYrc9IvE9QM/s/ZYJ+D1Az+z9lgn4PUDZSI9kdPk9QNlIj2R0+T1As9adNcf6PUCz1p01x/o9QDBn0MQ6/T1AMGfQxDr9PUB12fl4pwc+QHXZ+XinBz5ANxWXw5wLPkA3FZfDnAs+QEhcvqkgDD5ASFy+qSAMPkCicJjC3A0+QKJwmMLcDT5A36OE+iUPPkDfo4T6JQ8+QLzoxxFQET5AvOjHEVARPkCtFuj8rBE+QK0W6PysET5AiqA7nP8RPkCKoDuc/xE+QNQhTwyDFD5A1CFPDIMUPkC/veL/RBo+QL+94v9EGj5Ayc0QkZsaPkDJzRCRmxo+QIlyv1j5Gz5AiXK/WPkbPkDzCnV5Ihw+QPMKdXkiHD5A2MYzi6YhPkDYxjOLpiE+QBLqU2BeKT5AEupTYF4pPkB2jBI/FCo+QHaMEj8UKj5A//lTtoMsPkD/+VO2gyw+QIkKV6rYLD5AiQpXqtgsPkDOzdkPNS0+QM7N2Q81LT5AckV08jEvPkByRXTyMS8+QO+WAJNAMD5A75YAk0AwPkA+2YXyszI+QD7ZhfKzMj5Aqt7+u2Q4PkCq3v67ZDg+QInbqQ3APD5AidupDcA8PkASskuyID4+QBKyS7IgPj5AuF6rTFBBPkC4XqtMUEE+QAuRcpmQRD5AC5FymZBEPkDfee9IYEU+QN9570hgRT5AsH0tr5FGPkCwfS2vkUY+QDDR5n3YRz5AMNHmfdhHPkB++RnNlko+QH75Gc2WSj5A14h2PB9QPkDXiHY8H1A+QOJgvLWhUD5A4mC8taFQPkC2/UV871E+QLb9RXzvUT5AybvVTv1WPkDJu9VO/VY+QHw+iPf0WT5AfD6I9/RZPkAQ1ejssF0+QBDV6OywXT5AgH5p9oJePkCAfmn2gl4+QDYqkopIXz5ANiqSikhfPkC447S+k2A+QLjjtL6TYD5A7UMBeoxiPkDtQwF6jGI+QPh3+mw+Yz5A+Hf6bD5jPkD5u1KN+2U+QPm7Uo37ZT5AsiuOa3BmPkCyK45rcGY+QFrJVh/6aD5AWslWH/poPkB2Cff3LWw+QHYJ9/ctbD5AyN11OAdtPkDI3XU4B20+QPL9dxxZbz5A8v13HFlvPkDKaWODbHA+QMppY4NscD5AhU3euMFyPkCFTd64wXI+QHt1+GFrdz5Ae3X4YWt3PkBEIiEhyXk+QEQiISHJeT5AvYNfg7t6PkC9g1+Du3o+QIySvO0nez5AjJK87Sd7PkAvJJ1dP3w+QC8knV0/fD5AvBcs8aF8PkC8FyzxoXw+QEgCNaPEfT5ASAI1o8R9PkBxk3d5tn4+QHGTd3m2fj5AJq6X9t+DPkAmrpf234M+QNFRvne8hT5A0VG+d7yFPkDBPGZt2oY+QME8Zm3ahj5ArI+aU2CIPkCsj5pTYIg+QOphDpT+ij5A6mEOlP6KPkB8gTJzwow+QHyBMnPCjD5ASmLIZQmNPkBKYshlCY0+QFvxiq6Yjj5AW/GKrpiOPkCczjuhmZQ+QJzOO6GZlD5A5JDiwj+XPkDkkOLCP5c+QNAAfqaJmT5A0AB+pomZPkCeqhSU0pk+QJ6qFJTSmT5Axqz1qFajPkDGrPWoVqM+QPQCzmhDpT5A9ALOaEOlPkDRx9PFc6k+QNHH08VzqT5AuDPWWxurPkC4M9ZbG6s+QFLxrrs8qz5AUvGuuzyrPkAspWPgUbA+QCylY+BRsD5A1DqUKUayPkDUOpQpRrI+QKDtk2Spsz5AoO2TZKmzPkCZIyOt8rM+QJkjI63ysz5AjakOpyy0PkCNqQ6nLLQ+QBkFBGKmtD5AGQUEYqa0PkAj7UlD4rU+QCPtSUPitT5AONRYvnW2PkA41Fi+dbY+QBfmsDuwvD5AF+awO7C8PkDSHNfk2L4+QNIc1+TYvj5ALjFQjszAPkAuMVCOzMA+QH2Q8cFtwj5AfZDxwW3CPkDNB/yX38U+QM0H/JffxT5ARhERHy7GPkBGEREfLsY+QOvJeUDlxj5A68l5QOXGPkCSLAuBbMc+QJIsC4Fsxz5AYbMa6lHLPkBhsxrqUcs+QEhteEWJyz5ASG14RYnLPkCTDxHUzcs+QJMPEdTNyz5ADZW0QunLPkANlbRC6cs+QAADYg4AzT5AAANiDgDNPkDz0Q8uMc4+QPPRDy4xzj5AAw+42NHPPkADD7jY0c8+QNAixj0P0T5A0CLGPQ/RPkDW16joltE+QNbXqOiW0T5AvH6R+ILWPkC8fpH4gtY+QOCVL8Ka1j5A4JUvwprWPkAF3RRJzNw+QAXdFEnM3D5Ac4bLwlXgPkBzhsvCVeA+QAaPQi7I5T5ABo9CLsjlPkBf/UoQhOY+QF/9ShCE5j5AWkk2lP/oPkBaSTaU/+g+QN88nuh86T5A3zye6HzpPkASeu5xp+o+QBJ67nGn6j5AXugPNK7sPkBe6A80ruw+QNJIHG3B8D5A0kgcbcHwPkCEaiZwofE+QIRqJnCh8T5ABavI323yPkAFq8jfbfI+QFMpfwZU8z5AUyl/BlTzPkAwaZZfgvQ+QDBpll+C9D5AM+oNw6v2PkAz6g3Dq/Y+QJZULXbc+D5AllQtdtz4PkCYiVcWi/w+QJiJVxaL/D5ADweKMm7+PkAPB4oybv4+QGWAudCIBT9AZYC50IgFP0B9TfjV0Qo/QH1N+NXRCj9ASnnuAoMLP0BKee4Cgws/QJZj5ZuUDT9AlmPlm5QNP0DeIT8I3g4/QN4hPwjeDj9AGi56i2wRP0AaLnqLbBE/QD77YkLvEz9APvtiQu8TP0Cq1YcqZh0/QKrVhypmHT9AKJK93oAgP0Aokr3egCA/QLzbxtS9Jj9AvNvG1L0mP0CRV+lnhyg/QJFX6WeHKD9AkJPTgSQwP0CQk9OBJDA/QCb4jy4BMj9AJviPLgEyP0Cp0LKKbzI/QKnQsopvMj9A7lrbXMQzP0DuWttcxDM/QITYqskJNz9AhNiqyQk3P0C5G/x7HDg/QLkb/HscOD9ARiiOuxg8P0BGKI67GDw/QKl/G5XkPz9AqX8bleQ/P0DwcmIl7kE/QPByYiXuQT9AUt+yt89DP0BS37K3z0M/QIjmuci/RT9AiOa5yL9FP0B6tadtvkc/QHq1p22+Rz9A61QfjjJKP0DrVB+OMko/QIne7PjCTz9Aid7s+MJPP0DgPQPNuFI/QOA9A824Uj9AGEelvxBWP0AYR6W/EFY/QO4G9UljVj9A7gb1SWNWP0AKO74wJ1g/QAo7vjAnWD9Ap3V2WzFaP0CndXZbMVo/QAQb+scdXT9ABBv6xx1dP0C1Dnx76mA/QLUOfHvqYD9ASRK7MqViP0BJErsypWI/QCt9Ua1tZD9AK31RrW1kP0DbekjvaWU/QNt6SO9pZT9AuOsFwa9lP0C46wXBr2U/QKjw6VgQZj9AqPDpWBBmP0Az0eQGJm4/QDPR5AYmbj9A5c7+v/JvP0Dlzv6/8m8/QKLUw/M+cD9AotTD8z5wP0Cp01RWHXU/QKnTVFYddT9AHUmWlPCGP0AdSZaU8IY/QDiGRTGyhz9AOIZFMbKHP0Ct1m48boo/QK3Wbjxuij9AipqK9JaMP0CKmor0low/QH6HrQB6jT9AfoetAHqNP0CfXpTT4JM/QJ9elNPgkz9AizEoO/meP0CLMSg7+Z4/QEfHIiL2qD9AR8ciIvaoP0DNcDfip6w/QM1wN+KnrD9ANEp2D0euP0A0SnYPR64/QPww9zOFsD9A/DD3M4WwP0DgW78eBrE/QOBbvx4GsT9AJd6oyXa4P0Al3qjJdrg/QKYOvrO0uD9Apg6+s7S4P0Bkm300/rk/QGSbfTT+uT9A8Hpstm3CP0Dwemy2bcI/QA31KEpmxT9ADfUoSmbFP0AdrC/pl8Y/QB2sL+mXxj9AykcHm9DIP0DKRweb0Mg/QKmsB2NsyT9AqawHY2zJP0DstGIjjMk/QOy0YiOMyT9AWQ4bINHJP0BZDhsg0ck/QEUFU7JnzT9ARQVTsmfNP0CePwXPIdM/QJ4/Bc8h0z9AcIWXX6rTP0BwhZdfqtM/QBIxk+CO2j9AEjGT4I7aP0CES2yjdOA/QIRLbKN04D9A/IWCgHvgP0D8hYKAe+A/QBHsPKOU4z9AEew8o5TjP0Cb39STz+4/QJvf1JPP7j9ASDIftwTyP0BIMh+3BPI/QOPeyUey8z9A497JR7LzP0ANYyQVqgFAQA1jJBWqAUBAtRCP1FYDQEC1EI/UVgNAQEkf/nNGBEBASR/+c0YEQEDF12OhzARAQMXXY6HMBEBAcYo2rg8GQEBxijauDwZAQPP6Oul8B0BA8/o66XwHQEBRiCfyhQdAQFGIJ/KFB0BAsA4ZhlEIQECwDhmGUQhAQP3WmtBuDUBA/daa0G4NQEDOhb28mA5AQM6FvbyYDkBAsAoUxeUTQECwChTF5RNAQP/687itFEBA//rzuK0UQEAR1k/0jhZAQBHWT/SOFkBAvOzcWpgXQEC87NxamBdAQM6q/ObnGUBAzqr85ucZQEDZ1K4nBxxAQNnUricHHEBAnNJ4kLMdQECc0niQsx1AQLUqV7x4IEBAtSpXvHggQEA6R/1hQS9AQDpH/WFBL0BAPi/WbvgvQEA+L9Zu+C9AQIjUMLs3MUBAiNQwuzcxQEDvLR9l0TFAQO8tH2XRMUBAu711n/szQEC7vXWf+zNAQCHj/5CTN0BAIeP/kJM3QEA5/LAb+DhAQDn8sBv4OEBAx+JBc9NHQEDH4kFz00dAQN2Ju64ESEBA3Ym7rgRIQEAtK3BkP0hAQC0rcGQ/SEBAE2yggkBIQEATbKCCQEhAQLbMGa46TEBAtswZrjpMQEAjoyG4OU1AQCOjIbg5TUBA/3C2jkVTQED/cLaORVNAQCuYxOx7VkBAK5jE7HtWQEBHqgbmgFdAQEeqBuaAV0BAQaKtcb1cQEBBoq1xvVxAQA/a+/kDYkBAD9r7+QNiQEA+jq88c2JAQD6OrzxzYkBAqipDekNnQECqKkN6Q2dAQLmXGZzXZ0BAuZcZnNdnQEBgvzGHPm1AQGC/MYc+bUBAlTgH9DlwQECVOAf0OXBAQNSNFYV/ckBA1I0VhX9yQEAzWjPuM3NAQDNaM+4zc0BA9AA6JyyCQED0ADonLIJAQPw/GuzFhUBA/D8a7MWFQECNapWvX4lAQI1qla9fiUBAjr3PxBWQQECOvc/EFZBAQB5prDI2kEBAHmmsMjaQQEA8tf+jH5JAQDy1/6MfkkBA4AC1NXKTQEDgALU1cpNAQLGd/I0OlEBAsZ38jQ6UQEAqIJFWQ5lAQCogkVZDmUBA7tQw/PahQEDu1DD89qFAQGP/nS2oqkBAY/+dLaiqQEAkce4/Y6tAQCRx7j9jq0BADGv1tZKsQEAMa/W1kqxAQJxTpnSArUBAnFOmdICtQED9OjVcd7RAQP06NVx3tEBAua3xfyy6QEC5rfF/LLpAQP1PW541wEBA/U9bnjXAQEBDjE92tsdAQEOMT3a2x0BAHQdhYrzMQEAdB2FivMxAQLD/b/oA6kBAsP9v+gDqQEAr+gUOJ/9AQCv6BQ4n/0BACOs/qXsGQUAI6z+pewZBQGwR0rgdDEFAbBHSuB0MQUBKEh/DYCFBQEoSH8NgIUFAWD+2rz2DQUBYP7avPYNBQOvrnlhUhUFA6+ueWFSFQUA=\"},\"shape\":[1000],\"dtype\":\"float64\",\"order\":\"little\"}],[\"y\",{\"type\":\"ndarray\",\"array\":{\"type\":\"bytes\",\"data\":\"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\"},\"shape\":[1000],\"dtype\":\"float64\",\"order\":\"little\"}]]}}},\"view\":{\"type\":\"object\",\"name\":\"CDSView\",\"id\":\"p1042\",\"attributes\":{\"filter\":{\"type\":\"object\",\"name\":\"AllIndices\",\"id\":\"p1043\"}}},\"glyph\":{\"type\":\"object\",\"name\":\"Line\",\"id\":\"p1038\",\"attributes\":{\"x\":{\"type\":\"field\",\"field\":\"x\"},\"y\":{\"type\":\"field\",\"field\":\"y\"},\"line_color\":\"#1f77b3\",\"line_width\":2}},\"nonselection_glyph\":{\"type\":\"object\",\"name\":\"Line\",\"id\":\"p1039\",\"attributes\":{\"x\":{\"type\":\"field\",\"field\":\"x\"},\"y\":{\"type\":\"field\",\"field\":\"y\"},\"line_color\":\"#1f77b3\",\"line_alpha\":0.1,\"line_width\":2}},\"muted_glyph\":{\"type\":\"object\",\"name\":\"Line\",\"id\":\"p1040\",\"attributes\":{\"x\":{\"type\":\"field\",\"field\":\"x\"},\"y\":{\"type\":\"field\",\"field\":\"y\"},\"line_color\":\"#1f77b3\",\"line_alpha\":0.2,\"line_width\":2}}}},{\"type\":\"object\",\"name\":\"GlyphRenderer\",\"id\":\"p1050\",\"attributes\":{\"data_source\":{\"type\":\"object\",\"name\":\"ColumnDataSource\",\"id\":\"p1044\",\"attributes\":{\"selected\":{\"type\":\"object\",\"name\":\"Selection\",\"id\":\"p1045\",\"attributes\":{\"indices\":[],\"line_indices\":[]}},\"selection_policy\":{\"type\":\"object\",\"name\":\"UnionRenderers\",\"id\":\"p1046\"},\"data\":{\"type\":\"map\"}}},\"view\":{\"type\":\"object\",\"name\":\"CDSView\",\"id\":\"p1051\",\"attributes\":{\"filter\":{\"type\":\"object\",\"name\":\"AllIndices\",\"id\":\"p1052\"}}},\"glyph\":{\"type\":\"object\",\"name\":\"Ray\",\"id\":\"p1047\",\"attributes\":{\"x\":{\"type\":\"value\",\"value\":24.798348786946278},\"y\":{\"type\":\"value\",\"value\":0},\"angle\":{\"type\":\"value\",\"value\":3.141592653589793},\"line_color\":{\"type\":\"value\",\"value\":\"#1f77b3\"},\"line_width\":{\"type\":\"value\",\"value\":2}}},\"nonselection_glyph\":{\"type\":\"object\",\"name\":\"Ray\",\"id\":\"p1048\",\"attributes\":{\"x\":{\"type\":\"value\",\"value\":24.798348786946278},\"y\":{\"type\":\"value\",\"value\":0},\"angle\":{\"type\":\"value\",\"value\":3.141592653589793},\"line_color\":{\"type\":\"value\",\"value\":\"#1f77b3\"},\"line_alpha\":{\"type\":\"value\",\"value\":0.1},\"line_width\":{\"type\":\"value\",\"value\":2}}},\"muted_glyph\":{\"type\":\"object\",\"name\":\"Ray\",\"id\":\"p1049\",\"attributes\":{\"x\":{\"type\":\"value\",\"value\":24.798348786946278},\"y\":{\"type\":\"value\",\"value\":0},\"angle\":{\"type\":\"value\",\"value\":3.141592653589793},\"line_color\":{\"type\":\"value\",\"value\":\"#1f77b3\"},\"line_alpha\":{\"type\":\"value\",\"value\":0.2},\"line_width\":{\"type\":\"value\",\"value\":2}}}}},{\"type\":\"object\",\"name\":\"GlyphRenderer\",\"id\":\"p1059\",\"attributes\":{\"data_source\":{\"type\":\"object\",\"name\":\"ColumnDataSource\",\"id\":\"p1053\",\"attributes\":{\"selected\":{\"type\":\"object\",\"name\":\"Selection\",\"id\":\"p1054\",\"attributes\":{\"indices\":[],\"line_indices\":[]}},\"selection_policy\":{\"type\":\"object\",\"name\":\"UnionRenderers\",\"id\":\"p1055\"},\"data\":{\"type\":\"map\"}}},\"view\":{\"type\":\"object\",\"name\":\"CDSView\",\"id\":\"p1060\",\"attributes\":{\"filter\":{\"type\":\"object\",\"name\":\"AllIndices\",\"id\":\"p1061\"}}},\"glyph\":{\"type\":\"object\",\"name\":\"Ray\",\"id\":\"p1056\",\"attributes\":{\"x\":{\"type\":\"value\",\"value\":35.041636540983596},\"y\":{\"type\":\"value\",\"value\":1},\"line_color\":{\"type\":\"value\",\"value\":\"#1f77b3\"},\"line_width\":{\"type\":\"value\",\"value\":2}}},\"nonselection_glyph\":{\"type\":\"object\",\"name\":\"Ray\",\"id\":\"p1057\",\"attributes\":{\"x\":{\"type\":\"value\",\"value\":35.041636540983596},\"y\":{\"type\":\"value\",\"value\":1},\"line_color\":{\"type\":\"value\",\"value\":\"#1f77b3\"},\"line_alpha\":{\"type\":\"value\",\"value\":0.1},\"line_width\":{\"type\":\"value\",\"value\":2}}},\"muted_glyph\":{\"type\":\"object\",\"name\":\"Ray\",\"id\":\"p1058\",\"attributes\":{\"x\":{\"type\":\"value\",\"value\":35.041636540983596},\"y\":{\"type\":\"value\",\"value\":1},\"line_color\":{\"type\":\"value\",\"value\":\"#1f77b3\"},\"line_alpha\":{\"type\":\"value\",\"value\":0.2},\"line_width\":{\"type\":\"value\",\"value\":2}}}}},{\"type\":\"object\",\"name\":\"GlyphRenderer\",\"id\":\"p1068\",\"attributes\":{\"data_source\":{\"type\":\"object\",\"name\":\"ColumnDataSource\",\"id\":\"p1062\",\"attributes\":{\"selected\":{\"type\":\"object\",\"name\":\"Selection\",\"id\":\"p1063\",\"attributes\":{\"indices\":[],\"line_indices\":[]}},\"selection_policy\":{\"type\":\"object\",\"name\":\"UnionRenderers\",\"id\":\"p1064\"},\"data\":{\"type\":\"map\",\"entries\":[[\"x\",{\"type\":\"ndarray\",\"array\":{\"type\":\"bytes\",\"data\":\"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\"},\"shape\":[1000],\"dtype\":\"float64\",\"order\":\"little\"}],[\"y\",{\"type\":\"ndarray\",\"array\":{\"type\":\"bytes\",\"data\":\"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\"},\"shape\":[1000],\"dtype\":\"float64\",\"order\":\"little\"}]]}}},\"view\":{\"type\":\"object\",\"name\":\"CDSView\",\"id\":\"p1069\",\"attributes\":{\"filter\":{\"type\":\"object\",\"name\":\"AllIndices\",\"id\":\"p1070\"}}},\"glyph\":{\"type\":\"object\",\"name\":\"Line\",\"id\":\"p1065\",\"attributes\":{\"x\":{\"type\":\"field\",\"field\":\"x\"},\"y\":{\"type\":\"field\",\"field\":\"y\"},\"line_color\":\"#ff7e0e\",\"line_width\":2}},\"nonselection_glyph\":{\"type\":\"object\",\"name\":\"Line\",\"id\":\"p1066\",\"attributes\":{\"x\":{\"type\":\"field\",\"field\":\"x\"},\"y\":{\"type\":\"field\",\"field\":\"y\"},\"line_color\":\"#ff7e0e\",\"line_alpha\":0.1,\"line_width\":2}},\"muted_glyph\":{\"type\":\"object\",\"name\":\"Line\",\"id\":\"p1067\",\"attributes\":{\"x\":{\"type\":\"field\",\"field\":\"x\"},\"y\":{\"type\":\"field\",\"field\":\"y\"},\"line_color\":\"#ff7e0e\",\"line_alpha\":0.2,\"line_width\":2}}}},{\"type\":\"object\",\"name\":\"GlyphRenderer\",\"id\":\"p1077\",\"attributes\":{\"data_source\":{\"type\":\"object\",\"name\":\"ColumnDataSource\",\"id\":\"p1071\",\"attributes\":{\"selected\":{\"type\":\"object\",\"name\":\"Selection\",\"id\":\"p1072\",\"attributes\":{\"indices\":[],\"line_indices\":[]}},\"selection_policy\":{\"type\":\"object\",\"name\":\"UnionRenderers\",\"id\":\"p1073\"},\"data\":{\"type\":\"map\"}}},\"view\":{\"type\":\"object\",\"name\":\"CDSView\",\"id\":\"p1078\",\"attributes\":{\"filter\":{\"type\":\"object\",\"name\":\"AllIndices\",\"id\":\"p1079\"}}},\"glyph\":{\"type\":\"object\",\"name\":\"Ray\",\"id\":\"p1074\",\"attributes\":{\"x\":{\"type\":\"value\",\"value\":22.185444286548726},\"y\":{\"type\":\"value\",\"value\":0},\"angle\":{\"type\":\"value\",\"value\":3.141592653589793},\"line_color\":{\"type\":\"value\",\"value\":\"#ff7e0e\"},\"line_width\":{\"type\":\"value\",\"value\":2}}},\"nonselection_glyph\":{\"type\":\"object\",\"name\":\"Ray\",\"id\":\"p1075\",\"attributes\":{\"x\":{\"type\":\"value\",\"value\":22.185444286548726},\"y\":{\"type\":\"value\",\"value\":0},\"angle\":{\"type\":\"value\",\"value\":3.141592653589793},\"line_color\":{\"type\":\"value\",\"value\":\"#ff7e0e\"},\"line_alpha\":{\"type\":\"value\",\"value\":0.1},\"line_width\":{\"type\":\"value\",\"value\":2}}},\"muted_glyph\":{\"type\":\"object\",\"name\":\"Ray\",\"id\":\"p1076\",\"attributes\":{\"x\":{\"type\":\"value\",\"value\":22.185444286548726},\"y\":{\"type\":\"value\",\"value\":0},\"angle\":{\"type\":\"value\",\"value\":3.141592653589793},\"line_color\":{\"type\":\"value\",\"value\":\"#ff7e0e\"},\"line_alpha\":{\"type\":\"value\",\"value\":0.2},\"line_width\":{\"type\":\"value\",\"value\":2}}}}},{\"type\":\"object\",\"name\":\"GlyphRenderer\",\"id\":\"p1086\",\"attributes\":{\"data_source\":{\"type\":\"object\",\"name\":\"ColumnDataSource\",\"id\":\"p1080\",\"attributes\":{\"selected\":{\"type\":\"object\",\"name\":\"Selection\",\"id\":\"p1081\",\"attributes\":{\"indices\":[],\"line_indices\":[]}},\"selection_policy\":{\"type\":\"object\",\"name\":\"UnionRenderers\",\"id\":\"p1082\"},\"data\":{\"type\":\"map\"}}},\"view\":{\"type\":\"object\",\"name\":\"CDSView\",\"id\":\"p1087\",\"attributes\":{\"filter\":{\"type\":\"object\",\"name\":\"AllIndices\",\"id\":\"p1088\"}}},\"glyph\":{\"type\":\"object\",\"name\":\"Ray\",\"id\":\"p1083\",\"attributes\":{\"x\":{\"type\":\"value\",\"value\":27.471139525940433},\"y\":{\"type\":\"value\",\"value\":1},\"line_color\":{\"type\":\"value\",\"value\":\"#ff7e0e\"},\"line_width\":{\"type\":\"value\",\"value\":2}}},\"nonselection_glyph\":{\"type\":\"object\",\"name\":\"Ray\",\"id\":\"p1084\",\"attributes\":{\"x\":{\"type\":\"value\",\"value\":27.471139525940433},\"y\":{\"type\":\"value\",\"value\":1},\"line_color\":{\"type\":\"value\",\"value\":\"#ff7e0e\"},\"line_alpha\":{\"type\":\"value\",\"value\":0.1},\"line_width\":{\"type\":\"value\",\"value\":2}}},\"muted_glyph\":{\"type\":\"object\",\"name\":\"Ray\",\"id\":\"p1085\",\"attributes\":{\"x\":{\"type\":\"value\",\"value\":27.471139525940433},\"y\":{\"type\":\"value\",\"value\":1},\"line_color\":{\"type\":\"value\",\"value\":\"#ff7e0e\"},\"line_alpha\":{\"type\":\"value\",\"value\":0.2},\"line_width\":{\"type\":\"value\",\"value\":2}}}}},{\"type\":\"object\",\"name\":\"GlyphRenderer\",\"id\":\"p1095\",\"attributes\":{\"data_source\":{\"type\":\"object\",\"name\":\"ColumnDataSource\",\"id\":\"p1089\",\"attributes\":{\"selected\":{\"type\":\"object\",\"name\":\"Selection\",\"id\":\"p1090\",\"attributes\":{\"indices\":[],\"line_indices\":[]}},\"selection_policy\":{\"type\":\"object\",\"name\":\"UnionRenderers\",\"id\":\"p1091\"},\"data\":{\"type\":\"map\",\"entries\":[[\"x\",{\"type\":\"ndarray\",\"array\":{\"type\":\"bytes\",\"data\":\"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\"},\"shape\":[500],\"dtype\":\"float64\",\"order\":\"little\"}],[\"y\",{\"type\":\"ndarray\",\"array\":{\"type\":\"bytes\",\"data\":\"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\"},\"shape\":[500],\"dtype\":\"float64\",\"order\":\"little\"}]]}}},\"view\":{\"type\":\"object\",\"name\":\"CDSView\",\"id\":\"p1096\",\"attributes\":{\"filter\":{\"type\":\"object\",\"name\":\"AllIndices\",\"id\":\"p1097\"}}},\"glyph\":{\"type\":\"object\",\"name\":\"Line\",\"id\":\"p1092\",\"attributes\":{\"x\":{\"type\":\"field\",\"field\":\"x\"},\"y\":{\"type\":\"field\",\"field\":\"y\"},\"line_color\":\"#2ba02b\",\"line_width\":2}},\"nonselection_glyph\":{\"type\":\"object\",\"name\":\"Line\",\"id\":\"p1093\",\"attributes\":{\"x\":{\"type\":\"field\",\"field\":\"x\"},\"y\":{\"type\":\"field\",\"field\":\"y\"},\"line_color\":\"#2ba02b\",\"line_alpha\":0.1,\"line_width\":2}},\"muted_glyph\":{\"type\":\"object\",\"name\":\"Line\",\"id\":\"p1094\",\"attributes\":{\"x\":{\"type\":\"field\",\"field\":\"x\"},\"y\":{\"type\":\"field\",\"field\":\"y\"},\"line_color\":\"#2ba02b\",\"line_alpha\":0.2,\"line_width\":2}}}},{\"type\":\"object\",\"name\":\"GlyphRenderer\",\"id\":\"p1104\",\"attributes\":{\"data_source\":{\"type\":\"object\",\"name\":\"ColumnDataSource\",\"id\":\"p1098\",\"attributes\":{\"selected\":{\"type\":\"object\",\"name\":\"Selection\",\"id\":\"p1099\",\"attributes\":{\"indices\":[],\"line_indices\":[]}},\"selection_policy\":{\"type\":\"object\",\"name\":\"UnionRenderers\",\"id\":\"p1100\"},\"data\":{\"type\":\"map\"}}},\"view\":{\"type\":\"object\",\"name\":\"CDSView\",\"id\":\"p1105\",\"attributes\":{\"filter\":{\"type\":\"object\",\"name\":\"AllIndices\",\"id\":\"p1106\"}}},\"glyph\":{\"type\":\"object\",\"name\":\"Ray\",\"id\":\"p1101\",\"attributes\":{\"x\":{\"type\":\"value\",\"value\":39.36914273143016},\"y\":{\"type\":\"value\",\"value\":0},\"angle\":{\"type\":\"value\",\"value\":3.141592653589793},\"line_color\":{\"type\":\"value\",\"value\":\"#2ba02b\"},\"line_width\":{\"type\":\"value\",\"value\":2}}},\"nonselection_glyph\":{\"type\":\"object\",\"name\":\"Ray\",\"id\":\"p1102\",\"attributes\":{\"x\":{\"type\":\"value\",\"value\":39.36914273143016},\"y\":{\"type\":\"value\",\"value\":0},\"angle\":{\"type\":\"value\",\"value\":3.141592653589793},\"line_color\":{\"type\":\"value\",\"value\":\"#2ba02b\"},\"line_alpha\":{\"type\":\"value\",\"value\":0.1},\"line_width\":{\"type\":\"value\",\"value\":2}}},\"muted_glyph\":{\"type\":\"object\",\"name\":\"Ray\",\"id\":\"p1103\",\"attributes\":{\"x\":{\"type\":\"value\",\"value\":39.36914273143016},\"y\":{\"type\":\"value\",\"value\":0},\"angle\":{\"type\":\"value\",\"value\":3.141592653589793},\"line_color\":{\"type\":\"value\",\"value\":\"#2ba02b\"},\"line_alpha\":{\"type\":\"value\",\"value\":0.2},\"line_width\":{\"type\":\"value\",\"value\":2}}}}},{\"type\":\"object\",\"name\":\"GlyphRenderer\",\"id\":\"p1113\",\"attributes\":{\"data_source\":{\"type\":\"object\",\"name\":\"ColumnDataSource\",\"id\":\"p1107\",\"attributes\":{\"selected\":{\"type\":\"object\",\"name\":\"Selection\",\"id\":\"p1108\",\"attributes\":{\"indices\":[],\"line_indices\":[]}},\"selection_policy\":{\"type\":\"object\",\"name\":\"UnionRenderers\",\"id\":\"p1109\"},\"data\":{\"type\":\"map\"}}},\"view\":{\"type\":\"object\",\"name\":\"CDSView\",\"id\":\"p1114\",\"attributes\":{\"filter\":{\"type\":\"object\",\"name\":\"AllIndices\",\"id\":\"p1115\"}}},\"glyph\":{\"type\":\"object\",\"name\":\"Ray\",\"id\":\"p1110\",\"attributes\":{\"x\":{\"type\":\"value\",\"value\":40.693170791200785},\"y\":{\"type\":\"value\",\"value\":1},\"line_color\":{\"type\":\"value\",\"value\":\"#2ba02b\"},\"line_width\":{\"type\":\"value\",\"value\":2}}},\"nonselection_glyph\":{\"type\":\"object\",\"name\":\"Ray\",\"id\":\"p1111\",\"attributes\":{\"x\":{\"type\":\"value\",\"value\":40.693170791200785},\"y\":{\"type\":\"value\",\"value\":1},\"line_color\":{\"type\":\"value\",\"value\":\"#2ba02b\"},\"line_alpha\":{\"type\":\"value\",\"value\":0.1},\"line_width\":{\"type\":\"value\",\"value\":2}}},\"muted_glyph\":{\"type\":\"object\",\"name\":\"Ray\",\"id\":\"p1112\",\"attributes\":{\"x\":{\"type\":\"value\",\"value\":40.693170791200785},\"y\":{\"type\":\"value\",\"value\":1},\"line_color\":{\"type\":\"value\",\"value\":\"#2ba02b\"},\"line_alpha\":{\"type\":\"value\",\"value\":0.2},\"line_width\":{\"type\":\"value\",\"value\":2}}}}}],\"toolbar\":{\"type\":\"object\",\"name\":\"Toolbar\",\"id\":\"p1009\",\"attributes\":{\"tools\":[{\"type\":\"object\",\"name\":\"PanTool\",\"id\":\"p1022\"},{\"type\":\"object\",\"name\":\"WheelZoomTool\",\"id\":\"p1023\",\"attributes\":{\"renderers\":\"auto\"}},{\"type\":\"object\",\"name\":\"BoxZoomTool\",\"id\":\"p1024\",\"attributes\":{\"overlay\":{\"type\":\"object\",\"name\":\"BoxAnnotation\",\"id\":\"p1025\",\"attributes\":{\"syncable\":false,\"line_color\":\"black\",\"line_alpha\":1.0,\"line_width\":2,\"line_dash\":[4,4],\"fill_color\":\"lightgrey\",\"fill_alpha\":0.5,\"level\":\"overlay\",\"visible\":false,\"left\":{\"type\":\"number\",\"value\":\"nan\"},\"right\":{\"type\":\"number\",\"value\":\"nan\"},\"top\":{\"type\":\"number\",\"value\":\"nan\"},\"bottom\":{\"type\":\"number\",\"value\":\"nan\"},\"left_units\":\"canvas\",\"right_units\":\"canvas\",\"top_units\":\"canvas\",\"bottom_units\":\"canvas\",\"handles\":{\"type\":\"object\",\"name\":\"BoxInteractionHandles\",\"id\":\"p1031\",\"attributes\":{\"all\":{\"type\":\"object\",\"name\":\"AreaVisuals\",\"id\":\"p1030\",\"attributes\":{\"fill_color\":\"white\",\"hover_fill_color\":\"lightgray\"}}}}}}}},{\"type\":\"object\",\"name\":\"SaveTool\",\"id\":\"p1032\"},{\"type\":\"object\",\"name\":\"ResetTool\",\"id\":\"p1033\"},{\"type\":\"object\",\"name\":\"HelpTool\",\"id\":\"p1034\"}]}},\"toolbar_location\":\"above\",\"left\":[{\"type\":\"object\",\"name\":\"LinearAxis\",\"id\":\"p1017\",\"attributes\":{\"ticker\":{\"type\":\"object\",\"name\":\"BasicTicker\",\"id\":\"p1018\",\"attributes\":{\"mantissas\":[1,2,5]}},\"formatter\":{\"type\":\"object\",\"name\":\"BasicTickFormatter\",\"id\":\"p1019\"},\"axis_label\":\"ECDF\",\"major_label_policy\":{\"type\":\"object\",\"name\":\"AllLabels\",\"id\":\"p1020\"}}}],\"right\":[{\"type\":\"object\",\"name\":\"Legend\",\"id\":\"p1116\",\"attributes\":{\"location\":\"center\",\"click_policy\":\"hide\",\"items\":[{\"type\":\"object\",\"name\":\"LegendItem\",\"id\":\"p1117\",\"attributes\":{\"label\":{\"type\":\"value\",\"value\":\"g1\"},\"renderers\":[{\"id\":\"p1041\"},{\"id\":\"p1059\"},{\"id\":\"p1050\"}]}},{\"type\":\"object\",\"name\":\"LegendItem\",\"id\":\"p1118\",\"attributes\":{\"label\":{\"type\":\"value\",\"value\":\"g2\"},\"renderers\":[{\"id\":\"p1068\"},{\"id\":\"p1086\"},{\"id\":\"p1077\"}]}},{\"type\":\"object\",\"name\":\"LegendItem\",\"id\":\"p1119\",\"attributes\":{\"label\":{\"type\":\"value\",\"value\":\"g3\"},\"renderers\":[{\"id\":\"p1095\"},{\"id\":\"p1113\"},{\"id\":\"p1104\"}]}}]}}],\"below\":[{\"type\":\"object\",\"name\":\"LinearAxis\",\"id\":\"p1012\",\"attributes\":{\"ticker\":{\"type\":\"object\",\"name\":\"BasicTicker\",\"id\":\"p1013\",\"attributes\":{\"mantissas\":[1,2,5]}},\"formatter\":{\"type\":\"object\",\"name\":\"BasicTickFormatter\",\"id\":\"p1014\"},\"axis_label\":\"Realized value\",\"major_label_policy\":{\"type\":\"object\",\"name\":\"AllLabels\",\"id\":\"p1015\"}}}],\"center\":[{\"type\":\"object\",\"name\":\"Grid\",\"id\":\"p1016\",\"attributes\":{\"axis\":{\"id\":\"p1012\"}}},{\"type\":\"object\",\"name\":\"Grid\",\"id\":\"p1021\",\"attributes\":{\"dimension\":1,\"axis\":{\"id\":\"p1017\"}}}],\"frame_width\":375,\"frame_height\":275}}]}};\n  const render_items = [{\"docid\":\"9999e6d5-49b9-40b9-9c3d-5aecd4a9c660\",\"roots\":{\"p1001\":\"dbe08b97-12ba-4901-a51d-3021be1b7c42\"},\"root_ids\":[\"p1001\"]}];\n  void root.Bokeh.embed.embed_items_notebook(docs_json, render_items);\n  }\n  if (root.Bokeh !== undefined) {\n    embed_document(root);\n  } else {\n    let attempts = 0;\n    const timer = setInterval(function(root) {\n      if (root.Bokeh !== undefined) {\n        clearInterval(timer);\n        embed_document(root);\n      } else {\n        attempts++;\n        if (attempts > 100) {\n          clearInterval(timer);\n          console.log(\"Bokeh: ERROR: Unable to run BokehJS code because BokehJS library is missing\");\n        }\n      }\n    }, 10, root)\n  }\n})(window);",
      "application/vnd.bokehjs_exec.v0+json": ""
     },
     "metadata": {
      "application/vnd.bokehjs_exec.v0+json": {
       "id": "p1001"
      }
     },
     "output_type": "display_data"
    }
   ],
   "source": [
    "bokeh.io.show(\n",
    "    iqplot.ecdf(\n",
    "        data=df,\n",
    "        q='value',\n",
    "        cats='group',\n",
    "        x_axis_label='Realized value'\n",
    "    )\n",
    ")"
   ]
  },
  {
   "cell_type": "markdown",
   "metadata": {
    "id": "-IkZxucx0WNs"
   },
   "source": [
    "It is clear that the distributions for each simulated group are distinct. To see where the EM algorigthm could be useful, consider a scenario where we did not know the distribution that generated each measurement. Our ECDF would instead look something like this"
   ]
  },
  {
   "cell_type": "code",
   "execution_count": 4,
   "metadata": {
    "colab": {
     "base_uri": "https://localhost:8080/",
     "height": 367
    },
    "id": "dglbc5VV0usE",
    "outputId": "c6657a55-ba19-4fa2-eea9-9cafecb3d706"
   },
   "outputs": [
    {
     "data": {
      "text/html": [
       "\n",
       "  <div id=\"da4f435d-db76-4456-9604-7cfc92263021\" data-root-id=\"p1126\" style=\"display: contents;\"></div>\n"
      ]
     },
     "metadata": {},
     "output_type": "display_data"
    },
    {
     "data": {
      "application/javascript": "(function(root) {\n  function embed_document(root) {\n  const docs_json = {\"857f5c31-96d6-40e3-9f26-b321a74eef60\":{\"version\":\"3.6.2\",\"title\":\"Bokeh Application\",\"roots\":[{\"type\":\"object\",\"name\":\"Figure\",\"id\":\"p1126\",\"attributes\":{\"x_range\":{\"type\":\"object\",\"name\":\"DataRange1d\",\"id\":\"p1127\"},\"y_range\":{\"type\":\"object\",\"name\":\"DataRange1d\",\"id\":\"p1128\"},\"x_scale\":{\"type\":\"object\",\"name\":\"LinearScale\",\"id\":\"p1135\"},\"y_scale\":{\"type\":\"object\",\"name\":\"LinearScale\",\"id\":\"p1136\"},\"title\":{\"type\":\"object\",\"name\":\"Title\",\"id\":\"p1133\"},\"renderers\":[{\"type\":\"object\",\"name\":\"GlyphRenderer\",\"id\":\"p1166\",\"attributes\":{\"data_source\":{\"type\":\"object\",\"name\":\"ColumnDataSource\",\"id\":\"p1160\",\"attributes\":{\"selected\":{\"type\":\"object\",\"name\":\"Selection\",\"id\":\"p1161\",\"attributes\":{\"indices\":[],\"line_indices\":[]}},\"selection_policy\":{\"type\":\"object\",\"name\":\"UnionRenderers\",\"id\":\"p1162\"},\"data\":{\"type\":\"map\",\"entries\":[[\"x\",{\"type\":\"ndarray\",\"array\":{\"type\":\"bytes\",\"data\":\"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\"},\"shape\":[2500],\"dtype\":\"float64\",\"order\":\"little\"}],[\"y\",{\"type\":\"ndarray\",\"array\":{\"type\":\"bytes\",\"data\":\"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\"},\"shape\":[2500],\"dtype\":\"float64\",\"order\":\"little\"}]]}}},\"view\":{\"type\":\"object\",\"name\":\"CDSView\",\"id\":\"p1167\",\"attributes\":{\"filter\":{\"type\":\"object\",\"name\":\"AllIndices\",\"id\":\"p1168\"}}},\"glyph\":{\"type\":\"object\",\"name\":\"Line\",\"id\":\"p1163\",\"attributes\":{\"x\":{\"type\":\"field\",\"field\":\"x\"},\"y\":{\"type\":\"field\",\"field\":\"y\"},\"line_color\":\"#1f77b3\",\"line_width\":2}},\"nonselection_glyph\":{\"type\":\"object\",\"name\":\"Line\",\"id\":\"p1164\",\"attributes\":{\"x\":{\"type\":\"field\",\"field\":\"x\"},\"y\":{\"type\":\"field\",\"field\":\"y\"},\"line_color\":\"#1f77b3\",\"line_alpha\":0.1,\"line_width\":2}},\"muted_glyph\":{\"type\":\"object\",\"name\":\"Line\",\"id\":\"p1165\",\"attributes\":{\"x\":{\"type\":\"field\",\"field\":\"x\"},\"y\":{\"type\":\"field\",\"field\":\"y\"},\"line_color\":\"#1f77b3\",\"line_alpha\":0.2,\"line_width\":2}}}},{\"type\":\"object\",\"name\":\"GlyphRenderer\",\"id\":\"p1175\",\"attributes\":{\"data_source\":{\"type\":\"object\",\"name\":\"ColumnDataSource\",\"id\":\"p1169\",\"attributes\":{\"selected\":{\"type\":\"object\",\"name\":\"Selection\",\"id\":\"p1170\",\"attributes\":{\"indices\":[],\"line_indices\":[]}},\"selection_policy\":{\"type\":\"object\",\"name\":\"UnionRenderers\",\"id\":\"p1171\"},\"data\":{\"type\":\"map\"}}},\"view\":{\"type\":\"object\",\"name\":\"CDSView\",\"id\":\"p1176\",\"attributes\":{\"filter\":{\"type\":\"object\",\"name\":\"AllIndices\",\"id\":\"p1177\"}}},\"glyph\":{\"type\":\"object\",\"name\":\"Ray\",\"id\":\"p1172\",\"attributes\":{\"x\":{\"type\":\"value\",\"value\":22.185444286548726},\"y\":{\"type\":\"value\",\"value\":0},\"angle\":{\"type\":\"value\",\"value\":3.141592653589793},\"line_color\":{\"type\":\"value\",\"value\":\"#1f77b3\"},\"line_width\":{\"type\":\"value\",\"value\":2}}},\"nonselection_glyph\":{\"type\":\"object\",\"name\":\"Ray\",\"id\":\"p1173\",\"attributes\":{\"x\":{\"type\":\"value\",\"value\":22.185444286548726},\"y\":{\"type\":\"value\",\"value\":0},\"angle\":{\"type\":\"value\",\"value\":3.141592653589793},\"line_color\":{\"type\":\"value\",\"value\":\"#1f77b3\"},\"line_alpha\":{\"type\":\"value\",\"value\":0.1},\"line_width\":{\"type\":\"value\",\"value\":2}}},\"muted_glyph\":{\"type\":\"object\",\"name\":\"Ray\",\"id\":\"p1174\",\"attributes\":{\"x\":{\"type\":\"value\",\"value\":22.185444286548726},\"y\":{\"type\":\"value\",\"value\":0},\"angle\":{\"type\":\"value\",\"value\":3.141592653589793},\"line_color\":{\"type\":\"value\",\"value\":\"#1f77b3\"},\"line_alpha\":{\"type\":\"value\",\"value\":0.2},\"line_width\":{\"type\":\"value\",\"value\":2}}}}},{\"type\":\"object\",\"name\":\"GlyphRenderer\",\"id\":\"p1184\",\"attributes\":{\"data_source\":{\"type\":\"object\",\"name\":\"ColumnDataSource\",\"id\":\"p1178\",\"attributes\":{\"selected\":{\"type\":\"object\",\"name\":\"Selection\",\"id\":\"p1179\",\"attributes\":{\"indices\":[],\"line_indices\":[]}},\"selection_policy\":{\"type\":\"object\",\"name\":\"UnionRenderers\",\"id\":\"p1180\"},\"data\":{\"type\":\"map\"}}},\"view\":{\"type\":\"object\",\"name\":\"CDSView\",\"id\":\"p1185\",\"attributes\":{\"filter\":{\"type\":\"object\",\"name\":\"AllIndices\",\"id\":\"p1186\"}}},\"glyph\":{\"type\":\"object\",\"name\":\"Ray\",\"id\":\"p1181\",\"attributes\":{\"x\":{\"type\":\"value\",\"value\":40.693170791200785},\"y\":{\"type\":\"value\",\"value\":1},\"line_color\":{\"type\":\"value\",\"value\":\"#1f77b3\"},\"line_width\":{\"type\":\"value\",\"value\":2}}},\"nonselection_glyph\":{\"type\":\"object\",\"name\":\"Ray\",\"id\":\"p1182\",\"attributes\":{\"x\":{\"type\":\"value\",\"value\":40.693170791200785},\"y\":{\"type\":\"value\",\"value\":1},\"line_color\":{\"type\":\"value\",\"value\":\"#1f77b3\"},\"line_alpha\":{\"type\":\"value\",\"value\":0.1},\"line_width\":{\"type\":\"value\",\"value\":2}}},\"muted_glyph\":{\"type\":\"object\",\"name\":\"Ray\",\"id\":\"p1183\",\"attributes\":{\"x\":{\"type\":\"value\",\"value\":40.693170791200785},\"y\":{\"type\":\"value\",\"value\":1},\"line_color\":{\"type\":\"value\",\"value\":\"#1f77b3\"},\"line_alpha\":{\"type\":\"value\",\"value\":0.2},\"line_width\":{\"type\":\"value\",\"value\":2}}}}}],\"toolbar\":{\"type\":\"object\",\"name\":\"Toolbar\",\"id\":\"p1134\",\"attributes\":{\"tools\":[{\"type\":\"object\",\"name\":\"PanTool\",\"id\":\"p1147\"},{\"type\":\"object\",\"name\":\"WheelZoomTool\",\"id\":\"p1148\",\"attributes\":{\"renderers\":\"auto\"}},{\"type\":\"object\",\"name\":\"BoxZoomTool\",\"id\":\"p1149\",\"attributes\":{\"overlay\":{\"type\":\"object\",\"name\":\"BoxAnnotation\",\"id\":\"p1150\",\"attributes\":{\"syncable\":false,\"line_color\":\"black\",\"line_alpha\":1.0,\"line_width\":2,\"line_dash\":[4,4],\"fill_color\":\"lightgrey\",\"fill_alpha\":0.5,\"level\":\"overlay\",\"visible\":false,\"left\":{\"type\":\"number\",\"value\":\"nan\"},\"right\":{\"type\":\"number\",\"value\":\"nan\"},\"top\":{\"type\":\"number\",\"value\":\"nan\"},\"bottom\":{\"type\":\"number\",\"value\":\"nan\"},\"left_units\":\"canvas\",\"right_units\":\"canvas\",\"top_units\":\"canvas\",\"bottom_units\":\"canvas\",\"handles\":{\"type\":\"object\",\"name\":\"BoxInteractionHandles\",\"id\":\"p1156\",\"attributes\":{\"all\":{\"type\":\"object\",\"name\":\"AreaVisuals\",\"id\":\"p1155\",\"attributes\":{\"fill_color\":\"white\",\"hover_fill_color\":\"lightgray\"}}}}}}}},{\"type\":\"object\",\"name\":\"SaveTool\",\"id\":\"p1157\"},{\"type\":\"object\",\"name\":\"ResetTool\",\"id\":\"p1158\"},{\"type\":\"object\",\"name\":\"HelpTool\",\"id\":\"p1159\"}]}},\"toolbar_location\":\"above\",\"left\":[{\"type\":\"object\",\"name\":\"LinearAxis\",\"id\":\"p1142\",\"attributes\":{\"ticker\":{\"type\":\"object\",\"name\":\"BasicTicker\",\"id\":\"p1143\",\"attributes\":{\"mantissas\":[1,2,5]}},\"formatter\":{\"type\":\"object\",\"name\":\"BasicTickFormatter\",\"id\":\"p1144\"},\"axis_label\":\"ECDF\",\"major_label_policy\":{\"type\":\"object\",\"name\":\"AllLabels\",\"id\":\"p1145\"}}}],\"below\":[{\"type\":\"object\",\"name\":\"LinearAxis\",\"id\":\"p1137\",\"attributes\":{\"ticker\":{\"type\":\"object\",\"name\":\"BasicTicker\",\"id\":\"p1138\",\"attributes\":{\"mantissas\":[1,2,5]}},\"formatter\":{\"type\":\"object\",\"name\":\"BasicTickFormatter\",\"id\":\"p1139\"},\"axis_label\":\"Realized value\",\"major_label_policy\":{\"type\":\"object\",\"name\":\"AllLabels\",\"id\":\"p1140\"}}}],\"center\":[{\"type\":\"object\",\"name\":\"Grid\",\"id\":\"p1141\",\"attributes\":{\"axis\":{\"id\":\"p1137\"}}},{\"type\":\"object\",\"name\":\"Grid\",\"id\":\"p1146\",\"attributes\":{\"dimension\":1,\"axis\":{\"id\":\"p1142\"}}}],\"frame_width\":375,\"frame_height\":275}}]}};\n  const render_items = [{\"docid\":\"857f5c31-96d6-40e3-9f26-b321a74eef60\",\"roots\":{\"p1126\":\"da4f435d-db76-4456-9604-7cfc92263021\"},\"root_ids\":[\"p1126\"]}];\n  void root.Bokeh.embed.embed_items_notebook(docs_json, render_items);\n  }\n  if (root.Bokeh !== undefined) {\n    embed_document(root);\n  } else {\n    let attempts = 0;\n    const timer = setInterval(function(root) {\n      if (root.Bokeh !== undefined) {\n        clearInterval(timer);\n        embed_document(root);\n      } else {\n        attempts++;\n        if (attempts > 100) {\n          clearInterval(timer);\n          console.log(\"Bokeh: ERROR: Unable to run BokehJS code because BokehJS library is missing\");\n        }\n      }\n    }, 10, root)\n  }\n})(window);",
      "application/vnd.bokehjs_exec.v0+json": ""
     },
     "metadata": {
      "application/vnd.bokehjs_exec.v0+json": {
       "id": "p1126"
      }
     },
     "output_type": "display_data"
    }
   ],
   "source": [
    "bokeh.io.show(\n",
    "    iqplot.ecdf(\n",
    "        data=df,\n",
    "        q='value',\n",
    "        x_axis_label='Realized value'\n",
    "    )\n",
    ")"
   ]
  },
  {
   "cell_type": "markdown",
   "metadata": {
    "id": "tz-P1-VB0opv"
   },
   "source": [
    "In this setting, computing statistics like the average for each group is no longer possible because we don't know which distribution corresponds to each measurement. The EM algorithm offers a solution. To apply the EM algorithm, we will assume that there is an unobserved random variable $\\mathcal{Y} = \\{y_1, ...., y_n\\}$ representing the assignment of each of the $n$ measurements to one of $k = 3$ Gaussians, where $P(\\mathcal{Y}=j) = \\pi_{j}$. Assuming that the measurements are generated from a Gaussian mixture distribution, the complete likelihood is given by\n",
    "\n",
    "$$\n",
    "\\begin{align}\n",
    "  f(\\mathcal{X}, \\mathcal{Y}\\mid\\theta) &= \\prod_{i=1}^{N}\\,f(x_i\\mid y_i, \\theta)f(y_i\\mid\\theta)\\\\\n",
    "  &= \\prod_{i=1}^{N}\\,\\pi_{y_{i}}\\cdot\\mathcal{N}(\\mu_{y_i}, \\sigma_{y_i})\n",
    "\\end{align}\n",
    "$$\n",
    "where the parameters of the model are $\\theta = (\\pi_1, ..., \\pi_k, \\mu_1, ..., \\mu_k, \\sigma_1,...,\\sigma_k)$. With this model in hand, we can construct the Q function, $Q(\\theta\\mid\\theta_t)$.\n",
    "\n",
    "\n",
    "$$\n",
    "  \\begin{align}\n",
    "    Q(\\theta\\mid\\theta_t) &= \\mathbb{E}\\left[\\ln\\,f(\\mathcal{X},\\mathcal{Y}|\\theta)\\mid\\mathcal{X},\\theta_t\\right]\\\\\n",
    "    &= \\sum_{i=1}^{N}\\sum_{j=1}^{M}\\, f(\\mathcal{Y}=j|\\mathcal{X}=x_i,\\theta_t)\\ln\\,f(\\mathcal{X}=x_i,\\mathcal{Y}=j|\\theta)\\, dy \\\\\n",
    "    &= \\sum_{i=1}^{N}\\sum_{j=1}^{M}\\, \\frac{f(\\mathcal{X}=x_i \\mid\\mathcal{Y}=j, \\theta_t)f(\\mathcal{Y}=j\\mid\\theta_t)}{\\sum_{k=1}^{M}\\,f(\\mathcal{X}=x_i \\mid\\mathcal{Y}=k, \\theta_t)f(\\mathcal{Y}=k\\mid\\theta_t)}\\ln f(\\mathcal{X}=x_i \\mid\\mathcal{Y}=j, \\theta)f(\\mathcal{Y}=j\\mid\\theta)\\,dy\n",
    "  \\end{align}\n",
    "$$\n",
    "\n",
    "Define $\\gamma_{ij} \\colon= \\frac{f(\\mathcal{X}=x_i \\mid\\mathcal{Y}=j, \\theta_{t})f(\\mathcal{Y}=j\\mid\\theta_{t})}{\\sum_{k=1}^{M}\\,f(\\mathcal{X}=x_i \\mid\\mathcal{Y}=k, \\theta_{t})f(\\mathcal{Y}=k\\mid\\theta_{t})}$ so that,\n",
    "\n",
    "$$\n",
    "  \\begin{align}\n",
    "  Q(\\theta\\mid\\theta_t) = \\sum_{i=1}^{N}\\sum_{j=1}^{M}\\,\\gamma_{ij}\\,\\ln\\pi_jf(\\mathcal{X}=x_i \\mid\\mathcal{Y}=j, \\theta)\n",
    "  \\end{align}\n",
    "$$\n",
    "\n",
    "\n",
    "In the E-step, we'll compute this function assuming $\\theta = \\theta_t$. Notice, that  $f(\\mathcal{Y}=j|\\mathcal{X}=x_i,\\theta_t)$ represents the probability of assigment $j$ given the data and parameters. In the literature, this is referred to as the *responsibility* of the $j$-th component for $x_i$.\n",
    "\n",
    "\n",
    "We'll define a few helper functions for this part of the algorithm."
   ]
  },
  {
   "cell_type": "code",
   "execution_count": 5,
   "metadata": {
    "id": "dB5ZmxY2FCyn"
   },
   "outputs": [],
   "source": [
    "def responsibility(x, params):\n",
    "    \"\"\"\n",
    "    Compute responsibility of component `y` for the data `x`.\n",
    "    \"\"\"\n",
    "    mu, sigma, pi = params\n",
    "    r0 = st.norm.pdf(x[:,None], mu, np.sqrt(sigma)) * pi\n",
    "\n",
    "    return r0/np.sum(r0, axis=1)[:,None]\n",
    "\n",
    "def q_function(x, params, params_old):\n",
    "  \"\"\"\n",
    "  Compute the expected value of the complete log-likelihood\n",
    "  \"\"\"\n",
    "  resp = responsibility(x, params_old)\n",
    "  ll = log_complete_likelihood(x, params)\n",
    "\n",
    "  return resp, np.sum(resp * ll)\n",
    "\n",
    "def log_complete_likelihood(x, params):\n",
    "    \"\"\"\n",
    "    Compute log of the *complete* data likelihood\n",
    "    \"\"\"\n",
    "    mu, sigma, pi = params\n",
    "    return st.norm.logpdf(x[:,None], mu, np.sqrt(sigma)) + np.log(pi)"
   ]
  },
  {
   "cell_type": "markdown",
   "metadata": {
    "id": "XfgQSuvO8aWj"
   },
   "source": [
    "To describe the full generative model, we need to define priors for the parameters.\n",
    "\n",
    "The $\\mathbf{\\pi}$ have the constraint that $\\sum_{j=1}^{k}\\, \\pi_{j} = 1$, so we will use a Dirichlet prior. According to Wikipedia, values of the concentration parameter, $\\mathbf{\\alpha}$ below 1 prefer sparse distributions  and the case where each $\\alpha_k = 1$ is equivalent to the uniform distribution over the $(K-1)$-simplex. We will set $\\alpha$ so that the the distribution is less concentrated and each of the $k$ components have equal weight. That is,\n",
    "\n",
    "$$\n",
    "  \\pi_1,\\cdots,\\pi_k \\sim \\text{Dirichlet}(1.5,1.5,1.5)\n",
    "$$\n",
    "\n",
    "Also, we have normal priors on the means of the Normal distributions, $\\mu_k$\n",
    "$$\n",
    "  \\mu_k \\sim \\mathcal{N}(30, 5)\n",
    "$$\n",
    "\n",
    "and we will assign broad Gamma priors to the variances, $\\sigma_k$\n",
    "$$\n",
    "  \\sigma_k \\sim \\text{Gamma}(5, 1)\n",
    "$$"
   ]
  },
  {
   "cell_type": "markdown",
   "metadata": {
    "id": "8zlJ3bTPNwIS"
   },
   "source": [
    "Let's code up these priors so that we can compare the results from MAP estimation to those from the EM algorithm. As we will see below, we can derive the update rules for each parameter analytically, so that we do not have to compute the prior at each step."
   ]
  },
  {
   "cell_type": "code",
   "execution_count": 6,
   "metadata": {
    "id": "KxpkKJ6yBJtt"
   },
   "outputs": [],
   "source": [
    "def log_prior(params):\n",
    "    \"\"\"\n",
    "    Compute the log prior\n",
    "    \"\"\"\n",
    "    mu, sigma, pi = params\n",
    "    \n",
    "    if (params <= 0).any():\n",
    "        return -np.inf\n",
    "    \n",
    "    if (np.abs(np.sum(pi) - 1.0) > 10e-10):\n",
    "        return -np.inf\n",
    "    \n",
    "    lp = np.sum(st.norm.logpdf(mu, 30, np.sqrt(5)))\n",
    "    lp += np.sum(st.gamma.logpdf(sigma, 5, loc=0, scale=1))\n",
    "    lp += st.dirichlet.logpdf(pi, np.array([1.5,1.5,1.5]))\n",
    "    \n",
    "    return lp\n",
    "\n",
    "def log_complete_likelihood(x, params):\n",
    "    \"\"\"\n",
    "    Compute log of the *complete* data likelihood\n",
    "    \"\"\"\n",
    "    mu, sigma, pi = params\n",
    "    return st.norm.logpdf(x[:,None], mu, np.sqrt(sigma)) + np.log(pi)\n",
    "\n",
    "def log_likelihood(x, params):\n",
    "    mu, sigma, pi = params\n",
    "    \n",
    "    lik = st.norm.pdf(x[:,None], mu, np.sqrt(sigma)) * pi\n",
    "    lik = np.sum(lik, axis=1)\n",
    "    \n",
    "    return np.sum(np.log(lik))\n",
    "\n",
    "def log_posterior(params, x):\n",
    "    lp = log_prior(params)\n",
    "    if lp == -np.inf:\n",
    "        return lp\n",
    "    \n",
    "    return lp + log_likelihood(x, params)\n",
    "\n",
    "def neg_log_posterior(params, x):\n",
    "    params = params.reshape(3,-1)\n",
    "    return -log_posterior(params, x)"
   ]
  },
  {
   "cell_type": "markdown",
   "metadata": {
    "id": "-KuYJEtKbcIp"
   },
   "source": [
    "\n",
    "The M-step involves finding the value $\\theta$ that maximizes $Q(\\theta\\mid\\theta_{t}) + \\log\\,g(\\theta)$. We can compute this value analytically by taking partial derivatives and setting the expressions equal to 0. With a bit of Calculus and algebra, we can show that each of the parameters have the following update rules:\n",
    "\n",
    "For $\\sigma_{k}^2$ with a Gamma prior:  \n",
    "\n",
    "$$\n",
    "\\begin{aligned}\n",
    "  {\\sigma_k^2}^{(t+1)} &= \\frac{\\sum_{i=1}^{N} \\gamma_{ik} (x_i - \\mu_k)^2 + 2 \\beta_0}{\\sum_{i=1}^{N} \\gamma_{ik} + 2 (\\alpha_0 - 1)}\n",
    "\\end{aligned}\n",
    "$$\n",
    "\n",
    "where $\\alpha_0$ and $\\beta_0$ are the shape and scale parameters of the Gamma prior.\n",
    "\n",
    "For $\\mu_k$ with a Normal prior:\n",
    "$$\n",
    "\\begin{aligned}\n",
    "  {\\mu_k}^{(t+1)} &= \\frac{\\sum_{i=1}^{N} \\gamma_{ik} x_i + \\frac{\\sigma_k^2}{\\tau_0^2} \\mu_0}{\\sum_{i=1}^{N} \\gamma_{ik} + \\frac{\\sigma_k^2}{\\tau_0^2}}\n",
    "\\end{aligned}\n",
    "$$\n",
    "\n",
    "where $\\mu_0$ and $\\tau_0^2$ are the mean and variance of the Normal prior\n",
    "\n",
    "The mixing probabilities are updated with the following rule\n",
    "$$\n",
    "\\begin{aligned}\n",
    "{\\pi_k}^{(t+1)} = \\frac{\\sum_{i=1}^{N} \\gamma_{ik} + (\\alpha_k-1)}{\\sum_{k=1}^{K} \\left( \\sum_{i=1}^{N} \\gamma_{ik} + (\\alpha_k-1) \\right)}\n",
    "\\end{aligned}\n",
    "$$\n",
    "\n",
    "\n",
    "This shows that the responsibilities, $\\gamma_{ij}$ determine the update rules for all of the parameters."
   ]
  },
  {
   "cell_type": "code",
   "execution_count": 7,
   "metadata": {
    "id": "NCYVMPX7zdUy"
   },
   "outputs": [],
   "source": [
    "def update_mu(x, r, sigma, *, hyper_mu=30, hyper_tau=5):\n",
    "  \"\"\"\n",
    "  Update rule for mu\n",
    "  \"\"\"\n",
    "  mu_new = np.sum(r * x[:,None], axis=0) + (sigma/hyper_tau)*hyper_mu\n",
    "  mu_new /= np.sum(r, axis=0) + (sigma/hyper_tau)\n",
    "\n",
    "  return mu_new\n",
    "\n",
    "def update_pi(x, r, *, hyper_alpha=np.array([1.5, 1.5, 1.5])):\n",
    "  \"\"\"\n",
    "  Update mixing probabilites\n",
    "  \"\"\"\n",
    "  # double sum of responsibilities is N.\n",
    "  N = x.shape[0]\n",
    "\n",
    "  pi_new = np.sum(r, axis=0) + (hyper_alpha - 1)\n",
    "  pi_new /= N + np.sum(hyper_alpha - 1)\n",
    "\n",
    "  return pi_new\n",
    "\n",
    "def update_sigma(x, r, mu, *, hyper_alpha=5, hyper_beta=1):\n",
    "  \"\"\"\n",
    "  Update rule for sigma\n",
    "  \"\"\"\n",
    "  sigma_new = np.sum((x[:,None] - mu)**2 * r, axis=0) + 2*hyper_beta\n",
    "  sigma_new /= np.sum(r, axis=0) + 2 * (hyper_alpha-1)\n",
    "\n",
    "  return sigma_new"
   ]
  },
  {
   "cell_type": "markdown",
   "metadata": {
    "id": "RvKl-OR5C_5e"
   },
   "source": [
    "Now, we'll define the E-step and M-step and compose these functions into a single function that runs the EM algorithm until convergence. "
   ]
  },
  {
   "cell_type": "code",
   "execution_count": 8,
   "metadata": {
    "id": "rh2m8kdp6sdv"
   },
   "outputs": [],
   "source": [
    "def e_step(x, params):\n",
    "    \"\"\"\n",
    "    Expectation step of the EM algorithm\n",
    "    \"\"\"\n",
    "    return q_function(x, params, params)\n",
    "\n",
    "def m_step(x, r, params):\n",
    "    \"\"\"\n",
    "    Update step of the EM algorithm\n",
    "    \"\"\"\n",
    "    mu, sigma, pi = params\n",
    "    \n",
    "    new_mu = update_mu(x, r, sigma)\n",
    "    new_sigma = update_sigma(x, r, new_mu)\n",
    "    new_pi = update_pi(x, r)\n",
    "    \n",
    "    return np.array([new_mu, new_sigma, new_pi])"
   ]
  },
  {
   "cell_type": "code",
   "execution_count": 9,
   "metadata": {},
   "outputs": [],
   "source": [
    "def em_algorithm(x, params_init, *, max_iter=100, tolerance=1e-6):\n",
    "    \"\"\"\n",
    "    Run the EM algorithm to fit a Gaussian mixture model.\n",
    "    \"\"\"\n",
    "    q_old = -np.inf\n",
    "    params = params_init\n",
    "    \n",
    "    for iteration in range(max_iter):\n",
    "        rp, q = e_step(data, params)\n",
    "    \n",
    "        if np.abs(q - q_old) < tolerance:\n",
    "                print(f\"Converged at iteration {iteration}\")\n",
    "                break\n",
    "\n",
    "        params = m_step(data, rp, params)\n",
    "        q_old = q\n",
    "\n",
    "    if iteration == (max_iter-1):\n",
    "        print(f'Failed to converge after {max_iter} iterations')\n",
    "        \n",
    "    return params"
   ]
  },
  {
   "cell_type": "markdown",
   "metadata": {},
   "source": [
    "Now, we'll initialize the parameters of the model. For $\\mu$, we'll sample values from the data vector. For $\\pi$, we'll start by assuming each of the groups is equally represented and for $\\sigma$ we will use a scaled plug-in estimate of the variance of data.  "
   ]
  },
  {
   "cell_type": "code",
   "execution_count": 10,
   "metadata": {
    "id": "kp5kOC7rjfb7"
   },
   "outputs": [],
   "source": [
    "data = df['value'].values\n",
    "n = data.shape[0]\n",
    "n_components = 3\n",
    "\n",
    "# Initialize parameters\n",
    "sigma_init = np.array([np.var(data)/3] * n_components)\n",
    "pi_init = np.array([1/n_components] * n_components)\n",
    "mu_init = data[np.random.choice(n, n_components, replace = False)]\n",
    "\n",
    "params_init = np.array([mu_init, sigma_init, pi_init])"
   ]
  },
  {
   "cell_type": "markdown",
   "metadata": {},
   "source": [
    "Now we are ready to run the EM algorithm. "
   ]
  },
  {
   "cell_type": "code",
   "execution_count": 11,
   "metadata": {
    "scrolled": true
   },
   "outputs": [
    {
     "name": "stdout",
     "output_type": "stream",
     "text": [
      "Converged at iteration 83\n"
     ]
    }
   ],
   "source": [
    "mode_posterior = em_algorithm(data, params_init, max_iter=2000)"
   ]
  },
  {
   "cell_type": "markdown",
   "metadata": {},
   "source": [
    "Let's take a look at the results. Recall that the order is arbitrary. "
   ]
  },
  {
   "cell_type": "code",
   "execution_count": 12,
   "metadata": {},
   "outputs": [
    {
     "name": "stdout",
     "output_type": "stream",
     "text": [
      "\n",
      "        Estimated μ for group 0: 40.00\n",
      "        Estimated σ² for group 0: 0.07\n",
      "        Estimated π for group 0: 0.20\n",
      "        \n",
      "\n",
      "        Estimated μ for group 1: 30.13\n",
      "        Estimated σ² for group 1: 2.84\n",
      "        Estimated π for group 1: 0.39\n",
      "        \n",
      "\n",
      "        Estimated μ for group 2: 25.13\n",
      "        Estimated σ² for group 2: 0.94\n",
      "        Estimated π for group 2: 0.41\n",
      "        \n"
     ]
    }
   ],
   "source": [
    "for i, parameters in enumerate(zip(*mode_posterior)):\n",
    "    print(\n",
    "        \"\"\"\n",
    "        Estimated \\u03BC for group {0}: {1:.2f}\n",
    "        Estimated σ² for group {0}: {2:.2f}\n",
    "        Estimated \\u03C0 for group {0}: {3:.2f}\n",
    "        \"\"\".format(i, *parameters)\n",
    "    )"
   ]
  },
  {
   "cell_type": "markdown",
   "metadata": {},
   "source": [
    "Pretty close to the true values for these parameters! We can also predict which distribution generated each datum. This is easy to do once we compute the responsibilities using our estimated parameters.  "
   ]
  },
  {
   "cell_type": "code",
   "execution_count": 13,
   "metadata": {},
   "outputs": [],
   "source": [
    "rsp = responsibility(data, mode_posterior)\n",
    "\n",
    "# Predict based on greatest responsibility\n",
    "df['em_prediction'] = np.argmax(rsp, axis=1).astype(str)"
   ]
  },
  {
   "cell_type": "markdown",
   "metadata": {},
   "source": [
    "Since our predictions are categorical, we can construct a quick visualization to see how well we did.  "
   ]
  },
  {
   "cell_type": "code",
   "execution_count": 14,
   "metadata": {},
   "outputs": [],
   "source": [
    "group_estimates = df.groupby(['group','em_prediction']).size()\n",
    "\n",
    "df_plot = pd.DataFrame({\n",
    "    \"count\" : group_estimates.values,\n",
    "    \"factors\" : group_estimates.index.values\n",
    "})"
   ]
  },
  {
   "cell_type": "code",
   "execution_count": 15,
   "metadata": {},
   "outputs": [
    {
     "data": {
      "text/html": [
       "\n",
       "  <div id=\"d9dfdcfa-59d9-4074-bccc-4920f146827f\" data-root-id=\"p1193\" style=\"display: contents;\"></div>\n"
      ]
     },
     "metadata": {},
     "output_type": "display_data"
    },
    {
     "data": {
      "application/javascript": "(function(root) {\n  function embed_document(root) {\n  const docs_json = {\"7a91d214-d83b-4da0-aade-6837fc03e6de\":{\"version\":\"3.6.2\",\"title\":\"Bokeh Application\",\"roots\":[{\"type\":\"object\",\"name\":\"Figure\",\"id\":\"p1193\",\"attributes\":{\"width\":450,\"height\":300,\"x_range\":{\"type\":\"object\",\"name\":\"FactorRange\",\"id\":\"p1192\",\"attributes\":{\"factors\":[[\"g1\",\"1\"],[\"g1\",\"2\"],[\"g2\",\"1\"],[\"g2\",\"2\"],[\"g3\",\"0\"]]}},\"y_range\":{\"type\":\"object\",\"name\":\"DataRange1d\",\"id\":\"p1195\"},\"x_scale\":{\"type\":\"object\",\"name\":\"CategoricalScale\",\"id\":\"p1202\"},\"y_scale\":{\"type\":\"object\",\"name\":\"LinearScale\",\"id\":\"p1203\"},\"title\":{\"type\":\"object\",\"name\":\"Title\",\"id\":\"p1200\"},\"renderers\":[{\"type\":\"object\",\"name\":\"GlyphRenderer\",\"id\":\"p1234\",\"attributes\":{\"data_source\":{\"type\":\"object\",\"name\":\"ColumnDataSource\",\"id\":\"p1189\",\"attributes\":{\"selected\":{\"type\":\"object\",\"name\":\"Selection\",\"id\":\"p1190\",\"attributes\":{\"indices\":[],\"line_indices\":[]}},\"selection_policy\":{\"type\":\"object\",\"name\":\"UnionRenderers\",\"id\":\"p1191\"},\"data\":{\"type\":\"map\",\"entries\":[[\"index\",{\"type\":\"ndarray\",\"array\":{\"type\":\"bytes\",\"data\":\"AAAAAAEAAAACAAAAAwAAAAQAAAA=\"},\"shape\":[5],\"dtype\":\"int32\",\"order\":\"little\"}],[\"count\",{\"type\":\"ndarray\",\"array\":{\"type\":\"bytes\",\"data\":\"2wEAABkAAAAIAAAA7AEAAPoAAAA=\"},\"shape\":[5],\"dtype\":\"int32\",\"order\":\"little\"}],[\"factors\",{\"type\":\"ndarray\",\"array\":[[\"g1\",\"1\"],[\"g1\",\"2\"],[\"g2\",\"1\"],[\"g2\",\"2\"],[\"g3\",\"0\"]],\"shape\":[5],\"dtype\":\"object\",\"order\":\"little\"}]]}}},\"view\":{\"type\":\"object\",\"name\":\"CDSView\",\"id\":\"p1235\",\"attributes\":{\"filter\":{\"type\":\"object\",\"name\":\"AllIndices\",\"id\":\"p1236\"}}},\"glyph\":{\"type\":\"object\",\"name\":\"VBar\",\"id\":\"p1231\",\"attributes\":{\"x\":{\"type\":\"field\",\"field\":\"factors\"},\"width\":{\"type\":\"value\",\"value\":0.75},\"top\":{\"type\":\"field\",\"field\":\"count\"},\"line_color\":{\"type\":\"value\",\"value\":\"#1f77b4\"},\"fill_color\":{\"type\":\"value\",\"value\":\"#1f77b4\"}}},\"nonselection_glyph\":{\"type\":\"object\",\"name\":\"VBar\",\"id\":\"p1232\",\"attributes\":{\"x\":{\"type\":\"field\",\"field\":\"factors\"},\"width\":{\"type\":\"value\",\"value\":0.75},\"top\":{\"type\":\"field\",\"field\":\"count\"},\"line_color\":{\"type\":\"value\",\"value\":\"#1f77b4\"},\"line_alpha\":{\"type\":\"value\",\"value\":0.1},\"fill_color\":{\"type\":\"value\",\"value\":\"#1f77b4\"},\"fill_alpha\":{\"type\":\"value\",\"value\":0.1},\"hatch_alpha\":{\"type\":\"value\",\"value\":0.1}}},\"muted_glyph\":{\"type\":\"object\",\"name\":\"VBar\",\"id\":\"p1233\",\"attributes\":{\"x\":{\"type\":\"field\",\"field\":\"factors\"},\"width\":{\"type\":\"value\",\"value\":0.75},\"top\":{\"type\":\"field\",\"field\":\"count\"},\"line_color\":{\"type\":\"value\",\"value\":\"#1f77b4\"},\"line_alpha\":{\"type\":\"value\",\"value\":0.2},\"fill_color\":{\"type\":\"value\",\"value\":\"#1f77b4\"},\"fill_alpha\":{\"type\":\"value\",\"value\":0.2},\"hatch_alpha\":{\"type\":\"value\",\"value\":0.2}}}}}],\"toolbar\":{\"type\":\"object\",\"name\":\"Toolbar\",\"id\":\"p1201\",\"attributes\":{\"tools\":[{\"type\":\"object\",\"name\":\"PanTool\",\"id\":\"p1214\"},{\"type\":\"object\",\"name\":\"WheelZoomTool\",\"id\":\"p1215\",\"attributes\":{\"renderers\":\"auto\"}},{\"type\":\"object\",\"name\":\"BoxZoomTool\",\"id\":\"p1216\",\"attributes\":{\"overlay\":{\"type\":\"object\",\"name\":\"BoxAnnotation\",\"id\":\"p1217\",\"attributes\":{\"syncable\":false,\"line_color\":\"black\",\"line_alpha\":1.0,\"line_width\":2,\"line_dash\":[4,4],\"fill_color\":\"lightgrey\",\"fill_alpha\":0.5,\"level\":\"overlay\",\"visible\":false,\"left\":{\"type\":\"number\",\"value\":\"nan\"},\"right\":{\"type\":\"number\",\"value\":\"nan\"},\"top\":{\"type\":\"number\",\"value\":\"nan\"},\"bottom\":{\"type\":\"number\",\"value\":\"nan\"},\"left_units\":\"canvas\",\"right_units\":\"canvas\",\"top_units\":\"canvas\",\"bottom_units\":\"canvas\",\"handles\":{\"type\":\"object\",\"name\":\"BoxInteractionHandles\",\"id\":\"p1223\",\"attributes\":{\"all\":{\"type\":\"object\",\"name\":\"AreaVisuals\",\"id\":\"p1222\",\"attributes\":{\"fill_color\":\"white\",\"hover_fill_color\":\"lightgray\"}}}}}}}},{\"type\":\"object\",\"name\":\"SaveTool\",\"id\":\"p1224\"},{\"type\":\"object\",\"name\":\"ResetTool\",\"id\":\"p1225\"},{\"type\":\"object\",\"name\":\"HelpTool\",\"id\":\"p1226\"},{\"type\":\"object\",\"name\":\"HoverTool\",\"id\":\"p1227\",\"attributes\":{\"renderers\":\"auto\",\"tooltips\":[[\"count\",\"@{count}\"]]}}]}},\"toolbar_location\":null,\"left\":[{\"type\":\"object\",\"name\":\"LinearAxis\",\"id\":\"p1209\",\"attributes\":{\"ticker\":{\"type\":\"object\",\"name\":\"BasicTicker\",\"id\":\"p1210\",\"attributes\":{\"mantissas\":[1,2,5]}},\"formatter\":{\"type\":\"object\",\"name\":\"BasicTickFormatter\",\"id\":\"p1211\"},\"major_label_policy\":{\"type\":\"object\",\"name\":\"AllLabels\",\"id\":\"p1212\"}}}],\"below\":[{\"type\":\"object\",\"name\":\"CategoricalAxis\",\"id\":\"p1204\",\"attributes\":{\"ticker\":{\"type\":\"object\",\"name\":\"CategoricalTicker\",\"id\":\"p1205\"},\"formatter\":{\"type\":\"object\",\"name\":\"CategoricalTickFormatter\",\"id\":\"p1206\"},\"major_label_policy\":{\"type\":\"object\",\"name\":\"AllLabels\",\"id\":\"p1207\"}}}],\"center\":[{\"type\":\"object\",\"name\":\"Grid\",\"id\":\"p1208\",\"attributes\":{\"axis\":{\"id\":\"p1204\"}}},{\"type\":\"object\",\"name\":\"Grid\",\"id\":\"p1213\",\"attributes\":{\"dimension\":1,\"axis\":{\"id\":\"p1209\"}}}]}}]}};\n  const render_items = [{\"docid\":\"7a91d214-d83b-4da0-aade-6837fc03e6de\",\"roots\":{\"p1193\":\"d9dfdcfa-59d9-4074-bccc-4920f146827f\"},\"root_ids\":[\"p1193\"]}];\n  void root.Bokeh.embed.embed_items_notebook(docs_json, render_items);\n  }\n  if (root.Bokeh !== undefined) {\n    embed_document(root);\n  } else {\n    let attempts = 0;\n    const timer = setInterval(function(root) {\n      if (root.Bokeh !== undefined) {\n        clearInterval(timer);\n        embed_document(root);\n      } else {\n        attempts++;\n        if (attempts > 100) {\n          clearInterval(timer);\n          console.log(\"Bokeh: ERROR: Unable to run BokehJS code because BokehJS library is missing\");\n        }\n      }\n    }, 10, root)\n  }\n})(window);",
      "application/vnd.bokehjs_exec.v0+json": ""
     },
     "metadata": {
      "application/vnd.bokehjs_exec.v0+json": {
       "id": "p1193"
      }
     },
     "output_type": "display_data"
    }
   ],
   "source": [
    "source = bokeh.plotting.ColumnDataSource(df_plot)\n",
    "\n",
    "p = bokeh.plotting.figure(\n",
    "    x_range=bokeh.models.FactorRange(*df_plot.factors.values), \n",
    "    width=450, \n",
    "    height=300,\n",
    "    toolbar_location=None, \n",
    "     tooltips=[\n",
    "        (\"count\", \"@{count}\"),\n",
    "    ])\n",
    "\n",
    "p.vbar(x='factors', top='count', width=0.75, source=source)\n",
    "\n",
    "\n",
    "bokeh.io.show(p)"
   ]
  },
  {
   "cell_type": "markdown",
   "metadata": {},
   "source": [
    "For the most part, there's good alignment between the true category and the predicted category. For fun, let's compare the to the results from direct optimization of the posterior to find the MAP. "
   ]
  },
  {
   "cell_type": "code",
   "execution_count": 16,
   "metadata": {
    "id": "N_XWHGAzDn_J",
    "scrolled": true
   },
   "outputs": [
    {
     "name": "stderr",
     "output_type": "stream",
     "text": [
      "/Users/bois/miniconda3/envs/datasai/lib/python3.12/site-packages/scipy/optimize/_optimize.py:2502: RuntimeWarning: invalid value encountered in scalar multiply\n",
      "  tmp2 = (x - v) * (fx - fw)\n",
      "/Users/bois/miniconda3/envs/datasai/lib/python3.12/site-packages/scipy/optimize/_optimize.py:2503: RuntimeWarning: invalid value encountered in scalar subtract\n",
      "  p = (x - v) * tmp2 - (x - w) * tmp1\n"
     ]
    }
   ],
   "source": [
    "args = (data,)\n",
    "\n",
    "# Compute the MAP\n",
    "res = scipy.optimize.minimize(\n",
    "    neg_log_posterior, params_init.flatten(), args=args, method=\"powell\",\n",
    "    \n",
    ")\n",
    "\n",
    "map_posterior = res.x.reshape(3,-1)"
   ]
  },
  {
   "cell_type": "markdown",
   "metadata": {},
   "source": [
    "We'll print these results. Again, remember that the order may not match exactly"
   ]
  },
  {
   "cell_type": "code",
   "execution_count": 17,
   "metadata": {},
   "outputs": [
    {
     "name": "stdout",
     "output_type": "stream",
     "text": [
      "\n",
      "        Estimated μ for group 0: 40.00\n",
      "        Estimated σ² for group 0: 0.06\n",
      "        Estimated π for group 0: 0.33\n",
      "        \n",
      "\n",
      "        Estimated μ for group 1: 30.10\n",
      "        Estimated σ² for group 1: 2.98\n",
      "        Estimated π for group 1: 0.33\n",
      "        \n",
      "\n",
      "        Estimated μ for group 2: 25.11\n",
      "        Estimated σ² for group 2: 0.96\n",
      "        Estimated π for group 2: 0.33\n",
      "        \n"
     ]
    }
   ],
   "source": [
    "for i, parameters in enumerate(zip(*map_posterior)):\n",
    "    print(\n",
    "        \"\"\"\n",
    "        Estimated \\u03BC for group {0}: {1:.2f}\n",
    "        Estimated σ² for group {0}: {2:.2f}\n",
    "        Estimated \\u03C0 for group {0}: {3:.2f}\n",
    "        \"\"\".format(i, *parameters)\n",
    "    )"
   ]
  },
  {
   "cell_type": "code",
   "execution_count": null,
   "metadata": {},
   "outputs": [],
   "source": [
    "%load_ext watermark\n",
    "%watermark -v -p numpy,scipy,bokeh,jupyterlab"
   ]
  }
 ],
 "metadata": {
  "colab": {
   "provenance": []
  },
  "kernelspec": {
   "display_name": "datasai",
   "language": "python",
   "name": "python3"
  },
  "language_info": {
   "codemirror_mode": {
    "name": "ipython",
    "version": 3
   },
   "file_extension": ".py",
   "mimetype": "text/x-python",
   "name": "python",
   "nbconvert_exporter": "python",
   "pygments_lexer": "ipython3",
   "version": "3.12.9"
  }
 },
 "nbformat": 4,
 "nbformat_minor": 4
}
