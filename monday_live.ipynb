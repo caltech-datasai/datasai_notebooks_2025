{
 "cells": [
  {
   "cell_type": "code",
   "execution_count": 5,
   "id": "f3381a4c",
   "metadata": {},
   "outputs": [],
   "source": [
    "import os\n",
    "import numpy as np\n",
    "\n",
    "import polars as pl\n",
    "\n",
    "import polars.selectors as cs\n",
    "\n",
    "data_path = '../data/'"
   ]
  },
  {
   "cell_type": "code",
   "execution_count": 7,
   "id": "ddf6076c",
   "metadata": {},
   "outputs": [
    {
     "ename": "FileNotFoundError",
     "evalue": "No such file or directory (os error 2): ../data/gfmt_sleep.csv",
     "output_type": "error",
     "traceback": [
      "\u001b[31m---------------------------------------------------------------------------\u001b[39m",
      "\u001b[31mFileNotFoundError\u001b[39m                         Traceback (most recent call last)",
      "\u001b[36mCell\u001b[39m\u001b[36m \u001b[39m\u001b[32mIn[7]\u001b[39m\u001b[32m, line 1\u001b[39m\n\u001b[32m----> \u001b[39m\u001b[32m1\u001b[39m df = pl.read_csv(os.path.join(data_path, \u001b[33m'\u001b[39m\u001b[33mgfmt_sleep.csv\u001b[39m\u001b[33m'\u001b[39m))\n",
      "\u001b[36mFile \u001b[39m\u001b[32m~/miniconda3/envs/datasai/lib/python3.12/site-packages/polars/_utils/deprecation.py:119\u001b[39m, in \u001b[36mdeprecate_renamed_parameter.<locals>.decorate.<locals>.wrapper\u001b[39m\u001b[34m(*args, **kwargs)\u001b[39m\n\u001b[32m    114\u001b[39m \u001b[38;5;129m@wraps\u001b[39m(function)\n\u001b[32m    115\u001b[39m \u001b[38;5;28;01mdef\u001b[39;00m\u001b[38;5;250m \u001b[39m\u001b[34mwrapper\u001b[39m(*args: P.args, **kwargs: P.kwargs) -> T:\n\u001b[32m    116\u001b[39m     _rename_keyword_argument(\n\u001b[32m    117\u001b[39m         old_name, new_name, kwargs, function.\u001b[34m__qualname__\u001b[39m, version\n\u001b[32m    118\u001b[39m     )\n\u001b[32m--> \u001b[39m\u001b[32m119\u001b[39m     \u001b[38;5;28;01mreturn\u001b[39;00m function(*args, **kwargs)\n",
      "\u001b[36mFile \u001b[39m\u001b[32m~/miniconda3/envs/datasai/lib/python3.12/site-packages/polars/_utils/deprecation.py:119\u001b[39m, in \u001b[36mdeprecate_renamed_parameter.<locals>.decorate.<locals>.wrapper\u001b[39m\u001b[34m(*args, **kwargs)\u001b[39m\n\u001b[32m    114\u001b[39m \u001b[38;5;129m@wraps\u001b[39m(function)\n\u001b[32m    115\u001b[39m \u001b[38;5;28;01mdef\u001b[39;00m\u001b[38;5;250m \u001b[39m\u001b[34mwrapper\u001b[39m(*args: P.args, **kwargs: P.kwargs) -> T:\n\u001b[32m    116\u001b[39m     _rename_keyword_argument(\n\u001b[32m    117\u001b[39m         old_name, new_name, kwargs, function.\u001b[34m__qualname__\u001b[39m, version\n\u001b[32m    118\u001b[39m     )\n\u001b[32m--> \u001b[39m\u001b[32m119\u001b[39m     \u001b[38;5;28;01mreturn\u001b[39;00m function(*args, **kwargs)\n",
      "\u001b[36mFile \u001b[39m\u001b[32m~/miniconda3/envs/datasai/lib/python3.12/site-packages/polars/_utils/deprecation.py:119\u001b[39m, in \u001b[36mdeprecate_renamed_parameter.<locals>.decorate.<locals>.wrapper\u001b[39m\u001b[34m(*args, **kwargs)\u001b[39m\n\u001b[32m    114\u001b[39m \u001b[38;5;129m@wraps\u001b[39m(function)\n\u001b[32m    115\u001b[39m \u001b[38;5;28;01mdef\u001b[39;00m\u001b[38;5;250m \u001b[39m\u001b[34mwrapper\u001b[39m(*args: P.args, **kwargs: P.kwargs) -> T:\n\u001b[32m    116\u001b[39m     _rename_keyword_argument(\n\u001b[32m    117\u001b[39m         old_name, new_name, kwargs, function.\u001b[34m__qualname__\u001b[39m, version\n\u001b[32m    118\u001b[39m     )\n\u001b[32m--> \u001b[39m\u001b[32m119\u001b[39m     \u001b[38;5;28;01mreturn\u001b[39;00m function(*args, **kwargs)\n",
      "\u001b[36mFile \u001b[39m\u001b[32m~/miniconda3/envs/datasai/lib/python3.12/site-packages/polars/io/csv/functions.py:540\u001b[39m, in \u001b[36mread_csv\u001b[39m\u001b[34m(source, has_header, columns, new_columns, separator, comment_prefix, quote_char, skip_rows, skip_lines, schema, schema_overrides, null_values, missing_utf8_is_empty_string, ignore_errors, try_parse_dates, n_threads, infer_schema, infer_schema_length, batch_size, n_rows, encoding, low_memory, rechunk, use_pyarrow, storage_options, skip_rows_after_header, row_index_name, row_index_offset, sample_size, eol_char, raise_if_empty, truncate_ragged_lines, decimal_comma, glob)\u001b[39m\n\u001b[32m    532\u001b[39m \u001b[38;5;28;01melse\u001b[39;00m:\n\u001b[32m    533\u001b[39m     \u001b[38;5;28;01mwith\u001b[39;00m prepare_file_arg(\n\u001b[32m    534\u001b[39m         source,\n\u001b[32m    535\u001b[39m         encoding=encoding,\n\u001b[32m   (...)\u001b[39m\u001b[32m    538\u001b[39m         storage_options=storage_options,\n\u001b[32m    539\u001b[39m     ) \u001b[38;5;28;01mas\u001b[39;00m data:\n\u001b[32m--> \u001b[39m\u001b[32m540\u001b[39m         df = _read_csv_impl(\n\u001b[32m    541\u001b[39m             data,\n\u001b[32m    542\u001b[39m             has_header=has_header,\n\u001b[32m    543\u001b[39m             columns=columns \u001b[38;5;28;01mif\u001b[39;00m columns \u001b[38;5;28;01melse\u001b[39;00m projection,\n\u001b[32m    544\u001b[39m             separator=separator,\n\u001b[32m    545\u001b[39m             comment_prefix=comment_prefix,\n\u001b[32m    546\u001b[39m             quote_char=quote_char,\n\u001b[32m    547\u001b[39m             skip_rows=skip_rows,\n\u001b[32m    548\u001b[39m             skip_lines=skip_lines,\n\u001b[32m    549\u001b[39m             schema_overrides=schema_overrides,\n\u001b[32m    550\u001b[39m             schema=schema,\n\u001b[32m    551\u001b[39m             null_values=null_values,\n\u001b[32m    552\u001b[39m             missing_utf8_is_empty_string=missing_utf8_is_empty_string,\n\u001b[32m    553\u001b[39m             ignore_errors=ignore_errors,\n\u001b[32m    554\u001b[39m             try_parse_dates=try_parse_dates,\n\u001b[32m    555\u001b[39m             n_threads=n_threads,\n\u001b[32m    556\u001b[39m             infer_schema_length=infer_schema_length,\n\u001b[32m    557\u001b[39m             batch_size=batch_size,\n\u001b[32m    558\u001b[39m             n_rows=n_rows,\n\u001b[32m    559\u001b[39m             encoding=encoding \u001b[38;5;28;01mif\u001b[39;00m encoding == \u001b[33m\"\u001b[39m\u001b[33mutf8-lossy\u001b[39m\u001b[33m\"\u001b[39m \u001b[38;5;28;01melse\u001b[39;00m \u001b[33m\"\u001b[39m\u001b[33mutf8\u001b[39m\u001b[33m\"\u001b[39m,\n\u001b[32m    560\u001b[39m             low_memory=low_memory,\n\u001b[32m    561\u001b[39m             rechunk=rechunk,\n\u001b[32m    562\u001b[39m             skip_rows_after_header=skip_rows_after_header,\n\u001b[32m    563\u001b[39m             row_index_name=row_index_name,\n\u001b[32m    564\u001b[39m             row_index_offset=row_index_offset,\n\u001b[32m    565\u001b[39m             eol_char=eol_char,\n\u001b[32m    566\u001b[39m             raise_if_empty=raise_if_empty,\n\u001b[32m    567\u001b[39m             truncate_ragged_lines=truncate_ragged_lines,\n\u001b[32m    568\u001b[39m             decimal_comma=decimal_comma,\n\u001b[32m    569\u001b[39m             glob=glob,\n\u001b[32m    570\u001b[39m         )\n\u001b[32m    572\u001b[39m \u001b[38;5;28;01mif\u001b[39;00m new_columns:\n\u001b[32m    573\u001b[39m     \u001b[38;5;28;01mreturn\u001b[39;00m _update_columns(df, new_columns)\n",
      "\u001b[36mFile \u001b[39m\u001b[32m~/miniconda3/envs/datasai/lib/python3.12/site-packages/polars/io/csv/functions.py:688\u001b[39m, in \u001b[36m_read_csv_impl\u001b[39m\u001b[34m(source, has_header, columns, separator, comment_prefix, quote_char, skip_rows, skip_lines, schema, schema_overrides, null_values, missing_utf8_is_empty_string, ignore_errors, try_parse_dates, n_threads, infer_schema_length, batch_size, n_rows, encoding, low_memory, rechunk, skip_rows_after_header, row_index_name, row_index_offset, sample_size, eol_char, raise_if_empty, truncate_ragged_lines, decimal_comma, glob)\u001b[39m\n\u001b[32m    684\u001b[39m         \u001b[38;5;28;01mraise\u001b[39;00m \u001b[38;5;167;01mValueError\u001b[39;00m(msg)\n\u001b[32m    686\u001b[39m projection, columns = parse_columns_arg(columns)\n\u001b[32m--> \u001b[39m\u001b[32m688\u001b[39m pydf = PyDataFrame.read_csv(\n\u001b[32m    689\u001b[39m     source,\n\u001b[32m    690\u001b[39m     infer_schema_length,\n\u001b[32m    691\u001b[39m     batch_size,\n\u001b[32m    692\u001b[39m     has_header,\n\u001b[32m    693\u001b[39m     ignore_errors,\n\u001b[32m    694\u001b[39m     n_rows,\n\u001b[32m    695\u001b[39m     skip_rows,\n\u001b[32m    696\u001b[39m     skip_lines,\n\u001b[32m    697\u001b[39m     projection,\n\u001b[32m    698\u001b[39m     separator,\n\u001b[32m    699\u001b[39m     rechunk,\n\u001b[32m    700\u001b[39m     columns,\n\u001b[32m    701\u001b[39m     encoding,\n\u001b[32m    702\u001b[39m     n_threads,\n\u001b[32m    703\u001b[39m     path,\n\u001b[32m    704\u001b[39m     dtype_list,\n\u001b[32m    705\u001b[39m     dtype_slice,\n\u001b[32m    706\u001b[39m     low_memory,\n\u001b[32m    707\u001b[39m     comment_prefix,\n\u001b[32m    708\u001b[39m     quote_char,\n\u001b[32m    709\u001b[39m     processed_null_values,\n\u001b[32m    710\u001b[39m     missing_utf8_is_empty_string,\n\u001b[32m    711\u001b[39m     try_parse_dates,\n\u001b[32m    712\u001b[39m     skip_rows_after_header,\n\u001b[32m    713\u001b[39m     parse_row_index_args(row_index_name, row_index_offset),\n\u001b[32m    714\u001b[39m     eol_char=eol_char,\n\u001b[32m    715\u001b[39m     raise_if_empty=raise_if_empty,\n\u001b[32m    716\u001b[39m     truncate_ragged_lines=truncate_ragged_lines,\n\u001b[32m    717\u001b[39m     decimal_comma=decimal_comma,\n\u001b[32m    718\u001b[39m     schema=schema,\n\u001b[32m    719\u001b[39m )\n\u001b[32m    720\u001b[39m \u001b[38;5;28;01mreturn\u001b[39;00m wrap_df(pydf)\n",
      "\u001b[31mFileNotFoundError\u001b[39m: No such file or directory (os error 2): ../data/gfmt_sleep.csv"
     ]
    }
   ],
   "source": [
    "df = pl.read_csv(os.path.join(data_path, 'gfmt_sleep.csv'))"
   ]
  },
  {
   "cell_type": "code",
   "execution_count": null,
   "id": "7433facd",
   "metadata": {},
   "outputs": [],
   "source": []
  }
 ],
 "metadata": {
  "kernelspec": {
   "display_name": "datasai",
   "language": "python",
   "name": "python3"
  },
  "language_info": {
   "codemirror_mode": {
    "name": "ipython",
    "version": 3
   },
   "file_extension": ".py",
   "mimetype": "text/x-python",
   "name": "python",
   "nbconvert_exporter": "python",
   "pygments_lexer": "ipython3",
   "version": "3.12.9"
  }
 },
 "nbformat": 4,
 "nbformat_minor": 5
}
