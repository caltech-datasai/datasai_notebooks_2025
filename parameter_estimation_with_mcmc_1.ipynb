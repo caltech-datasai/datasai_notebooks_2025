{
 "cells": [
  {
   "cell_type": "markdown",
   "metadata": {},
   "source": [
    "# Parameter estimation with Markov chain Monte Carlo I {#sec-parameter-estimation-with-mcmc-1}\n",
    "\n",
    "[Data set download](https://s3.amazonaws.com/bebi103.caltech.edu/data/rgc_spike_times_1.csv)\n",
    "\n",
    "<hr>"
   ]
  },
  {
   "cell_type": "code",
   "execution_count": 1,
   "metadata": {
    "nbpshinx": "hidden",
    "tags": []
   },
   "outputs": [],
   "source": [
    "# Colab setup ------------------\n",
    "import os, shutil, sys, subprocess, urllib.request\n",
    "if \"google.colab\" in sys.modules:\n",
    "    cmd = \"pip install --upgrade polars iqplot colorcet bebi103 arviz cmdstanpy watermark\"\n",
    "    process = subprocess.Popen(cmd.split(), stdout=subprocess.PIPE, stderr=subprocess.PIPE)\n",
    "    stdout, stderr = process.communicate()\n",
    "    from cmdstanpy.install_cmdstan import latest_version\n",
    "    cmdstan_version = latest_version()\n",
    "    cmdstan_url = f\"https://github.com/stan-dev/cmdstan/releases/download/v{cmdstan_version}/\"\n",
    "    fname = f\"colab-cmdstan-{cmdstan_version}.tgz\"\n",
    "    urllib.request.urlretrieve(cmdstan_url + fname, fname)\n",
    "    shutil.unpack_archive(fname)\n",
    "    os.environ[\"CMDSTAN\"] = f\"./cmdstan-{cmdstan_version}\"\n",
    "    data_path = \"https://s3.amazonaws.com/bebi103.caltech.edu/data/\"\n",
    "else:\n",
    "    data_path = \"../data/\"\n",
    "# ------------------------------"
   ]
  },
  {
   "cell_type": "code",
   "execution_count": 2,
   "metadata": {},
   "outputs": [
    {
     "data": {
      "text/html": [
       "    <style>\n",
       "        .bk-notebook-logo {\n",
       "            display: block;\n",
       "            width: 20px;\n",
       "            height: 20px;\n",
       "            background-image: url(data:image/png;base64,iVBORw0KGgoAAAANSUhEUgAAABQAAAAUCAYAAACNiR0NAAAABHNCSVQICAgIfAhkiAAAAAlwSFlzAAALEgAACxIB0t1+/AAAABx0RVh0U29mdHdhcmUAQWRvYmUgRmlyZXdvcmtzIENTNui8sowAAAOkSURBVDiNjZRtaJVlGMd/1/08zzln5zjP1LWcU9N0NkN8m2CYjpgQYQXqSs0I84OLIC0hkEKoPtiH3gmKoiJDU7QpLgoLjLIQCpEsNJ1vqUOdO7ppbuec5+V+rj4ctwzd8IIbbi6u+8f1539dt3A78eXC7QizUF7gyV1fD1Yqg4JWz84yffhm0qkFqBogB9rM8tZdtwVsPUhWhGcFJngGeWrPzHm5oaMmkfEg1usvLFyc8jLRqDOMru7AyC8saQr7GG7f5fvDeH7Ej8CM66nIF+8yngt6HWaKh7k49Soy9nXurCi1o3qUbS3zWfrYeQDTB/Qj6kX6Ybhw4B+bOYoLKCC9H3Nu/leUTZ1JdRWkkn2ldcCamzrcf47KKXdAJllSlxAOkRgyHsGC/zRday5Qld9DyoM4/q/rUoy/CXh3jzOu3bHUVZeU+DEn8FInkPBFlu3+nW3Nw0mk6vCDiWg8CeJaxEwuHS3+z5RgY+YBR6V1Z1nxSOfoaPa4LASWxxdNp+VWTk7+4vzaou8v8PN+xo+KY2xsw6une2frhw05CTYOmQvsEhjhWjn0bmXPjpE1+kplmmkP3suftwTubK9Vq22qKmrBhpY4jvd5afdRA3wGjFAgcnTK2s4hY0/GPNIb0nErGMCRxWOOX64Z8RAC4oCXdklmEvcL8o0BfkNK4lUg9HTl+oPlQxdNo3Mg4Nv175e/1LDGzZen30MEjRUtmXSfiTVu1kK8W4txyV6BMKlbgk3lMwYCiusNy9fVfvvwMxv8Ynl6vxoByANLTWplvuj/nF9m2+PDtt1eiHPBr1oIfhCChQMBw6Aw0UulqTKZdfVvfG7VcfIqLG9bcldL/+pdWTLxLUy8Qq38heUIjh4XlzZxzQm19lLFlr8vdQ97rjZVOLf8nclzckbcD4wxXMidpX30sFd37Fv/GtwwhzhxGVAprjbg0gCAEeIgwCZyTV2Z1REEW8O4py0wsjeloKoMr6iCY6dP92H6Vw/oTyICIthibxjm/DfN9lVz8IqtqKYLUXfoKVMVQVVJOElGjrnnUt9T9wbgp8AyYKaGlqingHZU/uG2NTZSVqwHQTWkx9hxjkpWDaCg6Ckj5qebgBVbT3V3NNXMSiWSDdGV3hrtzla7J+duwPOToIg42ChPQOQjspnSlp1V+Gjdged7+8UN5CRAV7a5EdFNwCjEaBR27b3W890TE7g24NAP/mMDXRWrGoFPQI9ls/MWO2dWFAar/xcOIImbbpA3zgAAAABJRU5ErkJggg==);\n",
       "        }\n",
       "    </style>\n",
       "    <div>\n",
       "        <a href=\"https://bokeh.org\" target=\"_blank\" class=\"bk-notebook-logo\"></a>\n",
       "        <span id=\"beb122fb-c0d9-48e7-b8ed-cf6da43933f5\">Loading BokehJS ...</span>\n",
       "    </div>\n"
      ]
     },
     "metadata": {},
     "output_type": "display_data"
    },
    {
     "data": {
      "application/javascript": [
       "'use strict';\n",
       "(function(root) {\n",
       "  function now() {\n",
       "    return new Date();\n",
       "  }\n",
       "\n",
       "  const force = true;\n",
       "\n",
       "  if (typeof root._bokeh_onload_callbacks === \"undefined\" || force === true) {\n",
       "    root._bokeh_onload_callbacks = [];\n",
       "    root._bokeh_is_loading = undefined;\n",
       "  }\n",
       "\n",
       "const JS_MIME_TYPE = 'application/javascript';\n",
       "  const HTML_MIME_TYPE = 'text/html';\n",
       "  const EXEC_MIME_TYPE = 'application/vnd.bokehjs_exec.v0+json';\n",
       "  const CLASS_NAME = 'output_bokeh rendered_html';\n",
       "\n",
       "  /**\n",
       "   * Render data to the DOM node\n",
       "   */\n",
       "  function render(props, node) {\n",
       "    const script = document.createElement(\"script\");\n",
       "    node.appendChild(script);\n",
       "  }\n",
       "\n",
       "  /**\n",
       "   * Handle when an output is cleared or removed\n",
       "   */\n",
       "  function handleClearOutput(event, handle) {\n",
       "    function drop(id) {\n",
       "      const view = Bokeh.index.get_by_id(id)\n",
       "      if (view != null) {\n",
       "        view.model.document.clear()\n",
       "        Bokeh.index.delete(view)\n",
       "      }\n",
       "    }\n",
       "\n",
       "    const cell = handle.cell;\n",
       "\n",
       "    const id = cell.output_area._bokeh_element_id;\n",
       "    const server_id = cell.output_area._bokeh_server_id;\n",
       "\n",
       "    // Clean up Bokeh references\n",
       "    if (id != null) {\n",
       "      drop(id)\n",
       "    }\n",
       "\n",
       "    if (server_id !== undefined) {\n",
       "      // Clean up Bokeh references\n",
       "      const cmd_clean = \"from bokeh.io.state import curstate; print(curstate().uuid_to_server['\" + server_id + \"'].get_sessions()[0].document.roots[0]._id)\";\n",
       "      cell.notebook.kernel.execute(cmd_clean, {\n",
       "        iopub: {\n",
       "          output: function(msg) {\n",
       "            const id = msg.content.text.trim()\n",
       "            drop(id)\n",
       "          }\n",
       "        }\n",
       "      });\n",
       "      // Destroy server and session\n",
       "      const cmd_destroy = \"import bokeh.io.notebook as ion; ion.destroy_server('\" + server_id + \"')\";\n",
       "      cell.notebook.kernel.execute(cmd_destroy);\n",
       "    }\n",
       "  }\n",
       "\n",
       "  /**\n",
       "   * Handle when a new output is added\n",
       "   */\n",
       "  function handleAddOutput(event, handle) {\n",
       "    const output_area = handle.output_area;\n",
       "    const output = handle.output;\n",
       "\n",
       "    // limit handleAddOutput to display_data with EXEC_MIME_TYPE content only\n",
       "    if ((output.output_type != \"display_data\") || (!Object.prototype.hasOwnProperty.call(output.data, EXEC_MIME_TYPE))) {\n",
       "      return\n",
       "    }\n",
       "\n",
       "    const toinsert = output_area.element.find(\".\" + CLASS_NAME.split(' ')[0]);\n",
       "\n",
       "    if (output.metadata[EXEC_MIME_TYPE][\"id\"] !== undefined) {\n",
       "      toinsert[toinsert.length - 1].firstChild.textContent = output.data[JS_MIME_TYPE];\n",
       "      // store reference to embed id on output_area\n",
       "      output_area._bokeh_element_id = output.metadata[EXEC_MIME_TYPE][\"id\"];\n",
       "    }\n",
       "    if (output.metadata[EXEC_MIME_TYPE][\"server_id\"] !== undefined) {\n",
       "      const bk_div = document.createElement(\"div\");\n",
       "      bk_div.innerHTML = output.data[HTML_MIME_TYPE];\n",
       "      const script_attrs = bk_div.children[0].attributes;\n",
       "      for (let i = 0; i < script_attrs.length; i++) {\n",
       "        toinsert[toinsert.length - 1].firstChild.setAttribute(script_attrs[i].name, script_attrs[i].value);\n",
       "        toinsert[toinsert.length - 1].firstChild.textContent = bk_div.children[0].textContent\n",
       "      }\n",
       "      // store reference to server id on output_area\n",
       "      output_area._bokeh_server_id = output.metadata[EXEC_MIME_TYPE][\"server_id\"];\n",
       "    }\n",
       "  }\n",
       "\n",
       "  function register_renderer(events, OutputArea) {\n",
       "\n",
       "    function append_mime(data, metadata, element) {\n",
       "      // create a DOM node to render to\n",
       "      const toinsert = this.create_output_subarea(\n",
       "        metadata,\n",
       "        CLASS_NAME,\n",
       "        EXEC_MIME_TYPE\n",
       "      );\n",
       "      this.keyboard_manager.register_events(toinsert);\n",
       "      // Render to node\n",
       "      const props = {data: data, metadata: metadata[EXEC_MIME_TYPE]};\n",
       "      render(props, toinsert[toinsert.length - 1]);\n",
       "      element.append(toinsert);\n",
       "      return toinsert\n",
       "    }\n",
       "\n",
       "    /* Handle when an output is cleared or removed */\n",
       "    events.on('clear_output.CodeCell', handleClearOutput);\n",
       "    events.on('delete.Cell', handleClearOutput);\n",
       "\n",
       "    /* Handle when a new output is added */\n",
       "    events.on('output_added.OutputArea', handleAddOutput);\n",
       "\n",
       "    /**\n",
       "     * Register the mime type and append_mime function with output_area\n",
       "     */\n",
       "    OutputArea.prototype.register_mime_type(EXEC_MIME_TYPE, append_mime, {\n",
       "      /* Is output safe? */\n",
       "      safe: true,\n",
       "      /* Index of renderer in `output_area.display_order` */\n",
       "      index: 0\n",
       "    });\n",
       "  }\n",
       "\n",
       "  // register the mime type if in Jupyter Notebook environment and previously unregistered\n",
       "  if (root.Jupyter !== undefined) {\n",
       "    const events = require('base/js/events');\n",
       "    const OutputArea = require('notebook/js/outputarea').OutputArea;\n",
       "\n",
       "    if (OutputArea.prototype.mime_types().indexOf(EXEC_MIME_TYPE) == -1) {\n",
       "      register_renderer(events, OutputArea);\n",
       "    }\n",
       "  }\n",
       "  if (typeof (root._bokeh_timeout) === \"undefined\" || force === true) {\n",
       "    root._bokeh_timeout = Date.now() + 5000;\n",
       "    root._bokeh_failed_load = false;\n",
       "  }\n",
       "\n",
       "  const NB_LOAD_WARNING = {'data': {'text/html':\n",
       "     \"<div style='background-color: #fdd'>\\n\"+\n",
       "     \"<p>\\n\"+\n",
       "     \"BokehJS does not appear to have successfully loaded. If loading BokehJS from CDN, this \\n\"+\n",
       "     \"may be due to a slow or bad network connection. Possible fixes:\\n\"+\n",
       "     \"</p>\\n\"+\n",
       "     \"<ul>\\n\"+\n",
       "     \"<li>re-rerun `output_notebook()` to attempt to load from CDN again, or</li>\\n\"+\n",
       "     \"<li>use INLINE resources instead, as so:</li>\\n\"+\n",
       "     \"</ul>\\n\"+\n",
       "     \"<code>\\n\"+\n",
       "     \"from bokeh.resources import INLINE\\n\"+\n",
       "     \"output_notebook(resources=INLINE)\\n\"+\n",
       "     \"</code>\\n\"+\n",
       "     \"</div>\"}};\n",
       "\n",
       "  function display_loaded(error = null) {\n",
       "    const el = document.getElementById(\"beb122fb-c0d9-48e7-b8ed-cf6da43933f5\");\n",
       "    if (el != null) {\n",
       "      const html = (() => {\n",
       "        if (typeof root.Bokeh === \"undefined\") {\n",
       "          if (error == null) {\n",
       "            return \"BokehJS is loading ...\";\n",
       "          } else {\n",
       "            return \"BokehJS failed to load.\";\n",
       "          }\n",
       "        } else {\n",
       "          const prefix = `BokehJS ${root.Bokeh.version}`;\n",
       "          if (error == null) {\n",
       "            return `${prefix} successfully loaded.`;\n",
       "          } else {\n",
       "            return `${prefix} <b>encountered errors</b> while loading and may not function as expected.`;\n",
       "          }\n",
       "        }\n",
       "      })();\n",
       "      el.innerHTML = html;\n",
       "\n",
       "      if (error != null) {\n",
       "        const wrapper = document.createElement(\"div\");\n",
       "        wrapper.style.overflow = \"auto\";\n",
       "        wrapper.style.height = \"5em\";\n",
       "        wrapper.style.resize = \"vertical\";\n",
       "        const content = document.createElement(\"div\");\n",
       "        content.style.fontFamily = \"monospace\";\n",
       "        content.style.whiteSpace = \"pre-wrap\";\n",
       "        content.style.backgroundColor = \"rgb(255, 221, 221)\";\n",
       "        content.textContent = error.stack ?? error.toString();\n",
       "        wrapper.append(content);\n",
       "        el.append(wrapper);\n",
       "      }\n",
       "    } else if (Date.now() < root._bokeh_timeout) {\n",
       "      setTimeout(() => display_loaded(error), 100);\n",
       "    }\n",
       "  }\n",
       "\n",
       "  function run_callbacks() {\n",
       "    try {\n",
       "      root._bokeh_onload_callbacks.forEach(function(callback) {\n",
       "        if (callback != null)\n",
       "          callback();\n",
       "      });\n",
       "    } finally {\n",
       "      delete root._bokeh_onload_callbacks\n",
       "    }\n",
       "    console.debug(\"Bokeh: all callbacks have finished\");\n",
       "  }\n",
       "\n",
       "  function load_libs(css_urls, js_urls, callback) {\n",
       "    if (css_urls == null) css_urls = [];\n",
       "    if (js_urls == null) js_urls = [];\n",
       "\n",
       "    root._bokeh_onload_callbacks.push(callback);\n",
       "    if (root._bokeh_is_loading > 0) {\n",
       "      console.debug(\"Bokeh: BokehJS is being loaded, scheduling callback at\", now());\n",
       "      return null;\n",
       "    }\n",
       "    if (js_urls == null || js_urls.length === 0) {\n",
       "      run_callbacks();\n",
       "      return null;\n",
       "    }\n",
       "    console.debug(\"Bokeh: BokehJS not loaded, scheduling load and callback at\", now());\n",
       "    root._bokeh_is_loading = css_urls.length + js_urls.length;\n",
       "\n",
       "    function on_load() {\n",
       "      root._bokeh_is_loading--;\n",
       "      if (root._bokeh_is_loading === 0) {\n",
       "        console.debug(\"Bokeh: all BokehJS libraries/stylesheets loaded\");\n",
       "        run_callbacks()\n",
       "      }\n",
       "    }\n",
       "\n",
       "    function on_error(url) {\n",
       "      console.error(\"failed to load \" + url);\n",
       "    }\n",
       "\n",
       "    for (let i = 0; i < css_urls.length; i++) {\n",
       "      const url = css_urls[i];\n",
       "      const element = document.createElement(\"link\");\n",
       "      element.onload = on_load;\n",
       "      element.onerror = on_error.bind(null, url);\n",
       "      element.rel = \"stylesheet\";\n",
       "      element.type = \"text/css\";\n",
       "      element.href = url;\n",
       "      console.debug(\"Bokeh: injecting link tag for BokehJS stylesheet: \", url);\n",
       "      document.body.appendChild(element);\n",
       "    }\n",
       "\n",
       "    for (let i = 0; i < js_urls.length; i++) {\n",
       "      const url = js_urls[i];\n",
       "      const element = document.createElement('script');\n",
       "      element.onload = on_load;\n",
       "      element.onerror = on_error.bind(null, url);\n",
       "      element.async = false;\n",
       "      element.src = url;\n",
       "      console.debug(\"Bokeh: injecting script tag for BokehJS library: \", url);\n",
       "      document.head.appendChild(element);\n",
       "    }\n",
       "  };\n",
       "\n",
       "  function inject_raw_css(css) {\n",
       "    const element = document.createElement(\"style\");\n",
       "    element.appendChild(document.createTextNode(css));\n",
       "    document.body.appendChild(element);\n",
       "  }\n",
       "\n",
       "  const js_urls = [\"static/extensions/panel/bundled/reactiveesm/es-module-shims@^1.10.0/dist/es-module-shims.min.js\", \"https://cdn.bokeh.org/bokeh/release/bokeh-3.6.2.min.js\", \"https://cdn.bokeh.org/bokeh/release/bokeh-gl-3.6.2.min.js\", \"https://cdn.bokeh.org/bokeh/release/bokeh-widgets-3.6.2.min.js\", \"https://cdn.bokeh.org/bokeh/release/bokeh-tables-3.6.2.min.js\", \"https://cdn.bokeh.org/bokeh/release/bokeh-mathjax-3.6.2.min.js\", \"https://unpkg.com/@holoviz/panel@1.7.0/dist/panel.min.js\"];\n",
       "  const css_urls = [];\n",
       "\n",
       "  const inline_js = [    function(Bokeh) {\n",
       "      Bokeh.set_log_level(\"info\");\n",
       "    },\n",
       "function(Bokeh) {\n",
       "    }\n",
       "  ];\n",
       "\n",
       "  function run_inline_js() {\n",
       "    if (root.Bokeh !== undefined || force === true) {\n",
       "      try {\n",
       "            for (let i = 0; i < inline_js.length; i++) {\n",
       "      inline_js[i].call(root, root.Bokeh);\n",
       "    }\n",
       "\n",
       "      } catch (error) {display_loaded(error);throw error;\n",
       "      }if (force === true) {\n",
       "        display_loaded();\n",
       "      }} else if (Date.now() < root._bokeh_timeout) {\n",
       "      setTimeout(run_inline_js, 100);\n",
       "    } else if (!root._bokeh_failed_load) {\n",
       "      console.log(\"Bokeh: BokehJS failed to load within specified timeout.\");\n",
       "      root._bokeh_failed_load = true;\n",
       "    } else if (force !== true) {\n",
       "      const cell = $(document.getElementById(\"beb122fb-c0d9-48e7-b8ed-cf6da43933f5\")).parents('.cell').data().cell;\n",
       "      cell.output_area.append_execute_result(NB_LOAD_WARNING)\n",
       "    }\n",
       "  }\n",
       "\n",
       "  if (root._bokeh_is_loading === 0) {\n",
       "    console.debug(\"Bokeh: BokehJS loaded, going straight to plotting\");\n",
       "    run_inline_js();\n",
       "  } else {\n",
       "    load_libs(css_urls, js_urls, function() {\n",
       "      console.debug(\"Bokeh: BokehJS plotting callback run at\", now());\n",
       "      run_inline_js();\n",
       "    });\n",
       "  }\n",
       "}(window));"
      ],
      "application/vnd.bokehjs_load.v0+json": "'use strict';\n(function(root) {\n  function now() {\n    return new Date();\n  }\n\n  const force = true;\n\n  if (typeof root._bokeh_onload_callbacks === \"undefined\" || force === true) {\n    root._bokeh_onload_callbacks = [];\n    root._bokeh_is_loading = undefined;\n  }\n\n\n  if (typeof (root._bokeh_timeout) === \"undefined\" || force === true) {\n    root._bokeh_timeout = Date.now() + 5000;\n    root._bokeh_failed_load = false;\n  }\n\n  const NB_LOAD_WARNING = {'data': {'text/html':\n     \"<div style='background-color: #fdd'>\\n\"+\n     \"<p>\\n\"+\n     \"BokehJS does not appear to have successfully loaded. If loading BokehJS from CDN, this \\n\"+\n     \"may be due to a slow or bad network connection. Possible fixes:\\n\"+\n     \"</p>\\n\"+\n     \"<ul>\\n\"+\n     \"<li>re-rerun `output_notebook()` to attempt to load from CDN again, or</li>\\n\"+\n     \"<li>use INLINE resources instead, as so:</li>\\n\"+\n     \"</ul>\\n\"+\n     \"<code>\\n\"+\n     \"from bokeh.resources import INLINE\\n\"+\n     \"output_notebook(resources=INLINE)\\n\"+\n     \"</code>\\n\"+\n     \"</div>\"}};\n\n  function display_loaded(error = null) {\n    const el = document.getElementById(\"beb122fb-c0d9-48e7-b8ed-cf6da43933f5\");\n    if (el != null) {\n      const html = (() => {\n        if (typeof root.Bokeh === \"undefined\") {\n          if (error == null) {\n            return \"BokehJS is loading ...\";\n          } else {\n            return \"BokehJS failed to load.\";\n          }\n        } else {\n          const prefix = `BokehJS ${root.Bokeh.version}`;\n          if (error == null) {\n            return `${prefix} successfully loaded.`;\n          } else {\n            return `${prefix} <b>encountered errors</b> while loading and may not function as expected.`;\n          }\n        }\n      })();\n      el.innerHTML = html;\n\n      if (error != null) {\n        const wrapper = document.createElement(\"div\");\n        wrapper.style.overflow = \"auto\";\n        wrapper.style.height = \"5em\";\n        wrapper.style.resize = \"vertical\";\n        const content = document.createElement(\"div\");\n        content.style.fontFamily = \"monospace\";\n        content.style.whiteSpace = \"pre-wrap\";\n        content.style.backgroundColor = \"rgb(255, 221, 221)\";\n        content.textContent = error.stack ?? error.toString();\n        wrapper.append(content);\n        el.append(wrapper);\n      }\n    } else if (Date.now() < root._bokeh_timeout) {\n      setTimeout(() => display_loaded(error), 100);\n    }\n  }\n\n  function run_callbacks() {\n    try {\n      root._bokeh_onload_callbacks.forEach(function(callback) {\n        if (callback != null)\n          callback();\n      });\n    } finally {\n      delete root._bokeh_onload_callbacks\n    }\n    console.debug(\"Bokeh: all callbacks have finished\");\n  }\n\n  function load_libs(css_urls, js_urls, callback) {\n    if (css_urls == null) css_urls = [];\n    if (js_urls == null) js_urls = [];\n\n    root._bokeh_onload_callbacks.push(callback);\n    if (root._bokeh_is_loading > 0) {\n      console.debug(\"Bokeh: BokehJS is being loaded, scheduling callback at\", now());\n      return null;\n    }\n    if (js_urls == null || js_urls.length === 0) {\n      run_callbacks();\n      return null;\n    }\n    console.debug(\"Bokeh: BokehJS not loaded, scheduling load and callback at\", now());\n    root._bokeh_is_loading = css_urls.length + js_urls.length;\n\n    function on_load() {\n      root._bokeh_is_loading--;\n      if (root._bokeh_is_loading === 0) {\n        console.debug(\"Bokeh: all BokehJS libraries/stylesheets loaded\");\n        run_callbacks()\n      }\n    }\n\n    function on_error(url) {\n      console.error(\"failed to load \" + url);\n    }\n\n    for (let i = 0; i < css_urls.length; i++) {\n      const url = css_urls[i];\n      const element = document.createElement(\"link\");\n      element.onload = on_load;\n      element.onerror = on_error.bind(null, url);\n      element.rel = \"stylesheet\";\n      element.type = \"text/css\";\n      element.href = url;\n      console.debug(\"Bokeh: injecting link tag for BokehJS stylesheet: \", url);\n      document.body.appendChild(element);\n    }\n\n    for (let i = 0; i < js_urls.length; i++) {\n      const url = js_urls[i];\n      const element = document.createElement('script');\n      element.onload = on_load;\n      element.onerror = on_error.bind(null, url);\n      element.async = false;\n      element.src = url;\n      console.debug(\"Bokeh: injecting script tag for BokehJS library: \", url);\n      document.head.appendChild(element);\n    }\n  };\n\n  function inject_raw_css(css) {\n    const element = document.createElement(\"style\");\n    element.appendChild(document.createTextNode(css));\n    document.body.appendChild(element);\n  }\n\n  const js_urls = [\"static/extensions/panel/bundled/reactiveesm/es-module-shims@^1.10.0/dist/es-module-shims.min.js\", \"https://cdn.bokeh.org/bokeh/release/bokeh-3.6.2.min.js\", \"https://cdn.bokeh.org/bokeh/release/bokeh-gl-3.6.2.min.js\", \"https://cdn.bokeh.org/bokeh/release/bokeh-widgets-3.6.2.min.js\", \"https://cdn.bokeh.org/bokeh/release/bokeh-tables-3.6.2.min.js\", \"https://cdn.bokeh.org/bokeh/release/bokeh-mathjax-3.6.2.min.js\", \"https://unpkg.com/@holoviz/panel@1.7.0/dist/panel.min.js\"];\n  const css_urls = [];\n\n  const inline_js = [    function(Bokeh) {\n      Bokeh.set_log_level(\"info\");\n    },\nfunction(Bokeh) {\n    }\n  ];\n\n  function run_inline_js() {\n    if (root.Bokeh !== undefined || force === true) {\n      try {\n            for (let i = 0; i < inline_js.length; i++) {\n      inline_js[i].call(root, root.Bokeh);\n    }\n\n      } catch (error) {display_loaded(error);throw error;\n      }if (force === true) {\n        display_loaded();\n      }} else if (Date.now() < root._bokeh_timeout) {\n      setTimeout(run_inline_js, 100);\n    } else if (!root._bokeh_failed_load) {\n      console.log(\"Bokeh: BokehJS failed to load within specified timeout.\");\n      root._bokeh_failed_load = true;\n    } else if (force !== true) {\n      const cell = $(document.getElementById(\"beb122fb-c0d9-48e7-b8ed-cf6da43933f5\")).parents('.cell').data().cell;\n      cell.output_area.append_execute_result(NB_LOAD_WARNING)\n    }\n  }\n\n  if (root._bokeh_is_loading === 0) {\n    console.debug(\"Bokeh: BokehJS loaded, going straight to plotting\");\n    run_inline_js();\n  } else {\n    load_libs(css_urls, js_urls, function() {\n      console.debug(\"Bokeh: BokehJS plotting callback run at\", now());\n      run_inline_js();\n    });\n  }\n}(window));"
     },
     "metadata": {},
     "output_type": "display_data"
    }
   ],
   "source": [
    "import numpy as np\n",
    "import scipy.stats as st\n",
    "import polars as pl\n",
    "\n",
    "import cmdstanpy\n",
    "import arviz as az\n",
    "\n",
    "import iqplot\n",
    "import bebi103\n",
    "\n",
    "import bokeh.io\n",
    "import bokeh.plotting\n",
    "bokeh.io.output_notebook()"
   ]
  },
  {
   "cell_type": "markdown",
   "metadata": {},
   "source": [
    "<hr>\n",
    "\n",
    "In this lesson, we will learn how to use **Markov chain Monte Carlo** to do parameter estimation. To get the basic idea behind MCMC, imagine for a moment that we can draw samples out of the posterior distribution. This means that the probability of choosing given values of a set of parameters is proportional to the posterior probability of that set of values. If we drew many many such samples, we could reconstruct the posterior from the samples, e.g., by making histograms. That's a big thing to imagine: that we can draw properly weighted samples. But, it turns out that we can! That is what MCMC allows us to do.\n",
    "\n",
    "We already discussed some theory behind this seemingly miraculous capability. For this lesson, we will just use the fact that we can do the sampling to learn about posterior distributions in the context of parameter estimation."
   ]
  },
  {
   "cell_type": "markdown",
   "metadata": {},
   "source": [
    "## The data set\n",
    "\n",
    "The data set we will use is synthetic, but will serve to instruct on parameter estimation techniques. The synthetic experiment is as described in @sec-synthetic-rgc-experiment. In the experiment, we take a sample of retinal tissue and expose it to a constant light source. We measure the spiking activity of a single retinal ganglion cell (RGC) for one minute, recording $n$ spikes."
   ]
  },
  {
   "cell_type": "code",
   "execution_count": 3,
   "metadata": {},
   "outputs": [
    {
     "data": {
      "text/html": [
       "\n",
       "  <div id=\"aded2729-c900-4d8c-b1f4-1f9a6a57bc58\" data-root-id=\"p1002\" style=\"display: contents;\"></div>\n"
      ]
     },
     "metadata": {},
     "output_type": "display_data"
    },
    {
     "data": {
      "application/javascript": [
       "(function(root) {\n",
       "  function embed_document(root) {\n",
       "  const docs_json = {\"91d68429-b6e5-42b5-a268-5de2fd3d5c9e\":{\"version\":\"3.6.2\",\"title\":\"Bokeh Application\",\"roots\":[{\"type\":\"object\",\"name\":\"Figure\",\"id\":\"p1002\",\"attributes\":{\"x_range\":{\"type\":\"object\",\"name\":\"DataRange1d\",\"id\":\"p1003\"},\"y_range\":{\"type\":\"object\",\"name\":\"DataRange1d\",\"id\":\"p1004\"},\"x_scale\":{\"type\":\"object\",\"name\":\"LinearScale\",\"id\":\"p1011\"},\"y_scale\":{\"type\":\"object\",\"name\":\"LinearScale\",\"id\":\"p1012\"},\"title\":{\"type\":\"object\",\"name\":\"Title\",\"id\":\"p1009\"},\"renderers\":[{\"type\":\"object\",\"name\":\"GlyphRenderer\",\"id\":\"p1042\",\"attributes\":{\"data_source\":{\"type\":\"object\",\"name\":\"ColumnDataSource\",\"id\":\"p1036\",\"attributes\":{\"selected\":{\"type\":\"object\",\"name\":\"Selection\",\"id\":\"p1037\",\"attributes\":{\"indices\":[],\"line_indices\":[]}},\"selection_policy\":{\"type\":\"object\",\"name\":\"UnionRenderers\",\"id\":\"p1038\"},\"data\":{\"type\":\"map\",\"entries\":[[\"x\",{\"type\":\"ndarray\",\"array\":{\"type\":\"bytes\",\"data\":\"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\"},\"shape\":[2860],\"dtype\":\"float64\",\"order\":\"little\"}],[\"y\",{\"type\":\"ndarray\",\"array\":{\"type\":\"bytes\",\"data\":\"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\"},\"shape\":[2860],\"dtype\":\"float64\",\"order\":\"little\"}]]}}},\"view\":{\"type\":\"object\",\"name\":\"CDSView\",\"id\":\"p1043\",\"attributes\":{\"filter\":{\"type\":\"object\",\"name\":\"AllIndices\",\"id\":\"p1044\"}}},\"glyph\":{\"type\":\"object\",\"name\":\"Line\",\"id\":\"p1039\",\"attributes\":{\"x\":{\"type\":\"field\",\"field\":\"x\"},\"y\":{\"type\":\"field\",\"field\":\"y\"},\"line_color\":\"#1f77b3\",\"line_width\":2}},\"nonselection_glyph\":{\"type\":\"object\",\"name\":\"Line\",\"id\":\"p1040\",\"attributes\":{\"x\":{\"type\":\"field\",\"field\":\"x\"},\"y\":{\"type\":\"field\",\"field\":\"y\"},\"line_color\":\"#1f77b3\",\"line_alpha\":0.1,\"line_width\":2}},\"muted_glyph\":{\"type\":\"object\",\"name\":\"Line\",\"id\":\"p1041\",\"attributes\":{\"x\":{\"type\":\"field\",\"field\":\"x\"},\"y\":{\"type\":\"field\",\"field\":\"y\"},\"line_color\":\"#1f77b3\",\"line_alpha\":0.2,\"line_width\":2}}}},{\"type\":\"object\",\"name\":\"GlyphRenderer\",\"id\":\"p1051\",\"attributes\":{\"data_source\":{\"type\":\"object\",\"name\":\"ColumnDataSource\",\"id\":\"p1045\",\"attributes\":{\"selected\":{\"type\":\"object\",\"name\":\"Selection\",\"id\":\"p1046\",\"attributes\":{\"indices\":[],\"line_indices\":[]}},\"selection_policy\":{\"type\":\"object\",\"name\":\"UnionRenderers\",\"id\":\"p1047\"},\"data\":{\"type\":\"map\"}}},\"view\":{\"type\":\"object\",\"name\":\"CDSView\",\"id\":\"p1052\",\"attributes\":{\"filter\":{\"type\":\"object\",\"name\":\"AllIndices\",\"id\":\"p1053\"}}},\"glyph\":{\"type\":\"object\",\"name\":\"Ray\",\"id\":\"p1048\",\"attributes\":{\"x\":{\"type\":\"value\",\"value\":1.147000000000844},\"y\":{\"type\":\"value\",\"value\":0},\"angle\":{\"type\":\"value\",\"value\":3.141592653589793},\"line_color\":{\"type\":\"value\",\"value\":\"#1f77b3\"},\"line_width\":{\"type\":\"value\",\"value\":2}}},\"nonselection_glyph\":{\"type\":\"object\",\"name\":\"Ray\",\"id\":\"p1049\",\"attributes\":{\"x\":{\"type\":\"value\",\"value\":1.147000000000844},\"y\":{\"type\":\"value\",\"value\":0},\"angle\":{\"type\":\"value\",\"value\":3.141592653589793},\"line_color\":{\"type\":\"value\",\"value\":\"#1f77b3\"},\"line_alpha\":{\"type\":\"value\",\"value\":0.1},\"line_width\":{\"type\":\"value\",\"value\":2}}},\"muted_glyph\":{\"type\":\"object\",\"name\":\"Ray\",\"id\":\"p1050\",\"attributes\":{\"x\":{\"type\":\"value\",\"value\":1.147000000000844},\"y\":{\"type\":\"value\",\"value\":0},\"angle\":{\"type\":\"value\",\"value\":3.141592653589793},\"line_color\":{\"type\":\"value\",\"value\":\"#1f77b3\"},\"line_alpha\":{\"type\":\"value\",\"value\":0.2},\"line_width\":{\"type\":\"value\",\"value\":2}}}}},{\"type\":\"object\",\"name\":\"GlyphRenderer\",\"id\":\"p1060\",\"attributes\":{\"data_source\":{\"type\":\"object\",\"name\":\"ColumnDataSource\",\"id\":\"p1054\",\"attributes\":{\"selected\":{\"type\":\"object\",\"name\":\"Selection\",\"id\":\"p1055\",\"attributes\":{\"indices\":[],\"line_indices\":[]}},\"selection_policy\":{\"type\":\"object\",\"name\":\"UnionRenderers\",\"id\":\"p1056\"},\"data\":{\"type\":\"map\"}}},\"view\":{\"type\":\"object\",\"name\":\"CDSView\",\"id\":\"p1061\",\"attributes\":{\"filter\":{\"type\":\"object\",\"name\":\"AllIndices\",\"id\":\"p1062\"}}},\"glyph\":{\"type\":\"object\",\"name\":\"Ray\",\"id\":\"p1057\",\"attributes\":{\"x\":{\"type\":\"value\",\"value\":272.96199999999953},\"y\":{\"type\":\"value\",\"value\":1},\"line_color\":{\"type\":\"value\",\"value\":\"#1f77b3\"},\"line_width\":{\"type\":\"value\",\"value\":2}}},\"nonselection_glyph\":{\"type\":\"object\",\"name\":\"Ray\",\"id\":\"p1058\",\"attributes\":{\"x\":{\"type\":\"value\",\"value\":272.96199999999953},\"y\":{\"type\":\"value\",\"value\":1},\"line_color\":{\"type\":\"value\",\"value\":\"#1f77b3\"},\"line_alpha\":{\"type\":\"value\",\"value\":0.1},\"line_width\":{\"type\":\"value\",\"value\":2}}},\"muted_glyph\":{\"type\":\"object\",\"name\":\"Ray\",\"id\":\"p1059\",\"attributes\":{\"x\":{\"type\":\"value\",\"value\":272.96199999999953},\"y\":{\"type\":\"value\",\"value\":1},\"line_color\":{\"type\":\"value\",\"value\":\"#1f77b3\"},\"line_alpha\":{\"type\":\"value\",\"value\":0.2},\"line_width\":{\"type\":\"value\",\"value\":2}}}}}],\"toolbar\":{\"type\":\"object\",\"name\":\"Toolbar\",\"id\":\"p1010\",\"attributes\":{\"tools\":[{\"type\":\"object\",\"name\":\"PanTool\",\"id\":\"p1023\"},{\"type\":\"object\",\"name\":\"WheelZoomTool\",\"id\":\"p1024\",\"attributes\":{\"renderers\":\"auto\"}},{\"type\":\"object\",\"name\":\"BoxZoomTool\",\"id\":\"p1025\",\"attributes\":{\"overlay\":{\"type\":\"object\",\"name\":\"BoxAnnotation\",\"id\":\"p1026\",\"attributes\":{\"syncable\":false,\"line_color\":\"black\",\"line_alpha\":1.0,\"line_width\":2,\"line_dash\":[4,4],\"fill_color\":\"lightgrey\",\"fill_alpha\":0.5,\"level\":\"overlay\",\"visible\":false,\"left\":{\"type\":\"number\",\"value\":\"nan\"},\"right\":{\"type\":\"number\",\"value\":\"nan\"},\"top\":{\"type\":\"number\",\"value\":\"nan\"},\"bottom\":{\"type\":\"number\",\"value\":\"nan\"},\"left_units\":\"canvas\",\"right_units\":\"canvas\",\"top_units\":\"canvas\",\"bottom_units\":\"canvas\",\"handles\":{\"type\":\"object\",\"name\":\"BoxInteractionHandles\",\"id\":\"p1032\",\"attributes\":{\"all\":{\"type\":\"object\",\"name\":\"AreaVisuals\",\"id\":\"p1031\",\"attributes\":{\"fill_color\":\"white\",\"hover_fill_color\":\"lightgray\"}}}}}}}},{\"type\":\"object\",\"name\":\"SaveTool\",\"id\":\"p1033\"},{\"type\":\"object\",\"name\":\"ResetTool\",\"id\":\"p1034\"},{\"type\":\"object\",\"name\":\"HelpTool\",\"id\":\"p1035\"}]}},\"toolbar_location\":\"above\",\"left\":[{\"type\":\"object\",\"name\":\"LinearAxis\",\"id\":\"p1018\",\"attributes\":{\"ticker\":{\"type\":\"object\",\"name\":\"BasicTicker\",\"id\":\"p1019\",\"attributes\":{\"mantissas\":[1,2,5]}},\"formatter\":{\"type\":\"object\",\"name\":\"BasicTickFormatter\",\"id\":\"p1020\"},\"axis_label\":\"ECDF\",\"major_label_policy\":{\"type\":\"object\",\"name\":\"AllLabels\",\"id\":\"p1021\"}}}],\"below\":[{\"type\":\"object\",\"name\":\"LinearAxis\",\"id\":\"p1013\",\"attributes\":{\"ticker\":{\"type\":\"object\",\"name\":\"BasicTicker\",\"id\":\"p1014\",\"attributes\":{\"mantissas\":[1,2,5]}},\"formatter\":{\"type\":\"object\",\"name\":\"BasicTickFormatter\",\"id\":\"p1015\"},\"axis_label\":\"interspike interval (ms)\",\"major_label_policy\":{\"type\":\"object\",\"name\":\"AllLabels\",\"id\":\"p1016\"}}}],\"center\":[{\"type\":\"object\",\"name\":\"Grid\",\"id\":\"p1017\",\"attributes\":{\"axis\":{\"id\":\"p1013\"}}},{\"type\":\"object\",\"name\":\"Grid\",\"id\":\"p1022\",\"attributes\":{\"dimension\":1,\"axis\":{\"id\":\"p1018\"}}}],\"frame_width\":375,\"frame_height\":275}}],\"defs\":[{\"type\":\"model\",\"name\":\"ReactiveHTML1\"},{\"type\":\"model\",\"name\":\"FlexBox1\",\"properties\":[{\"name\":\"align_content\",\"kind\":\"Any\",\"default\":\"flex-start\"},{\"name\":\"align_items\",\"kind\":\"Any\",\"default\":\"flex-start\"},{\"name\":\"flex_direction\",\"kind\":\"Any\",\"default\":\"row\"},{\"name\":\"flex_wrap\",\"kind\":\"Any\",\"default\":\"wrap\"},{\"name\":\"gap\",\"kind\":\"Any\",\"default\":\"\"},{\"name\":\"justify_content\",\"kind\":\"Any\",\"default\":\"flex-start\"}]},{\"type\":\"model\",\"name\":\"FloatPanel1\",\"properties\":[{\"name\":\"config\",\"kind\":\"Any\",\"default\":{\"type\":\"map\"}},{\"name\":\"contained\",\"kind\":\"Any\",\"default\":true},{\"name\":\"position\",\"kind\":\"Any\",\"default\":\"right-top\"},{\"name\":\"offsetx\",\"kind\":\"Any\",\"default\":null},{\"name\":\"offsety\",\"kind\":\"Any\",\"default\":null},{\"name\":\"theme\",\"kind\":\"Any\",\"default\":\"primary\"},{\"name\":\"status\",\"kind\":\"Any\",\"default\":\"normalized\"}]},{\"type\":\"model\",\"name\":\"GridStack1\",\"properties\":[{\"name\":\"ncols\",\"kind\":\"Any\",\"default\":null},{\"name\":\"nrows\",\"kind\":\"Any\",\"default\":null},{\"name\":\"allow_resize\",\"kind\":\"Any\",\"default\":true},{\"name\":\"allow_drag\",\"kind\":\"Any\",\"default\":true},{\"name\":\"state\",\"kind\":\"Any\",\"default\":[]}]},{\"type\":\"model\",\"name\":\"drag1\",\"properties\":[{\"name\":\"slider_width\",\"kind\":\"Any\",\"default\":5},{\"name\":\"slider_color\",\"kind\":\"Any\",\"default\":\"black\"},{\"name\":\"value\",\"kind\":\"Any\",\"default\":50}]},{\"type\":\"model\",\"name\":\"click1\",\"properties\":[{\"name\":\"terminal_output\",\"kind\":\"Any\",\"default\":\"\"},{\"name\":\"debug_name\",\"kind\":\"Any\",\"default\":\"\"},{\"name\":\"clears\",\"kind\":\"Any\",\"default\":0}]},{\"type\":\"model\",\"name\":\"FastWrapper1\",\"properties\":[{\"name\":\"object\",\"kind\":\"Any\",\"default\":null},{\"name\":\"style\",\"kind\":\"Any\",\"default\":null}]},{\"type\":\"model\",\"name\":\"NotificationArea1\",\"properties\":[{\"name\":\"js_events\",\"kind\":\"Any\",\"default\":{\"type\":\"map\"}},{\"name\":\"max_notifications\",\"kind\":\"Any\",\"default\":5},{\"name\":\"notifications\",\"kind\":\"Any\",\"default\":[]},{\"name\":\"position\",\"kind\":\"Any\",\"default\":\"bottom-right\"},{\"name\":\"_clear\",\"kind\":\"Any\",\"default\":0},{\"name\":\"types\",\"kind\":\"Any\",\"default\":[{\"type\":\"map\",\"entries\":[[\"type\",\"warning\"],[\"background\",\"#ffc107\"],[\"icon\",{\"type\":\"map\",\"entries\":[[\"className\",\"fas fa-exclamation-triangle\"],[\"tagName\",\"i\"],[\"color\",\"white\"]]}]]},{\"type\":\"map\",\"entries\":[[\"type\",\"info\"],[\"background\",\"#007bff\"],[\"icon\",{\"type\":\"map\",\"entries\":[[\"className\",\"fas fa-info-circle\"],[\"tagName\",\"i\"],[\"color\",\"white\"]]}]]}]}]},{\"type\":\"model\",\"name\":\"Notification\",\"properties\":[{\"name\":\"background\",\"kind\":\"Any\",\"default\":null},{\"name\":\"duration\",\"kind\":\"Any\",\"default\":3000},{\"name\":\"icon\",\"kind\":\"Any\",\"default\":null},{\"name\":\"message\",\"kind\":\"Any\",\"default\":\"\"},{\"name\":\"notification_type\",\"kind\":\"Any\",\"default\":null},{\"name\":\"_rendered\",\"kind\":\"Any\",\"default\":false},{\"name\":\"_destroyed\",\"kind\":\"Any\",\"default\":false}]},{\"type\":\"model\",\"name\":\"TemplateActions1\",\"properties\":[{\"name\":\"open_modal\",\"kind\":\"Any\",\"default\":0},{\"name\":\"close_modal\",\"kind\":\"Any\",\"default\":0}]},{\"type\":\"model\",\"name\":\"BootstrapTemplateActions1\",\"properties\":[{\"name\":\"open_modal\",\"kind\":\"Any\",\"default\":0},{\"name\":\"close_modal\",\"kind\":\"Any\",\"default\":0}]},{\"type\":\"model\",\"name\":\"TemplateEditor1\",\"properties\":[{\"name\":\"layout\",\"kind\":\"Any\",\"default\":[]}]},{\"type\":\"model\",\"name\":\"MaterialTemplateActions1\",\"properties\":[{\"name\":\"open_modal\",\"kind\":\"Any\",\"default\":0},{\"name\":\"close_modal\",\"kind\":\"Any\",\"default\":0}]},{\"type\":\"model\",\"name\":\"ReactiveESM1\",\"properties\":[{\"name\":\"esm_constants\",\"kind\":\"Any\",\"default\":{\"type\":\"map\"}}]},{\"type\":\"model\",\"name\":\"JSComponent1\",\"properties\":[{\"name\":\"esm_constants\",\"kind\":\"Any\",\"default\":{\"type\":\"map\"}}]},{\"type\":\"model\",\"name\":\"ReactComponent1\",\"properties\":[{\"name\":\"esm_constants\",\"kind\":\"Any\",\"default\":{\"type\":\"map\"}}]},{\"type\":\"model\",\"name\":\"AnyWidgetComponent1\",\"properties\":[{\"name\":\"esm_constants\",\"kind\":\"Any\",\"default\":{\"type\":\"map\"}}]},{\"type\":\"model\",\"name\":\"request_value1\",\"properties\":[{\"name\":\"fill\",\"kind\":\"Any\",\"default\":\"none\"},{\"name\":\"_synced\",\"kind\":\"Any\",\"default\":null},{\"name\":\"_request_sync\",\"kind\":\"Any\",\"default\":0}]}]}};\n",
       "  const render_items = [{\"docid\":\"91d68429-b6e5-42b5-a268-5de2fd3d5c9e\",\"roots\":{\"p1002\":\"aded2729-c900-4d8c-b1f4-1f9a6a57bc58\"},\"root_ids\":[\"p1002\"]}];\n",
       "  void root.Bokeh.embed.embed_items_notebook(docs_json, render_items);\n",
       "  }\n",
       "  if (root.Bokeh !== undefined) {\n",
       "    embed_document(root);\n",
       "  } else {\n",
       "    let attempts = 0;\n",
       "    const timer = setInterval(function(root) {\n",
       "      if (root.Bokeh !== undefined) {\n",
       "        clearInterval(timer);\n",
       "        embed_document(root);\n",
       "      } else {\n",
       "        attempts++;\n",
       "        if (attempts > 100) {\n",
       "          clearInterval(timer);\n",
       "          console.log(\"Bokeh: ERROR: Unable to run BokehJS code because BokehJS library is missing\");\n",
       "        }\n",
       "      }\n",
       "    }, 10, root)\n",
       "  }\n",
       "})(window);"
      ],
      "application/vnd.bokehjs_exec.v0+json": ""
     },
     "metadata": {
      "application/vnd.bokehjs_exec.v0+json": {
       "id": "p1002"
      }
     },
     "output_type": "display_data"
    }
   ],
   "source": [
    "# Load in as dataframe\n",
    "df = pl.read_csv(os.path.join(data_path, 'rgc_spike_times_1.csv'))\n",
    "\n",
    "# Spike times in milliseconds for convenience\n",
    "spike_times = df['spike time (ms)'].to_numpy()\n",
    "\n",
    "# Interspike intervals\n",
    "y = np.concatenate(((spike_times[0],), np.diff(spike_times)))\n",
    "\n",
    "# Make ECDF\n",
    "bokeh.io.show(\n",
    "    iqplot.ecdf(y, 'interspike interval (ms)')\n",
    ")"
   ]
  },
  {
   "cell_type": "markdown",
   "metadata": {},
   "source": [
    "Just glancing at this, we see that we have plenty of interspike intervals and they appear to be Exponentially distributed."
   ]
  },
  {
   "cell_type": "markdown",
   "metadata": {},
   "source": [
    "## Statistical model, take 1\n",
    "\n",
    "We will now formulate a generative model. We will choose an Exponential likelihood, assuming that the spike arrival in these constant conditions are best modeled as a Poisson process. Let $t_i$ be the time at which spike $i$ arrives (with $t_0 = 0$ by definition), and the interspike interval $i$ as $y_i = t_i - t_{i-1}$. Then, our likelihood is\n",
    "\n",
    "$$\\begin{align}\n",
    "y_i \\sim \\text{Expon}(\\beta)\\;\\forall i.\n",
    "\\end{align}\n",
    "$$\n",
    "\n",
    "We need to specify a prior for the rate parameter $\\beta$. The rate parameter must be positive, so we will choose a distribution defined on positive numbers. We will choose to use a Gamma distribution. I do not know much about spiking, so I will choose a weakly informative prior with 95% of the probability mass lying between a spiking rate of 1 and 1000 Hz. Using the Distribution Explorer's quantile setting tool, I find that I should have Gamma parameters $a = 0.65$ and $b = 2.9\\times 10^{-3}$ Hz. That is fine if I am going to work in units of seconds, but my data are in units of milliseconds, so I should work in units of kHz to be consistent. By the change of variables formula, I should use $b = 2.9$ kHz. So, my generative model, with the understanding that all units are consistent with the interspike intervals being in units of milliseconds, is\n",
    "\n",
    "$$\\begin{align}\n",
    "&\\beta \\sim \\text{Gamma}(0.65, 2.9),\\\\[1em]\n",
    "&y_i \\sim \\text{Expon}(\\beta)\\;\\forall i.\n",
    "\\end{align}\n",
    "$$\n",
    "\n",
    "We can code this model up in Stan as follows.\n",
    "\n",
    "```stan\n",
    "data {\n",
    "    int<lower=2> n;\n",
    "    array[n] real spike_times;\n",
    "}\n",
    "\n",
    "\n",
    "transformed data {\n",
    "    // Parameters for the prior distribution for beta\n",
    "    real a = 0.65;\n",
    "    real b = 2.9;\n",
    "\n",
    "    // Sorted spike times\n",
    "    array[n] real t = sort_asc(spike_times);\n",
    "\n",
    "    // Interspike intervals\n",
    "    array[n] real y;\n",
    "    y[1] = t[1];\n",
    "    for (i in 2:n) {\n",
    "        y[i] = t[i] - t[i-1];\n",
    "    }\n",
    "}\n",
    "\n",
    "\n",
    "parameters {\n",
    "    real<lower=0> beta_;\n",
    "}\n",
    "\n",
    "\n",
    "model {\n",
    "    beta_ ~ gamma(a, b);\n",
    "    y ~ exponential(beta_);\n",
    "}\n",
    "```"
   ]
  },
  {
   "cell_type": "markdown",
   "metadata": {},
   "source": [
    "Let's run the model and see what we get for a posterior!"
   ]
  },
  {
   "cell_type": "code",
   "execution_count": 4,
   "metadata": {},
   "outputs": [
    {
     "data": {
      "application/vnd.jupyter.widget-view+json": {
       "model_id": "eeaaa57b6f1d460daa9b4633f596da0a",
       "version_major": 2,
       "version_minor": 0
      },
      "text/plain": [
       "chain 1 |          | 00:00 Status"
      ]
     },
     "metadata": {},
     "output_type": "display_data"
    },
    {
     "data": {
      "application/vnd.jupyter.widget-view+json": {
       "model_id": "80e37760b8b24c8cbd01063219ebb3c8",
       "version_major": 2,
       "version_minor": 0
      },
      "text/plain": [
       "chain 2 |          | 00:00 Status"
      ]
     },
     "metadata": {},
     "output_type": "display_data"
    },
    {
     "data": {
      "application/vnd.jupyter.widget-view+json": {
       "model_id": "e746af59cb8e46e1afea57f814e98746",
       "version_major": 2,
       "version_minor": 0
      },
      "text/plain": [
       "chain 3 |          | 00:00 Status"
      ]
     },
     "metadata": {},
     "output_type": "display_data"
    },
    {
     "data": {
      "application/vnd.jupyter.widget-view+json": {
       "model_id": "3db9b85493cd40159918398496bffbcd",
       "version_major": 2,
       "version_minor": 0
      },
      "text/plain": [
       "chain 4 |          | 00:00 Status"
      ]
     },
     "metadata": {},
     "output_type": "display_data"
    },
    {
     "name": "stdout",
     "output_type": "stream",
     "text": [
      "                                                                                                                                                                                                                                                                                                                                \n"
     ]
    }
   ],
   "source": [
    "data = dict(n=len(spike_times), spike_times=spike_times)\n",
    "\n",
    "with bebi103.stan.disable_logging():\n",
    "    sm = cmdstanpy.CmdStanModel(stan_file='rgc_spike_times_expon.stan')\n",
    "    samples = az.from_cmdstanpy(sm.sample(data=data))"
   ]
  },
  {
   "cell_type": "markdown",
   "metadata": {},
   "source": [
    "We can plot our MCMC samples as an ECDF or histgram. The binning bias of a histogram is less of an issues with MCMC samples because we can take arbitrarily many of them. So, let's just plot a histogram."
   ]
  },
  {
   "cell_type": "code",
   "execution_count": 5,
   "metadata": {},
   "outputs": [
    {
     "data": {
      "text/html": [
       "\n",
       "  <div id=\"b10b1c20-9def-4b6b-a1de-f07aa1bd9550\" data-root-id=\"p1066\" style=\"display: contents;\"></div>\n"
      ]
     },
     "metadata": {},
     "output_type": "display_data"
    },
    {
     "data": {
      "application/javascript": [
       "(function(root) {\n",
       "  function embed_document(root) {\n",
       "  const docs_json = {\"fe44066e-df8f-4bee-b290-d5f93c443e02\":{\"version\":\"3.6.2\",\"title\":\"Bokeh Application\",\"roots\":[{\"type\":\"object\",\"name\":\"Figure\",\"id\":\"p1066\",\"attributes\":{\"x_range\":{\"type\":\"object\",\"name\":\"DataRange1d\",\"id\":\"p1068\"},\"y_range\":{\"type\":\"object\",\"name\":\"DataRange1d\",\"id\":\"p1065\",\"attributes\":{\"start\":0}},\"x_scale\":{\"type\":\"object\",\"name\":\"LinearScale\",\"id\":\"p1075\"},\"y_scale\":{\"type\":\"object\",\"name\":\"LinearScale\",\"id\":\"p1076\"},\"title\":{\"type\":\"object\",\"name\":\"Title\",\"id\":\"p1073\"},\"renderers\":[{\"type\":\"object\",\"name\":\"GlyphRenderer\",\"id\":\"p1106\",\"attributes\":{\"data_source\":{\"type\":\"object\",\"name\":\"ColumnDataSource\",\"id\":\"p1100\",\"attributes\":{\"selected\":{\"type\":\"object\",\"name\":\"Selection\",\"id\":\"p1101\",\"attributes\":{\"indices\":[],\"line_indices\":[]}},\"selection_policy\":{\"type\":\"object\",\"name\":\"UnionRenderers\",\"id\":\"p1102\"},\"data\":{\"type\":\"map\",\"entries\":[[\"x\",{\"type\":\"ndarray\",\"array\":{\"type\":\"bytes\",\"data\":\"MKzRYXQvlj8wrNFhdC+WPyTaFhkPS5Y/JNoWGQ9Llj8YCFzQqWaWPxgIXNCpZpY/DDahh0SClj8MNqGHRIKWPwBk5j7fnZY/AGTmPt+dlj/0kSv2ebmWP/SRK/Z5uZY/6L9wrRTVlj/ov3CtFNWWP9zttWSv8JY/3O21ZK/wlj/QG/sbSgyXP9Ab+xtKDJc/xElA0+Qnlz/ESUDT5CeXP7h3hYp/Q5c/uHeFin9Dlz+spcpBGl+XP6ylykEaX5c/n9MP+bR6lz+f0w/5tHqXP5MBVbBPlpc/kwFVsE+Wlz+HL5pn6rGXP4cvmmfqsZc/e13fHoXNlz97Xd8ehc2XP2+LJNYf6Zc/b4sk1h/plz9juWmNugSYP2O5aY26BJg/V+euRFUgmD9X565EVSCYP0sV9PvvO5g/SxX0++87mD8/QzmzileYPz9DObOKV5g/M3F+aiVzmD8zcX5qJXOYPyefwyHAjpg/J5/DIcCOmD8bzQjZWqqYPxvNCNlaqpg/D/tNkPXFmD8P+02Q9cWYPwMpk0eQ4Zg/AymTR5DhmD/3Vtj+Kv2YP/dW2P4q/Zg/64QdtsUYmT/rhB22xRiZP9+yYm1gNJk/37JibWA0mT/T4Kck+0+ZP9PgpyT7T5k/xw7t25VrmT/HDu3blWuZP7o8MpMwh5k/ujwykzCHmT+uandKy6KZP65qd0rLopk/opi8AWa+mT+imLwBZr6ZP5bGAbkA2pk/lsYBuQDamT+K9EZwm/WZP4r0RnCb9Zk/fiKMJzYRmj9+IownNhGaP3JQ0d7QLJo/clDR3tAsmj9mfhaWa0iaP2Z+FpZrSJo/WqxbTQZkmj9arFtNBmSaP07aoAShf5o/TtqgBKF/mj9CCOa7O5uaP0II5rs7m5o/NjYrc9a2mj82Nitz1raaPypkcCpx0po/KmRwKnHSmj8ekrXhC+6aPx6SteEL7po/\"},\"shape\":[90],\"dtype\":\"float64\",\"order\":\"little\"}],[\"y\",{\"type\":\"ndarray\",\"array\":{\"type\":\"bytes\",\"data\":\"AAAAAAAAAAAFfgp5Mf4CQAV+Cnkx/gJABX4KeTH+IkAFfgp5Mf4iQAi9jzVKfRxACL2PNUp9HEAIvY81Sn0cQAi9jzVKfRxABX4KeTH+MkAFfgp5Mf4yQEhtbgaEHTpASG1uBoQdOkBIbW4GhB06QEhtbgaEHTpAx80rqPddRUDHzSuo911FQMfNK6j3XUVAx80rqPddRUANVCazOLJiQA1UJrM4smJAjvNoEcVxZ0CO82gRxXFnQG7KhEvMJWdAbsqES8wlZ0DxOjyHNGFtQPE6PIc0YW1ACWkYFjXYckAJaRgWNdhyQKpgylzeZ3ZAqmDKXN5ndkDxOjyHNGF9QPE6PIc0YX1ALayVm1WCgUAtrJWbVYKBQLtiRkFi/YBAu2JGQWL9gEABk/zbLSSDQAGT/NstJINA9tHSBCOWg0D20dIEI5aDQOkQqS0YCIRA6RCpLRgIhEB8smdwKF2DQHyyZ3AoXYNAAZP82y0kg0ABk/zbLSSDQK+hHGpXb4FAr6EcaldvgUBU2iC+eQaAQFTaIL55BoBANNYo9XHbekA01ij1cdt6QLI25pblG3ZAsjbmluUbdkD20dIEI5ZzQPbR0gQjlnNAwTaVKgkpb0DBNpUqCSlvQFcZpnqShWlAVxmmepKFaUCr0tIEI5ZjQKvS0gQjlmNA6GQgTS2tXUDoZCBNLa1dQKd1vL/ajVZAp3W8v9qNVkDWeWMcBsZUQNZ5YxwGxlRABX4KeTH+QkAFfgp5Mf5CQOUlm5AULkRA5SWbkBQuRECHHU3Xvb03QIcdTde9vTdAhx1N1729J0CHHU3Xvb0nQAV+Cnkx/iJABX4KeTH+IkAIvY81Sn0cQAi9jzVKfRxAAAAAAAAAAAAAAAAAAAAAAAi9jzVKfRxACL2PNUp9HEAAAAAAAAAAAAAAAAAAAAAABX4KeTH+AkAFfgp5Mf4CQAAAAAAAAAAA\"},\"shape\":[90],\"dtype\":\"float64\",\"order\":\"little\"}]]}}},\"view\":{\"type\":\"object\",\"name\":\"CDSView\",\"id\":\"p1107\",\"attributes\":{\"filter\":{\"type\":\"object\",\"name\":\"AllIndices\",\"id\":\"p1108\"}}},\"glyph\":{\"type\":\"object\",\"name\":\"Line\",\"id\":\"p1103\",\"attributes\":{\"x\":{\"type\":\"field\",\"field\":\"x\"},\"y\":{\"type\":\"field\",\"field\":\"y\"},\"line_color\":\"#1f77b3\",\"line_width\":2}},\"nonselection_glyph\":{\"type\":\"object\",\"name\":\"Line\",\"id\":\"p1104\",\"attributes\":{\"x\":{\"type\":\"field\",\"field\":\"x\"},\"y\":{\"type\":\"field\",\"field\":\"y\"},\"line_color\":\"#1f77b3\",\"line_alpha\":0.1,\"line_width\":2}},\"muted_glyph\":{\"type\":\"object\",\"name\":\"Line\",\"id\":\"p1105\",\"attributes\":{\"x\":{\"type\":\"field\",\"field\":\"x\"},\"y\":{\"type\":\"field\",\"field\":\"y\"},\"line_color\":\"#1f77b3\",\"line_alpha\":0.2,\"line_width\":2}}}}],\"toolbar\":{\"type\":\"object\",\"name\":\"Toolbar\",\"id\":\"p1074\",\"attributes\":{\"tools\":[{\"type\":\"object\",\"name\":\"PanTool\",\"id\":\"p1087\"},{\"type\":\"object\",\"name\":\"WheelZoomTool\",\"id\":\"p1088\",\"attributes\":{\"renderers\":\"auto\"}},{\"type\":\"object\",\"name\":\"BoxZoomTool\",\"id\":\"p1089\",\"attributes\":{\"overlay\":{\"type\":\"object\",\"name\":\"BoxAnnotation\",\"id\":\"p1090\",\"attributes\":{\"syncable\":false,\"line_color\":\"black\",\"line_alpha\":1.0,\"line_width\":2,\"line_dash\":[4,4],\"fill_color\":\"lightgrey\",\"fill_alpha\":0.5,\"level\":\"overlay\",\"visible\":false,\"left\":{\"type\":\"number\",\"value\":\"nan\"},\"right\":{\"type\":\"number\",\"value\":\"nan\"},\"top\":{\"type\":\"number\",\"value\":\"nan\"},\"bottom\":{\"type\":\"number\",\"value\":\"nan\"},\"left_units\":\"canvas\",\"right_units\":\"canvas\",\"top_units\":\"canvas\",\"bottom_units\":\"canvas\",\"handles\":{\"type\":\"object\",\"name\":\"BoxInteractionHandles\",\"id\":\"p1096\",\"attributes\":{\"all\":{\"type\":\"object\",\"name\":\"AreaVisuals\",\"id\":\"p1095\",\"attributes\":{\"fill_color\":\"white\",\"hover_fill_color\":\"lightgray\"}}}}}}}},{\"type\":\"object\",\"name\":\"SaveTool\",\"id\":\"p1097\"},{\"type\":\"object\",\"name\":\"ResetTool\",\"id\":\"p1098\"},{\"type\":\"object\",\"name\":\"HelpTool\",\"id\":\"p1099\"}]}},\"toolbar_location\":\"above\",\"left\":[{\"type\":\"object\",\"name\":\"LinearAxis\",\"id\":\"p1082\",\"attributes\":{\"ticker\":{\"type\":\"object\",\"name\":\"BasicTicker\",\"id\":\"p1083\",\"attributes\":{\"mantissas\":[1,2,5]}},\"formatter\":{\"type\":\"object\",\"name\":\"BasicTickFormatter\",\"id\":\"p1084\"},\"axis_label\":\"g(\\u03b2 | y)\",\"major_label_policy\":{\"type\":\"object\",\"name\":\"AllLabels\",\"id\":\"p1085\"}}}],\"below\":[{\"type\":\"object\",\"name\":\"LinearAxis\",\"id\":\"p1077\",\"attributes\":{\"ticker\":{\"type\":\"object\",\"name\":\"BasicTicker\",\"id\":\"p1078\",\"attributes\":{\"mantissas\":[1,2,5]}},\"formatter\":{\"type\":\"object\",\"name\":\"BasicTickFormatter\",\"id\":\"p1079\"},\"axis_label\":\"\\u03b2 (1/ms)\",\"major_label_policy\":{\"type\":\"object\",\"name\":\"AllLabels\",\"id\":\"p1080\"}}}],\"center\":[{\"type\":\"object\",\"name\":\"Grid\",\"id\":\"p1081\",\"attributes\":{\"axis\":{\"id\":\"p1077\"}}},{\"type\":\"object\",\"name\":\"Grid\",\"id\":\"p1086\",\"attributes\":{\"dimension\":1,\"axis\":{\"id\":\"p1082\"}}}],\"frame_width\":400,\"frame_height\":200}}],\"defs\":[{\"type\":\"model\",\"name\":\"ReactiveHTML1\"},{\"type\":\"model\",\"name\":\"FlexBox1\",\"properties\":[{\"name\":\"align_content\",\"kind\":\"Any\",\"default\":\"flex-start\"},{\"name\":\"align_items\",\"kind\":\"Any\",\"default\":\"flex-start\"},{\"name\":\"flex_direction\",\"kind\":\"Any\",\"default\":\"row\"},{\"name\":\"flex_wrap\",\"kind\":\"Any\",\"default\":\"wrap\"},{\"name\":\"gap\",\"kind\":\"Any\",\"default\":\"\"},{\"name\":\"justify_content\",\"kind\":\"Any\",\"default\":\"flex-start\"}]},{\"type\":\"model\",\"name\":\"FloatPanel1\",\"properties\":[{\"name\":\"config\",\"kind\":\"Any\",\"default\":{\"type\":\"map\"}},{\"name\":\"contained\",\"kind\":\"Any\",\"default\":true},{\"name\":\"position\",\"kind\":\"Any\",\"default\":\"right-top\"},{\"name\":\"offsetx\",\"kind\":\"Any\",\"default\":null},{\"name\":\"offsety\",\"kind\":\"Any\",\"default\":null},{\"name\":\"theme\",\"kind\":\"Any\",\"default\":\"primary\"},{\"name\":\"status\",\"kind\":\"Any\",\"default\":\"normalized\"}]},{\"type\":\"model\",\"name\":\"GridStack1\",\"properties\":[{\"name\":\"ncols\",\"kind\":\"Any\",\"default\":null},{\"name\":\"nrows\",\"kind\":\"Any\",\"default\":null},{\"name\":\"allow_resize\",\"kind\":\"Any\",\"default\":true},{\"name\":\"allow_drag\",\"kind\":\"Any\",\"default\":true},{\"name\":\"state\",\"kind\":\"Any\",\"default\":[]}]},{\"type\":\"model\",\"name\":\"drag1\",\"properties\":[{\"name\":\"slider_width\",\"kind\":\"Any\",\"default\":5},{\"name\":\"slider_color\",\"kind\":\"Any\",\"default\":\"black\"},{\"name\":\"value\",\"kind\":\"Any\",\"default\":50}]},{\"type\":\"model\",\"name\":\"click1\",\"properties\":[{\"name\":\"terminal_output\",\"kind\":\"Any\",\"default\":\"\"},{\"name\":\"debug_name\",\"kind\":\"Any\",\"default\":\"\"},{\"name\":\"clears\",\"kind\":\"Any\",\"default\":0}]},{\"type\":\"model\",\"name\":\"FastWrapper1\",\"properties\":[{\"name\":\"object\",\"kind\":\"Any\",\"default\":null},{\"name\":\"style\",\"kind\":\"Any\",\"default\":null}]},{\"type\":\"model\",\"name\":\"NotificationArea1\",\"properties\":[{\"name\":\"js_events\",\"kind\":\"Any\",\"default\":{\"type\":\"map\"}},{\"name\":\"max_notifications\",\"kind\":\"Any\",\"default\":5},{\"name\":\"notifications\",\"kind\":\"Any\",\"default\":[]},{\"name\":\"position\",\"kind\":\"Any\",\"default\":\"bottom-right\"},{\"name\":\"_clear\",\"kind\":\"Any\",\"default\":0},{\"name\":\"types\",\"kind\":\"Any\",\"default\":[{\"type\":\"map\",\"entries\":[[\"type\",\"warning\"],[\"background\",\"#ffc107\"],[\"icon\",{\"type\":\"map\",\"entries\":[[\"className\",\"fas fa-exclamation-triangle\"],[\"tagName\",\"i\"],[\"color\",\"white\"]]}]]},{\"type\":\"map\",\"entries\":[[\"type\",\"info\"],[\"background\",\"#007bff\"],[\"icon\",{\"type\":\"map\",\"entries\":[[\"className\",\"fas fa-info-circle\"],[\"tagName\",\"i\"],[\"color\",\"white\"]]}]]}]}]},{\"type\":\"model\",\"name\":\"Notification\",\"properties\":[{\"name\":\"background\",\"kind\":\"Any\",\"default\":null},{\"name\":\"duration\",\"kind\":\"Any\",\"default\":3000},{\"name\":\"icon\",\"kind\":\"Any\",\"default\":null},{\"name\":\"message\",\"kind\":\"Any\",\"default\":\"\"},{\"name\":\"notification_type\",\"kind\":\"Any\",\"default\":null},{\"name\":\"_rendered\",\"kind\":\"Any\",\"default\":false},{\"name\":\"_destroyed\",\"kind\":\"Any\",\"default\":false}]},{\"type\":\"model\",\"name\":\"TemplateActions1\",\"properties\":[{\"name\":\"open_modal\",\"kind\":\"Any\",\"default\":0},{\"name\":\"close_modal\",\"kind\":\"Any\",\"default\":0}]},{\"type\":\"model\",\"name\":\"BootstrapTemplateActions1\",\"properties\":[{\"name\":\"open_modal\",\"kind\":\"Any\",\"default\":0},{\"name\":\"close_modal\",\"kind\":\"Any\",\"default\":0}]},{\"type\":\"model\",\"name\":\"TemplateEditor1\",\"properties\":[{\"name\":\"layout\",\"kind\":\"Any\",\"default\":[]}]},{\"type\":\"model\",\"name\":\"MaterialTemplateActions1\",\"properties\":[{\"name\":\"open_modal\",\"kind\":\"Any\",\"default\":0},{\"name\":\"close_modal\",\"kind\":\"Any\",\"default\":0}]},{\"type\":\"model\",\"name\":\"ReactiveESM1\",\"properties\":[{\"name\":\"esm_constants\",\"kind\":\"Any\",\"default\":{\"type\":\"map\"}}]},{\"type\":\"model\",\"name\":\"JSComponent1\",\"properties\":[{\"name\":\"esm_constants\",\"kind\":\"Any\",\"default\":{\"type\":\"map\"}}]},{\"type\":\"model\",\"name\":\"ReactComponent1\",\"properties\":[{\"name\":\"esm_constants\",\"kind\":\"Any\",\"default\":{\"type\":\"map\"}}]},{\"type\":\"model\",\"name\":\"AnyWidgetComponent1\",\"properties\":[{\"name\":\"esm_constants\",\"kind\":\"Any\",\"default\":{\"type\":\"map\"}}]},{\"type\":\"model\",\"name\":\"request_value1\",\"properties\":[{\"name\":\"fill\",\"kind\":\"Any\",\"default\":\"none\"},{\"name\":\"_synced\",\"kind\":\"Any\",\"default\":null},{\"name\":\"_request_sync\",\"kind\":\"Any\",\"default\":0}]}]}};\n",
       "  const render_items = [{\"docid\":\"fe44066e-df8f-4bee-b290-d5f93c443e02\",\"roots\":{\"p1066\":\"b10b1c20-9def-4b6b-a1de-f07aa1bd9550\"},\"root_ids\":[\"p1066\"]}];\n",
       "  void root.Bokeh.embed.embed_items_notebook(docs_json, render_items);\n",
       "  }\n",
       "  if (root.Bokeh !== undefined) {\n",
       "    embed_document(root);\n",
       "  } else {\n",
       "    let attempts = 0;\n",
       "    const timer = setInterval(function(root) {\n",
       "      if (root.Bokeh !== undefined) {\n",
       "        clearInterval(timer);\n",
       "        embed_document(root);\n",
       "      } else {\n",
       "        attempts++;\n",
       "        if (attempts > 100) {\n",
       "          clearInterval(timer);\n",
       "          console.log(\"Bokeh: ERROR: Unable to run BokehJS code because BokehJS library is missing\");\n",
       "        }\n",
       "      }\n",
       "    }, 10, root)\n",
       "  }\n",
       "})(window);"
      ],
      "application/vnd.bokehjs_exec.v0+json": ""
     },
     "metadata": {
      "application/vnd.bokehjs_exec.v0+json": {
       "id": "p1066"
      }
     },
     "output_type": "display_data"
    }
   ],
   "source": [
    "p = iqplot.histogram(\n",
    "    samples.posterior.beta_.values.ravel(),\n",
    "    rug=False,\n",
    "    density=True,\n",
    "    frame_width=400,\n",
    "    frame_height=200,\n",
    "    x_axis_label=\"β (1/ms)\",\n",
    "    y_axis_label=\"g(β | y)\",\n",
    ")\n",
    "\n",
    "bokeh.io.show(p)"
   ]
  },
  {
   "cell_type": "markdown",
   "metadata": {},
   "source": [
    "We have estimated our rate as about 0.024 kHz, or about 24 Hz. Coincidentally, for our choice of prior, we may write the posterior PDF down analytically. You will prove this in an exercise. Given that our prior is Gamma$(a, b)$, the posterior is\n",
    "\n",
    "$$\\begin{align}\n",
    "g(\\beta\\mid y) = \\frac{(b+n\\bar{y})^\\alpha}{\\Gamma(a+n)}\\,\\beta^{a + n-1}\\,\\mathrm{e}^{-(b+n\\bar{y})\\beta},\n",
    "\\end{align}\n",
    "$$\n",
    "\n",
    "where\n",
    "\n",
    "$$\\begin{align}\n",
    "\\bar{y} = \\frac{1}{n}\\sum_{i=1}^n y_i\n",
    "\\end{align}\n",
    "$$\n",
    "\n",
    "is the mean interspike interval. Just to verify that we are sampling properly, I can overlay this PDF."
   ]
  },
  {
   "cell_type": "code",
   "execution_count": 6,
   "metadata": {},
   "outputs": [
    {
     "data": {
      "text/html": [
       "\n",
       "  <div id=\"fe5d370f-9214-4b60-856f-dcaa9f3ffb75\" data-root-id=\"p1066\" style=\"display: contents;\"></div>\n"
      ]
     },
     "metadata": {},
     "output_type": "display_data"
    },
    {
     "data": {
      "application/javascript": [
       "(function(root) {\n",
       "  function embed_document(root) {\n",
       "  const docs_json = {\"b87e51d7-90cb-41d1-8757-043558d76289\":{\"version\":\"3.6.2\",\"title\":\"Bokeh Application\",\"roots\":[{\"type\":\"object\",\"name\":\"Figure\",\"id\":\"p1066\",\"attributes\":{\"x_range\":{\"type\":\"object\",\"name\":\"DataRange1d\",\"id\":\"p1068\"},\"y_range\":{\"type\":\"object\",\"name\":\"DataRange1d\",\"id\":\"p1065\",\"attributes\":{\"start\":0}},\"x_scale\":{\"type\":\"object\",\"name\":\"LinearScale\",\"id\":\"p1075\"},\"y_scale\":{\"type\":\"object\",\"name\":\"LinearScale\",\"id\":\"p1076\"},\"title\":{\"type\":\"object\",\"name\":\"Title\",\"id\":\"p1073\"},\"renderers\":[{\"type\":\"object\",\"name\":\"GlyphRenderer\",\"id\":\"p1106\",\"attributes\":{\"data_source\":{\"type\":\"object\",\"name\":\"ColumnDataSource\",\"id\":\"p1100\",\"attributes\":{\"selected\":{\"type\":\"object\",\"name\":\"Selection\",\"id\":\"p1101\",\"attributes\":{\"indices\":[],\"line_indices\":[]}},\"selection_policy\":{\"type\":\"object\",\"name\":\"UnionRenderers\",\"id\":\"p1102\"},\"data\":{\"type\":\"map\",\"entries\":[[\"x\",{\"type\":\"ndarray\",\"array\":{\"type\":\"bytes\",\"data\":\"MKzRYXQvlj8wrNFhdC+WPyTaFhkPS5Y/JNoWGQ9Llj8YCFzQqWaWPxgIXNCpZpY/DDahh0SClj8MNqGHRIKWPwBk5j7fnZY/AGTmPt+dlj/0kSv2ebmWP/SRK/Z5uZY/6L9wrRTVlj/ov3CtFNWWP9zttWSv8JY/3O21ZK/wlj/QG/sbSgyXP9Ab+xtKDJc/xElA0+Qnlz/ESUDT5CeXP7h3hYp/Q5c/uHeFin9Dlz+spcpBGl+XP6ylykEaX5c/n9MP+bR6lz+f0w/5tHqXP5MBVbBPlpc/kwFVsE+Wlz+HL5pn6rGXP4cvmmfqsZc/e13fHoXNlz97Xd8ehc2XP2+LJNYf6Zc/b4sk1h/plz9juWmNugSYP2O5aY26BJg/V+euRFUgmD9X565EVSCYP0sV9PvvO5g/SxX0++87mD8/QzmzileYPz9DObOKV5g/M3F+aiVzmD8zcX5qJXOYPyefwyHAjpg/J5/DIcCOmD8bzQjZWqqYPxvNCNlaqpg/D/tNkPXFmD8P+02Q9cWYPwMpk0eQ4Zg/AymTR5DhmD/3Vtj+Kv2YP/dW2P4q/Zg/64QdtsUYmT/rhB22xRiZP9+yYm1gNJk/37JibWA0mT/T4Kck+0+ZP9PgpyT7T5k/xw7t25VrmT/HDu3blWuZP7o8MpMwh5k/ujwykzCHmT+uandKy6KZP65qd0rLopk/opi8AWa+mT+imLwBZr6ZP5bGAbkA2pk/lsYBuQDamT+K9EZwm/WZP4r0RnCb9Zk/fiKMJzYRmj9+IownNhGaP3JQ0d7QLJo/clDR3tAsmj9mfhaWa0iaP2Z+FpZrSJo/WqxbTQZkmj9arFtNBmSaP07aoAShf5o/TtqgBKF/mj9CCOa7O5uaP0II5rs7m5o/NjYrc9a2mj82Nitz1raaPypkcCpx0po/KmRwKnHSmj8ekrXhC+6aPx6SteEL7po/\"},\"shape\":[90],\"dtype\":\"float64\",\"order\":\"little\"}],[\"y\",{\"type\":\"ndarray\",\"array\":{\"type\":\"bytes\",\"data\":\"AAAAAAAAAAAFfgp5Mf4CQAV+Cnkx/gJABX4KeTH+IkAFfgp5Mf4iQAi9jzVKfRxACL2PNUp9HEAIvY81Sn0cQAi9jzVKfRxABX4KeTH+MkAFfgp5Mf4yQEhtbgaEHTpASG1uBoQdOkBIbW4GhB06QEhtbgaEHTpAx80rqPddRUDHzSuo911FQMfNK6j3XUVAx80rqPddRUANVCazOLJiQA1UJrM4smJAjvNoEcVxZ0CO82gRxXFnQG7KhEvMJWdAbsqES8wlZ0DxOjyHNGFtQPE6PIc0YW1ACWkYFjXYckAJaRgWNdhyQKpgylzeZ3ZAqmDKXN5ndkDxOjyHNGF9QPE6PIc0YX1ALayVm1WCgUAtrJWbVYKBQLtiRkFi/YBAu2JGQWL9gEABk/zbLSSDQAGT/NstJINA9tHSBCOWg0D20dIEI5aDQOkQqS0YCIRA6RCpLRgIhEB8smdwKF2DQHyyZ3AoXYNAAZP82y0kg0ABk/zbLSSDQK+hHGpXb4FAr6EcaldvgUBU2iC+eQaAQFTaIL55BoBANNYo9XHbekA01ij1cdt6QLI25pblG3ZAsjbmluUbdkD20dIEI5ZzQPbR0gQjlnNAwTaVKgkpb0DBNpUqCSlvQFcZpnqShWlAVxmmepKFaUCr0tIEI5ZjQKvS0gQjlmNA6GQgTS2tXUDoZCBNLa1dQKd1vL/ajVZAp3W8v9qNVkDWeWMcBsZUQNZ5YxwGxlRABX4KeTH+QkAFfgp5Mf5CQOUlm5AULkRA5SWbkBQuRECHHU3Xvb03QIcdTde9vTdAhx1N1729J0CHHU3Xvb0nQAV+Cnkx/iJABX4KeTH+IkAIvY81Sn0cQAi9jzVKfRxAAAAAAAAAAAAAAAAAAAAAAAi9jzVKfRxACL2PNUp9HEAAAAAAAAAAAAAAAAAAAAAABX4KeTH+AkAFfgp5Mf4CQAAAAAAAAAAA\"},\"shape\":[90],\"dtype\":\"float64\",\"order\":\"little\"}]]}}},\"view\":{\"type\":\"object\",\"name\":\"CDSView\",\"id\":\"p1107\",\"attributes\":{\"filter\":{\"type\":\"object\",\"name\":\"AllIndices\",\"id\":\"p1108\"}}},\"glyph\":{\"type\":\"object\",\"name\":\"Line\",\"id\":\"p1103\",\"attributes\":{\"x\":{\"type\":\"field\",\"field\":\"x\"},\"y\":{\"type\":\"field\",\"field\":\"y\"},\"line_color\":\"#1f77b3\",\"line_width\":2}},\"nonselection_glyph\":{\"type\":\"object\",\"name\":\"Line\",\"id\":\"p1104\",\"attributes\":{\"x\":{\"type\":\"field\",\"field\":\"x\"},\"y\":{\"type\":\"field\",\"field\":\"y\"},\"line_color\":\"#1f77b3\",\"line_alpha\":0.1,\"line_width\":2}},\"muted_glyph\":{\"type\":\"object\",\"name\":\"Line\",\"id\":\"p1105\",\"attributes\":{\"x\":{\"type\":\"field\",\"field\":\"x\"},\"y\":{\"type\":\"field\",\"field\":\"y\"},\"line_color\":\"#1f77b3\",\"line_alpha\":0.2,\"line_width\":2}}}},{\"type\":\"object\",\"name\":\"GlyphRenderer\",\"id\":\"p1117\",\"attributes\":{\"data_source\":{\"type\":\"object\",\"name\":\"ColumnDataSource\",\"id\":\"p1111\",\"attributes\":{\"selected\":{\"type\":\"object\",\"name\":\"Selection\",\"id\":\"p1112\",\"attributes\":{\"indices\":[],\"line_indices\":[]}},\"selection_policy\":{\"type\":\"object\",\"name\":\"UnionRenderers\",\"id\":\"p1113\"},\"data\":{\"type\":\"map\",\"entries\":[[\"x\",{\"type\":\"ndarray\",\"array\":{\"type\":\"bytes\",\"data\":\"exSuR+F6lD9+rtc0c4GUP4BIASIFiJQ/g+IqD5eOlD+GfFT8KJWUP4kWfum6m5Q/i7Cn1kyilD+OStHD3qiUP5Hk+rBwr5Q/k34kngK2lD+WGE6LlLyUP5myd3gmw5Q/nEyhZbjJlD+e5spSStCUP6GA9D/c1pQ/pBoeLW7dlD+ntEcaAOSUP6lOcQeS6pQ/rOia9CPxlD+vgsThtfeUP7Ec7s5H/pQ/tLYXvNkElT+3UEGpawuVP7rqapb9EZU/vISUg48YlT+/Hr5wIR+VP8K4512zJZU/xFIRS0UslT/H7Do41zKVP8qGZCVpOZU/zSCOEvs/lT/Purf/jEaVP9JU4eweTZU/1e4K2rBTlT/XiDTHQlqVP9oiXrTUYJU/3byHoWZnlT/gVrGO+G2VP+Lw2nuKdJU/5YoEaRx7lT/oJC5WroGVP+q+V0NAiJU/7ViBMNKOlT/w8qodZJWVP/OM1Ar2m5U/9Sb+94eilT/4wCflGamVP/taUdKrr5U//vR6vz22lT8Aj6Ssz7yVPwMpzplhw5U/BsP3hvPJlT8IXSF0hdCVPwv3SmEX15U/DpF0TqndlT8RK547O+SVPxPFxyjN6pU/Fl/xFV/xlT8Z+RoD8feVPxuTRPCC/pU/Hi1u3RQFlj8hx5fKpguWPyRhwbc4EpY/JvvqpMoYlj8plRSSXB+WPywvPn/uJZY/LslnbIAslj8xY5FZEjOWPzT9ukakOZY/N5fkMzZAlj85MQ4hyEaWPzzLNw5aTZY/P2Vh++tTlj9C/4rofVqWP0SZtNUPYZY/RzPewqFnlj9KzQewM26WP0xnMZ3FdJY/TwFbild7lj9Sm4R36YGWP1U1rmR7iJY/V8/XUQ2Plj9aaQE/n5WWP10DKywxnJY/YJ1UGcOilj9iN34GVamWP2XRp/Pmr5Y/aGvR4Hi2lj9qBfvNCr2WP22fJLucw5Y/cDlOqC7Klj9y03eVwNCWP3VtoYJS15Y/eAfLb+Tdlj97ofRcduSWP307HkoI65Y/gNVHN5rxlj+Db3EkLPiWP4YJmxG+/pY/iKPE/k8Flz+LPe7r4QuXP47XF9lzEpc/kHFBxgUZlz+TC2uzlx+XP5allKApJpc/mT++jbsslz+b2ed6TTOXP55zEWjfOZc/oQ07VXFAlz+kp2RCA0eXP6ZBji+VTZc/qdu3HCdUlz+sdeEJuVqXP64PC/dKYZc/sak05Nxnlz+0Q17Rbm6XP7bdh74AdZc/uXexq5J7lz+8EduYJIKXP7+rBIa2iJc/wUUuc0iPlz/E31dg2pWXP8d5gU1snJc/yhOrOv6ilz/MrdQnkKmXP89H/hQisJc/0uEnArS2lz/Ue1HvRb2XP9cVe9zXw5c/2q+kyWnKlz/dSc62+9CXP9/j96ON15c/4n0hkR/elz/lF0t+seSXP+ixdGtD65c/6kueWNXxlz/t5cdFZ/iXP/B/8TL5/pc/8hkbIIsFmD/1s0QNHQyYP/hNbvquEpg/+ueX50AZmD/9gcHU0h+YPwAc68FkJpg/A7YUr/YsmD8FUD6ciDOYPwjqZ4kaOpg/C4SRdqxAmD8OHrtjPkeYPxC45FDQTZg/E1IOPmJUmD8W7Dcr9FqYPxiGYRiGYZg/GyCLBRhomD8eurTyqW6YPyBU3t87dZg/I+4Hzc17mD8miDG6X4KYPykiW6fxiJg/LLyElIOPmD8uVq6BFZaYPzHw126nnJg/NIoBXDmjmD82JCtJy6mYPzm+VDZdsJg/PFh+I++2mD8+8qcQgb2YP0GM0f0SxJg/RCb76qTKmD9HwCTYNtGYP0laTsXI15g/TPR3slremD9PjqGf7OSYP1Ioy4x+65g/VML0eRDymD9XXB5noviYP1r2R1Q0/5g/XJBxQcYFmT9fKpsuWAyZP2LExBvqEpk/ZF7uCHwZmT9n+Bf2DSCZP2qSQeOfJpk/bSxr0DEtmT9wxpS9wzOZP3JgvqpVOpk/dfrnl+dAmT94lBGFeUeZP3ouO3ILTpk/fchkX51UmT+AYo5ML1uZP4L8tznBYZk/hZbhJlNomT+IMAsU5W6ZP4vKNAF3dZk/jWRe7gh8mT+Q/ofbmoKZP5OYscgsiZk/ljLbtb6PmT+YzASjUJaZP5tmLpDinJk/ngBYfXSjmT+gmoFqBqqZP6M0q1eYsJk/ps7URCq3mT+oaP4xvL2ZP6sCKB9OxJk/rpxRDODKmT+xNnv5cdGZP7TQpOYD2Jk/tmrO05XemT+5BPjAJ+WZP7yeIa6565k/vjhLm0vymT/B0nSI3fiZP8RsnnVv/5k/xgbIYgEGmj/JoPFPkwyaP8w6Gz0lE5o/ztREKrcZmj/Rbm4XSSCaP9QImATbJpo/16LB8Wwtmj/aPOve/jOaP9zWFMyQOpo/33A+uSJBmj/iCmimtEeaP+SkkZNGTpo/5z67gNhUmj/q2ORtaluaP+xyDlv8YZo/7ww4SI5omj/ypmE1IG+aP/VAiyKydZo/+Nq0D0R8mj/6dN781YKaP/0OCOpniZo/AKkx1/mPmj8CQ1vEi5aaPwXdhLEdnZo/CHeunq+jmj8KEdiLQaqaPw2rAXnTsJo/EEUrZmW3mj8S31RT972aPxV5fkCJxJo/GBOoLRvLmj8brdEardGaPx5H+wc/2Jo/IOEk9dDemj8je07iYuWaPyYVeM/065o/KK+hvIbymj8rScupGPmaPy7j9Jaq/5o/MH0ehDwGmz8zF0hxzgybPzaxcV5gE5s/OUubS/IZmz885cQ4hCCbPz5/7iUWJ5s/QRkYE6gtmz9Es0EAOjSbP0ZNa+3LOps/SeeU2l1Bmz9Mgb7H70ebP04b6LSBTps/UbURohNVmz9UTzuPpVubP1bpZHw3Yps/WYOOaclomz9cHbhWW2+bP1+34UPtdZs/YlELMX98mz9k6zQeEYObP2eFXgujiZs/ah+I+DSQmz9subHlxpabP29T29JYnZs/cu0EwOqjmz90hy6tfKqbP3chWJoOsZs/eruBh6C3mz99Vat0Mr6bP4Dv1GHExJs/gon+TlbLmz+FIyg86NGbP4i9USl62Js/ild7Fgzfmz+N8aQDnuWbP5CLzvAv7Js/kiX43cHymz+VvyHLU/mbP5hZS7jl/5s/mvN0pXcGnD+djZ6SCQ2cP6AnyH+bE5w/o8HxbC0anD+mWxtavyCcP6j1REdRJ5w/q49uNOMtnD+uKZghdTScP7DDwQ4HO5w/s13r+5hBnD+29xTpKkicP7iRPta8Tpw/uytow05VnD++xZGw4FucP8Ffu51yYpw/xPnkigRpnD/Gkw54lm+cP8ktOGUodpw/zMdhUrp8nD/OYYs/TIOcP9H7tCzeiZw/1JXeGXCQnD/WLwgHApecP9nJMfSTnZw/3GNb4SWknD/e/YTOt6qcP+KXrrtJsZw/5DHYqNu3nD/nywGWbb6cP+plK4P/xJw/7P9UcJHLnD/vmX5dI9KcP/IzqEq12Jw/9M3RN0ffnD/3Z/sk2eWcP/oBJRJr7Jw//JtO//zynD//NXjsjvmcPwLQodkgAJ0/BGrLxrIGnT8IBPWzRA2dPwqeHqHWE50/DThIjmganT8Q0nF7+iCdPxJsm2iMJ50/FQbFVR4unT8YoO5CsDSdPxo6GDBCO50/HdRBHdRBnT8gbmsKZkidPyIIlff3Tp0/JqK+5IlVnT8oPOjRG1ydPyrWEb+tYp0/LnA7rD9pnT8wCmWZ0W+dPzOkjoZjdp0/Nj64c/V8nT842OFgh4OdPztyC04Zip0/Pgw1O6uQnT9Apl4oPZedP0NAiBXPnZ0/RtqxAmGknT9IdNvv8qqdP0wOBd2EsZ0/Tqguyha4nT9RQli3qL6dP1TcgaQ6xZ0/VnarkczLnT9ZENV+XtKdP1yq/mvw2J0/XkQoWYLfnT9h3lFGFOadP2R4ezOm7J0/ZhKlIDjznT9qrM4NyvmdP2xG+PpbAJ4/buAh6O0Gnj9yekvVfw2eP3QUdcIRFJ4/d66er6Manj96SMicNSGeP3zi8YnHJ54/f3wbd1kunj+CFkVk6zSeP4SwblF9O54/h0qYPg9Cnj+K5MEroUieP4x+6xgzT54/kBgVBsVVnj+Ssj7zVlyeP5VMaODoYp4/mOaRzXppnj+agLu6DHCeP50a5aeedp4/oLQOlTB9nj+iTjiCwoOeP6XoYW9Uip4/qIKLXOaQnj+qHLVJeJeeP6623jYKnp4/sFAIJJyknj+y6jERLqueP7aEW/6/sZ4/uB6F61G4nj8=\"},\"shape\":[400],\"dtype\":\"float64\",\"order\":\"little\"}],[\"y\",{\"type\":\"ndarray\",\"array\":{\"type\":\"bytes\",\"data\":\"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\"},\"shape\":[400],\"dtype\":\"float64\",\"order\":\"little\"}]]}}},\"view\":{\"type\":\"object\",\"name\":\"CDSView\",\"id\":\"p1118\",\"attributes\":{\"filter\":{\"type\":\"object\",\"name\":\"AllIndices\",\"id\":\"p1119\"}}},\"glyph\":{\"type\":\"object\",\"name\":\"Line\",\"id\":\"p1114\",\"attributes\":{\"x\":{\"type\":\"field\",\"field\":\"x\"},\"y\":{\"type\":\"field\",\"field\":\"y\"},\"line_color\":\"tomato\",\"line_width\":2}},\"nonselection_glyph\":{\"type\":\"object\",\"name\":\"Line\",\"id\":\"p1115\",\"attributes\":{\"x\":{\"type\":\"field\",\"field\":\"x\"},\"y\":{\"type\":\"field\",\"field\":\"y\"},\"line_color\":\"tomato\",\"line_alpha\":0.1,\"line_width\":2}},\"muted_glyph\":{\"type\":\"object\",\"name\":\"Line\",\"id\":\"p1116\",\"attributes\":{\"x\":{\"type\":\"field\",\"field\":\"x\"},\"y\":{\"type\":\"field\",\"field\":\"y\"},\"line_color\":\"tomato\",\"line_alpha\":0.2,\"line_width\":2}}}}],\"toolbar\":{\"type\":\"object\",\"name\":\"Toolbar\",\"id\":\"p1074\",\"attributes\":{\"tools\":[{\"type\":\"object\",\"name\":\"PanTool\",\"id\":\"p1087\"},{\"type\":\"object\",\"name\":\"WheelZoomTool\",\"id\":\"p1088\",\"attributes\":{\"renderers\":\"auto\"}},{\"type\":\"object\",\"name\":\"BoxZoomTool\",\"id\":\"p1089\",\"attributes\":{\"overlay\":{\"type\":\"object\",\"name\":\"BoxAnnotation\",\"id\":\"p1090\",\"attributes\":{\"syncable\":false,\"line_color\":\"black\",\"line_alpha\":1.0,\"line_width\":2,\"line_dash\":[4,4],\"fill_color\":\"lightgrey\",\"fill_alpha\":0.5,\"level\":\"overlay\",\"visible\":false,\"left\":{\"type\":\"number\",\"value\":\"nan\"},\"right\":{\"type\":\"number\",\"value\":\"nan\"},\"top\":{\"type\":\"number\",\"value\":\"nan\"},\"bottom\":{\"type\":\"number\",\"value\":\"nan\"},\"left_units\":\"canvas\",\"right_units\":\"canvas\",\"top_units\":\"canvas\",\"bottom_units\":\"canvas\",\"handles\":{\"type\":\"object\",\"name\":\"BoxInteractionHandles\",\"id\":\"p1096\",\"attributes\":{\"all\":{\"type\":\"object\",\"name\":\"AreaVisuals\",\"id\":\"p1095\",\"attributes\":{\"fill_color\":\"white\",\"hover_fill_color\":\"lightgray\"}}}}}}}},{\"type\":\"object\",\"name\":\"SaveTool\",\"id\":\"p1097\"},{\"type\":\"object\",\"name\":\"ResetTool\",\"id\":\"p1098\"},{\"type\":\"object\",\"name\":\"HelpTool\",\"id\":\"p1099\"}]}},\"toolbar_location\":\"above\",\"left\":[{\"type\":\"object\",\"name\":\"LinearAxis\",\"id\":\"p1082\",\"attributes\":{\"ticker\":{\"type\":\"object\",\"name\":\"BasicTicker\",\"id\":\"p1083\",\"attributes\":{\"mantissas\":[1,2,5]}},\"formatter\":{\"type\":\"object\",\"name\":\"BasicTickFormatter\",\"id\":\"p1084\"},\"axis_label\":\"g(\\u03b2 | y)\",\"major_label_policy\":{\"type\":\"object\",\"name\":\"AllLabels\",\"id\":\"p1085\"}}}],\"below\":[{\"type\":\"object\",\"name\":\"LinearAxis\",\"id\":\"p1077\",\"attributes\":{\"ticker\":{\"type\":\"object\",\"name\":\"BasicTicker\",\"id\":\"p1078\",\"attributes\":{\"mantissas\":[1,2,5]}},\"formatter\":{\"type\":\"object\",\"name\":\"BasicTickFormatter\",\"id\":\"p1079\"},\"axis_label\":\"\\u03b2 (1/ms)\",\"major_label_policy\":{\"type\":\"object\",\"name\":\"AllLabels\",\"id\":\"p1080\"}}}],\"center\":[{\"type\":\"object\",\"name\":\"Grid\",\"id\":\"p1081\",\"attributes\":{\"axis\":{\"id\":\"p1077\"}}},{\"type\":\"object\",\"name\":\"Grid\",\"id\":\"p1086\",\"attributes\":{\"dimension\":1,\"axis\":{\"id\":\"p1082\"}}}],\"frame_width\":400,\"frame_height\":200}}],\"defs\":[{\"type\":\"model\",\"name\":\"ReactiveHTML1\"},{\"type\":\"model\",\"name\":\"FlexBox1\",\"properties\":[{\"name\":\"align_content\",\"kind\":\"Any\",\"default\":\"flex-start\"},{\"name\":\"align_items\",\"kind\":\"Any\",\"default\":\"flex-start\"},{\"name\":\"flex_direction\",\"kind\":\"Any\",\"default\":\"row\"},{\"name\":\"flex_wrap\",\"kind\":\"Any\",\"default\":\"wrap\"},{\"name\":\"gap\",\"kind\":\"Any\",\"default\":\"\"},{\"name\":\"justify_content\",\"kind\":\"Any\",\"default\":\"flex-start\"}]},{\"type\":\"model\",\"name\":\"FloatPanel1\",\"properties\":[{\"name\":\"config\",\"kind\":\"Any\",\"default\":{\"type\":\"map\"}},{\"name\":\"contained\",\"kind\":\"Any\",\"default\":true},{\"name\":\"position\",\"kind\":\"Any\",\"default\":\"right-top\"},{\"name\":\"offsetx\",\"kind\":\"Any\",\"default\":null},{\"name\":\"offsety\",\"kind\":\"Any\",\"default\":null},{\"name\":\"theme\",\"kind\":\"Any\",\"default\":\"primary\"},{\"name\":\"status\",\"kind\":\"Any\",\"default\":\"normalized\"}]},{\"type\":\"model\",\"name\":\"GridStack1\",\"properties\":[{\"name\":\"ncols\",\"kind\":\"Any\",\"default\":null},{\"name\":\"nrows\",\"kind\":\"Any\",\"default\":null},{\"name\":\"allow_resize\",\"kind\":\"Any\",\"default\":true},{\"name\":\"allow_drag\",\"kind\":\"Any\",\"default\":true},{\"name\":\"state\",\"kind\":\"Any\",\"default\":[]}]},{\"type\":\"model\",\"name\":\"drag1\",\"properties\":[{\"name\":\"slider_width\",\"kind\":\"Any\",\"default\":5},{\"name\":\"slider_color\",\"kind\":\"Any\",\"default\":\"black\"},{\"name\":\"value\",\"kind\":\"Any\",\"default\":50}]},{\"type\":\"model\",\"name\":\"click1\",\"properties\":[{\"name\":\"terminal_output\",\"kind\":\"Any\",\"default\":\"\"},{\"name\":\"debug_name\",\"kind\":\"Any\",\"default\":\"\"},{\"name\":\"clears\",\"kind\":\"Any\",\"default\":0}]},{\"type\":\"model\",\"name\":\"FastWrapper1\",\"properties\":[{\"name\":\"object\",\"kind\":\"Any\",\"default\":null},{\"name\":\"style\",\"kind\":\"Any\",\"default\":null}]},{\"type\":\"model\",\"name\":\"NotificationArea1\",\"properties\":[{\"name\":\"js_events\",\"kind\":\"Any\",\"default\":{\"type\":\"map\"}},{\"name\":\"max_notifications\",\"kind\":\"Any\",\"default\":5},{\"name\":\"notifications\",\"kind\":\"Any\",\"default\":[]},{\"name\":\"position\",\"kind\":\"Any\",\"default\":\"bottom-right\"},{\"name\":\"_clear\",\"kind\":\"Any\",\"default\":0},{\"name\":\"types\",\"kind\":\"Any\",\"default\":[{\"type\":\"map\",\"entries\":[[\"type\",\"warning\"],[\"background\",\"#ffc107\"],[\"icon\",{\"type\":\"map\",\"entries\":[[\"className\",\"fas fa-exclamation-triangle\"],[\"tagName\",\"i\"],[\"color\",\"white\"]]}]]},{\"type\":\"map\",\"entries\":[[\"type\",\"info\"],[\"background\",\"#007bff\"],[\"icon\",{\"type\":\"map\",\"entries\":[[\"className\",\"fas fa-info-circle\"],[\"tagName\",\"i\"],[\"color\",\"white\"]]}]]}]}]},{\"type\":\"model\",\"name\":\"Notification\",\"properties\":[{\"name\":\"background\",\"kind\":\"Any\",\"default\":null},{\"name\":\"duration\",\"kind\":\"Any\",\"default\":3000},{\"name\":\"icon\",\"kind\":\"Any\",\"default\":null},{\"name\":\"message\",\"kind\":\"Any\",\"default\":\"\"},{\"name\":\"notification_type\",\"kind\":\"Any\",\"default\":null},{\"name\":\"_rendered\",\"kind\":\"Any\",\"default\":false},{\"name\":\"_destroyed\",\"kind\":\"Any\",\"default\":false}]},{\"type\":\"model\",\"name\":\"TemplateActions1\",\"properties\":[{\"name\":\"open_modal\",\"kind\":\"Any\",\"default\":0},{\"name\":\"close_modal\",\"kind\":\"Any\",\"default\":0}]},{\"type\":\"model\",\"name\":\"BootstrapTemplateActions1\",\"properties\":[{\"name\":\"open_modal\",\"kind\":\"Any\",\"default\":0},{\"name\":\"close_modal\",\"kind\":\"Any\",\"default\":0}]},{\"type\":\"model\",\"name\":\"TemplateEditor1\",\"properties\":[{\"name\":\"layout\",\"kind\":\"Any\",\"default\":[]}]},{\"type\":\"model\",\"name\":\"MaterialTemplateActions1\",\"properties\":[{\"name\":\"open_modal\",\"kind\":\"Any\",\"default\":0},{\"name\":\"close_modal\",\"kind\":\"Any\",\"default\":0}]},{\"type\":\"model\",\"name\":\"ReactiveESM1\",\"properties\":[{\"name\":\"esm_constants\",\"kind\":\"Any\",\"default\":{\"type\":\"map\"}}]},{\"type\":\"model\",\"name\":\"JSComponent1\",\"properties\":[{\"name\":\"esm_constants\",\"kind\":\"Any\",\"default\":{\"type\":\"map\"}}]},{\"type\":\"model\",\"name\":\"ReactComponent1\",\"properties\":[{\"name\":\"esm_constants\",\"kind\":\"Any\",\"default\":{\"type\":\"map\"}}]},{\"type\":\"model\",\"name\":\"AnyWidgetComponent1\",\"properties\":[{\"name\":\"esm_constants\",\"kind\":\"Any\",\"default\":{\"type\":\"map\"}}]},{\"type\":\"model\",\"name\":\"request_value1\",\"properties\":[{\"name\":\"fill\",\"kind\":\"Any\",\"default\":\"none\"},{\"name\":\"_synced\",\"kind\":\"Any\",\"default\":null},{\"name\":\"_request_sync\",\"kind\":\"Any\",\"default\":0}]}]}};\n",
       "  const render_items = [{\"docid\":\"b87e51d7-90cb-41d1-8757-043558d76289\",\"roots\":{\"p1066\":\"fe5d370f-9214-4b60-856f-dcaa9f3ffb75\"},\"root_ids\":[\"p1066\"]}];\n",
       "  void root.Bokeh.embed.embed_items_notebook(docs_json, render_items);\n",
       "  }\n",
       "  if (root.Bokeh !== undefined) {\n",
       "    embed_document(root);\n",
       "  } else {\n",
       "    let attempts = 0;\n",
       "    const timer = setInterval(function(root) {\n",
       "      if (root.Bokeh !== undefined) {\n",
       "        clearInterval(timer);\n",
       "        embed_document(root);\n",
       "      } else {\n",
       "        attempts++;\n",
       "        if (attempts > 100) {\n",
       "          clearInterval(timer);\n",
       "          console.log(\"Bokeh: ERROR: Unable to run BokehJS code because BokehJS library is missing\");\n",
       "        }\n",
       "      }\n",
       "    }, 10, root)\n",
       "  }\n",
       "})(window);"
      ],
      "application/vnd.bokehjs_exec.v0+json": ""
     },
     "metadata": {
      "application/vnd.bokehjs_exec.v0+json": {
       "id": "p1066"
      }
     },
     "output_type": "display_data"
    }
   ],
   "source": [
    "# Analytical posterior\n",
    "a = 0.65\n",
    "b = 2.9\n",
    "beta_theor = np.linspace(0.02, 0.03, 400)\n",
    "posterior = st.gamma.pdf(beta_theor, len(y) + a, loc=0, scale=1/(np.sum(y) + b))\n",
    "\n",
    "# Add to plot\n",
    "p.line(beta_theor, posterior, line_width=2, color='tomato')\n",
    "\n",
    "bokeh.io.show(p)"
   ]
  },
  {
   "cell_type": "markdown",
   "metadata": {},
   "source": [
    "Indeed, the PDFs match!"
   ]
  },
  {
   "cell_type": "markdown",
   "metadata": {},
   "source": [
    "## Summarizing the posterior\n",
    "\n",
    "In the next section (@sec-posterior-summaries), we discuss how to concisely report summaries of the posterior. In this case, the posterior is simple, and the above plot works very well. We could alternatively report the median and central 95% credible interval."
   ]
  },
  {
   "cell_type": "code",
   "execution_count": 7,
   "metadata": {},
   "outputs": [
    {
     "name": "stdout",
     "output_type": "stream",
     "text": [
      "[0.0227, 0.0238, 0.0251] kHz\n"
     ]
    }
   ],
   "source": [
    "med = np.median(samples.posterior.beta_)\n",
    "cred_int = np.percentile(samples.posterior.beta_, [2.5, 97.5])\n",
    "\n",
    "print('[{1:.4f}, {0:.4f}, {2:.4f}] kHz'.format(med, *cred_int))"
   ]
  },
  {
   "cell_type": "code",
   "execution_count": 8,
   "metadata": {},
   "outputs": [],
   "source": [
    "bebi103.stan.clean_cmdstan()"
   ]
  },
  {
   "cell_type": "markdown",
   "metadata": {},
   "source": [
    "## Computing environment"
   ]
  },
  {
   "cell_type": "code",
   "execution_count": 9,
   "metadata": {},
   "outputs": [
    {
     "name": "stdout",
     "output_type": "stream",
     "text": [
      "Python implementation: CPython\n",
      "Python version       : 3.12.11\n",
      "IPython version      : 9.1.0\n",
      "\n",
      "numpy     : 2.1.3\n",
      "scipy     : 1.15.3\n",
      "polars    : 1.30.0\n",
      "cmdstanpy : 1.2.5\n",
      "arviz     : 0.21.0\n",
      "bokeh     : 3.6.2\n",
      "iqplot    : 0.3.7\n",
      "bebi103   : 0.1.27\n",
      "jupyterlab: 4.3.7\n",
      "\n",
      "cmdstan   : 2.36.0\n"
     ]
    }
   ],
   "source": [
    "%load_ext watermark\n",
    "%watermark -v -p numpy,scipy,polars,cmdstanpy,arviz,bokeh,iqplot,bebi103,jupyterlab\n",
    "print(\"cmdstan   :\", bebi103.stan.cmdstan_version())"
   ]
  }
 ],
 "metadata": {
  "anaconda-cloud": {},
  "kernelspec": {
   "display_name": "Python 3 (ipykernel)",
   "language": "python",
   "name": "python3"
  },
  "language_info": {
   "codemirror_mode": {
    "name": "ipython",
    "version": 3
   },
   "file_extension": ".py",
   "mimetype": "text/x-python",
   "name": "python",
   "nbconvert_exporter": "python",
   "pygments_lexer": "ipython3",
   "version": "3.12.11"
  }
 },
 "nbformat": 4,
 "nbformat_minor": 4
}
