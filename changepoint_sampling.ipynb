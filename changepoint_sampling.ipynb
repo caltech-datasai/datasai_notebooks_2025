{
  "cells": [
    {
      "cell_type": "markdown",
      "id": "8b143ec1",
      "metadata": {},
      "source": [
        "# Inferring a changepoint {#exr-changepoint-sampling}\n",
        "\n",
        "<hr>"
      ]
    },
    {
      "cell_type": "markdown",
      "id": "331c406c",
      "metadata": {},
      "source": [
        "In @exr-changepoint-model, you developed a model for a changepoint analysis. The text of that problem is repeated below.\n",
        "\n",
        ">Consider the following twist on the experiment we have been considering where a retinal ganglion cell's spiking is monitored under constant light. The retina is exposed to constant light, but at some time between the start and end of the experience, the impinging light intensity changes. That is, for $0 \\le t < t_\\mathrm{switch}$, the retina is exposed to one light intensity, and for $t_\\mathrm{switch} \\le t \\le T$, it is exposed to another. The problem is that you do not know what $t_\\mathrm{switch}$ is, and you have to infer it. Your task is to construct a Bayesian model for this situation, complete with prior predictive checks.\n",
        ">\n",
        ">This is a simple example of a **decoding problem**, in which a stimulus is inferred from neuronal signals.\n",
        "\n",
        "Your take is to infer the neuron firing rates before and after the changepoint as well as the changepoint itself."
      ]
    }
  ],
  "metadata": {
    "language_info": {
      "name": "python"
    }
  },
  "nbformat": 4,
  "nbformat_minor": 5
}